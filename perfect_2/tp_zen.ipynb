{
 "cells": [
  {
   "cell_type": "markdown",
   "metadata": {},
   "source": [
    "### Progamme de base de base"
   ]
  },
  {
   "cell_type": "code",
   "execution_count": 1,
   "metadata": {},
   "outputs": [],
   "source": [
    "from tkinter import *\n",
    "tfrom tkinter.ttk import *\n",
    "from tkinter import messagebox"
   ]
  },
  {
   "cell_type": "code",
   "execution_count": 32,
   "metadata": {},
   "outputs": [],
   "source": [
    "import this\n",
    "\n",
    "rot13 = str.maketrans( \n",
    "    \"ABCDEFGHIJKLMabcdefghijklmNOPQRSTUVWXYZnopqrstuvwxyz\", \n",
    "    \"NOPQRSTUVWXYZnopqrstuvwxyzABCDEFGHIJKLMabcdefghijklm\")\n",
    "\n",
    "def main_window(root):\n",
    "    frame = Frame(root)\n",
    "    frame.pack()\n",
    "    zen_bouton = Button(frame, text ='affiche moi !', command= show_zen)\n",
    "    zen_bouton.pack(side = LEFT)\n",
    "    \n",
    "def show_zen():\n",
    "    messagebox.showinfo(\"zen of python\", this.s.translate(rot13))\n",
    "    \n",
    "if __name__ == \"__main__\":\n",
    "    root = Tk()\n",
    "    main_window(root)\n",
    "    root.mainloop()"
   ]
  },
  {
   "cell_type": "markdown",
   "metadata": {},
   "source": [
    "### 1) A quoi sert la variable rot13 ?\n",
    "\n",
    "Que se passe-t-il sans la methode translate ?\n",
    "\n",
    "### 2) Remplacer messagebox par un composant texte muni d'une scrollbar\n",
    "\n",
    "### 3) Verifier  l'impact d'une activation multiple du bouton\n",
    "\n",
    "### 4) Comment transformer le bouton en interrupteur (affiche / masque) "
   ]
  },
  {
   "cell_type": "code",
   "execution_count": null,
   "metadata": {},
   "outputs": [],
   "source": []
  }
 ],
 "metadata": {
  "kernelspec": {
   "display_name": "Python 3",
   "language": "python",
   "name": "python3"
  },
  "language_info": {
   "codemirror_mode": {
    "name": "ipython",
    "version": 3
   },
   "file_extension": ".py",
   "mimetype": "text/x-python",
   "name": "python",
   "nbconvert_exporter": "python",
   "pygments_lexer": "ipython3",
   "version": "3.7.4"
  }
 },
 "nbformat": 4,
 "nbformat_minor": 2
}
