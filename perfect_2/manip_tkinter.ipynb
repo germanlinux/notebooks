{
 "cells": [
  {
   "cell_type": "code",
   "execution_count": 2,
   "metadata": {},
   "outputs": [],
   "source": [
    "#Import tkinter library\n",
    "from tkinter import *\n",
    "from tkinter import ttk\n",
    "#Create an instance of Tkinter frame or window\n",
    "win= Tk()\n",
    "#Set the geometry of tkinter frame\n",
    "win.geometry(\"750x250\")\n",
    "def callback():\n",
    "   Label(win, text=\"Hello World!\", font=('Century 20 bold')).pack(pady=4)\n",
    "#Create a Label and a Button widget\n",
    "btn=Button(win, text=\"Press Enter\", command= callback)\n",
    "\n",
    "#btn.pack(ipadx=10)\n",
    "btn.place(x=120, y=50)\n",
    "win.bind('<Return>',lambda event:callback())\n",
    "win.mainloop()"
   ]
  },
  {
   "cell_type": "code",
   "execution_count": null,
   "metadata": {},
   "outputs": [],
   "source": []
  },
  {
   "cell_type": "code",
   "execution_count": null,
   "metadata": {},
   "outputs": [],
   "source": []
  }
 ],
 "metadata": {
  "kernelspec": {
   "display_name": "Python 3 (ipykernel)",
   "language": "python",
   "name": "python3"
  },
  "language_info": {
   "codemirror_mode": {
    "name": "ipython",
    "version": 3
   },
   "file_extension": ".py",
   "mimetype": "text/x-python",
   "name": "python",
   "nbconvert_exporter": "python",
   "pygments_lexer": "ipython3",
   "version": "3.9.12"
  }
 },
 "nbformat": 4,
 "nbformat_minor": 2
}
