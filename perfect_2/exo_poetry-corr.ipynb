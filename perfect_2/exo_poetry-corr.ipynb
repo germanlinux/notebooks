{
 "cells": [
  {
   "cell_type": "code",
   "execution_count": null,
   "metadata": {},
   "outputs": [],
   "source": [
    "# A COMPLETER\n",
    "from XXXX import XXXX\n",
    "# FIN"
   ]
  },
  {
   "cell_type": "code",
   "execution_count": null,
   "metadata": {},
   "outputs": [],
   "source": [
    "mon_de = De()\n",
    "print('un premier lancé')\n",
    "print(mon_de.roule())\n",
    "print( 'un generateur')\n",
    "def generateur_lance(face):\n",
    "    _de = De(face)\n",
    "    while(1):\n",
    "        yield _de.roule()\n",
    "\n",
    "# A COMPLETER : instancier un générateur de lancé d'un dé à 6 faces et un autre pour un dé de 8 faces\n",
    "print('un de avec 6 faces')\n",
    "de6 =  De(6)\n",
    "print('un autre avec 8 faces')\n",
    "de8 =  De(8)\n",
    "# FIN\n",
    "\n",
    "tupple_de = zip(de6, de8)\n",
    "cp = 0\n",
    "for item in tupple_de:\n",
    "    print(item)\n",
    "    # A COMPLETER : ajouter une condition qui stoppe le traitement quand le premier dé donne un 6 et le deuxieme un 8\n",
    "    if item[0] == 6 and item[1] == 8:\n",
    "       break\n",
    "    #FIN    \n",
    "    cp += 1\n",
    "    if cp > 1000:\n",
    "        print(\"je crois que vous avez fait une boucle infinie...\")\n",
    "        "
   ]
  },
  {
   "cell_type": "markdown",
   "metadata": {},
   "source": [
    "### Résultat attendu \n",
    "\n",
    "```\n",
    "un premier lancé\n",
    "4\n",
    "un generateur\n",
    "un de avec 6 faces\n",
    "un autre avec 8 faces\n",
    "(3, 8)\n",
    "(2, 2)\n",
    "(2, 2)\n",
    "(4, 4)\n",
    "(3, 1)\n",
    "(4, 6)\n",
    "(1, 2)\n",
    "(3, 1)\n",
    "(4, 1)\n",
    "(4, 8)\n",
    "(5, 7)\n",
    "(4, 7)\n",
    "(4, 5)\n",
    "(3, 1)\n",
    "(3, 1)\n",
    "(6, 6)\n",
    "(5, 1)\n",
    "(6, 5)\n",
    "(6, 3)\n",
    "(2, 1)\n",
    "(3, 7)\n",
    "(5, 2)\n",
    "(1, 7)\n",
    "(1, 6)\n",
    "(5, 2)\n",
    "(5, 4)\n",
    "(6, 7)\n",
    "(2, 8)\n",
    "(3, 7)\n",
    "(1, 4)\n",
    "(1, 2)\n",
    "(6, 1)\n",
    "(1, 3)\n",
    "(6, 8)\n",
    "```"
   ]
  },
  {
   "cell_type": "markdown",
   "metadata": {},
   "source": [
    "## En option : même question mais avec un dé pipé"
   ]
  },
  {
   "cell_type": "code",
   "execution_count": null,
   "metadata": {},
   "outputs": [],
   "source": [
    "print( 'un generateur tricheur')\n",
    "def generateur_lance_triche(face):\n",
    "    _de = De(face)\n",
    "    # A COMPLETER : le generateur doit tricher en favorisant le tirage de la face la maximum: exemple 6 pour le dé à 6 faces\n",
    "    XXXXXXXXXX(X)\n",
    "    while(1):\n",
    "        yield _de.roule()"
   ]
  }
 ],
 "metadata": {
  "kernelspec": {
   "display_name": "Python 3 (ipykernel)",
   "language": "python",
   "name": "python3"
  },
  "language_info": {
   "codemirror_mode": {
    "name": "ipython",
    "version": 3
   },
   "file_extension": ".py",
   "mimetype": "text/x-python",
   "name": "python",
   "nbconvert_exporter": "python",
   "pygments_lexer": "ipython3",
   "version": "3.9.12"
  }
 },
 "nbformat": 4,
 "nbformat_minor": 2
}
