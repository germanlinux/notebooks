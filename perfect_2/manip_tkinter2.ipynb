{
 "cells": [
  {
   "cell_type": "code",
   "execution_count": 5,
   "metadata": {},
   "outputs": [],
   "source": [
    "from tkinter import *\n",
    "from tkinter.ttk import *\n",
    "root = Tk()\n",
    "frm = Frame(root, padding=10)\n",
    "frm.grid()\n",
    "ttk.Label(frm, text=\"Hello World!\").grid(column=0, row=0)\n",
    "ttk.Button(frm, text=\"Quit\", command=root.destroy).grid(column=1, row=0)\n",
    "root.mainloop()"
   ]
  },
  {
   "cell_type": "code",
   "execution_count": 6,
   "metadata": {},
   "outputs": [],
   "source": [
    "win= Tk()\n",
    "#Set the geometry of tkinter frame\n",
    "win.geometry(\"750x250\")\n",
    "\n",
    "def callback():\n",
    "   Label(win, text=\"Hello World!\", font=('Century 20 bold')).pack(pady=4)\n",
    "\n",
    "#Create a Label and a Button widget\n",
    "btnttk=Button(win, text=\"Press Enter ttk\", command= callback)\n",
    "btn=Button(win, text=\"Press Enter ttk\", command= callback)\n",
    "\n",
    "btn.pack(ipadx=10)\n",
    "btnttk.pack(ipadx = 40)\n",
    "\n",
    "win.bind('<Return>',lambda event:callback())\n",
    "\n",
    "win.mainloop()"
   ]
  },
  {
   "cell_type": "code",
   "execution_count": null,
   "metadata": {},
   "outputs": [],
   "source": []
  }
 ],
 "metadata": {
  "kernelspec": {
   "display_name": "Python 3",
   "language": "python",
   "name": "python3"
  },
  "language_info": {
   "codemirror_mode": {
    "name": "ipython",
    "version": 3
   },
   "file_extension": ".py",
   "mimetype": "text/x-python",
   "name": "python",
   "nbconvert_exporter": "python",
   "pygments_lexer": "ipython3",
   "version": "3.7.4"
  }
 },
 "nbformat": 4,
 "nbformat_minor": 2
}
