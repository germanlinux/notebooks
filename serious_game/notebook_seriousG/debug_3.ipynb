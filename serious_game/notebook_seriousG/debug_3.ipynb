{
 "cells": [
  {
   "cell_type": "markdown",
   "id": "f9eb7426",
   "metadata": {},
   "source": [
    "# debug 3"
   ]
  },
  {
   "cell_type": "markdown",
   "id": "4747660d",
   "metadata": {},
   "source": [
    "## Instructions\n",
    "\n",
    "* Executer toutes les cellules \n",
    "* Faire en sorte de corriger la cellule de la fonction pour passer les tests.\n"
   ]
  },
  {
   "cell_type": "code",
   "execution_count": null,
   "id": "674f7c32",
   "metadata": {},
   "outputs": [],
   "source": [
    "import doctest"
   ]
  },
  {
   "cell_type": "markdown",
   "id": "9091a1aa",
   "metadata": {},
   "source": [
    "### Fonction à corriger"
   ]
  },
  {
   "cell_type": "code",
   "execution_count": null,
   "id": "150df6a7",
   "metadata": {},
   "outputs": [],
   "source": [
    "def surface(longueur, *argv):\n",
    "    surface = longueur\n",
    "    for i in range(len(*argv)):\n",
    "        surface *= argv[i]\n",
    "    return surface\n",
    "\n",
    "    "
   ]
  },
  {
   "cell_type": "markdown",
   "id": "dcd3c543",
   "metadata": {},
   "source": [
    "### Ne pas modifier les cellules ci-dessous"
   ]
  },
  {
   "cell_type": "code",
   "execution_count": null,
   "id": "630a2087",
   "metadata": {},
   "outputs": [],
   "source": [
    "def lance1():\n",
    "    ''' Corriger la fonction ajoute en fonction des résultats demandés\n",
    "    >>> b=lance1()\n",
    "    >>> print(b)\n",
    "    [5]\n",
    "    '''\n",
    "    return (surface(5,4,3))"
   ]
  },
  {
   "cell_type": "markdown",
   "id": "d799f4e7",
   "metadata": {},
   "source": [
    "# Zone de test"
   ]
  },
  {
   "cell_type": "code",
   "execution_count": null,
   "id": "3df52088",
   "metadata": {},
   "outputs": [],
   "source": [
    "doctest.testmod(verbose = 0)"
   ]
  },
  {
   "cell_type": "code",
   "execution_count": null,
   "id": "2b8d3a52",
   "metadata": {},
   "outputs": [],
   "source": []
  }
 ],
 "metadata": {
  "kernelspec": {
   "display_name": "Python 3 (ipykernel)",
   "language": "python",
   "name": "python3"
  },
  "language_info": {
   "codemirror_mode": {
    "name": "ipython",
    "version": 3
   },
   "file_extension": ".py",
   "mimetype": "text/x-python",
   "name": "python",
   "nbconvert_exporter": "python",
   "pygments_lexer": "ipython3",
   "version": "3.9.12"
  }
 },
 "nbformat": 4,
 "nbformat_minor": 5
}
