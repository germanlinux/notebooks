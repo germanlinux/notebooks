{
 "cells": [
  {
   "cell_type": "markdown",
   "id": "f9eb7426",
   "metadata": {},
   "source": [
    "# debug 2"
   ]
  },
  {
   "cell_type": "markdown",
   "id": "4747660d",
   "metadata": {},
   "source": [
    "## Instructions\n",
    "\n",
    "* Executer toutes les cellules \n",
    "* Faire en sorte de corriger la cellule de la fonction pour passer les tests.\n"
   ]
  },
  {
   "cell_type": "code",
   "execution_count": 1,
   "id": "674f7c32",
   "metadata": {},
   "outputs": [],
   "source": [
    "import doctest"
   ]
  },
  {
   "cell_type": "markdown",
   "id": "9091a1aa",
   "metadata": {},
   "source": [
    "### Fonction à corriger"
   ]
  },
  {
   "cell_type": "code",
   "execution_count": 2,
   "id": "150df6a7",
   "metadata": {},
   "outputs": [],
   "source": [
    "def ajoute(valeur, li = []):\n",
    "    li.append(valeur)\n",
    "    return li\n",
    "\n",
    "    "
   ]
  },
  {
   "cell_type": "markdown",
   "id": "dcd3c543",
   "metadata": {},
   "source": [
    "### Ne pas modifier les cellules ci-dessous"
   ]
  },
  {
   "cell_type": "code",
   "execution_count": 3,
   "id": "630a2087",
   "metadata": {},
   "outputs": [],
   "source": [
    "def lance1():\n",
    "    ''' Corriger la fonction ajoute en fonction des résultats demandés\n",
    "    >>> b=lance1()\n",
    "    >>> print(b)\n",
    "    [5]\n",
    "    '''\n",
    "    return (ajoute(5))"
   ]
  },
  {
   "cell_type": "code",
   "execution_count": 4,
   "id": "c33c63a5",
   "metadata": {},
   "outputs": [],
   "source": [
    "def lance2():\n",
    "    ''' Corriger la fonction ajoute en fonction des résultats demandés\n",
    "    >>> b = lance2()\n",
    "    >>> print(b)\n",
    "    [5]\n",
    "    '''\n",
    "    return (ajoute(5))\n"
   ]
  },
  {
   "cell_type": "code",
   "execution_count": 5,
   "id": "d36a7830",
   "metadata": {},
   "outputs": [
    {
     "name": "stdout",
     "output_type": "stream",
     "text": [
      "[1, 2, 5]\n"
     ]
    }
   ],
   "source": [
    "c = [1, 2]\n",
    "b = ajoute(5,c)\n",
    "print(b)"
   ]
  },
  {
   "cell_type": "markdown",
   "id": "d799f4e7",
   "metadata": {},
   "source": [
    "# Zone de test"
   ]
  },
  {
   "cell_type": "code",
   "execution_count": 6,
   "id": "3df52088",
   "metadata": {},
   "outputs": [
    {
     "name": "stdout",
     "output_type": "stream",
     "text": [
      "**********************************************************************\n",
      "File \"__main__\", line 4, in __main__.lance2\n",
      "Failed example:\n",
      "    print(b)\n",
      "Expected:\n",
      "    [5]\n",
      "Got:\n",
      "    [5, 5]\n",
      "**********************************************************************\n",
      "1 items had failures:\n",
      "   1 of   2 in __main__.lance2\n",
      "***Test Failed*** 1 failures.\n"
     ]
    },
    {
     "data": {
      "text/plain": [
       "TestResults(failed=1, attempted=4)"
      ]
     },
     "execution_count": 6,
     "metadata": {},
     "output_type": "execute_result"
    }
   ],
   "source": [
    "doctest.testmod(verbose = 0)"
   ]
  },
  {
   "cell_type": "code",
   "execution_count": null,
   "id": "2b8d3a52",
   "metadata": {},
   "outputs": [],
   "source": []
  }
 ],
 "metadata": {
  "kernelspec": {
   "display_name": "Python 3 (ipykernel)",
   "language": "python",
   "name": "python3"
  },
  "language_info": {
   "codemirror_mode": {
    "name": "ipython",
    "version": 3
   },
   "file_extension": ".py",
   "mimetype": "text/x-python",
   "name": "python",
   "nbconvert_exporter": "python",
   "pygments_lexer": "ipython3",
   "version": "3.9.12"
  }
 },
 "nbformat": 4,
 "nbformat_minor": 5
}
