{
 "cells": [
  {
   "cell_type": "code",
   "execution_count": 1,
   "id": "b035e05c",
   "metadata": {},
   "outputs": [],
   "source": [
    "import doctest"
   ]
  },
  {
   "cell_type": "code",
   "execution_count": 2,
   "id": "ee8abcce",
   "metadata": {},
   "outputs": [],
   "source": [
    "def accumule(data, valeur):\n",
    "    data += valeur\n",
    "    return data\n",
    "\n",
    "    "
   ]
  },
  {
   "cell_type": "code",
   "execution_count": 3,
   "id": "164656d7",
   "metadata": {},
   "outputs": [],
   "source": [
    "def lance1():\n",
    "    ''' Corriger la fonction accumule en fonction des résultats demandés\n",
    "    >>> lance1()\n",
    "    [1, 5, 'e'] [1, 5, 'e', '5'] [1, 5, 'e']\n",
    "    '''\n",
    "    a = [1, 5, 'e']\n",
    "    print(a, accumule(a, '5'),a)\n"
   ]
  },
  {
   "cell_type": "code",
   "execution_count": 10,
   "id": "2de97f81",
   "metadata": {},
   "outputs": [],
   "source": [
    "def lance2():\n",
    "    ''' Corriger la fonction accumule en fonction des résultats demandés\n",
    "    >>> lance2()\n",
    "    15e 15e5 15e\n",
    "    '''\n",
    "    a = '15e'\n",
    "    print(a, accumule(a, '5'),a)\n"
   ]
  },
  {
   "cell_type": "code",
   "execution_count": 5,
   "id": "8d7b6e1c",
   "metadata": {
    "scrolled": true
   },
   "outputs": [
    {
     "name": "stdout",
     "output_type": "stream",
     "text": [
      "[1, 5, 'e', '5'] [1, 5, 'e', '5'] [1, 5, 'e', '5']\n"
     ]
    }
   ],
   "source": [
    "lance1()"
   ]
  },
  {
   "cell_type": "code",
   "execution_count": 6,
   "id": "61147c15",
   "metadata": {},
   "outputs": [
    {
     "name": "stdout",
     "output_type": "stream",
     "text": [
      "15e 15e5 15e\n"
     ]
    }
   ],
   "source": [
    "lance2()"
   ]
  },
  {
   "cell_type": "markdown",
   "id": "54311cde",
   "metadata": {},
   "source": [
    "# Zone de test"
   ]
  },
  {
   "cell_type": "code",
   "execution_count": 11,
   "id": "9efa2d27",
   "metadata": {},
   "outputs": [
    {
     "name": "stdout",
     "output_type": "stream",
     "text": [
      "**********************************************************************\n",
      "File \"__main__\", line 3, in __main__.lance1\n",
      "Failed example:\n",
      "    lance1()\n",
      "Expected:\n",
      "    [1, 5, 'e'] [1, 5, 'e', '5'] [1, 5, 'e']\n",
      "Got:\n",
      "    [1, 5, 'e', '5'] [1, 5, 'e', '5'] [1, 5, 'e', '5']\n",
      "**********************************************************************\n",
      "1 items had failures:\n",
      "   1 of   1 in __main__.lance1\n",
      "***Test Failed*** 1 failures.\n"
     ]
    },
    {
     "data": {
      "text/plain": [
       "TestResults(failed=1, attempted=2)"
      ]
     },
     "execution_count": 11,
     "metadata": {},
     "output_type": "execute_result"
    }
   ],
   "source": [
    "doctest.testmod(verbose = 0)"
   ]
  },
  {
   "cell_type": "code",
   "execution_count": null,
   "id": "326044c8",
   "metadata": {},
   "outputs": [],
   "source": []
  }
 ],
 "metadata": {
  "kernelspec": {
   "display_name": "Python 3 (ipykernel)",
   "language": "python",
   "name": "python3"
  },
  "language_info": {
   "codemirror_mode": {
    "name": "ipython",
    "version": 3
   },
   "file_extension": ".py",
   "mimetype": "text/x-python",
   "name": "python",
   "nbconvert_exporter": "python",
   "pygments_lexer": "ipython3",
   "version": "3.9.12"
  }
 },
 "nbformat": 4,
 "nbformat_minor": 5
}
