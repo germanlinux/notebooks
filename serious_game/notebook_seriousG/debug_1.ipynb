{
 "cells": [
  {
   "cell_type": "markdown",
   "id": "f9eb7426",
   "metadata": {},
   "source": [
    "# debug 1"
   ]
  },
  {
   "cell_type": "markdown",
   "id": "4747660d",
   "metadata": {},
   "source": [
    "## Instructions\n",
    "\n",
    "* Executer toutes les cellules \n",
    "* Faire en sorte de corriger la cellule de la fonction pour passer les tests.\n"
   ]
  },
  {
   "cell_type": "code",
   "execution_count": 13,
   "id": "674f7c32",
   "metadata": {},
   "outputs": [],
   "source": [
    "import doctest"
   ]
  },
  {
   "cell_type": "markdown",
   "id": "9091a1aa",
   "metadata": {},
   "source": [
    "### Fonction à corriger"
   ]
  },
  {
   "cell_type": "code",
   "execution_count": 14,
   "id": "150df6a7",
   "metadata": {},
   "outputs": [],
   "source": [
    "def accumule(data, valeur):\n",
    "    data += valeur\n",
    "    return data\n",
    "\n",
    "    "
   ]
  },
  {
   "cell_type": "markdown",
   "id": "dcd3c543",
   "metadata": {},
   "source": [
    "### Ne pas modifier les cellules ci-dessous"
   ]
  },
  {
   "cell_type": "code",
   "execution_count": 15,
   "id": "630a2087",
   "metadata": {},
   "outputs": [],
   "source": [
    "def lance1():\n",
    "    ''' Corriger la fonction accumule en fonction des résultats demandés\n",
    "    >>> lance1()\n",
    "    [1, 5, 'e'] [1, 5, 'e', '5'] [1, 5, 'e']\n",
    "    '''\n",
    "    a = [1, 5, 'e']\n",
    "    print(a, accumule(a, '5'),a)\n"
   ]
  },
  {
   "cell_type": "code",
   "execution_count": 16,
   "id": "c33c63a5",
   "metadata": {},
   "outputs": [],
   "source": [
    "def lance2():\n",
    "    ''' Corriger la fonction accumule en fonction des résultats demandés\n",
    "    >>> lance2()\n",
    "    15e 15e5 15e\n",
    "    '''\n",
    "    a = '15e'\n",
    "    print(a, accumule(a, '5'),a)\n"
   ]
  },
  {
   "cell_type": "markdown",
   "id": "d799f4e7",
   "metadata": {},
   "source": [
    "# Zone de test"
   ]
  },
  {
   "cell_type": "code",
   "execution_count": 17,
   "id": "3df52088",
   "metadata": {},
   "outputs": [
    {
     "name": "stdout",
     "output_type": "stream",
     "text": [
      "**********************************************************************\n",
      "File \"__main__\", line 3, in __main__.lance1\n",
      "Failed example:\n",
      "    lance1()\n",
      "Expected:\n",
      "    [1, 5, 'e'] [1, 5, 'e', '5'] [1, 5, 'e']\n",
      "Got:\n",
      "    [1, 5, 'e', '5'] [1, 5, 'e', '5'] [1, 5, 'e', '5']\n",
      "**********************************************************************\n",
      "1 items had failures:\n",
      "   1 of   1 in __main__.lance1\n",
      "***Test Failed*** 1 failures.\n"
     ]
    },
    {
     "data": {
      "text/plain": [
       "TestResults(failed=1, attempted=2)"
      ]
     },
     "execution_count": 17,
     "metadata": {},
     "output_type": "execute_result"
    }
   ],
   "source": [
    "doctest.testmod(verbose = 0)"
   ]
  },
  {
   "cell_type": "code",
   "execution_count": null,
   "id": "2b8d3a52",
   "metadata": {},
   "outputs": [],
   "source": []
  }
 ],
 "metadata": {
  "kernelspec": {
   "display_name": "Python 3 (ipykernel)",
   "language": "python",
   "name": "python3"
  },
  "language_info": {
   "codemirror_mode": {
    "name": "ipython",
    "version": 3
   },
   "file_extension": ".py",
   "mimetype": "text/x-python",
   "name": "python",
   "nbconvert_exporter": "python",
   "pygments_lexer": "ipython3",
   "version": "3.9.12"
  }
 },
 "nbformat": 4,
 "nbformat_minor": 5
}
