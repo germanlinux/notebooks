{
 "cells": [
  {
   "cell_type": "code",
   "execution_count": 1,
   "metadata": {},
   "outputs": [],
   "source": [
    "my_dict ={\"un\": 1, \"deux\": 2, \"trois\": 3, \"dizaine\": [10, 20, 30, 40]}"
   ]
  },
  {
   "cell_type": "code",
   "execution_count": 2,
   "metadata": {},
   "outputs": [
    {
     "name": "stdout",
     "output_type": "stream",
     "text": [
      "['deux', 'dizaine', 'trois', 'un']\n"
     ]
    }
   ],
   "source": [
    "cles = list(my_dict.keys())\n",
    "cles.sort()\n",
    "print(cles)"
   ]
  },
  {
   "cell_type": "code",
   "execution_count": 3,
   "metadata": {},
   "outputs": [],
   "source": [
    "import csv\n",
    "with open('mes_cle.csv', 'w',  newline='')  as csvfile:\n",
    "    sortie = csv.DictWriter(  csvfile,cles, delimiter =';' )\n",
    "    sortie.writeheader()\n",
    "    sortie.writerow(my_dict)\n",
    "    "
   ]
  },
  {
   "cell_type": "markdown",
   "metadata": {},
   "source": [
    "### Relire le fichier CSV avec un reader CSV"
   ]
  }
 ],
 "metadata": {
  "kernelspec": {
   "display_name": "Python 3 (ipykernel)",
   "language": "python",
   "name": "python3"
  },
  "language_info": {
   "codemirror_mode": {
    "name": "ipython",
    "version": 3
   },
   "file_extension": ".py",
   "mimetype": "text/x-python",
   "name": "python",
   "nbconvert_exporter": "python",
   "pygments_lexer": "ipython3",
   "version": "3.9.12"
  }
 },
 "nbformat": 4,
 "nbformat_minor": 2
}
