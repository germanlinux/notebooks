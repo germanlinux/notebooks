{
 "cells": [
  {
   "cell_type": "markdown",
   "metadata": {},
   "source": [
    "###  Cas général"
   ]
  },
  {
   "cell_type": "code",
   "execution_count": 42,
   "metadata": {},
   "outputs": [],
   "source": [
    "def espace_occupe(longueur, largeur, hauteur):\n",
    "    return longueur * largeur * hauteur"
   ]
  },
  {
   "cell_type": "code",
   "execution_count": 43,
   "metadata": {},
   "outputs": [
    {
     "name": "stdout",
     "output_type": "stream",
     "text": [
      "24\n"
     ]
    }
   ],
   "source": [
    "print(espace_occupe(4, 2, 3))"
   ]
  },
  {
   "cell_type": "code",
   "execution_count": 44,
   "metadata": {},
   "outputs": [
    {
     "name": "stdout",
     "output_type": "stream",
     "text": [
      "24\n"
     ]
    }
   ],
   "source": [
    "print(espace_occupe(hauteur = 3, largeur= 2 , longueur = 4 ))"
   ]
  },
  {
   "cell_type": "code",
   "execution_count": 45,
   "metadata": {},
   "outputs": [
    {
     "name": "stdout",
     "output_type": "stream",
     "text": [
      "24\n"
     ]
    }
   ],
   "source": [
    "print(espace_occupe(4, hauteur = 3, largeur= 2  ))"
   ]
  },
  {
   "cell_type": "markdown",
   "metadata": {},
   "source": [
    "### Valeurs par defaut =>>  respectez la regle de préseance (position puis  cle/valeur)"
   ]
  },
  {
   "cell_type": "code",
   "execution_count": 53,
   "metadata": {},
   "outputs": [],
   "source": [
    "def espace_occupe(longueur, largeur= 2, hauteur= 1):\n",
    "    return longueur * largeur * hauteur"
   ]
  },
  {
   "cell_type": "code",
   "execution_count": 54,
   "metadata": {},
   "outputs": [
    {
     "name": "stdout",
     "output_type": "stream",
     "text": [
      "24\n",
      "8\n",
      "8\n"
     ]
    }
   ],
   "source": [
    "print(espace_occupe(4, 2, 3))\n",
    "print(espace_occupe(4, 2))\n",
    "print(espace_occupe(4))"
   ]
  },
  {
   "cell_type": "markdown",
   "metadata": {},
   "source": [
    "### Regroupement total"
   ]
  },
  {
   "cell_type": "code",
   "execution_count": 1,
   "metadata": {},
   "outputs": [],
   "source": [
    "def espace_occupe(*args):\n",
    "    print('arg:', *args)  # on peut acceder à \n",
    "    total = 1\n",
    "    for cote in args:\n",
    "        total *= cote\n",
    "    return total   # on peut accèder à args[0].. args[n]\n"
   ]
  },
  {
   "cell_type": "markdown",
   "metadata": {},
   "source": [
    "### A quoi sert la notation '*' dans ce contexte ?"
   ]
  },
  {
   "cell_type": "code",
   "execution_count": 18,
   "metadata": {},
   "outputs": [
    {
     "name": "stdout",
     "output_type": "stream",
     "text": [
      "(2, 5, 'r')\n",
      "2<>5<>r\n",
      "2\n"
     ]
    }
   ],
   "source": [
    "a = (2, 5, 'r')\n",
    "print(a)\n",
    "print(*a, sep ='<>') #le tuple est mis à plat\n",
    "(b,c,d)  = a\n",
    "print(b)\n"
   ]
  },
  {
   "cell_type": "code",
   "execution_count": 19,
   "metadata": {},
   "outputs": [
    {
     "ename": "SyntaxError",
     "evalue": "can't use starred expression here (<ipython-input-19-6c766d48fb95>, line 4)",
     "output_type": "error",
     "traceback": [
      "\u001b[1;36m  File \u001b[1;32m\"<ipython-input-19-6c766d48fb95>\"\u001b[1;36m, line \u001b[1;32m4\u001b[0m\n\u001b[1;31mSyntaxError\u001b[0m\u001b[1;31m:\u001b[0m can't use starred expression here\n"
     ]
    }
   ],
   "source": [
    "b = *a   # Erreur"
   ]
  },
  {
   "cell_type": "code",
   "execution_count": 41,
   "metadata": {},
   "outputs": [
    {
     "name": "stdout",
     "output_type": "stream",
     "text": [
      "[2, 5, 'r'] 3\n",
      "[(2, 5, 'r')] 1\n"
     ]
    }
   ],
   "source": [
    "b = [*a]\n",
    "print(b, len(b))\n",
    "c = [a]\n",
    "print(c, len(c))"
   ]
  },
  {
   "cell_type": "markdown",
   "metadata": {},
   "source": [
    "### *iterable peut aussi s'utiliser dans le contexte suivant"
   ]
  },
  {
   "cell_type": "code",
   "execution_count": 31,
   "metadata": {},
   "outputs": [],
   "source": [
    "\n",
    "def volume(largeur, longueur, hauteur):\n",
    "    return largeur * longueur * hauteur\n"
   ]
  },
  {
   "cell_type": "code",
   "execution_count": 33,
   "metadata": {},
   "outputs": [
    {
     "name": "stdout",
     "output_type": "stream",
     "text": [
      "60\n"
     ]
    }
   ],
   "source": [
    "pave = [3, 4, 5]\n",
    "print(volume(*pave)) # pave est depaqueté\n"
   ]
  },
  {
   "cell_type": "markdown",
   "metadata": {},
   "source": [
    "### Tests de notre fonction espace_occupé"
   ]
  },
  {
   "cell_type": "code",
   "execution_count": 2,
   "metadata": {},
   "outputs": [
    {
     "name": "stdout",
     "output_type": "stream",
     "text": [
      "arg: 2 3\n",
      "espace: 6\n",
      "arg: 5 7 8\n",
      "espace: 280\n",
      "arg: 5 7 8 2\n",
      "espace: 560\n",
      "arg: (2, 3) 2\n",
      "espace: (2, 3, 2, 3)\n",
      "arg: [2, 3] 2\n",
      "espace: [2, 3, 2, 3]\n",
      "arg: ABC 2\n",
      "espace: ABCABC\n"
     ]
    }
   ],
   "source": [
    "print('espace:', espace_occupe(2,3))\n",
    "print('espace:', espace_occupe(5, 7, 8))\n",
    "print('espace:', espace_occupe(5, 7, 8, 2) )   \n",
    "print('espace:', espace_occupe((2,3),2)) # accepte tout (tuple)\n",
    "print('espace:', espace_occupe([2,3],2)) # accepte tout (list)\n",
    "print('espace:', espace_occupe('ABC', 2)) # accepte tout (string)\n"
   ]
  },
  {
   "cell_type": "markdown",
   "metadata": {},
   "source": [
    "###  Regroupement partiel"
   ]
  },
  {
   "cell_type": "code",
   "execution_count": 6,
   "metadata": {},
   "outputs": [],
   "source": [
    "def espace_occupe(hauteur ,*args):\n",
    "    print('arg:', *args)\n",
    "    total = hauteur\n",
    "    for cote in args:\n",
    "        total *= cote\n",
    "    return total"
   ]
  },
  {
   "cell_type": "code",
   "execution_count": 4,
   "metadata": {},
   "outputs": [
    {
     "name": "stdout",
     "output_type": "stream",
     "text": [
      "arg: 3\n",
      "espace_occupe: 6\n",
      "arg: 7 8\n",
      "espace_occupe: 280\n"
     ]
    }
   ],
   "source": [
    "print('espace_occupe:',espace_occupe(2,3))\n",
    "print('espace_occupe:',espace_occupe(5, 7, 8))"
   ]
  },
  {
   "cell_type": "markdown",
   "metadata": {},
   "source": [
    "### Le motif de regroupement peut se situer n'importe où à l'interieur des arguments positionnels"
   ]
  },
  {
   "cell_type": "markdown",
   "metadata": {},
   "source": [
    "1. def espace_occupe(hauteur ,*args):\n",
    "\n",
    "2. def espace_occupe(*args, largeur, hauteur):   \n",
    "\n",
    "3. def espace_occupe(longueur, *args, hauteur):   \n",
    "    "
   ]
  },
  {
   "cell_type": "markdown",
   "metadata": {},
   "source": [
    "### L'utilisation des mots cles est impossible dans le cas 1"
   ]
  },
  {
   "cell_type": "code",
   "execution_count": 5,
   "metadata": {
    "scrolled": true
   },
   "outputs": [
    {
     "ename": "SyntaxError",
     "evalue": "positional argument follows keyword argument (<ipython-input-5-5686742a71a4>, line 1)",
     "output_type": "error",
     "traceback": [
      "\u001b[1;36m  File \u001b[1;32m\"<ipython-input-5-5686742a71a4>\"\u001b[1;36m, line \u001b[1;32m1\u001b[0m\n\u001b[1;33m    print('espace_occupe', espace_occupe(hauteur= 2, 7)) # on ne respecte pas la regle n° 1\u001b[0m\n\u001b[1;37m                                                    ^\u001b[0m\n\u001b[1;31mSyntaxError\u001b[0m\u001b[1;31m:\u001b[0m positional argument follows keyword argument\n"
     ]
    }
   ],
   "source": [
    "#def espace_occupe(hauteur ,*args):\n",
    "\n",
    "print('espace_occupe', espace_occupe(hauteur= 2, 7)) # on ne respecte pas la regle n° 1\n"
   ]
  },
  {
   "cell_type": "markdown",
   "metadata": {},
   "source": [
    "### Variante avec une valeur pas défaut => on pénètre dans la 4eme dimension"
   ]
  },
  {
   "cell_type": "code",
   "execution_count": null,
   "metadata": {},
   "outputs": [],
   "source": [
    "def espace_occupe(*args, temps=1):\n",
    "    print('arg:', *args)\n",
    "    total = temps\n",
    "    for cote in args:\n",
    "        total *= cote\n",
    "    return total"
   ]
  },
  {
   "cell_type": "code",
   "execution_count": null,
   "metadata": {},
   "outputs": [],
   "source": [
    "print('espace_occupe', espace_occupe(2, 7))"
   ]
  },
  {
   "cell_type": "code",
   "execution_count": null,
   "metadata": {},
   "outputs": [],
   "source": [
    "print('espace_occupe', espace_occupe(2, 7, temps = 1.5))"
   ]
  }
 ],
 "metadata": {
  "kernelspec": {
   "display_name": "Python 3 (ipykernel)",
   "language": "python",
   "name": "python3"
  },
  "language_info": {
   "codemirror_mode": {
    "name": "ipython",
    "version": 3
   },
   "file_extension": ".py",
   "mimetype": "text/x-python",
   "name": "python",
   "nbconvert_exporter": "python",
   "pygments_lexer": "ipython3",
   "version": "3.9.12"
  }
 },
 "nbformat": 4,
 "nbformat_minor": 2
}
