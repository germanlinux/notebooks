{
 "cells": [
  {
   "cell_type": "markdown",
   "metadata": {},
   "source": [
    "###  A) Soit la fonction suivante:"
   ]
  },
  {
   "cell_type": "code",
   "execution_count": 1,
   "metadata": {},
   "outputs": [],
   "source": [
    "def complement(a,b=10):\n",
    "    return (b - a) /2 "
   ]
  },
  {
   "cell_type": "markdown",
   "metadata": {},
   "source": [
    "### Réaliser 3 appels de cette fonctions avec des syntaxes differentes"
   ]
  },
  {
   "cell_type": "code",
   "execution_count": 2,
   "metadata": {},
   "outputs": [
    {
     "name": "stdout",
     "output_type": "stream",
     "text": [
      "1.0\n"
     ]
    }
   ],
   "source": [
    "print(XXXXXXXXXXXXXX)"
   ]
  },
  {
   "cell_type": "code",
   "execution_count": 6,
   "metadata": {},
   "outputs": [
    {
     "name": "stdout",
     "output_type": "stream",
     "text": [
      "1.0\n"
     ]
    }
   ],
   "source": [
    "print(XXXXXXXXXXXXX)"
   ]
  },
  {
   "cell_type": "code",
   "execution_count": 13,
   "metadata": {},
   "outputs": [
    {
     "name": "stdout",
     "output_type": "stream",
     "text": [
      "1.0\n",
      "a b\n"
     ]
    }
   ],
   "source": [
    "c  = XXXXXXXXXXXXXXXXXXXX\n",
    "print(XXXXXXXXXXXXXX)"
   ]
  },
  {
   "cell_type": "code",
   "execution_count": 14,
   "metadata": {},
   "outputs": [
    {
     "name": "stdout",
     "output_type": "stream",
     "text": [
      "1.0\n"
     ]
    }
   ],
   "source": [
    "c = XXXXXXXXXXXX\n",
    "print(complement(*c))"
   ]
  },
  {
   "cell_type": "markdown",
   "metadata": {},
   "source": [
    "### B) Modifier la fonction suivante pour obtenir les résultats attendus"
   ]
  },
  {
   "cell_type": "code",
   "execution_count": 35,
   "metadata": {},
   "outputs": [
    {
     "name": "stdout",
     "output_type": "stream",
     "text": [
      "e-g-m\n",
      "e\n",
      "e-g\n",
      "aa-bb-cc-m\n",
      "['aa', 'bb', 'cc', 'm']\n",
      "e\n",
      "e-g-e\n"
     ]
    }
   ],
   "source": [
    "a = ['aa','bb','cc']\n",
    "def fonct(lettre,liste=[] ):\n",
    "    liste.append(lettre)\n",
    "    return(\"-\".join(liste))\n",
    "\n",
    "print(fonct('m', ['e','g'])) # e-g-m\n",
    "print(fonct('e'))            # e\n",
    "print(fonct('g'))            # g\n",
    "print(fonct('m', a))         # aa-bb-cc-m\n",
    "print(a)                     #['aa', 'bb', 'cc']\n",
    "print(fonct('e',[]))         # e\n",
    "print(fonct('e'))            # e"
   ]
  },
  {
   "cell_type": "code",
   "execution_count": 27,
   "metadata": {},
   "outputs": [],
   "source": [
    "def fonctcorr(lettre,liste= XXXXX ):\n",
    "    XXXXXX\n",
    "    XXXXXX\n",
    "    XXXXXX\n",
    "    return(\"-\".join(_liste))"
   ]
  },
  {
   "cell_type": "code",
   "execution_count": 36,
   "metadata": {},
   "outputs": [
    {
     "name": "stdout",
     "output_type": "stream",
     "text": [
      "e-g-m\n",
      "e\n",
      "g\n",
      "aa-bb-cc-m\n",
      "['aa', 'bb', 'cc']\n",
      "e\n",
      "e\n"
     ]
    }
   ],
   "source": [
    "a = ['aa','bb','cc']\n",
    "print(fonctcorr('m', ['e','g']))\n",
    "print(fonctcorr('e'))\n",
    "print(fonctcorr('g'))\n",
    "print(fonctcorr('m', a)) \n",
    "print(a)\n",
    "print(fonctcorr('e'))\n",
    "print(fonctcorr('e',[]))"
   ]
  },
  {
   "cell_type": "markdown",
   "metadata": {},
   "source": [
    "###  C) Boucle et conversion de type "
   ]
  },
  {
   "cell_type": "markdown",
   "metadata": {},
   "source": [
    "####  Soit la variable a = 'chaine à retourner'\n",
    "\n",
    "Avec extraction d'intervalle [...] , inverser l'ordre des caractères\n"
   ]
  },
  {
   "cell_type": "raw",
   "metadata": {},
   "source": [
    "a = 'chaine à retourner'\n",
    "b =XXXXXXXXXXXXXX\n",
    "print(b)"
   ]
  },
  {
   "cell_type": "markdown",
   "metadata": {},
   "source": [
    "#### Meme question avec une boucle for"
   ]
  },
  {
   "cell_type": "code",
   "execution_count": 1,
   "metadata": {},
   "outputs": [
    {
     "name": "stdout",
     "output_type": "stream",
     "text": [
      "renruoter à eniahc\n"
     ]
    }
   ],
   "source": [
    "a = 'chaine à retourner'\n",
    "b = ''\n",
    "  for XXXXXXXX  \n",
    "    XXXX\n",
    "    XXX\n",
    "print(b)"
   ]
  },
  {
   "cell_type": "markdown",
   "metadata": {},
   "source": [
    "#### Meme question en passant par une liste"
   ]
  },
  {
   "cell_type": "code",
   "execution_count": 84,
   "metadata": {},
   "outputs": [
    {
     "name": "stdout",
     "output_type": "stream",
     "text": [
      "renruoter à eniahc\n"
     ]
    }
   ],
   "source": [
    "a = 'chaine à retourner'\n",
    "b = list(a)\n",
    "XXXXX\n",
    "XXXX.join(b)\n",
    "print(b)"
   ]
  },
  {
   "cell_type": "markdown",
   "metadata": {},
   "source": [
    "### D) Construire une classe Autoreverse qui prend comme argument une chaine de caractère et l'inverse:\n",
    "    \n",
    "machaine = Autoreverse('noel')\n",
    "\n",
    "print(machaine)  # leon\n",
    "\n",
    "machaine = Autoreverse('eric')\n",
    "\n",
    "print(machaine)  # cire\n",
    "  \n",
    "L'instruction 'help' devra afficher sa documentation  "
   ]
  },
  {
   "cell_type": "code",
   "execution_count": 105,
   "metadata": {},
   "outputs": [],
   "source": [
    "class Autoreverse():\n",
    "    '''Autoreverse implemente la méthode  __str__  qui retourne la chaine passée au constructeur en inversant l'ordre des\n",
    "   caractères'''\n",
    "    \n",
    "    '''\n",
    "    XXXXXXXX\n",
    "    XXXXXXXX\n",
    "    XXXXXXXX\n",
    "    '''\n",
    "   \n",
    "    "
   ]
  },
  {
   "cell_type": "code",
   "execution_count": 106,
   "metadata": {},
   "outputs": [
    {
     "name": "stdout",
     "output_type": "stream",
     "text": [
      "leon\n",
      "Help on class Autoreverse in module __main__:\n",
      "\n",
      "class Autoreverse(builtins.object)\n",
      " |  Autoreverse(chaine)\n",
      " |  \n",
      " |  Autoreverse implemente la méthode  __str__  qui retourne la chaine passée au constructeur en inversant l'odre des\n",
      " |  caractères\n",
      " |  \n",
      " |  Methods defined here:\n",
      " |  \n",
      " |  __init__(self, chaine)\n",
      " |      Initialize self.  See help(type(self)) for accurate signature.\n",
      " |  \n",
      " |  __str__(self)\n",
      " |      Return str(self).\n",
      " |  \n",
      " |  ----------------------------------------------------------------------\n",
      " |  Data descriptors defined here:\n",
      " |  \n",
      " |  __dict__\n",
      " |      dictionary for instance variables (if defined)\n",
      " |  \n",
      " |  __weakref__\n",
      " |      list of weak references to the object (if defined)\n",
      "\n"
     ]
    }
   ],
   "source": [
    "machaine = Autoreverse('noel')\n",
    "print(machaine)\n",
    "help(Autoreverse)"
   ]
  },
  {
   "cell_type": "code",
   "execution_count": 50,
   "metadata": {},
   "outputs": [
    {
     "data": {
      "text/plain": [
       "'cire'"
      ]
     },
     "execution_count": 50,
     "metadata": {},
     "output_type": "execute_result"
    }
   ],
   "source": [
    "machaine = Autoreverse('eric')\n",
    "print(machaine)\n"
   ]
  },
  {
   "cell_type": "markdown",
   "metadata": {},
   "source": [
    "### E) Modifier la classe pour que la methode saute(self, pas) renvoie une chaine avec un décalage de caractere \n",
    "exemple avec 1 : a=> b , b => c etc.\n",
    "    "
   ]
  },
  {
   "cell_type": "code",
   "execution_count": 102,
   "metadata": {},
   "outputs": [],
   "source": [
    "class Autoreverse():\n",
    "    '''Autoreverse implemente la méthode  __str__  qui retourne la chaine passée au constructeur en inversant l'ordre des\n",
    "   caractères'''\n",
    "    '''\n",
    "    XXXXXXXXXXXXXXXXXXXXX\n",
    "    XXXXXXXXXXXXXXXXXXXXX\n",
    "    '''\n",
    "    def saute(self,pas):\n",
    "        XXXXXXXXXXXX\n",
    "        return b\n",
    "   "
   ]
  },
  {
   "cell_type": "code",
   "execution_count": 103,
   "metadata": {},
   "outputs": [
    {
     "name": "stdout",
     "output_type": "stream",
     "text": [
      "cxge\"wp\"fgecncig\n"
     ]
    }
   ],
   "source": [
    "machaine = Autoreverse('avec un decalage')\n",
    "print(machaine.saute(2))"
   ]
  },
  {
   "cell_type": "code",
   "execution_count": 104,
   "metadata": {
    "scrolled": true
   },
   "outputs": [
    {
     "name": "stdout",
     "output_type": "stream",
     "text": [
      "Help on class Autoreverse in module __main__:\n",
      "\n",
      "class Autoreverse(builtins.object)\n",
      " |  Autoreverse(chaine)\n",
      " |  \n",
      " |  Autoreverse implemente la méthode  __str__  qui retourne la chaine passée au constructeur en inversant l'odre des\n",
      " |  caractères\n",
      " |  \n",
      " |  Methods defined here:\n",
      " |  \n",
      " |  __init__(self, chaine)\n",
      " |      Initialize self.  See help(type(self)) for accurate signature.\n",
      " |  \n",
      " |  __str__(self)\n",
      " |      Return str(self).\n",
      " |  \n",
      " |  saute(self, pas)\n",
      " |  \n",
      " |  ----------------------------------------------------------------------\n",
      " |  Data descriptors defined here:\n",
      " |  \n",
      " |  __dict__\n",
      " |      dictionary for instance variables (if defined)\n",
      " |  \n",
      " |  __weakref__\n",
      " |      list of weak references to the object (if defined)\n",
      "\n"
     ]
    }
   ],
   "source": [
    "help(Autoreverse)"
   ]
  },
  {
   "cell_type": "code",
   "execution_count": null,
   "metadata": {},
   "outputs": [],
   "source": []
  },
  {
   "cell_type": "code",
   "execution_count": null,
   "metadata": {},
   "outputs": [],
   "source": []
  }
 ],
 "metadata": {
  "kernelspec": {
   "display_name": "Python 3",
   "language": "python",
   "name": "python3"
  },
  "language_info": {
   "codemirror_mode": {
    "name": "ipython",
    "version": 3
   },
   "file_extension": ".py",
   "mimetype": "text/x-python",
   "name": "python",
   "nbconvert_exporter": "python",
   "pygments_lexer": "ipython3",
   "version": "3.7.4"
  }
 },
 "nbformat": 4,
 "nbformat_minor": 2
}
