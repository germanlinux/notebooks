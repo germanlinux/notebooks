{
 "cells": [
  {
   "cell_type": "markdown",
   "metadata": {},
   "source": [
    "### Utiliser un dictionnaire pour compter les lettres d'une phrase (sauf les espaces)"
   ]
  },
  {
   "cell_type": "code",
   "execution_count": 1,
   "metadata": {},
   "outputs": [],
   "source": [
    "from collections import defaultdict\n"
   ]
  },
  {
   "cell_type": "markdown",
   "metadata": {},
   "source": [
    "### Sans defaultdict"
   ]
  },
  {
   "cell_type": "code",
   "execution_count": 2,
   "metadata": {},
   "outputs": [],
   "source": [
    "def compte(phrase):\n",
    "    _dict = {}\n",
    "    for lettre in phrase:\n",
    "        if lettre in _dict:\n",
    "            _dict[lettre] += 1\n",
    "        else:\n",
    "            _dict[lettre] = 1\n",
    "    if ' ' in _dict:\n",
    "        del(_dict[' '])\n",
    "    return(_dict)     "
   ]
  },
  {
   "cell_type": "code",
   "execution_count": 3,
   "metadata": {},
   "outputs": [
    {
     "data": {
      "text/plain": [
       "{'g': 3, 'h': 4, 't': 3, 'y': 1}"
      ]
     },
     "execution_count": 3,
     "metadata": {},
     "output_type": "execute_result"
    }
   ],
   "source": [
    "compte('ghght ghtht y')"
   ]
  },
  {
   "cell_type": "markdown",
   "metadata": {},
   "source": [
    "### Variante"
   ]
  },
  {
   "cell_type": "code",
   "execution_count": 6,
   "metadata": {},
   "outputs": [],
   "source": [
    "def compte(phrase):\n",
    "    _dict = {}\n",
    "    for lettre in phrase:\n",
    "        if _dict.get(lettre):\n",
    "            _dict[lettre] += 1\n",
    "        else:\n",
    "            _dict[lettre] = 1\n",
    "    if _dict.get(' '):\n",
    "        del(_dict[' '])\n",
    "    return(_dict)     "
   ]
  },
  {
   "cell_type": "code",
   "execution_count": 7,
   "metadata": {},
   "outputs": [
    {
     "data": {
      "text/plain": [
       "{'g': 3, 'h': 4, 't': 3, 'y': 1}"
      ]
     },
     "execution_count": 7,
     "metadata": {},
     "output_type": "execute_result"
    }
   ],
   "source": [
    "compte('ghght ghtht y')"
   ]
  },
  {
   "cell_type": "markdown",
   "metadata": {},
   "source": [
    "### Avec defaultdict"
   ]
  },
  {
   "cell_type": "code",
   "execution_count": 13,
   "metadata": {},
   "outputs": [],
   "source": [
    "from collections import defaultdict\n",
    "\n",
    "def compte2(phrase):\n",
    "    _dict = defaultdict(int)\n",
    "    for lettre in phrase:\n",
    "        _dict[lettre] += 1\n",
    "        if _dict.get(' '):\n",
    "            del(_dict[' '])\n",
    "    return(_dict, _dict[' '])     "
   ]
  },
  {
   "cell_type": "code",
   "execution_count": 14,
   "metadata": {},
   "outputs": [
    {
     "data": {
      "text/plain": [
       "(defaultdict(int, {'g': 3, 'h': 4, 't': 3, 'y': 1, ' ': 0}), 0)"
      ]
     },
     "execution_count": 14,
     "metadata": {},
     "output_type": "execute_result"
    }
   ],
   "source": [
    "compte2('ghght ghtht y')"
   ]
  },
  {
   "cell_type": "code",
   "execution_count": null,
   "metadata": {},
   "outputs": [],
   "source": []
  }
 ],
 "metadata": {
  "kernelspec": {
   "display_name": "Python 3 (ipykernel)",
   "language": "python",
   "name": "python3"
  },
  "language_info": {
   "codemirror_mode": {
    "name": "ipython",
    "version": 3
   },
   "file_extension": ".py",
   "mimetype": "text/x-python",
   "name": "python",
   "nbconvert_exporter": "python",
   "pygments_lexer": "ipython3",
   "version": "3.9.12"
  }
 },
 "nbformat": 4,
 "nbformat_minor": 2
}
