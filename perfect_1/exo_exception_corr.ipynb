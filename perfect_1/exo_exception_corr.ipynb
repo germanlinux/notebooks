{
 "cells": [
  {
   "cell_type": "code",
   "execution_count": 3,
   "metadata": {},
   "outputs": [
    {
     "name": "stdout",
     "output_type": "stream",
     "text": [
      "Le fichier 'fictest.txt' a été trouvé\n",
      "ligne 1\n",
      "ligne 2\n",
      "et les suivantes\n",
      "Fichier non trouvé :  Err : [Errno 2] No such file or directory: 'fic.txt'\n"
     ]
    }
   ],
   "source": [
    "'''\n",
    "Ouverture d'un fichier texte en lecture\n",
    "'''\n",
    "def ouverture(fic):\n",
    "    try:\n",
    "        with open(fic, \"r\") as file:\n",
    "            text = file.read()\n",
    "    except FileNotFoundError as err:\n",
    "        print (\"Fichier non trouvé : \", \"Err :\", err) \n",
    "    else:\n",
    "        print (f\"Le fichier '{file.name}' a été trouvé\")\n",
    "        print(text)\n",
    "  \n",
    "ouverture('fictest.txt')\n",
    "ouverture('fic.txt')"
   ]
  },
  {
   "cell_type": "code",
   "execution_count": 4,
   "metadata": {},
   "outputs": [
    {
     "name": "stdout",
     "output_type": "stream",
     "text": [
      "Le fichier 'fictest.txt' a été trouvé\n",
      "ligne 1\n",
      "ligne 2\n",
      "et les suivantes\n",
      "Fichier non trouvé :  Err : [Errno 2] No such file or directory: 'fic.txt'\n"
     ]
    }
   ],
   "source": [
    "for nom in ['fictest.txt', 'fic.txt']:\n",
    "    ouverture(nom)"
   ]
  },
  {
   "cell_type": "code",
   "execution_count": null,
   "metadata": {},
   "outputs": [],
   "source": []
  }
 ],
 "metadata": {
  "kernelspec": {
   "display_name": "Python 3 (ipykernel)",
   "language": "python",
   "name": "python3"
  },
  "language_info": {
   "codemirror_mode": {
    "name": "ipython",
    "version": 3
   },
   "file_extension": ".py",
   "mimetype": "text/x-python",
   "name": "python",
   "nbconvert_exporter": "python",
   "pygments_lexer": "ipython3",
   "version": "3.9.12"
  }
 },
 "nbformat": 4,
 "nbformat_minor": 2
}
