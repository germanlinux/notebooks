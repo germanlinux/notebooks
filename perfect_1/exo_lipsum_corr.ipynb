{
 "cells": [
  {
   "cell_type": "code",
   "execution_count": 1,
   "metadata": {},
   "outputs": [],
   "source": [
    "import sys\n",
    "from collections import Counter as Counter\n",
    "def decompte(file):\n",
    "    try:\n",
    "        with open(file, 'r') as f:\n",
    "            contenu = f.readlines()\n",
    "    except :\n",
    "        print('fichier inconnu')\n",
    "    else:   \n",
    "        chaine = ''.join(contenu)\n",
    "        compteur = Counter(chaine)\n",
    "        del compteur[\" \"]\n",
    "        print(compteur.most_common(3))\n"
   ]
  },
  {
   "cell_type": "code",
   "execution_count": 2,
   "metadata": {},
   "outputs": [
    {
     "name": "stdout",
     "output_type": "stream",
     "text": [
      "[('i', 213), ('e', 211), ('u', 183)]\n"
     ]
    }
   ],
   "source": [
    "decompte('lipsum1.txt')"
   ]
  },
  {
   "cell_type": "code",
   "execution_count": null,
   "metadata": {},
   "outputs": [],
   "source": []
  }
 ],
 "metadata": {
  "kernelspec": {
   "display_name": "Python 3 (ipykernel)",
   "language": "python",
   "name": "python3"
  },
  "language_info": {
   "codemirror_mode": {
    "name": "ipython",
    "version": 3
   },
   "file_extension": ".py",
   "mimetype": "text/x-python",
   "name": "python",
   "nbconvert_exporter": "python",
   "pygments_lexer": "ipython3",
   "version": "3.9.12"
  }
 },
 "nbformat": 4,
 "nbformat_minor": 2
}
