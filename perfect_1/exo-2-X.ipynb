{
 "cells": [
  {
   "cell_type": "markdown",
   "metadata": {},
   "source": [
    "## Soit la fonction suivante:\n",
    "    "
   ]
  },
  {
   "cell_type": "code",
   "execution_count": 1,
   "metadata": {},
   "outputs": [],
   "source": [
    "def fonction(a, b=None):\n",
    "    if b is not None:\n",
    "        b.append(a)\n",
    "    else:\n",
    "        b= [a]\n",
    "    return b\n"
   ]
  },
  {
   "cell_type": "code",
   "execution_count": 2,
   "metadata": {},
   "outputs": [
    {
     "name": "stdout",
     "output_type": "stream",
     "text": [
      "[4, 2]\n",
      "['z']\n",
      "['g']\n"
     ]
    }
   ],
   "source": [
    "print(fonction(2, [4]))\n",
    "print(fonction('z'))\n",
    "print(fonction('g'))\n",
    "\n"
   ]
  },
  {
   "cell_type": "markdown",
   "metadata": {},
   "source": [
    "### modifier la fonction pour qu'elle fonctionne  pour des tuples  et les sets quand on lui passe deux paramètres"
   ]
  },
  {
   "cell_type": "code",
   "execution_count": 14,
   "metadata": {},
   "outputs": [
    {
     "name": "stdout",
     "output_type": "stream",
     "text": [
      "(4, 5, 2)\n"
     ]
    }
   ],
   "source": [
    "print(fonction(2,(4,5)))"
   ]
  },
  {
   "cell_type": "markdown",
   "metadata": {},
   "source": [
    "### Et pour des set\n"
   ]
  },
  {
   "cell_type": "code",
   "execution_count": 16,
   "metadata": {},
   "outputs": [
    {
     "name": "stdout",
     "output_type": "stream",
     "text": [
      "{2, 4, 5}\n"
     ]
    }
   ],
   "source": [
    "print(fonction(2,{5,4}))"
   ]
  },
  {
   "cell_type": "code",
   "execution_count": 15,
   "metadata": {},
   "outputs": [],
   "source": [
    "def fonction(a, b=None):\n",
    "   '''\n",
    "   XXXXXXXXXXXXXXXX\n",
    "   XXXXXXXXXXXXXXXX\n",
    "   XXXXXXXXXXXXXXXX\n",
    "   '''\n",
    "    return b\n"
   ]
  },
  {
   "cell_type": "markdown",
   "metadata": {},
   "source": [
    "## Ecrire une fonction qui reçoit en paramètre une fonction et ses paramètres positionnels pour les encapsuler"
   ]
  },
  {
   "cell_type": "code",
   "execution_count": 22,
   "metadata": {},
   "outputs": [],
   "source": [
    "def ma_fonction_simple( l, L):\n",
    "    return(l * L)\n",
    "def encapsuleur(XXXXXXX,XXXXXX):\n",
    "    print('j entre dans la fonction encapsule')\n",
    "    print('les parametres sont:', *args)\n",
    "    \n",
    "    return(XXXXXXXXXXX)\n"
   ]
  },
  {
   "cell_type": "code",
   "execution_count": 23,
   "metadata": {},
   "outputs": [
    {
     "name": "stdout",
     "output_type": "stream",
     "text": [
      "j entre dans la fonction encapsule\n",
      "les parametres sont: 2 5\n",
      "10\n"
     ]
    }
   ],
   "source": [
    "print(encapsuleur(ma_fonction_simple, 2, 5))\n"
   ]
  },
  {
   "cell_type": "code",
   "execution_count": null,
   "metadata": {},
   "outputs": [],
   "source": []
  }
 ],
 "metadata": {
  "kernelspec": {
   "display_name": "Python 3",
   "language": "python",
   "name": "python3"
  },
  "language_info": {
   "codemirror_mode": {
    "name": "ipython",
    "version": 3
   },
   "file_extension": ".py",
   "mimetype": "text/x-python",
   "name": "python",
   "nbconvert_exporter": "python",
   "pygments_lexer": "ipython3",
   "version": "3.7.4"
  }
 },
 "nbformat": 4,
 "nbformat_minor": 2
}
