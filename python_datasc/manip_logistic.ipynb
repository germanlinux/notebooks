{
 "cells": [
  {
   "cell_type": "markdown",
   "metadata": {},
   "source": [
    "### Présentation: \n",
    "\n",
    "Soit un semestre d'ecole avec 2 partiels. Les notes obtenues durant les partiels sont X1 et X2. La colonne 'y' (label)  contiendra l'indication de la réussite finale au semestre (examin final indépendant).\n",
    "Avec '0' => echec  et  1 => réussite.\n",
    "On cherche à construire un modèle prédictif qui repondra à la question : Recu ou recalé en fonction des notes intermédiaires.\n",
    "\n",
    "\n"
   ]
  },
  {
   "cell_type": "code",
   "execution_count": 1,
   "metadata": {},
   "outputs": [],
   "source": [
    "%matplotlib inline"
   ]
  },
  {
   "cell_type": "code",
   "execution_count": 2,
   "metadata": {},
   "outputs": [],
   "source": [
    "import numpy as np\n",
    "import pandas as pd\n",
    "import matplotlib.pyplot as plt"
   ]
  },
  {
   "cell_type": "markdown",
   "metadata": {},
   "source": [
    "### Chargement des données\n",
    "\n",
    "Les notes sont sur 100 points"
   ]
  },
  {
   "cell_type": "code",
   "execution_count": 3,
   "metadata": {},
   "outputs": [],
   "source": [
    "dt = pd.read_csv('regressionlogis.csv', header = None, names =['X1', 'X2','y'])"
   ]
  },
  {
   "cell_type": "code",
   "execution_count": 4,
   "metadata": {},
   "outputs": [
    {
     "data": {
      "text/html": [
       "<div>\n",
       "<style scoped>\n",
       "    .dataframe tbody tr th:only-of-type {\n",
       "        vertical-align: middle;\n",
       "    }\n",
       "\n",
       "    .dataframe tbody tr th {\n",
       "        vertical-align: top;\n",
       "    }\n",
       "\n",
       "    .dataframe thead th {\n",
       "        text-align: right;\n",
       "    }\n",
       "</style>\n",
       "<table border=\"1\" class=\"dataframe\">\n",
       "  <thead>\n",
       "    <tr style=\"text-align: right;\">\n",
       "      <th></th>\n",
       "      <th>X1</th>\n",
       "      <th>X2</th>\n",
       "      <th>y</th>\n",
       "    </tr>\n",
       "  </thead>\n",
       "  <tbody>\n",
       "    <tr>\n",
       "      <th>0</th>\n",
       "      <td>34.623660</td>\n",
       "      <td>78.024693</td>\n",
       "      <td>0</td>\n",
       "    </tr>\n",
       "    <tr>\n",
       "      <th>1</th>\n",
       "      <td>30.286711</td>\n",
       "      <td>43.894998</td>\n",
       "      <td>0</td>\n",
       "    </tr>\n",
       "    <tr>\n",
       "      <th>2</th>\n",
       "      <td>35.847409</td>\n",
       "      <td>72.902198</td>\n",
       "      <td>0</td>\n",
       "    </tr>\n",
       "    <tr>\n",
       "      <th>3</th>\n",
       "      <td>60.182599</td>\n",
       "      <td>86.308552</td>\n",
       "      <td>1</td>\n",
       "    </tr>\n",
       "    <tr>\n",
       "      <th>4</th>\n",
       "      <td>79.032736</td>\n",
       "      <td>75.344376</td>\n",
       "      <td>1</td>\n",
       "    </tr>\n",
       "    <tr>\n",
       "      <th>...</th>\n",
       "      <td>...</td>\n",
       "      <td>...</td>\n",
       "      <td>...</td>\n",
       "    </tr>\n",
       "    <tr>\n",
       "      <th>95</th>\n",
       "      <td>83.489163</td>\n",
       "      <td>48.380286</td>\n",
       "      <td>1</td>\n",
       "    </tr>\n",
       "    <tr>\n",
       "      <th>96</th>\n",
       "      <td>42.261701</td>\n",
       "      <td>87.103851</td>\n",
       "      <td>1</td>\n",
       "    </tr>\n",
       "    <tr>\n",
       "      <th>97</th>\n",
       "      <td>99.315009</td>\n",
       "      <td>68.775409</td>\n",
       "      <td>1</td>\n",
       "    </tr>\n",
       "    <tr>\n",
       "      <th>98</th>\n",
       "      <td>55.340018</td>\n",
       "      <td>64.931938</td>\n",
       "      <td>1</td>\n",
       "    </tr>\n",
       "    <tr>\n",
       "      <th>99</th>\n",
       "      <td>74.775893</td>\n",
       "      <td>89.529813</td>\n",
       "      <td>1</td>\n",
       "    </tr>\n",
       "  </tbody>\n",
       "</table>\n",
       "<p>100 rows × 3 columns</p>\n",
       "</div>"
      ],
      "text/plain": [
       "           X1         X2  y\n",
       "0   34.623660  78.024693  0\n",
       "1   30.286711  43.894998  0\n",
       "2   35.847409  72.902198  0\n",
       "3   60.182599  86.308552  1\n",
       "4   79.032736  75.344376  1\n",
       "..        ...        ... ..\n",
       "95  83.489163  48.380286  1\n",
       "96  42.261701  87.103851  1\n",
       "97  99.315009  68.775409  1\n",
       "98  55.340018  64.931938  1\n",
       "99  74.775893  89.529813  1\n",
       "\n",
       "[100 rows x 3 columns]"
      ]
     },
     "execution_count": 4,
     "metadata": {},
     "output_type": "execute_result"
    }
   ],
   "source": [
    "dt"
   ]
  },
  {
   "cell_type": "code",
   "execution_count": 5,
   "metadata": {},
   "outputs": [],
   "source": [
    "recu = dt['y']== 1"
   ]
  },
  {
   "cell_type": "code",
   "execution_count": 6,
   "metadata": {},
   "outputs": [],
   "source": [
    "echec = ~recu"
   ]
  },
  {
   "cell_type": "markdown",
   "metadata": {},
   "source": [
    "### Visualisation"
   ]
  },
  {
   "cell_type": "code",
   "execution_count": 7,
   "metadata": {},
   "outputs": [
    {
     "data": {
      "text/plain": [
       "Text(0, 0.5, 'note 2')"
      ]
     },
     "execution_count": 7,
     "metadata": {},
     "output_type": "execute_result"
    },
    {
     "data": {
      "image/png": "[encoded data removed]",
      "text/plain": [
       "<Figure size 432x288 with 1 Axes>"
      ]
     },
     "metadata": {
      "needs_background": "light"
     },
     "output_type": "display_data"
    }
   ],
   "source": [
    "plt.scatter(dt['X1'][recu],dt['X2'][recu], marker='+' )\n",
    "plt.scatter(dt['X1'][echec],dt['X2'][echec], marker='o' , color ='r' )\n",
    "plt.legend(['recu', 'echec'])\n",
    "plt.xlabel('note 1')\n",
    "plt.ylabel('note 2')"
   ]
  },
  {
   "cell_type": "code",
   "execution_count": 8,
   "metadata": {},
   "outputs": [],
   "source": [
    "X = dt[['X1','X2']].to_numpy()\n",
    "y = dt['y'].to_numpy()"
   ]
  },
  {
   "cell_type": "code",
   "execution_count": 9,
   "metadata": {},
   "outputs": [],
   "source": [
    "from sklearn.linear_model import LogisticRegression\n",
    "from sklearn.model_selection import train_test_split\n"
   ]
  },
  {
   "cell_type": "markdown",
   "metadata": {},
   "source": [
    "### Division des données en deux lots : entrainement et test"
   ]
  },
  {
   "cell_type": "code",
   "execution_count": 10,
   "metadata": {},
   "outputs": [],
   "source": [
    "X_train, X_test, y_train, y_test = train_test_split(X, y, test_size= 0.4)"
   ]
  },
  {
   "cell_type": "markdown",
   "metadata": {},
   "source": [
    "## Utilisation du module LogisticRegression\n",
    "\n",
    "LogisticRegression(solver='XXXX',  random_state=0).fit(X_train, y_train)\n",
    "\n",
    "\n",
    "###  il est possible de jouer sur le parametre solver :  c'est le modèle pour trouver l'optimum \n",
    "valeur possible: newton-cg, lbfgs, liblinear, sag, saga  => default=lbfgs"
   ]
  },
  {
   "cell_type": "markdown",
   "metadata": {},
   "source": [
    "## Test avec le moteur par default  'lbfgs'"
   ]
  },
  {
   "cell_type": "code",
   "execution_count": 28,
   "metadata": {},
   "outputs": [],
   "source": [
    "clf = LogisticRegression(random_state= 0, solver= 'lbfgs').fit(X_train, y_train)\n",
    "# random_state permet de reproduire à l'identique des composants 'random'\n"
   ]
  },
  {
   "cell_type": "code",
   "execution_count": 29,
   "metadata": {},
   "outputs": [
    {
     "name": "stdout",
     "output_type": "stream",
     "text": [
      "0.8\n"
     ]
    }
   ],
   "source": [
    "print(clf.score(X_test, y_test))\n",
    "#  C est une methode propre au solver"
   ]
  },
  {
   "cell_type": "markdown",
   "metadata": {},
   "source": [
    "### Visualisation du resultat 'recu' en haut et 'echec' en bas."
   ]
  },
  {
   "cell_type": "code",
   "execution_count": 30,
   "metadata": {},
   "outputs": [
    {
     "data": {
      "text/plain": [
       "Text(0, 0.5, 'sortie binaire')"
      ]
     },
     "execution_count": 30,
     "metadata": {},
     "output_type": "execute_result"
    },
    {
     "data": {
      "image/png": "[encoded data removed]",
      "text/plain": [
       "<Figure size 432x288 with 1 Axes>"
      ]
     },
     "metadata": {
      "needs_background": "light"
     },
     "output_type": "display_data"
    }
   ],
   "source": [
    "y_pred = clf.predict(X)\n",
    "plt.scatter(X[:,0], y_pred, color=\"red\", marker = '*')\n",
    "plt.scatter(X[:,1], y_pred, color=\"y\", marker = '*')\n",
    "plt.legend(['note 1', 'note 2'])\n",
    "plt.xlabel('note')\n",
    "plt.ylabel('sortie binaire')\n"
   ]
  },
  {
   "cell_type": "code",
   "execution_count": 31,
   "metadata": {
    "scrolled": true
   },
   "outputs": [],
   "source": [
    "from sklearn.metrics  import confusion_matrix\n",
    "y_pred_test = clf.predict(X_test)\n",
    "conf = pd.DataFrame(confusion_matrix(y_test, y_pred_test, labels =[0, 1]))\n"
   ]
  },
  {
   "cell_type": "markdown",
   "metadata": {},
   "source": [
    "###  Matrice de confusion\n",
    "### Lecture:  0: echec , 1 admis \n",
    "\n",
    "ligne  : les observations\n",
    "\n",
    "colonne : le predictif\n",
    "\n",
    "Lecture en diagonale : en haut à gauche = > les cas vrais negatifs et vrais positifs:\n",
    "\n",
    "Lecture en diagonale : en haut à droite = > les cas faux positifs et faux negatifs:\n",
    "\n",
    "    "
   ]
  },
  {
   "cell_type": "code",
   "execution_count": 32,
   "metadata": {},
   "outputs": [
    {
     "name": "stdout",
     "output_type": "stream",
     "text": [
      "14\n",
      "26\n",
      "20\n",
      "20\n"
     ]
    }
   ],
   "source": [
    "echec_test = y_test == 0\n",
    "print(len(y_test[echec_test]))\n",
    "print(len(y_test[~echec_test]))\n",
    "\n",
    "echec_pred = y_pred_test == 0\n",
    "\n",
    "print(len(y_pred_test[echec_pred]))\n",
    "print(len(y_pred_test[~echec_pred]))"
   ]
  },
  {
   "cell_type": "code",
   "execution_count": 33,
   "metadata": {},
   "outputs": [
    {
     "name": "stdout",
     "output_type": "stream",
     "text": [
      "    0   1\n",
      "0  13   1\n",
      "1   7  19\n"
     ]
    }
   ],
   "source": [
    "print(conf)"
   ]
  },
  {
   "cell_type": "markdown",
   "metadata": {},
   "source": [
    "### La  precision reflete la qualité , le recall la quantité, le f1 est une moyenne "
   ]
  },
  {
   "cell_type": "code",
   "execution_count": 34,
   "metadata": {},
   "outputs": [
    {
     "name": "stdout",
     "output_type": "stream",
     "text": [
      "              precision    recall  f1-score   support\n",
      "\n",
      "       echec       0.65      0.93      0.76        14\n",
      "        recu       0.95      0.73      0.83        26\n",
      "\n",
      "    accuracy                           0.80        40\n",
      "   macro avg       0.80      0.83      0.80        40\n",
      "weighted avg       0.84      0.80      0.80        40\n",
      "\n"
     ]
    }
   ],
   "source": [
    "from sklearn.metrics import classification_report\n",
    "print(classification_report(y_test, y_pred_test, target_names=['echec', 'recu']))"
   ]
  },
  {
   "cell_type": "code",
   "execution_count": 35,
   "metadata": {},
   "outputs": [
    {
     "name": "stdout",
     "output_type": "stream",
     "text": [
      "0.88\n",
      "0.85\n"
     ]
    }
   ],
   "source": [
    "from sklearn.metrics  import accuracy_score,recall_score\n",
    "print(accuracy_score(y, y_pred))\n",
    "print(recall_score(y, y_pred))\n"
   ]
  },
  {
   "cell_type": "code",
   "execution_count": 36,
   "metadata": {},
   "outputs": [
    {
     "name": "stdout",
     "output_type": "stream",
     "text": [
      "[[0.29779645 0.25263474]] [-35.23208946]\n"
     ]
    }
   ],
   "source": [
    "print(clf.coef_, clf.intercept_)"
   ]
  },
  {
   "cell_type": "markdown",
   "metadata": {},
   "source": [
    "### On prepare une suite continue de note de 0 à 100\n",
    "\n",
    "### On calcule ensuite la probabilité obtenue en appliquant une fonction sigmoid sur une regression linéaire"
   ]
  },
  {
   "cell_type": "code",
   "execution_count": 37,
   "metadata": {},
   "outputs": [],
   "source": [
    "from scipy.special import expit\n",
    "Xlin = np.empty([100, 2])\n",
    "Xlin[:,0] = np.linspace(0, 100, 100)\n",
    "Xlin[:,1] = np.linspace(0, 100, 100)\n",
    "               \n",
    "ylin_pred = [expit(Xitem @ clf.coef_.T + clf.intercept_) for Xitem in Xlin]\n",
    "#print(ylin_pred)"
   ]
  },
  {
   "cell_type": "markdown",
   "metadata": {},
   "source": [
    "### Expliquer la dernière ligne  avec  l'opérateur '@'."
   ]
  },
  {
   "cell_type": "code",
   "execution_count": 38,
   "metadata": {},
   "outputs": [
    {
     "data": {
      "text/plain": [
       "<matplotlib.legend.Legend at 0x224faf01d30>"
      ]
     },
     "execution_count": 38,
     "metadata": {},
     "output_type": "execute_result"
    },
    {
     "data": {
      "image/png": "[encoded data removed]",
      "text/plain": [
       "<Figure size 432x288 with 1 Axes>"
      ]
     },
     "metadata": {
      "needs_background": "light"
     },
     "output_type": "display_data"
    }
   ],
   "source": [
    "plt.plot(Xlin[:,0], ylin_pred, color=\"b\")\n",
    "y_pred = clf.predict(X)\n",
    "plt.scatter(X[:,0], y_pred, color=\"red\", marker = '*')\n",
    "plt.scatter(dt['X1'][recu],dt['y'][recu], marker='+' )\n",
    "plt.scatter(dt['X1'][echec],dt['y'][echec], marker='+' ,color ='y' )\n",
    "plt.axhline(0.5, color=\".5\")\n",
    "plt.legend(['sigmoid','valeur pivot', 'notes 1', 'notes 2'])"
   ]
  },
  {
   "cell_type": "markdown",
   "metadata": {},
   "source": [
    "### Calculer le score pour la fonction sigmoid \n",
    "\n",
    "(astuce: convertir la probabilité en 0 ou 1  en fonction de la valeur 0.5 des y)"
   ]
  },
  {
   "cell_type": "code",
   "execution_count": 39,
   "metadata": {
    "scrolled": true
   },
   "outputs": [
    {
     "name": "stdout",
     "output_type": "stream",
     "text": [
      "(40, 1)\n",
      "[array([0.83728037]), array([0.00236488]), array([0.00046426]), array([0.99999537]), array([0.25852973]), array([0.99977211]), array([0.0054345]), array([0.9513011]), array([0.98921782]), array([0.99999154]), array([5.98683025e-05]), array([0.00021303]), array([0.99999947]), array([0.77528368]), array([0.51334466]), array([0.01594032]), array([0.9996955]), array([0.99993585]), array([0.00580947]), array([0.34496492]), array([0.99549585]), array([0.00151695]), array([0.81104307]), array([0.99995848]), array([0.0582368]), array([0.20764642]), array([0.97213459]), array([0.492941]), array([0.08722763]), array([2.70386494e-07]), array([0.03897321]), array([0.04104281]), array([0.00569848]), array([0.81076948]), array([0.00511607]), array([0.10047119]), array([0.9999869]), array([0.99999986]), array([0.99999186]), array([0.999999])]\n",
      "[1, 0, 0, 1, 0, 1, 0, 1, 1, 1, 0, 0, 1, 1, 1, 0, 1, 1, 0, 0, 1, 0, 1, 1, 0, 0, 1, 0, 0, 0, 0, 0, 0, 1, 0, 0, 1, 1, 1, 1]\n"
     ]
    }
   ],
   "source": [
    "ylin_pred = [expit(Xitem @ clf.coef_.T + clf.intercept_) for Xitem in X_test]\n",
    "ysig = np.ones((len(ylin_pred),1))\n",
    "print(ysig.shape)\n",
    "print(ylin_pred)\n",
    "ysig= [0 if x < 0.5 else 1 for x in ylin_pred]               \n",
    "print(ysig)"
   ]
  },
  {
   "cell_type": "code",
   "execution_count": 40,
   "metadata": {},
   "outputs": [
    {
     "name": "stdout",
     "output_type": "stream",
     "text": [
      "    0   1\n",
      "0  13   1\n",
      "1   7  19\n",
      "              precision    recall  f1-score   support\n",
      "\n",
      "       echec       0.65      0.93      0.76        14\n",
      "        recu       0.95      0.73      0.83        26\n",
      "\n",
      "    accuracy                           0.80        40\n",
      "   macro avg       0.80      0.83      0.80        40\n",
      "weighted avg       0.84      0.80      0.80        40\n",
      "\n"
     ]
    }
   ],
   "source": [
    "conf2 = pd.DataFrame(confusion_matrix(y_test, ysig, labels =[0, 1]))\n",
    "print(conf2)\n",
    "print(classification_report(y_test, ysig, target_names=['echec', 'recu']))"
   ]
  },
  {
   "cell_type": "markdown",
   "metadata": {},
   "source": [
    "### Que peut on en conclure ?"
   ]
  },
  {
   "cell_type": "markdown",
   "metadata": {},
   "source": [
    "### La validation croisée\n",
    "\n",
    "Le principe est de déplacer l'emplagement de collecte des données de test "
   ]
  },
  {
   "cell_type": "code",
   "execution_count": 41,
   "metadata": {},
   "outputs": [],
   "source": [
    "from sklearn.model_selection import cross_val_score\n",
    "scores  = cross_val_score(clf, X_train, y_train, scoring='neg_mean_squared_error', cv =4 )"
   ]
  },
  {
   "cell_type": "markdown",
   "metadata": {},
   "source": [
    "### Pour avoir des ordres de comparaison utiles, on utilisera l'inverse de la MSE (mean square error) \n",
    "#### Apres validation , il faudra inverser le résultat.\n",
    "#### Mesures à retenir: la moyenne et l'ecart type.\n"
   ]
  },
  {
   "cell_type": "code",
   "execution_count": 42,
   "metadata": {},
   "outputs": [
    {
     "name": "stdout",
     "output_type": "stream",
     "text": [
      "[0.         0.25819889 0.4472136  0.36514837]\n",
      "0.26764021422930745\n",
      "0.16843015088543503\n"
     ]
    }
   ],
   "source": [
    "scores = np.sqrt(-scores) \n",
    "print(scores)\n",
    "\n",
    "print(scores.mean())\n",
    "print(scores.std())"
   ]
  },
  {
   "cell_type": "markdown",
   "metadata": {},
   "source": [
    "### Refaire les essais avec un solver different  et comparer les résultats avec une validation croisée."
   ]
  },
  {
   "cell_type": "code",
   "execution_count": 43,
   "metadata": {},
   "outputs": [],
   "source": [
    "clf2 = LogisticRegression(random_state= 0, solver = 'lbfgs').fit(X_train, y_train)"
   ]
  },
  {
   "cell_type": "code",
   "execution_count": 44,
   "metadata": {},
   "outputs": [
    {
     "name": "stdout",
     "output_type": "stream",
     "text": [
      "0.8\n"
     ]
    }
   ],
   "source": [
    "print(clf2.score(X_test, y_test))"
   ]
  },
  {
   "cell_type": "code",
   "execution_count": 45,
   "metadata": {},
   "outputs": [],
   "source": [
    "y_pred_test = clf2.predict(X_test)\n",
    "conf = pd.DataFrame(confusion_matrix(y_test, y_pred_test, labels =[0, 1]))\n"
   ]
  },
  {
   "cell_type": "code",
   "execution_count": 46,
   "metadata": {},
   "outputs": [
    {
     "name": "stdout",
     "output_type": "stream",
     "text": [
      "    0   1\n",
      "0  13   1\n",
      "1   7  19\n"
     ]
    }
   ],
   "source": [
    "print(conf)"
   ]
  },
  {
   "cell_type": "code",
   "execution_count": 47,
   "metadata": {},
   "outputs": [
    {
     "name": "stdout",
     "output_type": "stream",
     "text": [
      "              precision    recall  f1-score   support\n",
      "\n",
      "       echec       0.65      0.93      0.76        14\n",
      "        recu       0.95      0.73      0.83        26\n",
      "\n",
      "    accuracy                           0.80        40\n",
      "   macro avg       0.80      0.83      0.80        40\n",
      "weighted avg       0.84      0.80      0.80        40\n",
      "\n"
     ]
    }
   ],
   "source": [
    "print(classification_report(y_test, y_pred_test, target_names=['echec', 'recu']))"
   ]
  },
  {
   "cell_type": "code",
   "execution_count": 48,
   "metadata": {},
   "outputs": [],
   "source": [
    "scores  = cross_val_score(clf2, X_train, y_train, scoring='neg_mean_squared_error', cv =4 )"
   ]
  },
  {
   "cell_type": "code",
   "execution_count": 49,
   "metadata": {},
   "outputs": [
    {
     "name": "stdout",
     "output_type": "stream",
     "text": [
      "[0.         0.25819889 0.4472136  0.36514837]\n",
      "0.26764021422930745\n",
      "0.16843015088543503\n"
     ]
    }
   ],
   "source": [
    "scores = np.sqrt(-scores) \n",
    "print(scores)\n",
    "\n",
    "print(scores.mean())\n",
    "print(scores.std())"
   ]
  },
  {
   "cell_type": "markdown",
   "metadata": {},
   "source": [
    "### Calcul de deux points de la droite: \n"
   ]
  },
  {
   "cell_type": "code",
   "execution_count": 50,
   "metadata": {},
   "outputs": [
    {
     "name": "stdout",
     "output_type": "stream",
     "text": [
      "[28.05882244669796, 101.82785779692128]\n"
     ]
    }
   ],
   "source": [
    "plox = [min(dt['X1']) -2, max(dt['X1']) +2]\n",
    "print(plox)"
   ]
  },
  {
   "cell_type": "code",
   "execution_count": 51,
   "metadata": {},
   "outputs": [
    {
     "name": "stdout",
     "output_type": "stream",
     "text": [
      "[[0.29779645 0.25263474]]\n"
     ]
    }
   ],
   "source": [
    "print(clf.coef_)\n",
    "\n",
    "t1_ploty = (-1/clf.coef_[0, 1])*(clf.coef_[0,0]* plox[0] + clf.intercept_)\n",
    "t2_ploty =  (-1/clf.coef_[0, 1])*(clf.coef_[0,0]* plox[1] + clf.intercept_)\n",
    "yb = [t1_ploty, t2_ploty]\n"
   ]
  },
  {
   "cell_type": "code",
   "execution_count": 52,
   "metadata": {},
   "outputs": [
    {
     "data": {
      "text/plain": [
       "Text(0, 0.5, 'note 2')"
      ]
     },
     "execution_count": 52,
     "metadata": {},
     "output_type": "execute_result"
    },
    {
     "data": {
      "image/png": "[encoded data removed]",
      "text/plain": [
       "<Figure size 432x288 with 1 Axes>"
      ]
     },
     "metadata": {
      "needs_background": "light"
     },
     "output_type": "display_data"
    }
   ],
   "source": [
    "plt.scatter(dt['X1'][recu],dt['X2'][recu], marker='+' )\n",
    "plt.scatter(dt['X1'][echec],dt['X2'][echec], marker='o' , color ='r' )\n",
    "plt.plot(plox,yb )\n",
    "plt.legend(['recu', 'echec'])\n",
    "plt.xlabel('note 1')\n",
    "plt.ylabel('note 2')\n"
   ]
  },
  {
   "cell_type": "code",
   "execution_count": 54,
   "metadata": {},
   "outputs": [],
   "source": [
    "y_scores = clf.decision_function(X_test)"
   ]
  },
  {
   "cell_type": "code",
   "execution_count": 55,
   "metadata": {},
   "outputs": [
    {
     "name": "stdout",
     "output_type": "stream",
     "text": [
      "[  1.63813034  -6.04466074  -7.67459273  12.28193869  -1.05362435\n",
      "   8.38639901  -5.20953839   2.97217427   4.51901961  11.68053852\n",
      "  -9.7233035   -8.45384396  14.44339967   1.23839017   0.05339132\n",
      "  -4.12283491   8.0965416    9.65424707  -5.14243937  -0.64124608\n",
      "   5.39824253  -6.48953853   1.45680204  10.0892822   -2.78323632\n",
      "  -1.33917097   3.55210808  -0.02823789  -2.34796538 -15.12341317\n",
      "  -3.20512777  -3.15123076  -5.16184103   1.45501784  -5.27023971\n",
      "  -2.19200006  11.24325908  15.7944065   11.71862515  13.81092876]\n"
     ]
    }
   ],
   "source": [
    "print(y_scores)"
   ]
  },
  {
   "cell_type": "markdown",
   "metadata": {},
   "source": [
    "### Precision vs recall "
   ]
  },
  {
   "cell_type": "code",
   "execution_count": 80,
   "metadata": {},
   "outputs": [],
   "source": [
    "from sklearn.model_selection import cross_val_predict\n",
    "y_scores2 =  cross_val_predict(clf, X_train, y_train, method=\"decision_function\", cv =4)"
   ]
  },
  {
   "cell_type": "code",
   "execution_count": 83,
   "metadata": {},
   "outputs": [],
   "source": [
    "from sklearn.metrics import precision_recall_curve\n",
    "precisions, recalls, thresholds = precision_recall_curve(y_train, y_scores2)"
   ]
  },
  {
   "cell_type": "code",
   "execution_count": 84,
   "metadata": {
    "scrolled": true
   },
   "outputs": [
    {
     "data": {
      "text/plain": [
       "<matplotlib.legend.Legend at 0x224fe18da60>"
      ]
     },
     "execution_count": 84,
     "metadata": {},
     "output_type": "execute_result"
    },
    {
     "data": {
      "image/png": "[encoded data removed]",
      "text/plain": [
       "<Figure size 432x288 with 1 Axes>"
      ]
     },
     "metadata": {
      "needs_background": "light"
     },
     "output_type": "display_data"
    }
   ],
   "source": [
    "plt.plot(thresholds, precisions[:-1],\"b--\", label=\"precision\")\n",
    "plt.plot(thresholds, recalls[:-1],\"g-\", label=\"rappel\")\n",
    "plt.legend()"
   ]
  },
  {
   "cell_type": "markdown",
   "metadata": {},
   "source": [
    "### Courbe ROC"
   ]
  },
  {
   "cell_type": "code",
   "execution_count": 85,
   "metadata": {},
   "outputs": [],
   "source": [
    "from sklearn.metrics import roc_curve\n",
    "fpr, tpr , seuil = roc_curve(y_train, y_scores2)\n"
   ]
  },
  {
   "cell_type": "code",
   "execution_count": 95,
   "metadata": {},
   "outputs": [
    {
     "data": {
      "text/plain": [
       "[<matplotlib.lines.Line2D at 0x224fecdb760>]"
      ]
     },
     "execution_count": 95,
     "metadata": {},
     "output_type": "execute_result"
    },
    {
     "data": {
      "image/png": "[encoded data removed]",
      "text/plain": [
       "<Figure size 432x288 with 1 Axes>"
      ]
     },
     "metadata": {
      "needs_background": "light"
     },
     "output_type": "display_data"
    }
   ],
   "source": [
    "plt.plot(fpr, tpr, linewidth =5)"
   ]
  },
  {
   "cell_type": "markdown",
   "metadata": {},
   "source": [
    "### Calcul de l'aire sous la courbe ROC"
   ]
  },
  {
   "cell_type": "code",
   "execution_count": 87,
   "metadata": {},
   "outputs": [
    {
     "name": "stdout",
     "output_type": "stream",
     "text": [
      "0.9513574660633484\n"
     ]
    }
   ],
   "source": [
    "from sklearn.metrics import roc_auc_score\n",
    "print(roc_auc_score(y_train, y_scores2))"
   ]
  },
  {
   "cell_type": "markdown",
   "metadata": {},
   "source": [
    "### Calcul de la probabilité"
   ]
  },
  {
   "cell_type": "code",
   "execution_count": 114,
   "metadata": {},
   "outputs": [],
   "source": [
    "y_proba = clf.predict_proba( X_test)\n",
    "y_pred   =clf.predict( X_test)"
   ]
  },
  {
   "cell_type": "code",
   "execution_count": 115,
   "metadata": {},
   "outputs": [
    {
     "name": "stdout",
     "output_type": "stream",
     "text": [
      "0.84  %%  1\n",
      "0.00  %%  0\n",
      "0.00  %%  0\n",
      "1.00  %%  1\n",
      "0.26  %%  0\n",
      "1.00  %%  1\n",
      "0.01  %%  0\n",
      "0.95  %%  1\n",
      "0.99  %%  1\n",
      "1.00  %%  1\n",
      "0.00  %%  0\n",
      "0.00  %%  0\n",
      "1.00  %%  1\n",
      "0.78  %%  1\n",
      "0.51  %%  1\n",
      "0.02  %%  0\n",
      "1.00  %%  1\n",
      "1.00  %%  1\n",
      "0.01  %%  0\n",
      "0.34  %%  0\n",
      "1.00  %%  1\n",
      "0.00  %%  0\n",
      "0.81  %%  1\n",
      "1.00  %%  1\n",
      "0.06  %%  0\n",
      "0.21  %%  0\n",
      "0.97  %%  1\n",
      "0.49  %%  0\n",
      "0.09  %%  0\n",
      "0.00  %%  0\n",
      "0.04  %%  0\n",
      "0.04  %%  0\n",
      "0.01  %%  0\n",
      "0.81  %%  1\n",
      "0.01  %%  0\n",
      "0.10  %%  0\n",
      "1.00  %%  1\n",
      "1.00  %%  1\n",
      "1.00  %%  1\n",
      "1.00  %%  1\n"
     ]
    }
   ],
   "source": [
    "for cp, (itemn, itemp) in enumerate(y_proba):\n",
    "    print(f\"{itemp:.2f}  %%  {y_pred[cp]}\")"
   ]
  },
  {
   "cell_type": "code",
   "execution_count": null,
   "metadata": {},
   "outputs": [],
   "source": []
  }
 ],
 "metadata": {
  "kernelspec": {
   "display_name": "Python 3 (ipykernel)",
   "language": "python",
   "name": "python3"
  },
  "language_info": {
   "codemirror_mode": {
    "name": "ipython",
    "version": 3
   },
   "file_extension": ".py",
   "mimetype": "text/x-python",
   "name": "python",
   "nbconvert_exporter": "python",
   "pygments_lexer": "ipython3",
   "version": "3.9.12"
  }
 },
 "nbformat": 4,
 "nbformat_minor": 2
}
