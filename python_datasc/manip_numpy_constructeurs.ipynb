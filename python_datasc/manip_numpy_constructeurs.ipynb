{
 "cells": [
  {
   "cell_type": "code",
   "execution_count": 1,
   "metadata": {},
   "outputs": [],
   "source": [
    "import numpy as np"
   ]
  },
  {
   "cell_type": "code",
   "execution_count": 2,
   "metadata": {},
   "outputs": [],
   "source": [
    "matr = np.empty((3, 6))"
   ]
  },
  {
   "cell_type": "code",
   "execution_count": 3,
   "metadata": {},
   "outputs": [
    {
     "data": {
      "text/plain": [
       "array([[6.23042070e-307, 4.67296746e-307, 1.69121096e-306,\n",
       "        1.22383391e-307, 7.56587584e-307, 1.37961302e-306],\n",
       "       [1.05699242e-307, 8.01097889e-307, 1.78020169e-306,\n",
       "        7.56601165e-307, 1.02359984e-306, 1.33510679e-306],\n",
       "       [2.22522597e-306, 1.24611674e-306, 1.29061821e-306,\n",
       "        6.23057349e-307, 1.29062025e-306, 8.34445562e-308]])"
      ]
     },
     "execution_count": 3,
     "metadata": {},
     "output_type": "execute_result"
    }
   ],
   "source": [
    "matr"
   ]
  },
  {
   "cell_type": "markdown",
   "metadata": {},
   "source": [
    "### Constructeurs"
   ]
  },
  {
   "cell_type": "code",
   "execution_count": 4,
   "metadata": {},
   "outputs": [
    {
     "name": "stdout",
     "output_type": "stream",
     "text": [
      "a partir d une liste de liste [[1, 2], [3, 4], [5, 6]]\n",
      "[[1 2]\n",
      " [3 4]\n",
      " [5 6]]\n",
      "a partir d un tuple de liste ([1, 2], [3, 4], [5, 6])\n",
      "[[1 2]\n",
      " [3 4]\n",
      " [5 6]]\n",
      "a partir d un tuple de tuple ((1, 2), (3, 4), (5, 6))\n",
      "[[1 2]\n",
      " [3 4]\n",
      " [5 6]]\n"
     ]
    }
   ],
   "source": [
    "# a partir d'un iterable (liste, tuple )\n",
    "liste = [[1, 2], [3, 4], [5, 6]]\n",
    "matr = np.array(liste)\n",
    "\n",
    "print('a partir d une liste de liste',liste )\n",
    "print(matr)\n",
    "tup = tuple(liste)\n",
    "matr = np.array(tup)\n",
    "print('a partir d un tuple de liste', tup)\n",
    "print(matr)\n",
    "tup_2 = ()\n",
    "for item in tup:\n",
    "        tup_2 = tup_2 + (tuple(item),)\n",
    "matr = np.array(tup_2)\n",
    "print('a partir d un tuple de tuple', tup_2)\n",
    "print(matr)\n"
   ]
  },
  {
   "cell_type": "markdown",
   "metadata": {},
   "source": [
    "## On peut préciser le type"
   ]
  },
  {
   "cell_type": "code",
   "execution_count": 5,
   "metadata": {
    "scrolled": true
   },
   "outputs": [
    {
     "name": "stdout",
     "output_type": "stream",
     "text": [
      "[[1. 2.]\n",
      " [3. 4.]\n",
      " [5. 6.]]\n"
     ]
    }
   ],
   "source": [
    "matr = np.array([[1, 2], [3, 4], [5, 6]], dtype= float)\n",
    "print(matr)"
   ]
  },
  {
   "cell_type": "markdown",
   "metadata": {},
   "source": [
    "## Numpy propose ses propres types  (usages occasionnels)"
   ]
  },
  {
   "cell_type": "code",
   "execution_count": 6,
   "metadata": {},
   "outputs": [
    {
     "name": "stdout",
     "output_type": "stream",
     "text": [
      "int32\n"
     ]
    }
   ],
   "source": [
    "matr = np.array([[1, 2], [3, 4], [5, 6]], dtype= np.int32)\n",
    "print(matr.dtype)"
   ]
  },
  {
   "cell_type": "code",
   "execution_count": 7,
   "metadata": {},
   "outputs": [
    {
     "data": {
      "text/plain": [
       "dtype('int32')"
      ]
     },
     "execution_count": 7,
     "metadata": {},
     "output_type": "execute_result"
    }
   ],
   "source": [
    "matr.dtype"
   ]
  },
  {
   "cell_type": "markdown",
   "metadata": {},
   "source": [
    "### Constructeurs divers"
   ]
  },
  {
   "cell_type": "code",
   "execution_count": 8,
   "metadata": {},
   "outputs": [
    {
     "name": "stdout",
     "output_type": "stream",
     "text": [
      "[[4.67296746e-307 1.69121096e-306 1.22383391e-307 8.34441742e-308\n",
      "  1.78022342e-306]\n",
      " [6.23058028e-307 9.79107872e-307 6.89807188e-307 7.56594375e-307\n",
      "  6.23060065e-307]\n",
      " [1.78021527e-306 8.34454050e-308 1.11261027e-306 2.04712907e-306\n",
      "  3.49698923e-317]]\n"
     ]
    }
   ],
   "source": [
    "# matrice  vide (attention c est un piege)\n",
    "matr = np.empty([3,5], dtype= float)\n",
    "print(matr)"
   ]
  },
  {
   "cell_type": "code",
   "execution_count": 9,
   "metadata": {},
   "outputs": [
    {
     "name": "stdout",
     "output_type": "stream",
     "text": [
      "[[1. 1. 1. 1. 1.]\n",
      " [1. 1. 1. 1. 1.]\n",
      " [1. 1. 1. 1. 1.]]\n"
     ]
    }
   ],
   "source": [
    "# matrice de '1'\n",
    "matr = np.ones((3,5))\n",
    "print(matr)"
   ]
  },
  {
   "cell_type": "code",
   "execution_count": 10,
   "metadata": {},
   "outputs": [
    {
     "name": "stdout",
     "output_type": "stream",
     "text": [
      "[[0. 0. 0. 0. 0.]\n",
      " [0. 0. 0. 0. 0.]\n",
      " [0. 0. 0. 0. 0.]]\n"
     ]
    }
   ],
   "source": [
    "# matrice de '0'\n",
    "matr = np.zeros([3,5])\n",
    "print(matr)"
   ]
  },
  {
   "cell_type": "code",
   "execution_count": 11,
   "metadata": {},
   "outputs": [
    {
     "name": "stdout",
     "output_type": "stream",
     "text": [
      "[[1. 0. 0. 0. 0.]\n",
      " [0. 1. 0. 0. 0.]\n",
      " [0. 0. 1. 0. 0.]]\n"
     ]
    }
   ],
   "source": [
    "# matrice de 'oeil'\n",
    "matr = np.eye(3,5) # attention au nombre de parenthèse\n",
    "print(matr)"
   ]
  },
  {
   "cell_type": "markdown",
   "metadata": {},
   "source": [
    "#### Relancer la cellule  8"
   ]
  },
  {
   "cell_type": "code",
   "execution_count": 12,
   "metadata": {},
   "outputs": [
    {
     "name": "stdout",
     "output_type": "stream",
     "text": [
      "[[3.14 3.14 3.14 3.14 3.14]\n",
      " [3.14 3.14 3.14 3.14 3.14]\n",
      " [3.14 3.14 3.14 3.14 3.14]]\n"
     ]
    }
   ],
   "source": [
    "# Matrice remplie avec un nombre :\n",
    "matr = np.full((3,5), 3.14 )\n",
    "print(matr)"
   ]
  },
  {
   "cell_type": "code",
   "execution_count": 13,
   "metadata": {
    "scrolled": true
   },
   "outputs": [
    {
     "name": "stdout",
     "output_type": "stream",
     "text": [
      "[[ 4  5 10  2  2]\n",
      " [ 5  3  7  2  5]\n",
      " [ 2 10  9  6  4]]\n"
     ]
    }
   ],
   "source": [
    "# Matrice aléatoire : entier, flottant , normale ..\n",
    "matr = np.random.randint( 1,11, size = (3, 5))\n",
    "print(matr)"
   ]
  },
  {
   "cell_type": "markdown",
   "metadata": {},
   "source": [
    "# Certaines methode demandent en paramètre la taille (forme)  de la matrice \n",
    "####  ==> un tuple  ou une liste (N , M etc..)"
   ]
  },
  {
   "cell_type": "code",
   "execution_count": 14,
   "metadata": {},
   "outputs": [
    {
     "name": "stdout",
     "output_type": "stream",
     "text": [
      "(3, 5)\n"
     ]
    }
   ],
   "source": [
    "print(matr.shape)"
   ]
  },
  {
   "cell_type": "code",
   "execution_count": 15,
   "metadata": {},
   "outputs": [
    {
     "name": "stdout",
     "output_type": "stream",
     "text": [
      "[[ 4  5 10  2  2]\n",
      " [ 5  3  7  2  5]\n",
      " [ 2 10  9  6  4]]\n"
     ]
    }
   ],
   "source": [
    "matr.reshape(5,3)\n",
    "print(matr) # pas de modification de l'objet !!\n"
   ]
  },
  {
   "cell_type": "code",
   "execution_count": 21,
   "metadata": {},
   "outputs": [
    {
     "ename": "ValueError",
     "evalue": "cannot reshape array of size 15 into shape (5,2)",
     "output_type": "error",
     "traceback": [
      "\u001b[1;31m---------------------------------------------------------------------------\u001b[0m",
      "\u001b[1;31mValueError\u001b[0m                                Traceback (most recent call last)",
      "\u001b[1;32m<ipython-input-21-49d4508bee4d>\u001b[0m in \u001b[0;36m<module>\u001b[1;34m\u001b[0m\n\u001b[1;32m----> 1\u001b[1;33m \u001b[0mmatr\u001b[0m\u001b[1;33m.\u001b[0m\u001b[0mreshape\u001b[0m\u001b[1;33m(\u001b[0m\u001b[1;36m5\u001b[0m\u001b[1;33m,\u001b[0m\u001b[1;36m2\u001b[0m\u001b[1;33m)\u001b[0m\u001b[1;33m\u001b[0m\u001b[1;33m\u001b[0m\u001b[0m\n\u001b[0m",
      "\u001b[1;31mValueError\u001b[0m: cannot reshape array of size 15 into shape (5,2)"
     ]
    }
   ],
   "source": [
    "matr.reshape(5,2)  # oups !"
   ]
  },
  {
   "cell_type": "code",
   "execution_count": null,
   "metadata": {},
   "outputs": [],
   "source": []
  }
 ],
 "metadata": {
  "kernelspec": {
   "display_name": "Python 3 (ipykernel)",
   "language": "python",
   "name": "python3"
  },
  "language_info": {
   "codemirror_mode": {
    "name": "ipython",
    "version": 3
   },
   "file_extension": ".py",
   "mimetype": "text/x-python",
   "name": "python",
   "nbconvert_exporter": "python",
   "pygments_lexer": "ipython3",
   "version": "3.9.12"
  }
 },
 "nbformat": 4,
 "nbformat_minor": 2
}
