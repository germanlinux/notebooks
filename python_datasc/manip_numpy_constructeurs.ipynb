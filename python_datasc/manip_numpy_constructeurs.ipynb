{
 "cells": [
  {
   "cell_type": "code",
   "execution_count": null,
   "metadata": {},
   "outputs": [],
   "source": [
    "import numpy as np"
   ]
  },
  {
   "cell_type": "code",
   "execution_count": null,
   "metadata": {},
   "outputs": [],
   "source": [
    "matr = np.empty((3, 6))"
   ]
  },
  {
   "cell_type": "code",
   "execution_count": null,
   "metadata": {},
   "outputs": [],
   "source": [
    "matr"
   ]
  },
  {
   "cell_type": "markdown",
   "metadata": {},
   "source": [
    "### Constructeurs"
   ]
  },
  {
   "cell_type": "code",
   "execution_count": null,
   "metadata": {},
   "outputs": [],
   "source": [
    "# a partir d'un iterable (liste, tuple )\n",
    "liste = [[1, 2], [3, 4], [5, 6]]\n",
    "matr = np.array(liste)\n",
    "\n",
    "print('a partir d une liste de liste',liste )\n",
    "print(matr)\n",
    "tup = tuple(liste)\n",
    "matr = np.array(tup)\n",
    "print('a partir d un tuple de liste', tup)\n",
    "print(matr)\n",
    "tup_2 = ()\n",
    "for item in tup:\n",
    "        tup_2 = tup_2 + (tuple(item),)\n",
    "matr = np.array(tup_2)\n",
    "print('a partir d un tuple de tuple', tup_2)\n",
    "print(matr)\n"
   ]
  },
  {
   "cell_type": "markdown",
   "metadata": {},
   "source": [
    "## On peut préciser le type"
   ]
  },
  {
   "cell_type": "code",
   "execution_count": null,
   "metadata": {
    "scrolled": true
   },
   "outputs": [],
   "source": [
    "matr = np.array([[1, 2], [3, 4], [5, 6]], dtype= float)\n",
    "print(matr)"
   ]
  },
  {
   "cell_type": "markdown",
   "metadata": {},
   "source": [
    "## Numpy propose ses propres types  (usages occasionnels)"
   ]
  },
  {
   "cell_type": "code",
   "execution_count": null,
   "metadata": {},
   "outputs": [],
   "source": [
    "matr = np.array([[1, 2], [3, 4], [5, 6]], dtype= np.int32)\n",
    "print(matr.dtype)"
   ]
  },
  {
   "cell_type": "markdown",
   "metadata": {},
   "source": [
    "### Constructeurs divers"
   ]
  },
  {
   "cell_type": "code",
   "execution_count": null,
   "metadata": {},
   "outputs": [],
   "source": [
    "# matrice  vide (attention c est un piege)\n",
    "matr = np.empty([3,5], dtype= float)\n",
    "print(matr)"
   ]
  },
  {
   "cell_type": "code",
   "execution_count": null,
   "metadata": {},
   "outputs": [],
   "source": [
    "# matrice de '1'\n",
    "matr = np.ones((3,5))\n",
    "print(matr)"
   ]
  },
  {
   "cell_type": "code",
   "execution_count": null,
   "metadata": {},
   "outputs": [],
   "source": [
    "# matrice de '0'\n",
    "matr = np.zeros([3,5])\n",
    "print(matr)"
   ]
  },
  {
   "cell_type": "code",
   "execution_count": null,
   "metadata": {},
   "outputs": [],
   "source": [
    "# matrice de 'oeil'\n",
    "matr = np.eye(3,5) # attention au nombre de parenthèse\n",
    "print(matr)"
   ]
  },
  {
   "cell_type": "markdown",
   "metadata": {},
   "source": [
    "#### Relancer la cellule  empty"
   ]
  },
  {
   "cell_type": "code",
   "execution_count": null,
   "metadata": {},
   "outputs": [],
   "source": [
    "# Matrice remplie avec un nombre :\n",
    "matr = np.full((3,5), 3.14 )\n",
    "print(matr)"
   ]
  },
  {
   "cell_type": "code",
   "execution_count": null,
   "metadata": {
    "scrolled": true
   },
   "outputs": [],
   "source": [
    "# Matrice aléatoire : entier, flottant , normale ..\n",
    "matr = np.random.randint( 1,11, size = (3, 5))\n",
    "print(matr)"
   ]
  },
  {
   "cell_type": "markdown",
   "metadata": {},
   "source": [
    "# Certaines methode demandent en paramètre la taille (forme)  de la matrice \n",
    "####  ==> un tuple  ou une liste (N , M etc..)"
   ]
  },
  {
   "cell_type": "code",
   "execution_count": null,
   "metadata": {},
   "outputs": [],
   "source": [
    "print(matr.shape)"
   ]
  },
  {
   "cell_type": "code",
   "execution_count": null,
   "metadata": {},
   "outputs": [],
   "source": [
    "matr.reshape(5,3)\n",
    "print(matr) # pas de modification de l'objet !!\n"
   ]
  },
  {
   "cell_type": "code",
   "execution_count": null,
   "metadata": {},
   "outputs": [],
   "source": [
    "matr.reshape(5,2)"
   ]
  },
  {
   "cell_type": "code",
   "execution_count": null,
   "metadata": {},
   "outputs": [],
   "source": []
  }
 ],
 "metadata": {
  "kernelspec": {
   "display_name": "Python 3 (ipykernel)",
   "language": "python",
   "name": "python3"
  },
  "language_info": {
   "codemirror_mode": {
    "name": "ipython",
    "version": 3
   },
   "file_extension": ".py",
   "mimetype": "text/x-python",
   "name": "python",
   "nbconvert_exporter": "python",
   "pygments_lexer": "ipython3",
   "version": "3.9.12"
  }
 },
 "nbformat": 4,
 "nbformat_minor": 2
}
