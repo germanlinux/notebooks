{
 "cells": [
  {
   "cell_type": "markdown",
   "id": "22acad1c",
   "metadata": {},
   "source": [
    "# Nettoyage des valeurs non significatives"
   ]
  },
  {
   "cell_type": "code",
   "execution_count": 2,
   "id": "bbe8b59e",
   "metadata": {},
   "outputs": [],
   "source": [
    "import pandas as pd\n",
    "import numpy as np"
   ]
  },
  {
   "cell_type": "code",
   "execution_count": 3,
   "id": "33f623ea",
   "metadata": {},
   "outputs": [],
   "source": [
    "ma_dict = ({'banane' : [10, 20], 'ananas': [23, 16], 'pomme' : [35, 50]})"
   ]
  },
  {
   "cell_type": "code",
   "execution_count": 4,
   "id": "50ad4420",
   "metadata": {},
   "outputs": [],
   "source": [
    "fruits = pd.DataFrame.from_dict(ma_dict, orient = 'index')"
   ]
  },
  {
   "cell_type": "code",
   "execution_count": 5,
   "id": "004f287e",
   "metadata": {},
   "outputs": [
    {
     "data": {
      "text/html": [
       "<div>\n",
       "<style scoped>\n",
       "    .dataframe tbody tr th:only-of-type {\n",
       "        vertical-align: middle;\n",
       "    }\n",
       "\n",
       "    .dataframe tbody tr th {\n",
       "        vertical-align: top;\n",
       "    }\n",
       "\n",
       "    .dataframe thead th {\n",
       "        text-align: right;\n",
       "    }\n",
       "</style>\n",
       "<table border=\"1\" class=\"dataframe\">\n",
       "  <thead>\n",
       "    <tr style=\"text-align: right;\">\n",
       "      <th></th>\n",
       "      <th>0</th>\n",
       "      <th>1</th>\n",
       "    </tr>\n",
       "  </thead>\n",
       "  <tbody>\n",
       "    <tr>\n",
       "      <th>banane</th>\n",
       "      <td>10</td>\n",
       "      <td>20</td>\n",
       "    </tr>\n",
       "    <tr>\n",
       "      <th>ananas</th>\n",
       "      <td>23</td>\n",
       "      <td>16</td>\n",
       "    </tr>\n",
       "    <tr>\n",
       "      <th>pomme</th>\n",
       "      <td>35</td>\n",
       "      <td>50</td>\n",
       "    </tr>\n",
       "  </tbody>\n",
       "</table>\n",
       "</div>"
      ],
      "text/plain": [
       "         0   1\n",
       "banane  10  20\n",
       "ananas  23  16\n",
       "pomme   35  50"
      ]
     },
     "execution_count": 5,
     "metadata": {},
     "output_type": "execute_result"
    }
   ],
   "source": [
    "fruits"
   ]
  },
  {
   "cell_type": "code",
   "execution_count": 6,
   "id": "e8a2a5d9",
   "metadata": {},
   "outputs": [],
   "source": [
    "fr2 =  pd.DataFrame.from_dict(ma_dict, orient = 'index')"
   ]
  },
  {
   "cell_type": "code",
   "execution_count": 7,
   "id": "c8565c51",
   "metadata": {},
   "outputs": [],
   "source": [
    "frame = [fruits,fr2]"
   ]
  },
  {
   "cell_type": "code",
   "execution_count": 8,
   "id": "72ef735b",
   "metadata": {},
   "outputs": [],
   "source": [
    "fruits = pd.concat(frame)"
   ]
  },
  {
   "cell_type": "code",
   "execution_count": 9,
   "id": "0414567b",
   "metadata": {},
   "outputs": [
    {
     "data": {
      "text/html": [
       "<div>\n",
       "<style scoped>\n",
       "    .dataframe tbody tr th:only-of-type {\n",
       "        vertical-align: middle;\n",
       "    }\n",
       "\n",
       "    .dataframe tbody tr th {\n",
       "        vertical-align: top;\n",
       "    }\n",
       "\n",
       "    .dataframe thead th {\n",
       "        text-align: right;\n",
       "    }\n",
       "</style>\n",
       "<table border=\"1\" class=\"dataframe\">\n",
       "  <thead>\n",
       "    <tr style=\"text-align: right;\">\n",
       "      <th></th>\n",
       "      <th>0</th>\n",
       "      <th>1</th>\n",
       "    </tr>\n",
       "  </thead>\n",
       "  <tbody>\n",
       "    <tr>\n",
       "      <th>banane</th>\n",
       "      <td>10</td>\n",
       "      <td>20</td>\n",
       "    </tr>\n",
       "    <tr>\n",
       "      <th>ananas</th>\n",
       "      <td>23</td>\n",
       "      <td>16</td>\n",
       "    </tr>\n",
       "    <tr>\n",
       "      <th>pomme</th>\n",
       "      <td>35</td>\n",
       "      <td>50</td>\n",
       "    </tr>\n",
       "    <tr>\n",
       "      <th>banane</th>\n",
       "      <td>10</td>\n",
       "      <td>20</td>\n",
       "    </tr>\n",
       "    <tr>\n",
       "      <th>ananas</th>\n",
       "      <td>23</td>\n",
       "      <td>16</td>\n",
       "    </tr>\n",
       "    <tr>\n",
       "      <th>pomme</th>\n",
       "      <td>35</td>\n",
       "      <td>50</td>\n",
       "    </tr>\n",
       "  </tbody>\n",
       "</table>\n",
       "</div>"
      ],
      "text/plain": [
       "         0   1\n",
       "banane  10  20\n",
       "ananas  23  16\n",
       "pomme   35  50\n",
       "banane  10  20\n",
       "ananas  23  16\n",
       "pomme   35  50"
      ]
     },
     "execution_count": 9,
     "metadata": {},
     "output_type": "execute_result"
    }
   ],
   "source": [
    "fruits"
   ]
  },
  {
   "cell_type": "markdown",
   "id": "aa2e381c",
   "metadata": {},
   "source": [
    "###  Détection des lignes dupliquées avec pandas"
   ]
  },
  {
   "cell_type": "code",
   "execution_count": 10,
   "id": "4260720f",
   "metadata": {},
   "outputs": [
    {
     "data": {
      "text/plain": [
       "banane    False\n",
       "ananas    False\n",
       "pomme     False\n",
       "banane     True\n",
       "ananas     True\n",
       "pomme      True\n",
       "dtype: bool"
      ]
     },
     "execution_count": 10,
     "metadata": {},
     "output_type": "execute_result"
    }
   ],
   "source": [
    "fruits.duplicated()"
   ]
  },
  {
   "cell_type": "code",
   "execution_count": 11,
   "id": "2e9e27fb",
   "metadata": {},
   "outputs": [],
   "source": [
    "fruits.drop_duplicates(inplace= True)"
   ]
  },
  {
   "cell_type": "code",
   "execution_count": 12,
   "id": "b410c139",
   "metadata": {},
   "outputs": [
    {
     "data": {
      "text/html": [
       "<div>\n",
       "<style scoped>\n",
       "    .dataframe tbody tr th:only-of-type {\n",
       "        vertical-align: middle;\n",
       "    }\n",
       "\n",
       "    .dataframe tbody tr th {\n",
       "        vertical-align: top;\n",
       "    }\n",
       "\n",
       "    .dataframe thead th {\n",
       "        text-align: right;\n",
       "    }\n",
       "</style>\n",
       "<table border=\"1\" class=\"dataframe\">\n",
       "  <thead>\n",
       "    <tr style=\"text-align: right;\">\n",
       "      <th></th>\n",
       "      <th>0</th>\n",
       "      <th>1</th>\n",
       "    </tr>\n",
       "  </thead>\n",
       "  <tbody>\n",
       "    <tr>\n",
       "      <th>banane</th>\n",
       "      <td>10</td>\n",
       "      <td>20</td>\n",
       "    </tr>\n",
       "    <tr>\n",
       "      <th>ananas</th>\n",
       "      <td>23</td>\n",
       "      <td>16</td>\n",
       "    </tr>\n",
       "    <tr>\n",
       "      <th>pomme</th>\n",
       "      <td>35</td>\n",
       "      <td>50</td>\n",
       "    </tr>\n",
       "  </tbody>\n",
       "</table>\n",
       "</div>"
      ],
      "text/plain": [
       "         0   1\n",
       "banane  10  20\n",
       "ananas  23  16\n",
       "pomme   35  50"
      ]
     },
     "execution_count": 12,
     "metadata": {},
     "output_type": "execute_result"
    }
   ],
   "source": [
    "fruits"
   ]
  },
  {
   "cell_type": "markdown",
   "id": "bf732eb2",
   "metadata": {},
   "source": [
    "### Génération d'une regression"
   ]
  },
  {
   "cell_type": "code",
   "execution_count": 13,
   "id": "f73010e1",
   "metadata": {},
   "outputs": [],
   "source": [
    "from sklearn.datasets import make_regression\n",
    "X, y = make_regression(n_samples=20, n_features=4,n_informative = 2,  noise=3, random_state=42)"
   ]
  },
  {
   "cell_type": "code",
   "execution_count": 14,
   "id": "b464e8d1",
   "metadata": {},
   "outputs": [
    {
     "data": {
      "text/plain": [
       "(20, 4)"
      ]
     },
     "execution_count": 14,
     "metadata": {},
     "output_type": "execute_result"
    }
   ],
   "source": [
    "X.shape"
   ]
  },
  {
   "cell_type": "code",
   "execution_count": 15,
   "id": "60b78b19",
   "metadata": {},
   "outputs": [
    {
     "data": {
      "text/plain": [
       "[(0.11092258970986608, -48.23041762248722),\n",
       " (-1.1509935774223028, -81.34100869867015),\n",
       " (-0.5443827245251827, -50.57710158219891),\n",
       " (0.37569801834567196, -0.8158567825974703),\n",
       " (0.3142473325952739, -31.507801841574196),\n",
       " (-0.9080240755212109, -28.6426383127758),\n",
       " (-1.0128311203344238, 107.56746992868294),\n",
       " (-1.4123037013352915, -13.941901556315575),\n",
       " (0.6116762888408679, 16.034777640238858),\n",
       " (1.030999522495951, -47.33341554260981),\n",
       " (-0.6769220003059587, 46.06697178891597),\n",
       " (0.9312801191161986, -27.242176285645005),\n",
       " (-0.29900735046586746, -27.301641745729718),\n",
       " (0.0917607765355023, -60.24385000345572),\n",
       " (0.08704706823817122, 128.37519412767696),\n",
       " (-1.9875689146008928, 69.1866698125634),\n",
       " (0.5425600435859647, -82.98463225525909),\n",
       " (-0.46341769281246226, -153.11384211685123),\n",
       " (-0.4694743859349521, -26.991358741246103),\n",
       " (-0.46572975357025687, 31.507787053024916)]"
      ]
     },
     "execution_count": 15,
     "metadata": {},
     "output_type": "execute_result"
    }
   ],
   "source": [
    "list(zip(X.flat, y))"
   ]
  },
  {
   "cell_type": "code",
   "execution_count": 16,
   "id": "7d433b79",
   "metadata": {},
   "outputs": [],
   "source": [
    "data = pd.DataFrame(X, columns=['x1', 'x2', 'x3', 'x4'])"
   ]
  },
  {
   "cell_type": "code",
   "execution_count": 17,
   "id": "1d8624ba",
   "metadata": {},
   "outputs": [],
   "source": [
    "data['y'] = y\n"
   ]
  },
  {
   "cell_type": "code",
   "execution_count": 18,
   "id": "59d07074",
   "metadata": {},
   "outputs": [],
   "source": [
    "data.insert(4, 'x5', 0.2)"
   ]
  },
  {
   "cell_type": "markdown",
   "id": "37f923b0",
   "metadata": {},
   "source": [
    "### Utilisation de la méthode nunique de pandas pour compter les valeurs differentes"
   ]
  },
  {
   "cell_type": "code",
   "execution_count": 19,
   "id": "1bdcf5ec",
   "metadata": {},
   "outputs": [
    {
     "data": {
      "text/html": [
       "<div>\n",
       "<style scoped>\n",
       "    .dataframe tbody tr th:only-of-type {\n",
       "        vertical-align: middle;\n",
       "    }\n",
       "\n",
       "    .dataframe tbody tr th {\n",
       "        vertical-align: top;\n",
       "    }\n",
       "\n",
       "    .dataframe thead th {\n",
       "        text-align: right;\n",
       "    }\n",
       "</style>\n",
       "<table border=\"1\" class=\"dataframe\">\n",
       "  <thead>\n",
       "    <tr style=\"text-align: right;\">\n",
       "      <th></th>\n",
       "      <th>x1</th>\n",
       "      <th>x2</th>\n",
       "      <th>x3</th>\n",
       "      <th>x4</th>\n",
       "      <th>x5</th>\n",
       "      <th>y</th>\n",
       "    </tr>\n",
       "  </thead>\n",
       "  <tbody>\n",
       "    <tr>\n",
       "      <th>0</th>\n",
       "      <td>0.110923</td>\n",
       "      <td>-1.150994</td>\n",
       "      <td>-0.544383</td>\n",
       "      <td>0.375698</td>\n",
       "      <td>0.2</td>\n",
       "      <td>-48.230418</td>\n",
       "    </tr>\n",
       "    <tr>\n",
       "      <th>1</th>\n",
       "      <td>0.314247</td>\n",
       "      <td>-0.908024</td>\n",
       "      <td>-1.012831</td>\n",
       "      <td>-1.412304</td>\n",
       "      <td>0.2</td>\n",
       "      <td>-81.341009</td>\n",
       "    </tr>\n",
       "    <tr>\n",
       "      <th>2</th>\n",
       "      <td>0.611676</td>\n",
       "      <td>1.031000</td>\n",
       "      <td>-0.676922</td>\n",
       "      <td>0.931280</td>\n",
       "      <td>0.2</td>\n",
       "      <td>-50.577102</td>\n",
       "    </tr>\n",
       "    <tr>\n",
       "      <th>3</th>\n",
       "      <td>-0.299007</td>\n",
       "      <td>0.091761</td>\n",
       "      <td>0.087047</td>\n",
       "      <td>-1.987569</td>\n",
       "      <td>0.2</td>\n",
       "      <td>-0.815857</td>\n",
       "    </tr>\n",
       "    <tr>\n",
       "      <th>4</th>\n",
       "      <td>0.542560</td>\n",
       "      <td>-0.463418</td>\n",
       "      <td>-0.469474</td>\n",
       "      <td>-0.465730</td>\n",
       "      <td>0.2</td>\n",
       "      <td>-31.507802</td>\n",
       "    </tr>\n",
       "    <tr>\n",
       "      <th>5</th>\n",
       "      <td>-0.234137</td>\n",
       "      <td>1.579213</td>\n",
       "      <td>-0.234153</td>\n",
       "      <td>0.767435</td>\n",
       "      <td>0.2</td>\n",
       "      <td>-28.642638</td>\n",
       "    </tr>\n",
       "    <tr>\n",
       "      <th>6</th>\n",
       "      <td>1.356240</td>\n",
       "      <td>-0.072010</td>\n",
       "      <td>0.812526</td>\n",
       "      <td>1.003533</td>\n",
       "      <td>0.2</td>\n",
       "      <td>107.567470</td>\n",
       "    </tr>\n",
       "    <tr>\n",
       "      <th>7</th>\n",
       "      <td>-1.763040</td>\n",
       "      <td>0.324084</td>\n",
       "      <td>0.343618</td>\n",
       "      <td>-0.385082</td>\n",
       "      <td>0.2</td>\n",
       "      <td>-13.941902</td>\n",
       "    </tr>\n",
       "    <tr>\n",
       "      <th>8</th>\n",
       "      <td>-0.645120</td>\n",
       "      <td>0.361396</td>\n",
       "      <td>0.361636</td>\n",
       "      <td>1.538037</td>\n",
       "      <td>0.2</td>\n",
       "      <td>16.034778</td>\n",
       "    </tr>\n",
       "    <tr>\n",
       "      <th>9</th>\n",
       "      <td>-0.185659</td>\n",
       "      <td>-1.106335</td>\n",
       "      <td>-0.479174</td>\n",
       "      <td>-1.196207</td>\n",
       "      <td>0.2</td>\n",
       "      <td>-47.333416</td>\n",
       "    </tr>\n",
       "    <tr>\n",
       "      <th>10</th>\n",
       "      <td>-0.138264</td>\n",
       "      <td>0.647689</td>\n",
       "      <td>0.496714</td>\n",
       "      <td>1.523030</td>\n",
       "      <td>0.2</td>\n",
       "      <td>46.066972</td>\n",
       "    </tr>\n",
       "    <tr>\n",
       "      <th>11</th>\n",
       "      <td>-1.913280</td>\n",
       "      <td>-1.724918</td>\n",
       "      <td>0.241962</td>\n",
       "      <td>-0.562288</td>\n",
       "      <td>0.2</td>\n",
       "      <td>-27.242176</td>\n",
       "    </tr>\n",
       "    <tr>\n",
       "      <th>12</th>\n",
       "      <td>-1.057711</td>\n",
       "      <td>0.822545</td>\n",
       "      <td>-0.013497</td>\n",
       "      <td>-1.220844</td>\n",
       "      <td>0.2</td>\n",
       "      <td>-27.301642</td>\n",
       "    </tr>\n",
       "    <tr>\n",
       "      <th>13</th>\n",
       "      <td>-0.291694</td>\n",
       "      <td>-0.601707</td>\n",
       "      <td>-0.600639</td>\n",
       "      <td>1.852278</td>\n",
       "      <td>0.2</td>\n",
       "      <td>-60.243850</td>\n",
       "    </tr>\n",
       "    <tr>\n",
       "      <th>14</th>\n",
       "      <td>-0.225776</td>\n",
       "      <td>0.067528</td>\n",
       "      <td>1.465649</td>\n",
       "      <td>-1.424748</td>\n",
       "      <td>0.2</td>\n",
       "      <td>128.375194</td>\n",
       "    </tr>\n",
       "    <tr>\n",
       "      <th>15</th>\n",
       "      <td>0.171368</td>\n",
       "      <td>-0.115648</td>\n",
       "      <td>0.738467</td>\n",
       "      <td>-0.301104</td>\n",
       "      <td>0.2</td>\n",
       "      <td>69.186670</td>\n",
       "    </tr>\n",
       "    <tr>\n",
       "      <th>16</th>\n",
       "      <td>-0.309212</td>\n",
       "      <td>0.331263</td>\n",
       "      <td>-0.839218</td>\n",
       "      <td>0.975545</td>\n",
       "      <td>0.2</td>\n",
       "      <td>-82.984632</td>\n",
       "    </tr>\n",
       "    <tr>\n",
       "      <th>17</th>\n",
       "      <td>-0.719844</td>\n",
       "      <td>-0.460639</td>\n",
       "      <td>-1.478522</td>\n",
       "      <td>1.057122</td>\n",
       "      <td>0.2</td>\n",
       "      <td>-153.113842</td>\n",
       "    </tr>\n",
       "    <tr>\n",
       "      <th>18</th>\n",
       "      <td>-1.959670</td>\n",
       "      <td>-1.328186</td>\n",
       "      <td>0.208864</td>\n",
       "      <td>0.196861</td>\n",
       "      <td>0.2</td>\n",
       "      <td>-26.991359</td>\n",
       "    </tr>\n",
       "    <tr>\n",
       "      <th>19</th>\n",
       "      <td>1.564644</td>\n",
       "      <td>-2.619745</td>\n",
       "      <td>-0.035826</td>\n",
       "      <td>0.821903</td>\n",
       "      <td>0.2</td>\n",
       "      <td>31.507787</td>\n",
       "    </tr>\n",
       "  </tbody>\n",
       "</table>\n",
       "</div>"
      ],
      "text/plain": [
       "          x1        x2        x3        x4   x5           y\n",
       "0   0.110923 -1.150994 -0.544383  0.375698  0.2  -48.230418\n",
       "1   0.314247 -0.908024 -1.012831 -1.412304  0.2  -81.341009\n",
       "2   0.611676  1.031000 -0.676922  0.931280  0.2  -50.577102\n",
       "3  -0.299007  0.091761  0.087047 -1.987569  0.2   -0.815857\n",
       "4   0.542560 -0.463418 -0.469474 -0.465730  0.2  -31.507802\n",
       "5  -0.234137  1.579213 -0.234153  0.767435  0.2  -28.642638\n",
       "6   1.356240 -0.072010  0.812526  1.003533  0.2  107.567470\n",
       "7  -1.763040  0.324084  0.343618 -0.385082  0.2  -13.941902\n",
       "8  -0.645120  0.361396  0.361636  1.538037  0.2   16.034778\n",
       "9  -0.185659 -1.106335 -0.479174 -1.196207  0.2  -47.333416\n",
       "10 -0.138264  0.647689  0.496714  1.523030  0.2   46.066972\n",
       "11 -1.913280 -1.724918  0.241962 -0.562288  0.2  -27.242176\n",
       "12 -1.057711  0.822545 -0.013497 -1.220844  0.2  -27.301642\n",
       "13 -0.291694 -0.601707 -0.600639  1.852278  0.2  -60.243850\n",
       "14 -0.225776  0.067528  1.465649 -1.424748  0.2  128.375194\n",
       "15  0.171368 -0.115648  0.738467 -0.301104  0.2   69.186670\n",
       "16 -0.309212  0.331263 -0.839218  0.975545  0.2  -82.984632\n",
       "17 -0.719844 -0.460639 -1.478522  1.057122  0.2 -153.113842\n",
       "18 -1.959670 -1.328186  0.208864  0.196861  0.2  -26.991359\n",
       "19  1.564644 -2.619745 -0.035826  0.821903  0.2   31.507787"
      ]
     },
     "execution_count": 19,
     "metadata": {},
     "output_type": "execute_result"
    }
   ],
   "source": [
    "data"
   ]
  },
  {
   "cell_type": "code",
   "execution_count": 20,
   "id": "06044ecc",
   "metadata": {},
   "outputs": [
    {
     "data": {
      "text/plain": [
       "x1    20\n",
       "x2    20\n",
       "x3    20\n",
       "x4    20\n",
       "x5     1\n",
       "y     20\n",
       "dtype: int64"
      ]
     },
     "execution_count": 20,
     "metadata": {},
     "output_type": "execute_result"
    }
   ],
   "source": [
    "data.nunique()"
   ]
  },
  {
   "cell_type": "code",
   "execution_count": 21,
   "id": "690e46b4",
   "metadata": {},
   "outputs": [],
   "source": [
    "data.drop('x5',axis = 1,  inplace = True)"
   ]
  },
  {
   "cell_type": "code",
   "execution_count": 22,
   "id": "c417b796",
   "metadata": {},
   "outputs": [
    {
     "data": {
      "text/plain": [
       "x1    20\n",
       "x2    20\n",
       "x3    20\n",
       "x4    20\n",
       "y     20\n",
       "dtype: int64"
      ]
     },
     "execution_count": 22,
     "metadata": {},
     "output_type": "execute_result"
    }
   ],
   "source": [
    "data.nunique()"
   ]
  },
  {
   "cell_type": "markdown",
   "id": "6bee58dc",
   "metadata": {},
   "source": [
    "### Utilisation de sklearn pour supprimer des colonnes à faible variance "
   ]
  },
  {
   "cell_type": "code",
   "execution_count": 27,
   "id": "2ec208a0",
   "metadata": {},
   "outputs": [
    {
     "name": "stdout",
     "output_type": "stream",
     "text": [
      "(20, 4)\n"
     ]
    }
   ],
   "source": [
    "from sklearn.feature_selection import VarianceThreshold\n",
    "from sklearn import set_config\n",
    "# nouveau dans sklearn sorite vers Pandas\n",
    "#set_config(transform_output = \"pandas\")\n",
    "variance = VarianceThreshold().set_output(transform= 'pandas')\n",
    "dt2 = variance.fit_transform(data.iloc[:,:4])\n",
    "print(dt2.shape)"
   ]
  },
  {
   "cell_type": "code",
   "execution_count": 28,
   "id": "b9fdee63",
   "metadata": {},
   "outputs": [
    {
     "data": {
      "text/html": [
       "<div>\n",
       "<style scoped>\n",
       "    .dataframe tbody tr th:only-of-type {\n",
       "        vertical-align: middle;\n",
       "    }\n",
       "\n",
       "    .dataframe tbody tr th {\n",
       "        vertical-align: top;\n",
       "    }\n",
       "\n",
       "    .dataframe thead th {\n",
       "        text-align: right;\n",
       "    }\n",
       "</style>\n",
       "<table border=\"1\" class=\"dataframe\">\n",
       "  <thead>\n",
       "    <tr style=\"text-align: right;\">\n",
       "      <th></th>\n",
       "      <th>x1</th>\n",
       "      <th>x2</th>\n",
       "      <th>x3</th>\n",
       "      <th>x4</th>\n",
       "    </tr>\n",
       "  </thead>\n",
       "  <tbody>\n",
       "    <tr>\n",
       "      <th>0</th>\n",
       "      <td>0.110923</td>\n",
       "      <td>-1.150994</td>\n",
       "      <td>-0.544383</td>\n",
       "      <td>0.375698</td>\n",
       "    </tr>\n",
       "    <tr>\n",
       "      <th>1</th>\n",
       "      <td>0.314247</td>\n",
       "      <td>-0.908024</td>\n",
       "      <td>-1.012831</td>\n",
       "      <td>-1.412304</td>\n",
       "    </tr>\n",
       "    <tr>\n",
       "      <th>2</th>\n",
       "      <td>0.611676</td>\n",
       "      <td>1.031000</td>\n",
       "      <td>-0.676922</td>\n",
       "      <td>0.931280</td>\n",
       "    </tr>\n",
       "    <tr>\n",
       "      <th>3</th>\n",
       "      <td>-0.299007</td>\n",
       "      <td>0.091761</td>\n",
       "      <td>0.087047</td>\n",
       "      <td>-1.987569</td>\n",
       "    </tr>\n",
       "    <tr>\n",
       "      <th>4</th>\n",
       "      <td>0.542560</td>\n",
       "      <td>-0.463418</td>\n",
       "      <td>-0.469474</td>\n",
       "      <td>-0.465730</td>\n",
       "    </tr>\n",
       "    <tr>\n",
       "      <th>5</th>\n",
       "      <td>-0.234137</td>\n",
       "      <td>1.579213</td>\n",
       "      <td>-0.234153</td>\n",
       "      <td>0.767435</td>\n",
       "    </tr>\n",
       "    <tr>\n",
       "      <th>6</th>\n",
       "      <td>1.356240</td>\n",
       "      <td>-0.072010</td>\n",
       "      <td>0.812526</td>\n",
       "      <td>1.003533</td>\n",
       "    </tr>\n",
       "    <tr>\n",
       "      <th>7</th>\n",
       "      <td>-1.763040</td>\n",
       "      <td>0.324084</td>\n",
       "      <td>0.343618</td>\n",
       "      <td>-0.385082</td>\n",
       "    </tr>\n",
       "    <tr>\n",
       "      <th>8</th>\n",
       "      <td>-0.645120</td>\n",
       "      <td>0.361396</td>\n",
       "      <td>0.361636</td>\n",
       "      <td>1.538037</td>\n",
       "    </tr>\n",
       "    <tr>\n",
       "      <th>9</th>\n",
       "      <td>-0.185659</td>\n",
       "      <td>-1.106335</td>\n",
       "      <td>-0.479174</td>\n",
       "      <td>-1.196207</td>\n",
       "    </tr>\n",
       "    <tr>\n",
       "      <th>10</th>\n",
       "      <td>-0.138264</td>\n",
       "      <td>0.647689</td>\n",
       "      <td>0.496714</td>\n",
       "      <td>1.523030</td>\n",
       "    </tr>\n",
       "    <tr>\n",
       "      <th>11</th>\n",
       "      <td>-1.913280</td>\n",
       "      <td>-1.724918</td>\n",
       "      <td>0.241962</td>\n",
       "      <td>-0.562288</td>\n",
       "    </tr>\n",
       "    <tr>\n",
       "      <th>12</th>\n",
       "      <td>-1.057711</td>\n",
       "      <td>0.822545</td>\n",
       "      <td>-0.013497</td>\n",
       "      <td>-1.220844</td>\n",
       "    </tr>\n",
       "    <tr>\n",
       "      <th>13</th>\n",
       "      <td>-0.291694</td>\n",
       "      <td>-0.601707</td>\n",
       "      <td>-0.600639</td>\n",
       "      <td>1.852278</td>\n",
       "    </tr>\n",
       "    <tr>\n",
       "      <th>14</th>\n",
       "      <td>-0.225776</td>\n",
       "      <td>0.067528</td>\n",
       "      <td>1.465649</td>\n",
       "      <td>-1.424748</td>\n",
       "    </tr>\n",
       "    <tr>\n",
       "      <th>15</th>\n",
       "      <td>0.171368</td>\n",
       "      <td>-0.115648</td>\n",
       "      <td>0.738467</td>\n",
       "      <td>-0.301104</td>\n",
       "    </tr>\n",
       "    <tr>\n",
       "      <th>16</th>\n",
       "      <td>-0.309212</td>\n",
       "      <td>0.331263</td>\n",
       "      <td>-0.839218</td>\n",
       "      <td>0.975545</td>\n",
       "    </tr>\n",
       "    <tr>\n",
       "      <th>17</th>\n",
       "      <td>-0.719844</td>\n",
       "      <td>-0.460639</td>\n",
       "      <td>-1.478522</td>\n",
       "      <td>1.057122</td>\n",
       "    </tr>\n",
       "    <tr>\n",
       "      <th>18</th>\n",
       "      <td>-1.959670</td>\n",
       "      <td>-1.328186</td>\n",
       "      <td>0.208864</td>\n",
       "      <td>0.196861</td>\n",
       "    </tr>\n",
       "    <tr>\n",
       "      <th>19</th>\n",
       "      <td>1.564644</td>\n",
       "      <td>-2.619745</td>\n",
       "      <td>-0.035826</td>\n",
       "      <td>0.821903</td>\n",
       "    </tr>\n",
       "  </tbody>\n",
       "</table>\n",
       "</div>"
      ],
      "text/plain": [
       "          x1        x2        x3        x4\n",
       "0   0.110923 -1.150994 -0.544383  0.375698\n",
       "1   0.314247 -0.908024 -1.012831 -1.412304\n",
       "2   0.611676  1.031000 -0.676922  0.931280\n",
       "3  -0.299007  0.091761  0.087047 -1.987569\n",
       "4   0.542560 -0.463418 -0.469474 -0.465730\n",
       "5  -0.234137  1.579213 -0.234153  0.767435\n",
       "6   1.356240 -0.072010  0.812526  1.003533\n",
       "7  -1.763040  0.324084  0.343618 -0.385082\n",
       "8  -0.645120  0.361396  0.361636  1.538037\n",
       "9  -0.185659 -1.106335 -0.479174 -1.196207\n",
       "10 -0.138264  0.647689  0.496714  1.523030\n",
       "11 -1.913280 -1.724918  0.241962 -0.562288\n",
       "12 -1.057711  0.822545 -0.013497 -1.220844\n",
       "13 -0.291694 -0.601707 -0.600639  1.852278\n",
       "14 -0.225776  0.067528  1.465649 -1.424748\n",
       "15  0.171368 -0.115648  0.738467 -0.301104\n",
       "16 -0.309212  0.331263 -0.839218  0.975545\n",
       "17 -0.719844 -0.460639 -1.478522  1.057122\n",
       "18 -1.959670 -1.328186  0.208864  0.196861\n",
       "19  1.564644 -2.619745 -0.035826  0.821903"
      ]
     },
     "execution_count": 28,
     "metadata": {},
     "output_type": "execute_result"
    }
   ],
   "source": [
    "dt2"
   ]
  },
  {
   "cell_type": "markdown",
   "id": "f9f888c9",
   "metadata": {},
   "source": [
    "##  Connaitre la version de sklearn"
   ]
  },
  {
   "cell_type": "code",
   "execution_count": 29,
   "id": "3b174f3f",
   "metadata": {},
   "outputs": [
    {
     "name": "stdout",
     "output_type": "stream",
     "text": [
      "1.2.2\n"
     ]
    }
   ],
   "source": [
    "import sklearn\n",
    "print(sklearn.__version__)"
   ]
  },
  {
   "cell_type": "code",
   "execution_count": null,
   "id": "e2c9e819",
   "metadata": {},
   "outputs": [],
   "source": []
  }
 ],
 "metadata": {
  "kernelspec": {
   "display_name": "Python 3 (ipykernel)",
   "language": "python",
   "name": "python3"
  },
  "language_info": {
   "codemirror_mode": {
    "name": "ipython",
    "version": 3
   },
   "file_extension": ".py",
   "mimetype": "text/x-python",
   "name": "python",
   "nbconvert_exporter": "python",
   "pygments_lexer": "ipython3",
   "version": "3.9.12"
  }
 },
 "nbformat": 4,
 "nbformat_minor": 5
}
