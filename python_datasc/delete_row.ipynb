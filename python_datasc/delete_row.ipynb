{
 "cells": [
  {
   "cell_type": "markdown",
   "id": "ed27be24",
   "metadata": {},
   "source": [
    "# Nettoyage des valeurs non significatives"
   ]
  },
  {
   "cell_type": "code",
   "execution_count": 5,
   "id": "bbe8b59e",
   "metadata": {},
   "outputs": [],
   "source": [
    "import pandas as pd\n",
    "import numpy as np"
   ]
  },
  {
   "cell_type": "code",
   "execution_count": 2,
   "id": "33f623ea",
   "metadata": {},
   "outputs": [],
   "source": [
    "ma_dict = ({'banane' : [10, 20], 'ananas': [23, 16], 'pomme' : [35, 50]})"
   ]
  },
  {
   "cell_type": "code",
   "execution_count": 3,
   "id": "50ad4420",
   "metadata": {},
   "outputs": [],
   "source": [
    "fruits = pd.DataFrame.from_dict(ma_dict, orient = 'index')"
   ]
  },
  {
   "cell_type": "code",
   "execution_count": 4,
   "id": "004f287e",
   "metadata": {},
   "outputs": [
    {
     "data": {
      "text/html": [
       "<div>\n",
       "<style scoped>\n",
       "    .dataframe tbody tr th:only-of-type {\n",
       "        vertical-align: middle;\n",
       "    }\n",
       "\n",
       "    .dataframe tbody tr th {\n",
       "        vertical-align: top;\n",
       "    }\n",
       "\n",
       "    .dataframe thead th {\n",
       "        text-align: right;\n",
       "    }\n",
       "</style>\n",
       "<table border=\"1\" class=\"dataframe\">\n",
       "  <thead>\n",
       "    <tr style=\"text-align: right;\">\n",
       "      <th></th>\n",
       "      <th>0</th>\n",
       "      <th>1</th>\n",
       "    </tr>\n",
       "  </thead>\n",
       "  <tbody>\n",
       "    <tr>\n",
       "      <th>banane</th>\n",
       "      <td>10</td>\n",
       "      <td>20</td>\n",
       "    </tr>\n",
       "    <tr>\n",
       "      <th>ananas</th>\n",
       "      <td>23</td>\n",
       "      <td>16</td>\n",
       "    </tr>\n",
       "    <tr>\n",
       "      <th>pomme</th>\n",
       "      <td>35</td>\n",
       "      <td>50</td>\n",
       "    </tr>\n",
       "  </tbody>\n",
       "</table>\n",
       "</div>"
      ],
      "text/plain": [
       "         0   1\n",
       "banane  10  20\n",
       "ananas  23  16\n",
       "pomme   35  50"
      ]
     },
     "execution_count": 4,
     "metadata": {},
     "output_type": "execute_result"
    }
   ],
   "source": [
    "fruits"
   ]
  },
  {
   "cell_type": "code",
   "execution_count": 5,
   "id": "e8a2a5d9",
   "metadata": {},
   "outputs": [],
   "source": [
    "fr2 =  pd.DataFrame.from_dict(ma_dict, orient = 'index')"
   ]
  },
  {
   "cell_type": "code",
   "execution_count": 6,
   "id": "c8565c51",
   "metadata": {},
   "outputs": [],
   "source": [
    "frame = [fruits,fr2]"
   ]
  },
  {
   "cell_type": "code",
   "execution_count": 7,
   "id": "72ef735b",
   "metadata": {},
   "outputs": [],
   "source": [
    "fruits = pd.concat(frame)"
   ]
  },
  {
   "cell_type": "code",
   "execution_count": 8,
   "id": "0414567b",
   "metadata": {},
   "outputs": [
    {
     "data": {
      "text/html": [
       "<div>\n",
       "<style scoped>\n",
       "    .dataframe tbody tr th:only-of-type {\n",
       "        vertical-align: middle;\n",
       "    }\n",
       "\n",
       "    .dataframe tbody tr th {\n",
       "        vertical-align: top;\n",
       "    }\n",
       "\n",
       "    .dataframe thead th {\n",
       "        text-align: right;\n",
       "    }\n",
       "</style>\n",
       "<table border=\"1\" class=\"dataframe\">\n",
       "  <thead>\n",
       "    <tr style=\"text-align: right;\">\n",
       "      <th></th>\n",
       "      <th>0</th>\n",
       "      <th>1</th>\n",
       "    </tr>\n",
       "  </thead>\n",
       "  <tbody>\n",
       "    <tr>\n",
       "      <th>banane</th>\n",
       "      <td>10</td>\n",
       "      <td>20</td>\n",
       "    </tr>\n",
       "    <tr>\n",
       "      <th>ananas</th>\n",
       "      <td>23</td>\n",
       "      <td>16</td>\n",
       "    </tr>\n",
       "    <tr>\n",
       "      <th>pomme</th>\n",
       "      <td>35</td>\n",
       "      <td>50</td>\n",
       "    </tr>\n",
       "    <tr>\n",
       "      <th>banane</th>\n",
       "      <td>10</td>\n",
       "      <td>20</td>\n",
       "    </tr>\n",
       "    <tr>\n",
       "      <th>ananas</th>\n",
       "      <td>23</td>\n",
       "      <td>16</td>\n",
       "    </tr>\n",
       "    <tr>\n",
       "      <th>pomme</th>\n",
       "      <td>35</td>\n",
       "      <td>50</td>\n",
       "    </tr>\n",
       "  </tbody>\n",
       "</table>\n",
       "</div>"
      ],
      "text/plain": [
       "         0   1\n",
       "banane  10  20\n",
       "ananas  23  16\n",
       "pomme   35  50\n",
       "banane  10  20\n",
       "ananas  23  16\n",
       "pomme   35  50"
      ]
     },
     "execution_count": 8,
     "metadata": {},
     "output_type": "execute_result"
    }
   ],
   "source": [
    "fruits"
   ]
  },
  {
   "cell_type": "markdown",
   "id": "49286805",
   "metadata": {},
   "source": [
    "###  Détection des lignes dupliquées avec pandas"
   ]
  },
  {
   "cell_type": "code",
   "execution_count": 9,
   "id": "4260720f",
   "metadata": {},
   "outputs": [
    {
     "data": {
      "text/plain": [
       "banane    False\n",
       "ananas    False\n",
       "pomme     False\n",
       "banane     True\n",
       "ananas     True\n",
       "pomme      True\n",
       "dtype: bool"
      ]
     },
     "execution_count": 9,
     "metadata": {},
     "output_type": "execute_result"
    }
   ],
   "source": [
    "fruits.duplicated()"
   ]
  },
  {
   "cell_type": "code",
   "execution_count": 10,
   "id": "2e9e27fb",
   "metadata": {},
   "outputs": [],
   "source": [
    "fruits.drop_duplicates(inplace= True)"
   ]
  },
  {
   "cell_type": "code",
   "execution_count": 11,
   "id": "b410c139",
   "metadata": {},
   "outputs": [
    {
     "data": {
      "text/html": [
       "<div>\n",
       "<style scoped>\n",
       "    .dataframe tbody tr th:only-of-type {\n",
       "        vertical-align: middle;\n",
       "    }\n",
       "\n",
       "    .dataframe tbody tr th {\n",
       "        vertical-align: top;\n",
       "    }\n",
       "\n",
       "    .dataframe thead th {\n",
       "        text-align: right;\n",
       "    }\n",
       "</style>\n",
       "<table border=\"1\" class=\"dataframe\">\n",
       "  <thead>\n",
       "    <tr style=\"text-align: right;\">\n",
       "      <th></th>\n",
       "      <th>0</th>\n",
       "      <th>1</th>\n",
       "    </tr>\n",
       "  </thead>\n",
       "  <tbody>\n",
       "    <tr>\n",
       "      <th>banane</th>\n",
       "      <td>10</td>\n",
       "      <td>20</td>\n",
       "    </tr>\n",
       "    <tr>\n",
       "      <th>ananas</th>\n",
       "      <td>23</td>\n",
       "      <td>16</td>\n",
       "    </tr>\n",
       "    <tr>\n",
       "      <th>pomme</th>\n",
       "      <td>35</td>\n",
       "      <td>50</td>\n",
       "    </tr>\n",
       "  </tbody>\n",
       "</table>\n",
       "</div>"
      ],
      "text/plain": [
       "         0   1\n",
       "banane  10  20\n",
       "ananas  23  16\n",
       "pomme   35  50"
      ]
     },
     "execution_count": 11,
     "metadata": {},
     "output_type": "execute_result"
    }
   ],
   "source": [
    "fruits"
   ]
  },
  {
   "cell_type": "markdown",
   "id": "68aa0948",
   "metadata": {},
   "source": [
    "### Génération d'une regression"
   ]
  },
  {
   "cell_type": "code",
   "execution_count": 3,
   "id": "f73010e1",
   "metadata": {},
   "outputs": [],
   "source": [
    "from sklearn.datasets import make_regression\n",
    "X, y = make_regression(n_samples=20, n_features=4,n_informative = 2,  noise=3, random_state=42)"
   ]
  },
  {
   "cell_type": "code",
   "execution_count": 13,
   "id": "b464e8d1",
   "metadata": {},
   "outputs": [
    {
     "data": {
      "text/plain": [
       "(20, 4)"
      ]
     },
     "execution_count": 13,
     "metadata": {},
     "output_type": "execute_result"
    }
   ],
   "source": [
    "X.shape"
   ]
  },
  {
   "cell_type": "code",
   "execution_count": 14,
   "id": "60b78b19",
   "metadata": {},
   "outputs": [
    {
     "data": {
      "text/plain": [
       "[(0.11092258970986608, -48.23041762248722),\n",
       " (-1.1509935774223028, -81.34100869867015),\n",
       " (-0.5443827245251827, -50.57710158219891),\n",
       " (0.37569801834567196, -0.8158567825974703),\n",
       " (0.3142473325952739, -31.507801841574196),\n",
       " (-0.9080240755212109, -28.6426383127758),\n",
       " (-1.0128311203344238, 107.56746992868294),\n",
       " (-1.4123037013352915, -13.941901556315575),\n",
       " (0.6116762888408679, 16.034777640238858),\n",
       " (1.030999522495951, -47.33341554260981),\n",
       " (-0.6769220003059587, 46.06697178891597),\n",
       " (0.9312801191161986, -27.242176285645005),\n",
       " (-0.29900735046586746, -27.301641745729718),\n",
       " (0.0917607765355023, -60.24385000345572),\n",
       " (0.08704706823817122, 128.37519412767696),\n",
       " (-1.9875689146008928, 69.1866698125634),\n",
       " (0.5425600435859647, -82.98463225525909),\n",
       " (-0.46341769281246226, -153.11384211685123),\n",
       " (-0.4694743859349521, -26.991358741246103),\n",
       " (-0.46572975357025687, 31.507787053024916)]"
      ]
     },
     "execution_count": 14,
     "metadata": {},
     "output_type": "execute_result"
    }
   ],
   "source": [
    "list(zip(X.flat, y))"
   ]
  },
  {
   "cell_type": "code",
   "execution_count": 15,
   "id": "7d433b79",
   "metadata": {},
   "outputs": [],
   "source": [
    "data = pd.DataFrame(X, columns=['x1', 'x2', 'x3', 'x4'])"
   ]
  },
  {
   "cell_type": "code",
   "execution_count": 16,
   "id": "1d8624ba",
   "metadata": {},
   "outputs": [],
   "source": [
    "data['y'] = y\n"
   ]
  },
  {
   "cell_type": "code",
   "execution_count": 17,
   "id": "59d07074",
   "metadata": {},
   "outputs": [],
   "source": [
    "data.insert(4, 'x5', 0.2)"
   ]
  },
  {
   "cell_type": "markdown",
   "id": "fd8dedd9",
   "metadata": {},
   "source": [
    "### Utilisation de la méthode nunique de pandas pour compter les valeurs differentes"
   ]
  },
  {
   "cell_type": "code",
   "execution_count": 18,
   "id": "1bdcf5ec",
   "metadata": {},
   "outputs": [
    {
     "data": {
      "text/html": [
       "<div>\n",
       "<style scoped>\n",
       "    .dataframe tbody tr th:only-of-type {\n",
       "        vertical-align: middle;\n",
       "    }\n",
       "\n",
       "    .dataframe tbody tr th {\n",
       "        vertical-align: top;\n",
       "    }\n",
       "\n",
       "    .dataframe thead th {\n",
       "        text-align: right;\n",
       "    }\n",
       "</style>\n",
       "<table border=\"1\" class=\"dataframe\">\n",
       "  <thead>\n",
       "    <tr style=\"text-align: right;\">\n",
       "      <th></th>\n",
       "      <th>x1</th>\n",
       "      <th>x2</th>\n",
       "      <th>x3</th>\n",
       "      <th>x4</th>\n",
       "      <th>x5</th>\n",
       "      <th>y</th>\n",
       "    </tr>\n",
       "  </thead>\n",
       "  <tbody>\n",
       "    <tr>\n",
       "      <th>0</th>\n",
       "      <td>0.110923</td>\n",
       "      <td>-1.150994</td>\n",
       "      <td>-0.544383</td>\n",
       "      <td>0.375698</td>\n",
       "      <td>0.2</td>\n",
       "      <td>-48.230418</td>\n",
       "    </tr>\n",
       "    <tr>\n",
       "      <th>1</th>\n",
       "      <td>0.314247</td>\n",
       "      <td>-0.908024</td>\n",
       "      <td>-1.012831</td>\n",
       "      <td>-1.412304</td>\n",
       "      <td>0.2</td>\n",
       "      <td>-81.341009</td>\n",
       "    </tr>\n",
       "    <tr>\n",
       "      <th>2</th>\n",
       "      <td>0.611676</td>\n",
       "      <td>1.031000</td>\n",
       "      <td>-0.676922</td>\n",
       "      <td>0.931280</td>\n",
       "      <td>0.2</td>\n",
       "      <td>-50.577102</td>\n",
       "    </tr>\n",
       "    <tr>\n",
       "      <th>3</th>\n",
       "      <td>-0.299007</td>\n",
       "      <td>0.091761</td>\n",
       "      <td>0.087047</td>\n",
       "      <td>-1.987569</td>\n",
       "      <td>0.2</td>\n",
       "      <td>-0.815857</td>\n",
       "    </tr>\n",
       "    <tr>\n",
       "      <th>4</th>\n",
       "      <td>0.542560</td>\n",
       "      <td>-0.463418</td>\n",
       "      <td>-0.469474</td>\n",
       "      <td>-0.465730</td>\n",
       "      <td>0.2</td>\n",
       "      <td>-31.507802</td>\n",
       "    </tr>\n",
       "  </tbody>\n",
       "</table>\n",
       "</div>"
      ],
      "text/plain": [
       "         x1        x2        x3        x4   x5          y\n",
       "0  0.110923 -1.150994 -0.544383  0.375698  0.2 -48.230418\n",
       "1  0.314247 -0.908024 -1.012831 -1.412304  0.2 -81.341009\n",
       "2  0.611676  1.031000 -0.676922  0.931280  0.2 -50.577102\n",
       "3 -0.299007  0.091761  0.087047 -1.987569  0.2  -0.815857\n",
       "4  0.542560 -0.463418 -0.469474 -0.465730  0.2 -31.507802"
      ]
     },
     "execution_count": 18,
     "metadata": {},
     "output_type": "execute_result"
    }
   ],
   "source": [
    "data.head()"
   ]
  },
  {
   "cell_type": "code",
   "execution_count": 19,
   "id": "06044ecc",
   "metadata": {},
   "outputs": [
    {
     "data": {
      "text/plain": [
       "x1    20\n",
       "x2    20\n",
       "x3    20\n",
       "x4    20\n",
       "x5     1\n",
       "y     20\n",
       "dtype: int64"
      ]
     },
     "execution_count": 19,
     "metadata": {},
     "output_type": "execute_result"
    }
   ],
   "source": [
    "data.nunique()"
   ]
  },
  {
   "cell_type": "code",
   "execution_count": 20,
   "id": "690e46b4",
   "metadata": {},
   "outputs": [],
   "source": [
    "data.drop('x5',axis = 1,  inplace = True)"
   ]
  },
  {
   "cell_type": "code",
   "execution_count": 21,
   "id": "c417b796",
   "metadata": {},
   "outputs": [
    {
     "data": {
      "text/plain": [
       "x1    20\n",
       "x2    20\n",
       "x3    20\n",
       "x4    20\n",
       "y     20\n",
       "dtype: int64"
      ]
     },
     "execution_count": 21,
     "metadata": {},
     "output_type": "execute_result"
    }
   ],
   "source": [
    "data.nunique()"
   ]
  },
  {
   "cell_type": "markdown",
   "id": "3ad69e06",
   "metadata": {},
   "source": [
    "### Utilisation de sklearn pour supprimer des colonnes à faible variance "
   ]
  },
  {
   "cell_type": "code",
   "execution_count": 22,
   "id": "2ec208a0",
   "metadata": {},
   "outputs": [
    {
     "name": "stdout",
     "output_type": "stream",
     "text": [
      "format avant: (20, 5)\n",
      "format avant: (20, 4)\n"
     ]
    }
   ],
   "source": [
    "from sklearn.feature_selection import VarianceThreshold\n",
    "from sklearn import set_config\n",
    "# nouveau dans sklearn sortie vers Pandas\n",
    "#set_config(transform_output = \"pandas\")\n",
    "print('format avant:', data.shape)\n",
    "variance = VarianceThreshold().set_output(transform= 'pandas')\n",
    "dt2 = variance.fit_transform(data.iloc[:,:4])\n",
    "print('format avant:',dt2.shape)"
   ]
  },
  {
   "cell_type": "code",
   "execution_count": 23,
   "id": "b9fdee63",
   "metadata": {},
   "outputs": [
    {
     "data": {
      "text/html": [
       "<div>\n",
       "<style scoped>\n",
       "    .dataframe tbody tr th:only-of-type {\n",
       "        vertical-align: middle;\n",
       "    }\n",
       "\n",
       "    .dataframe tbody tr th {\n",
       "        vertical-align: top;\n",
       "    }\n",
       "\n",
       "    .dataframe thead th {\n",
       "        text-align: right;\n",
       "    }\n",
       "</style>\n",
       "<table border=\"1\" class=\"dataframe\">\n",
       "  <thead>\n",
       "    <tr style=\"text-align: right;\">\n",
       "      <th></th>\n",
       "      <th>x1</th>\n",
       "      <th>x2</th>\n",
       "      <th>x3</th>\n",
       "      <th>x4</th>\n",
       "    </tr>\n",
       "  </thead>\n",
       "  <tbody>\n",
       "    <tr>\n",
       "      <th>0</th>\n",
       "      <td>0.110923</td>\n",
       "      <td>-1.150994</td>\n",
       "      <td>-0.544383</td>\n",
       "      <td>0.375698</td>\n",
       "    </tr>\n",
       "    <tr>\n",
       "      <th>1</th>\n",
       "      <td>0.314247</td>\n",
       "      <td>-0.908024</td>\n",
       "      <td>-1.012831</td>\n",
       "      <td>-1.412304</td>\n",
       "    </tr>\n",
       "    <tr>\n",
       "      <th>2</th>\n",
       "      <td>0.611676</td>\n",
       "      <td>1.031000</td>\n",
       "      <td>-0.676922</td>\n",
       "      <td>0.931280</td>\n",
       "    </tr>\n",
       "    <tr>\n",
       "      <th>3</th>\n",
       "      <td>-0.299007</td>\n",
       "      <td>0.091761</td>\n",
       "      <td>0.087047</td>\n",
       "      <td>-1.987569</td>\n",
       "    </tr>\n",
       "    <tr>\n",
       "      <th>4</th>\n",
       "      <td>0.542560</td>\n",
       "      <td>-0.463418</td>\n",
       "      <td>-0.469474</td>\n",
       "      <td>-0.465730</td>\n",
       "    </tr>\n",
       "    <tr>\n",
       "      <th>5</th>\n",
       "      <td>-0.234137</td>\n",
       "      <td>1.579213</td>\n",
       "      <td>-0.234153</td>\n",
       "      <td>0.767435</td>\n",
       "    </tr>\n",
       "    <tr>\n",
       "      <th>6</th>\n",
       "      <td>1.356240</td>\n",
       "      <td>-0.072010</td>\n",
       "      <td>0.812526</td>\n",
       "      <td>1.003533</td>\n",
       "    </tr>\n",
       "    <tr>\n",
       "      <th>7</th>\n",
       "      <td>-1.763040</td>\n",
       "      <td>0.324084</td>\n",
       "      <td>0.343618</td>\n",
       "      <td>-0.385082</td>\n",
       "    </tr>\n",
       "    <tr>\n",
       "      <th>8</th>\n",
       "      <td>-0.645120</td>\n",
       "      <td>0.361396</td>\n",
       "      <td>0.361636</td>\n",
       "      <td>1.538037</td>\n",
       "    </tr>\n",
       "    <tr>\n",
       "      <th>9</th>\n",
       "      <td>-0.185659</td>\n",
       "      <td>-1.106335</td>\n",
       "      <td>-0.479174</td>\n",
       "      <td>-1.196207</td>\n",
       "    </tr>\n",
       "    <tr>\n",
       "      <th>10</th>\n",
       "      <td>-0.138264</td>\n",
       "      <td>0.647689</td>\n",
       "      <td>0.496714</td>\n",
       "      <td>1.523030</td>\n",
       "    </tr>\n",
       "    <tr>\n",
       "      <th>11</th>\n",
       "      <td>-1.913280</td>\n",
       "      <td>-1.724918</td>\n",
       "      <td>0.241962</td>\n",
       "      <td>-0.562288</td>\n",
       "    </tr>\n",
       "    <tr>\n",
       "      <th>12</th>\n",
       "      <td>-1.057711</td>\n",
       "      <td>0.822545</td>\n",
       "      <td>-0.013497</td>\n",
       "      <td>-1.220844</td>\n",
       "    </tr>\n",
       "    <tr>\n",
       "      <th>13</th>\n",
       "      <td>-0.291694</td>\n",
       "      <td>-0.601707</td>\n",
       "      <td>-0.600639</td>\n",
       "      <td>1.852278</td>\n",
       "    </tr>\n",
       "    <tr>\n",
       "      <th>14</th>\n",
       "      <td>-0.225776</td>\n",
       "      <td>0.067528</td>\n",
       "      <td>1.465649</td>\n",
       "      <td>-1.424748</td>\n",
       "    </tr>\n",
       "    <tr>\n",
       "      <th>15</th>\n",
       "      <td>0.171368</td>\n",
       "      <td>-0.115648</td>\n",
       "      <td>0.738467</td>\n",
       "      <td>-0.301104</td>\n",
       "    </tr>\n",
       "    <tr>\n",
       "      <th>16</th>\n",
       "      <td>-0.309212</td>\n",
       "      <td>0.331263</td>\n",
       "      <td>-0.839218</td>\n",
       "      <td>0.975545</td>\n",
       "    </tr>\n",
       "    <tr>\n",
       "      <th>17</th>\n",
       "      <td>-0.719844</td>\n",
       "      <td>-0.460639</td>\n",
       "      <td>-1.478522</td>\n",
       "      <td>1.057122</td>\n",
       "    </tr>\n",
       "    <tr>\n",
       "      <th>18</th>\n",
       "      <td>-1.959670</td>\n",
       "      <td>-1.328186</td>\n",
       "      <td>0.208864</td>\n",
       "      <td>0.196861</td>\n",
       "    </tr>\n",
       "    <tr>\n",
       "      <th>19</th>\n",
       "      <td>1.564644</td>\n",
       "      <td>-2.619745</td>\n",
       "      <td>-0.035826</td>\n",
       "      <td>0.821903</td>\n",
       "    </tr>\n",
       "  </tbody>\n",
       "</table>\n",
       "</div>"
      ],
      "text/plain": [
       "          x1        x2        x3        x4\n",
       "0   0.110923 -1.150994 -0.544383  0.375698\n",
       "1   0.314247 -0.908024 -1.012831 -1.412304\n",
       "2   0.611676  1.031000 -0.676922  0.931280\n",
       "3  -0.299007  0.091761  0.087047 -1.987569\n",
       "4   0.542560 -0.463418 -0.469474 -0.465730\n",
       "5  -0.234137  1.579213 -0.234153  0.767435\n",
       "6   1.356240 -0.072010  0.812526  1.003533\n",
       "7  -1.763040  0.324084  0.343618 -0.385082\n",
       "8  -0.645120  0.361396  0.361636  1.538037\n",
       "9  -0.185659 -1.106335 -0.479174 -1.196207\n",
       "10 -0.138264  0.647689  0.496714  1.523030\n",
       "11 -1.913280 -1.724918  0.241962 -0.562288\n",
       "12 -1.057711  0.822545 -0.013497 -1.220844\n",
       "13 -0.291694 -0.601707 -0.600639  1.852278\n",
       "14 -0.225776  0.067528  1.465649 -1.424748\n",
       "15  0.171368 -0.115648  0.738467 -0.301104\n",
       "16 -0.309212  0.331263 -0.839218  0.975545\n",
       "17 -0.719844 -0.460639 -1.478522  1.057122\n",
       "18 -1.959670 -1.328186  0.208864  0.196861\n",
       "19  1.564644 -2.619745 -0.035826  0.821903"
      ]
     },
     "execution_count": 23,
     "metadata": {},
     "output_type": "execute_result"
    }
   ],
   "source": [
    "dt2"
   ]
  },
  {
   "cell_type": "code",
   "execution_count": 24,
   "id": "cc8c9c94",
   "metadata": {},
   "outputs": [
    {
     "data": {
      "text/html": [
       "<div>\n",
       "<style scoped>\n",
       "    .dataframe tbody tr th:only-of-type {\n",
       "        vertical-align: middle;\n",
       "    }\n",
       "\n",
       "    .dataframe tbody tr th {\n",
       "        vertical-align: top;\n",
       "    }\n",
       "\n",
       "    .dataframe thead th {\n",
       "        text-align: right;\n",
       "    }\n",
       "</style>\n",
       "<table border=\"1\" class=\"dataframe\">\n",
       "  <thead>\n",
       "    <tr style=\"text-align: right;\">\n",
       "      <th></th>\n",
       "      <th>x1</th>\n",
       "      <th>x2</th>\n",
       "      <th>x3</th>\n",
       "      <th>x4</th>\n",
       "    </tr>\n",
       "  </thead>\n",
       "  <tbody>\n",
       "    <tr>\n",
       "      <th>x1</th>\n",
       "      <td>1.000000</td>\n",
       "      <td>-0.069383</td>\n",
       "      <td>-0.061018</td>\n",
       "      <td>0.187568</td>\n",
       "    </tr>\n",
       "    <tr>\n",
       "      <th>x2</th>\n",
       "      <td>-0.069383</td>\n",
       "      <td>1.000000</td>\n",
       "      <td>0.109416</td>\n",
       "      <td>0.113099</td>\n",
       "    </tr>\n",
       "    <tr>\n",
       "      <th>x3</th>\n",
       "      <td>-0.061018</td>\n",
       "      <td>0.109416</td>\n",
       "      <td>1.000000</td>\n",
       "      <td>-0.177433</td>\n",
       "    </tr>\n",
       "    <tr>\n",
       "      <th>x4</th>\n",
       "      <td>0.187568</td>\n",
       "      <td>0.113099</td>\n",
       "      <td>-0.177433</td>\n",
       "      <td>1.000000</td>\n",
       "    </tr>\n",
       "  </tbody>\n",
       "</table>\n",
       "</div>"
      ],
      "text/plain": [
       "          x1        x2        x3        x4\n",
       "x1  1.000000 -0.069383 -0.061018  0.187568\n",
       "x2 -0.069383  1.000000  0.109416  0.113099\n",
       "x3 -0.061018  0.109416  1.000000 -0.177433\n",
       "x4  0.187568  0.113099 -0.177433  1.000000"
      ]
     },
     "execution_count": 24,
     "metadata": {},
     "output_type": "execute_result"
    }
   ],
   "source": [
    "dt2.corr()"
   ]
  },
  {
   "cell_type": "code",
   "execution_count": 25,
   "id": "9f2eea05",
   "metadata": {},
   "outputs": [],
   "source": [
    "import matplotlib.pyplot as plt\n",
    "%matplotlib inline"
   ]
  },
  {
   "cell_type": "code",
   "execution_count": 26,
   "id": "ff24f855",
   "metadata": {},
   "outputs": [
    {
     "data": {
      "image/png": "[encoded data removed]",
      "text/plain": [
       "<Figure size 432x288 with 16 Axes>"
      ]
     },
     "metadata": {
      "needs_background": "light"
     },
     "output_type": "display_data"
    }
   ],
   "source": [
    "pd.plotting.scatter_matrix(dt2);"
   ]
  },
  {
   "cell_type": "code",
   "execution_count": null,
   "id": "d75e3032",
   "metadata": {},
   "outputs": [],
   "source": []
  },
  {
   "cell_type": "markdown",
   "id": "f801c108",
   "metadata": {},
   "source": [
    "##  Connaitre la version de sklearn"
   ]
  },
  {
   "cell_type": "code",
   "execution_count": 27,
   "id": "3b174f3f",
   "metadata": {},
   "outputs": [
    {
     "name": "stdout",
     "output_type": "stream",
     "text": [
      "1.2.2\n"
     ]
    }
   ],
   "source": [
    "import sklearn\n",
    "print(sklearn.__version__)"
   ]
  },
  {
   "cell_type": "markdown",
   "id": "6027cca5",
   "metadata": {},
   "source": [
    "## Creation d'une regression avec une forte dispersion \n"
   ]
  },
  {
   "cell_type": "code",
   "execution_count": 6,
   "id": "f6281479",
   "metadata": {},
   "outputs": [
    {
     "name": "stdout",
     "output_type": "stream",
     "text": [
      "(40, 1)\n",
      "(40,)\n",
      "(40, 1)\n"
     ]
    }
   ],
   "source": [
    "X, y = make_regression(n_samples=40, n_features=1,n_informative = 1,  noise=20, random_state=42)\n",
    "\n",
    "dt1 = pd.DataFrame(X, columns =['X'])\n",
    "print(dt1.shape)\n",
    "print(y.shape)\n",
    "dt2 = pd.DataFrame(y, columns =['y'])\n",
    "print(dt2.shape)\n",
    "\n",
    "frame = [dt1, dt2]\n",
    "dt3 = pd.concat(frame, ignore_index=True,axis= 1)\n",
    "dt3.head()\n",
    "dt3.sort_values([0], inplace = True)"
   ]
  },
  {
   "cell_type": "code",
   "execution_count": 29,
   "id": "4c6ff7cb",
   "metadata": {},
   "outputs": [],
   "source": [
    "import matplotlib.pyplot as plt"
   ]
  },
  {
   "cell_type": "code",
   "execution_count": 30,
   "id": "28c5f56f",
   "metadata": {},
   "outputs": [
    {
     "data": {
      "text/plain": [
       "[<matplotlib.lines.Line2D at 0x1d2f2500d90>]"
      ]
     },
     "execution_count": 30,
     "metadata": {},
     "output_type": "execute_result"
    },
    {
     "data": {
      "image/png": "[encoded data removed]",
      "text/plain": [
       "<Figure size 432x288 with 1 Axes>"
      ]
     },
     "metadata": {
      "needs_background": "light"
     },
     "output_type": "display_data"
    }
   ],
   "source": [
    "plt.plot(dt3[0], dt3[1])"
   ]
  },
  {
   "cell_type": "code",
   "execution_count": 7,
   "id": "4cc27163",
   "metadata": {},
   "outputs": [],
   "source": [
    "from sklearn.neighbors import LocalOutlierFactor\n",
    "lof = LocalOutlierFactor()\n",
    "xhat = lof.fit_predict(dt3[[0]])"
   ]
  },
  {
   "cell_type": "code",
   "execution_count": 8,
   "id": "5ee3e50c",
   "metadata": {},
   "outputs": [
    {
     "data": {
      "text/plain": [
       "array([-1, -1,  1,  1,  1,  1,  1,  1,  1,  1,  1,  1,  1,  1,  1,  1,  1,\n",
       "        1,  1,  1,  1,  1,  1,  1,  1,  1,  1,  1,  1,  1,  1,  1,  1,  1,\n",
       "        1,  1, -1, -1, -1, -1])"
      ]
     },
     "execution_count": 8,
     "metadata": {},
     "output_type": "execute_result"
    }
   ],
   "source": [
    "xhat\n"
   ]
  },
  {
   "cell_type": "code",
   "execution_count": 9,
   "id": "052d3025",
   "metadata": {},
   "outputs": [
    {
     "name": "stdout",
     "output_type": "stream",
     "text": [
      "(34, 1)\n",
      "(34, 1)\n"
     ]
    }
   ],
   "source": [
    "X_sel= dt3[[0]][xhat == 1]\n",
    "print(X_sel.shape)\n",
    "y_sel = dt3[[1]][xhat == 1]\n",
    "print(y_sel.shape)\n",
    "y_sel = dt3[[1]][xhat == 1]\n",
    "dt4 = pd.concat([X_sel, y_sel],axis= 1 )\n",
    "dt4.sort_values([0], inplace = True)"
   ]
  },
  {
   "cell_type": "code",
   "execution_count": 35,
   "id": "f51e1713",
   "metadata": {},
   "outputs": [
    {
     "data": {
      "image/png": "[encoded data removed]",
      "text/plain": [
       "<Figure size 432x288 with 2 Axes>"
      ]
     },
     "metadata": {
      "needs_background": "light"
     },
     "output_type": "display_data"
    }
   ],
   "source": [
    "plt.subplot(211)\n",
    "plt.hist(dt3[0], color='red')\n",
    "plt.subplot(212)\n",
    "plt.hist(dt3[1])\n",
    "plt.show()                \n"
   ]
  },
  {
   "cell_type": "code",
   "execution_count": 36,
   "id": "b63e9269",
   "metadata": {},
   "outputs": [
    {
     "data": {
      "text/plain": [
       "[<matplotlib.lines.Line2D at 0x1d2f138cc40>]"
      ]
     },
     "execution_count": 36,
     "metadata": {},
     "output_type": "execute_result"
    },
    {
     "data": {
      "image/png": "[encoded data removed]",
      "text/plain": [
       "<Figure size 432x288 with 1 Axes>"
      ]
     },
     "metadata": {
      "needs_background": "light"
     },
     "output_type": "display_data"
    }
   ],
   "source": [
    "plt.plot(dt4[0] , dt4[1], color ='red', linewidth = '5')\n",
    "plt.plot(dt3[0], dt3[1])"
   ]
  },
  {
   "cell_type": "code",
   "execution_count": 37,
   "id": "9ec7dded",
   "metadata": {},
   "outputs": [
    {
     "name": "stdout",
     "output_type": "stream",
     "text": [
      "               0           1\n",
      "count  40.000000   40.000000\n",
      "mean   -0.218637  -20.587324\n",
      "std     0.952809   89.927190\n",
      "min    -1.959670 -189.626596\n",
      "25%    -0.934226  -91.731270\n",
      "50%    -0.234145  -16.166134\n",
      "75%     0.329610   44.807304\n",
      "max     1.852278  165.701378\n"
     ]
    }
   ],
   "source": [
    "print(dt3.describe())"
   ]
  },
  {
   "cell_type": "code",
   "execution_count": 38,
   "id": "4c314751",
   "metadata": {},
   "outputs": [],
   "source": [
    "std1 = dt3[1].std() * 2"
   ]
  },
  {
   "cell_type": "code",
   "execution_count": null,
   "id": "1feaba1b",
   "metadata": {},
   "outputs": [],
   "source": [
    "borne_inf = dt3[1].mean() - std1\n",
    "borne_sup = dt3[1].mean()  + std1"
   ]
  },
  {
   "cell_type": "code",
   "execution_count": null,
   "id": "f252f37a",
   "metadata": {},
   "outputs": [],
   "source": [
    "dt3[dt3[1] > borne_sup]"
   ]
  },
  {
   "cell_type": "code",
   "execution_count": null,
   "id": "9843a9b5",
   "metadata": {},
   "outputs": [],
   "source": [
    "dt3[dt3[1] < borne_inf]"
   ]
  },
  {
   "cell_type": "code",
   "execution_count": 39,
   "id": "d1fa9c4f",
   "metadata": {},
   "outputs": [
    {
     "name": "stdout",
     "output_type": "stream",
     "text": [
      "0    -0.934226\n",
      "1   -91.731270\n",
      "Name: 0.25, dtype: float64\n"
     ]
    }
   ],
   "source": [
    "quant25 = dt3.quantile(0.25)\n",
    "print(quant25)"
   ]
  },
  {
   "cell_type": "code",
   "execution_count": 40,
   "id": "f0772589",
   "metadata": {},
   "outputs": [
    {
     "name": "stdout",
     "output_type": "stream",
     "text": [
      "0     0.329610\n",
      "1    44.807304\n",
      "Name: 0.75, dtype: float64\n"
     ]
    }
   ],
   "source": [
    "quant75 = dt3.quantile(0.75)\n",
    "print(quant75)"
   ]
  },
  {
   "cell_type": "code",
   "execution_count": 45,
   "id": "52e7c210",
   "metadata": {},
   "outputs": [
    {
     "name": "stdout",
     "output_type": "stream",
     "text": [
      "-0.6046158326916407\n"
     ]
    }
   ],
   "source": [
    "borne = quant75[0] + quant25[0]\n",
    "print(borne)"
   ]
  },
  {
   "cell_type": "code",
   "execution_count": 42,
   "id": "bed88ff2",
   "metadata": {},
   "outputs": [
    {
     "data": {
      "text/plain": [
       "0    -0.234145\n",
       "1   -16.166134\n",
       "dtype: float64"
      ]
     },
     "execution_count": 42,
     "metadata": {},
     "output_type": "execute_result"
    }
   ],
   "source": [
    "dt3.median()"
   ]
  },
  {
   "cell_type": "code",
   "execution_count": 48,
   "id": "4ca3e9f2",
   "metadata": {},
   "outputs": [
    {
     "name": "stdout",
     "output_type": "stream",
     "text": [
      "-1.659764835954483 1.0551490032628421\n"
     ]
    }
   ],
   "source": [
    "cutoff = borne * 1.2\n",
    "inf= quant25[0] + cutoff\n",
    "sup = quant75[0]- cutoff\n",
    "print(inf, sup)"
   ]
  },
  {
   "cell_type": "code",
   "execution_count": 50,
   "id": "1676d470",
   "metadata": {},
   "outputs": [
    {
     "name": "stdout",
     "output_type": "stream",
     "text": [
      "[-1.4247481862134568, -1.4123037013352915, -1.3281860488984305, -1.2208436499710222, -1.1509935774223028, -1.0577109289559004, -1.0128311203344238, -0.9080240755212109, -0.6017066122293969, -0.600638689918805, -0.5622875292409727, -0.5443827245251827, -0.4694743859349521, -0.46572975357025687, -0.46341769281246226, -0.2916937497932768, -0.23415337472333597, -0.23413695694918055, -0.22577630048653566, -0.13826430117118466, -0.013497224737933921, 0.06752820468792384, 0.11092258970986608, 0.19686123586912352, 0.2088635950047554, 0.24196227156603412, 0.3142473325952739, 0.37569801834567196, 0.4967141530112327, 0.5425600435859647, 0.6476885381006925, 0.7674347291529088, 0.822544912103189]\n"
     ]
    }
   ],
   "source": [
    "out =  [x for  x in dt3[0]  if inf < x < sup ]\n",
    "print((out))"
   ]
  },
  {
   "cell_type": "code",
   "execution_count": null,
   "id": "7b320f57",
   "metadata": {},
   "outputs": [],
   "source": []
  },
  {
   "cell_type": "code",
   "execution_count": null,
   "id": "8fee7fc5",
   "metadata": {},
   "outputs": [],
   "source": [
    "ma_dict = ([1,'banane',10, 20], [2,'ananas', 23, 16], [3,'pomme' ,35, 50])"
   ]
  },
  {
   "cell_type": "code",
   "execution_count": null,
   "id": "8f4aaeb1",
   "metadata": {},
   "outputs": [],
   "source": [
    "dtp = pd.DataFrame(ma_dict, columns= ['monindex', 'fruit', 'prix1', 'prix2'])"
   ]
  },
  {
   "cell_type": "code",
   "execution_count": null,
   "id": "10070e16",
   "metadata": {},
   "outputs": [],
   "source": [
    "dtp"
   ]
  },
  {
   "cell_type": "code",
   "execution_count": null,
   "id": "7023138e",
   "metadata": {},
   "outputs": [],
   "source": [
    "dtp.iloc[1].prix1"
   ]
  },
  {
   "cell_type": "code",
   "execution_count": null,
   "id": "61fe4c39",
   "metadata": {},
   "outputs": [],
   "source": [
    "dtp.loc[1, 'prix1']"
   ]
  },
  {
   "cell_type": "code",
   "execution_count": null,
   "id": "aa5ab2e8",
   "metadata": {},
   "outputs": [],
   "source": [
    "dtp = dtp.set_index('monindex')\n"
   ]
  },
  {
   "cell_type": "code",
   "execution_count": null,
   "id": "749cc515",
   "metadata": {},
   "outputs": [],
   "source": [
    "dtp"
   ]
  },
  {
   "cell_type": "code",
   "execution_count": null,
   "id": "37c7ea65",
   "metadata": {},
   "outputs": [],
   "source": [
    "dtp.iloc[1]"
   ]
  },
  {
   "cell_type": "code",
   "execution_count": null,
   "id": "df7929ba",
   "metadata": {},
   "outputs": [],
   "source": [
    "dtp.loc[1]"
   ]
  },
  {
   "cell_type": "code",
   "execution_count": null,
   "id": "b9a45808",
   "metadata": {},
   "outputs": [],
   "source": [
    "dtp= dtp.reset_index()"
   ]
  },
  {
   "cell_type": "code",
   "execution_count": null,
   "id": "3c01c1f8",
   "metadata": {},
   "outputs": [],
   "source": [
    "dtp"
   ]
  },
  {
   "cell_type": "code",
   "execution_count": null,
   "id": "9096cd96",
   "metadata": {},
   "outputs": [],
   "source": []
  }
 ],
 "metadata": {
  "kernelspec": {
   "display_name": "Python 3 (ipykernel)",
   "language": "python",
   "name": "python3"
  },
  "language_info": {
   "codemirror_mode": {
    "name": "ipython",
    "version": 3
   },
   "file_extension": ".py",
   "mimetype": "text/x-python",
   "name": "python",
   "nbconvert_exporter": "python",
   "pygments_lexer": "ipython3",
   "version": "3.9.12"
  }
 },
 "nbformat": 4,
 "nbformat_minor": 5
}
