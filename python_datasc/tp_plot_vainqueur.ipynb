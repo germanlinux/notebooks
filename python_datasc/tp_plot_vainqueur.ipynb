{
 "cells": [
  {
   "cell_type": "code",
   "execution_count": 79,
   "metadata": {},
   "outputs": [
    {
     "data": {
      "text/html": [
       "<script>\n",
       "code_show=true; \n",
       "function code_toggle() {\n",
       " if (code_show){\n",
       " $('div.input').hide();\n",
       " } else {\n",
       " $('div.input').show();\n",
       " }\n",
       " code_show = !code_show\n",
       "} \n",
       "$( document ).ready(code_toggle);\n",
       "</script>\n",
       "<form action=\"javascript:code_toggle()\"><input type=\"submit\" value=\"Click here to toggle on/off the raw code.\"></form>"
      ],
      "text/plain": [
       "<IPython.core.display.HTML object>"
      ]
     },
     "execution_count": 79,
     "metadata": {},
     "output_type": "execute_result"
    }
   ],
   "source": [
    "from IPython.display import HTML\n",
    "\n",
    "HTML('''<script>\n",
    "code_show=true; \n",
    "function code_toggle() {\n",
    " if (code_show){\n",
    " $('div.input').hide();\n",
    " } else {\n",
    " $('div.input').show();\n",
    " }\n",
    " code_show = !code_show\n",
    "} \n",
    "$( document ).ready(code_toggle);\n",
    "</script>\n",
    "<form action=\"javascript:code_toggle()\"><input type=\"submit\" value=\"Click here to toggle on/off the raw code.\"></form>''')\n"
   ]
  },
  {
   "cell_type": "code",
   "execution_count": 1,
   "metadata": {},
   "outputs": [],
   "source": [
    "%matplotlib  inline"
   ]
  },
  {
   "cell_type": "code",
   "execution_count": 7,
   "metadata": {},
   "outputs": [],
   "source": [
    "import re\n",
    "import numpy as np\n",
    "import pandas as pd\n",
    "import matplotlib.pyplot as plt\n",
    "import pyarrow as pa\n",
    "import pyarrow.parquet as pq\n"
   ]
  },
  {
   "cell_type": "markdown",
   "metadata": {},
   "source": [
    "### Mise au format du fichier des maillots jaunes"
   ]
  },
  {
   "cell_type": "code",
   "execution_count": 5,
   "metadata": {},
   "outputs": [],
   "source": [
    "with open('vainqueurs.txt')  as file:\n",
    "    lignes = file.readlines()\n",
    "    "
   ]
  },
  {
   "cell_type": "code",
   "execution_count": 22,
   "metadata": {},
   "outputs": [
    {
     "data": {
      "text/plain": [
       "[['2021', 'Pogacar'],\n",
       " ['2020', 'Pogacar'],\n",
       " ['2019', 'Bernal'],\n",
       " ['2018', 'Thomas'],\n",
       " ['2017', 'Froome'],\n",
       " ['2016', 'Froome'],\n",
       " ['2015', 'Froome'],\n",
       " ['2014', 'Nibali'],\n",
       " ['2013', 'Froome'],\n",
       " ['2012', 'Wiggins'],\n",
       " ['2011', 'Evans'],\n",
       " ['2010', 'Schleck'],\n",
       " ['2009', 'Contador'],\n",
       " ['2008', 'Sastre'],\n",
       " ['2007', 'Contador'],\n",
       " ['2006', 'Pereiro Sio'],\n",
       " ['2005', None],\n",
       " ['2004', None],\n",
       " ['2003', None],\n",
       " ['2002', None],\n",
       " ['2001', None],\n",
       " ['2000', None],\n",
       " ['1999', None],\n",
       " ['1998', 'Pantani'],\n",
       " ['1997', 'Ullrich'],\n",
       " ['1996', 'Riis'],\n",
       " ['1995', 'Indurain'],\n",
       " ['1994', 'Indurain'],\n",
       " ['1993', 'Indurain'],\n",
       " ['1992', 'Indurain'],\n",
       " ['1991', 'Indurain'],\n",
       " ['1990', 'Lemo'],\n",
       " ['1989', 'Lemond'],\n",
       " ['1988', 'Delgado'],\n",
       " ['1987', 'Roche'],\n",
       " ['1986', 'Lemond'],\n",
       " ['1985', 'Hinault'],\n",
       " ['1984', 'Fignon'],\n",
       " ['1983', 'Fignon'],\n",
       " ['1982', 'Hinault'],\n",
       " ['1981', 'Hinault'],\n",
       " ['1980', 'Zoetemelk'],\n",
       " ['1979', 'Hinault'],\n",
       " ['1978', 'Hinault'],\n",
       " ['1977', 'Thevenet'],\n",
       " ['1976', 'Van Impe'],\n",
       " ['1975', 'Thevenet'],\n",
       " ['1974', 'Merckx'],\n",
       " ['1973', 'Ocana'],\n",
       " ['1972', 'Merckx'],\n",
       " ['1971', 'Merckx'],\n",
       " ['1970', 'Merckx'],\n",
       " ['1969', 'Merckx'],\n",
       " ['1968', 'Janssen'],\n",
       " ['1967', 'Pingeon'],\n",
       " ['1966', 'Aimar'],\n",
       " ['1965', 'Gimondi'],\n",
       " ['1964', 'Anquetil'],\n",
       " ['1963', 'Anquetil'],\n",
       " ['1962', 'Anquetil'],\n",
       " ['1961', 'Anquetil'],\n",
       " ['1960', 'Nencini'],\n",
       " ['1959', 'Bahamontes'],\n",
       " ['1958', 'Gaul'],\n",
       " ['1957', 'Anquetil'],\n",
       " ['1956', 'Walkowiak'],\n",
       " ['1955', 'Bobet'],\n",
       " ['1954', 'Bobet'],\n",
       " ['1953', 'Bobet'],\n",
       " ['1952', 'Coppi'],\n",
       " ['1951', 'Koblet'],\n",
       " ['1950', 'Kubler'],\n",
       " ['1949', 'Coppi'],\n",
       " ['1948', 'Bartali'],\n",
       " ['1947', 'Robic'],\n",
       " ['1939', 'Maes'],\n",
       " ['1938', 'Bartali'],\n",
       " ['1937', 'Lapebie'],\n",
       " ['1936', 'Maes'],\n",
       " ['1935', 'Maes'],\n",
       " ['1934', 'Magne'],\n",
       " ['1933', 'Speicher'],\n",
       " ['1932', 'Leducq'],\n",
       " ['1931', 'Magne'],\n",
       " ['1930', 'Leducq'],\n",
       " ['1929', 'De Waele'],\n",
       " ['1928', 'Frantz'],\n",
       " ['1927', 'Frantz'],\n",
       " ['1926', 'Buysse'],\n",
       " ['1925', 'Bottecchia'],\n",
       " ['1924', 'Bottecchia'],\n",
       " ['1923', 'Pelissier'],\n",
       " ['1922', 'Lambot'],\n",
       " ['1921', 'Scieur'],\n",
       " ['1920', 'Thys'],\n",
       " ['1919', 'Lambot'],\n",
       " ['1914', 'Thys'],\n",
       " ['1913', 'Thys'],\n",
       " ['1912', 'Defraye'],\n",
       " ['1911', 'Garrigou'],\n",
       " ['1910', 'Lapize'],\n",
       " ['1909', 'Faber'],\n",
       " ['1908', 'Petit-Breton'],\n",
       " ['1907', 'Petit-Breton'],\n",
       " ['1906', 'Pottier'],\n",
       " ['1905', 'Trousselier'],\n",
       " ['1904', 'Cornet'],\n",
       " ['1903', 'Garin']]"
      ]
     },
     "execution_count": 22,
     "metadata": {},
     "output_type": "execute_result"
    }
   ],
   "source": [
    "re_annee = r'(\\d{4})'\n",
    "re_vainqueur = r'1\\. \\w\\. (.+?)2'\n",
    "listev = []\n",
    "for ligne in lignes: \n",
    "   # print(ligne)\n",
    "    tan = re.match(re_annee, ligne)\n",
    "    if tan:\n",
    "        annee = tan[1]\n",
    "        tnom = re.search(re_vainqueur, ligne)\n",
    "        if tnom:\n",
    "            if '('  in tnom[1]:\n",
    "                nom = tnom[1][:-6]\n",
    "            else:\n",
    "                nom = tnom[1]\n",
    "        else:\n",
    "            nom =None\n",
    "        listev.append([annee, nom])        \n",
    "listev   \n"
   ]
  },
  {
   "cell_type": "code",
   "execution_count": 25,
   "metadata": {},
   "outputs": [],
   "source": [
    "datav = pd.DataFrame(listev, columns =['annee', 'nom'])"
   ]
  },
  {
   "cell_type": "code",
   "execution_count": 26,
   "metadata": {},
   "outputs": [
    {
     "data": {
      "text/html": [
       "<div>\n",
       "<style scoped>\n",
       "    .dataframe tbody tr th:only-of-type {\n",
       "        vertical-align: middle;\n",
       "    }\n",
       "\n",
       "    .dataframe tbody tr th {\n",
       "        vertical-align: top;\n",
       "    }\n",
       "\n",
       "    .dataframe thead th {\n",
       "        text-align: right;\n",
       "    }\n",
       "</style>\n",
       "<table border=\"1\" class=\"dataframe\">\n",
       "  <thead>\n",
       "    <tr style=\"text-align: right;\">\n",
       "      <th></th>\n",
       "      <th>annee</th>\n",
       "      <th>nom</th>\n",
       "    </tr>\n",
       "  </thead>\n",
       "  <tbody>\n",
       "    <tr>\n",
       "      <th>0</th>\n",
       "      <td>2021</td>\n",
       "      <td>Pogacar</td>\n",
       "    </tr>\n",
       "    <tr>\n",
       "      <th>1</th>\n",
       "      <td>2020</td>\n",
       "      <td>Pogacar</td>\n",
       "    </tr>\n",
       "    <tr>\n",
       "      <th>2</th>\n",
       "      <td>2019</td>\n",
       "      <td>Bernal</td>\n",
       "    </tr>\n",
       "    <tr>\n",
       "      <th>3</th>\n",
       "      <td>2018</td>\n",
       "      <td>Thomas</td>\n",
       "    </tr>\n",
       "    <tr>\n",
       "      <th>4</th>\n",
       "      <td>2017</td>\n",
       "      <td>Froome</td>\n",
       "    </tr>\n",
       "  </tbody>\n",
       "</table>\n",
       "</div>"
      ],
      "text/plain": [
       "  annee      nom\n",
       "0  2021  Pogacar\n",
       "1  2020  Pogacar\n",
       "2  2019   Bernal\n",
       "3  2018   Thomas\n",
       "4  2017   Froome"
      ]
     },
     "execution_count": 26,
     "metadata": {},
     "output_type": "execute_result"
    }
   ],
   "source": [
    "datav.head()"
   ]
  },
  {
   "cell_type": "markdown",
   "metadata": {},
   "source": [
    "### Regrouper par nom"
   ]
  },
  {
   "cell_type": "code",
   "execution_count": 27,
   "metadata": {},
   "outputs": [],
   "source": [
    "gvain = datav.groupby('nom')"
   ]
  },
  {
   "cell_type": "code",
   "execution_count": 34,
   "metadata": {},
   "outputs": [
    {
     "data": {
      "text/plain": [
       "nom\n",
       "Anquetil    5\n",
       "Hinault     5\n",
       "Indurain    5\n",
       "Merckx      5\n",
       "Froome      4\n",
       "Name: nom, dtype: int64"
      ]
     },
     "execution_count": 34,
     "metadata": {},
     "output_type": "execute_result"
    }
   ],
   "source": [
    "gvain['nom'].count().nlargest(5)"
   ]
  },
  {
   "cell_type": "code",
   "execution_count": 40,
   "metadata": {},
   "outputs": [],
   "source": [
    "comp2 = gvain['nom'].count()"
   ]
  },
  {
   "cell_type": "code",
   "execution_count": 74,
   "metadata": {},
   "outputs": [
    {
     "name": "stdout",
     "output_type": "stream",
     "text": [
      "5\n"
     ]
    }
   ],
   "source": [
    "print(comp2.loc['Anquetil'])"
   ]
  },
  {
   "cell_type": "markdown",
   "metadata": {},
   "source": [
    "### Charger le fichier parquet des vainqueurs d'étapes"
   ]
  },
  {
   "cell_type": "code",
   "execution_count": 48,
   "metadata": {},
   "outputs": [
    {
     "name": "stdout",
     "output_type": "stream",
     "text": [
      "<class 'pandas.core.frame.DataFrame'>\n",
      "RangeIndex: 20 entries, 0 to 19\n",
      "Data columns (total 3 columns):\n",
      " #   Column          Non-Null Count  Dtype \n",
      "---  ------          --------------  ----- \n",
      " 0   Winner          20 non-null     object\n",
      " 1   Stage           20 non-null     int64 \n",
      " 2   Winner_Country  20 non-null     int64 \n",
      "dtypes: int64(2), object(1)\n",
      "memory usage: 608.0+ bytes\n"
     ]
    }
   ],
   "source": [
    "data1= pd.read_parquet('vetape.parquet')\n",
    "data1.info()"
   ]
  },
  {
   "cell_type": "code",
   "execution_count": 54,
   "metadata": {},
   "outputs": [
    {
     "data": {
      "text/plain": [
       "3"
      ]
     },
     "execution_count": 54,
     "metadata": {},
     "output_type": "execute_result"
    }
   ],
   "source": [
    "comp2.loc['Thys']"
   ]
  },
  {
   "cell_type": "code",
   "execution_count": 55,
   "metadata": {},
   "outputs": [
    {
     "name": "stdout",
     "output_type": "stream",
     "text": [
      "Philippe Thys\n",
      "Louis Trousselier\n",
      "Jean Aerts\n",
      "Gino Bartali\n",
      "Erik Zabel\n",
      "Mario Cipollini\n",
      "René Le Grevès\n",
      "Marcel Kittel\n",
      "Freddy Maertens\n",
      "Charles Pélissier\n",
      "Jacques Anquetil\n",
      "Jean Alavoine\n",
      "François Faber\n",
      "Nicolas Frantz\n",
      "Lance Armstrong[n 1]\n",
      "André Darrigade\n",
      "André Leducq\n",
      "Bernard Hinault\n",
      "Mark Cavendish\n",
      "Eddy Merckx\n",
      "[True, True, False, True, False, False, False, False, False, False, True, False, True, True, False, False, True, True, False, True]\n"
     ]
    }
   ],
   "source": [
    "re_nom = r' ([A-Z]\\w+)'\n",
    "lv = []\n",
    "for item in data1['Winner'] :\n",
    "    print(item)\n",
    "    nom = re.search(re_nom, item)\n",
    "    if nom:\n",
    "       # print(nom[1])\n",
    "       try:\n",
    "           cherche = comp2.loc[nom[1]]\n",
    "           lv.append(True)\n",
    "       except:\n",
    "           lv.append(False) \n",
    "print(lv)            "
   ]
  },
  {
   "cell_type": "code",
   "execution_count": 56,
   "metadata": {},
   "outputs": [],
   "source": [
    "data1['vainqueur'] = lv"
   ]
  },
  {
   "cell_type": "markdown",
   "metadata": {},
   "source": [
    "### Visualisation"
   ]
  },
  {
   "cell_type": "code",
   "execution_count": 73,
   "metadata": {},
   "outputs": [
    {
     "data": {
      "image/png": "[encoded data removed]",
      "text/plain": [
       "<Figure size 1080x720 with 1 Axes>"
      ]
     },
     "metadata": {
      "needs_background": "light"
     },
     "output_type": "display_data"
    }
   ],
   "source": [
    "from matplotlib import patches as mpatches\n",
    "handles = [mpatches.Patch(color='g') , mpatches.Patch(color='y')]\n",
    "labels = ['maillot vert', 'maillot jaune']\n",
    "           \n",
    "colors = np.array(['g']*len(lv))\n",
    "colors[lv] ='y'\n",
    "plt.figure(figsize =(15,10))\n",
    "plt.bar(data1['Winner'],data1['Stage'],color = colors, )\n",
    "plt.legend(handles, labels)     \n",
    "plt.xticks(rotation='vertical')\n",
    "plt.xlabel('nom')\n",
    "plt.ylabel('nombre d etape')\n",
    "plt.title('hall de la légende')\n",
    "plt.savefig('mongraphvainqueur.png')"
   ]
  }
 ],
 "metadata": {
  "kernelspec": {
   "display_name": "Python 3 (ipykernel)",
   "language": "python",
   "name": "python3"
  },
  "language_info": {
   "codemirror_mode": {
    "name": "ipython",
    "version": 3
   },
   "file_extension": ".py",
   "mimetype": "text/x-python",
   "name": "python",
   "nbconvert_exporter": "python",
   "pygments_lexer": "ipython3",
   "version": "3.9.12"
  }
 },
 "nbformat": 4,
 "nbformat_minor": 2
}
