{
 "cells": [
  {
   "cell_type": "markdown",
   "metadata": {},
   "source": [
    "## Constructeur d'un entier"
   ]
  },
  {
   "cell_type": "code",
   "execution_count": 1,
   "metadata": {},
   "outputs": [
    {
     "name": "stdout",
     "output_type": "stream",
     "text": [
      "12 <class 'int'>\n"
     ]
    }
   ],
   "source": [
    "a = 12\n",
    "print(a, type(a))"
   ]
  },
  {
   "cell_type": "markdown",
   "metadata": {},
   "source": [
    "## Constructeur d'un nombre à vigule flottante"
   ]
  },
  {
   "cell_type": "code",
   "execution_count": 2,
   "metadata": {},
   "outputs": [
    {
     "name": "stdout",
     "output_type": "stream",
     "text": [
      "3.14 <class 'float'>\n"
     ]
    }
   ],
   "source": [
    "b = 3.14\n",
    "print(b, type(b))"
   ]
  },
  {
   "cell_type": "markdown",
   "metadata": {},
   "source": [
    "## Constructeur d'une chaine de caractère"
   ]
  },
  {
   "cell_type": "code",
   "execution_count": 3,
   "metadata": {},
   "outputs": [
    {
     "name": "stdout",
     "output_type": "stream",
     "text": [
      "machaine <class 'str'>\n"
     ]
    }
   ],
   "source": [
    "c = 'machaine'\n",
    "print(c, type(c))"
   ]
  },
  {
   "cell_type": "markdown",
   "metadata": {},
   "source": [
    "## Constructeur de tuple"
   ]
  },
  {
   "cell_type": "code",
   "execution_count": 4,
   "metadata": {},
   "outputs": [
    {
     "name": "stdout",
     "output_type": "stream",
     "text": [
      "(1, 3) <class 'tuple'>\n",
      "('er', 3) <class 'tuple'>\n",
      "(3,) <class 'tuple'>\n",
      "(3, 'rt') <class 'tuple'>\n",
      "(3,) <class 'tuple'>\n",
      "3 <class 'int'>\n"
     ]
    }
   ],
   "source": [
    "d = (1,3)\n",
    "e = ('er', 3)\n",
    "f ='er', 3\n",
    "g = 3,\n",
    "h = tuple((3, 'rt'))\n",
    "i = (3,)\n",
    "j = (3) # ceci n'est pas un tuple\n",
    "for s in (d,f,g,h,i,j) :\n",
    "    print(s,type(s)) "
   ]
  },
  {
   "cell_type": "markdown",
   "metadata": {},
   "source": [
    "## Constructeur de list"
   ]
  },
  {
   "cell_type": "code",
   "execution_count": 7,
   "metadata": {},
   "outputs": [
    {
     "name": "stdout",
     "output_type": "stream",
     "text": [
      "[] <class 'list'>\n",
      "[3, 'er'] <class 'list'>\n",
      "[1, 2, 'eg'] <class 'list'>\n",
      "['m', 'a', 'c', 'h', 'a', 'i', 'n', 'e'] <class 'list'>\n"
     ]
    }
   ],
   "source": [
    "l = []\n",
    "m = [3, 'er']\n",
    "o = list((1,2,'eg'))\n",
    "p = list('machaine')\n",
    "for s in [l, m, o, p]:\n",
    "    print(s,type(s))\n"
   ]
  },
  {
   "cell_type": "markdown",
   "metadata": {},
   "source": [
    "## Constructeur de dictionnaire"
   ]
  },
  {
   "cell_type": "code",
   "execution_count": 10,
   "metadata": {},
   "outputs": [
    {
     "name": "stdout",
     "output_type": "stream",
     "text": [
      "{} <class 'dict'>\n",
      "{'cle': 'valeur', 3: 'trois'} <class 'dict'>\n"
     ]
    }
   ],
   "source": [
    "mondict1 = {}\n",
    "print(mondict1,type(mondict1))\n",
    "mondict2 = {'cle': 'valeur' , 3: 'trois' }\n",
    "print(mondict2,type(mondict2))"
   ]
  },
  {
   "cell_type": "markdown",
   "metadata": {},
   "source": [
    "## Constructeur de set"
   ]
  },
  {
   "cell_type": "code",
   "execution_count": 19,
   "metadata": {},
   "outputs": [
    {
     "name": "stdout",
     "output_type": "stream",
     "text": [
      "{'as', 10, 3, 'roi'} <class 'set'>\n",
      "{'as', 10, 3, 'roi'} <class 'set'>\n",
      "set() <class 'set'>\n",
      "set() <class 'set'>\n",
      "{} <class 'dict'>\n"
     ]
    }
   ],
   "source": [
    "monset1 = set((3, 'as', 'roi', 10))\n",
    "print(monset1, type(monset1))\n",
    "monset2 = {3, 'as', 'roi', 10}\n",
    "print(monset2, type(monset2))\n",
    "monset3 = set()\n",
    "print(monset3, type(monset3))\n",
    "monset4 = set({})\n",
    "print(monset4 ,type(monset4))\n",
    "monset5 = {} #  Erreur ce n'est pas un set \n",
    "print(monset5, type(monset5))\n"
   ]
  },
  {
   "cell_type": "markdown",
   "metadata": {},
   "source": [
    "##  Astuce  : faire une boucle for pour afficher 5 types de variables  set. \n"
   ]
  },
  {
   "cell_type": "code",
   "execution_count": 37,
   "metadata": {},
   "outputs": [
    {
     "name": "stdout",
     "output_type": "stream",
     "text": [
      "{'as', 10, 3, 'roi'} <class 'set'>\n",
      "{'as', 10, 3, 'roi'} <class 'set'>\n",
      "set() <class 'set'>\n",
      "set() <class 'set'>\n",
      "{} <class 'dict'>\n"
     ]
    }
   ],
   "source": [
    "for i in range(1,6) :\n",
    "    nom = f'monset{i}'  ## monset1 , monset2 etc..\n",
    "    variable= globals()[nom]\n",
    "    print(variable, type(variable))"
   ]
  }
 ],
 "metadata": {
  "kernelspec": {
   "display_name": "Python 3",
   "language": "python",
   "name": "python3"
  },
  "language_info": {
   "codemirror_mode": {
    "name": "ipython",
    "version": 3
   },
   "file_extension": ".py",
   "mimetype": "text/x-python",
   "name": "python",
   "nbconvert_exporter": "python",
   "pygments_lexer": "ipython3",
   "version": "3.7.4"
  }
 },
 "nbformat": 4,
 "nbformat_minor": 2
}
