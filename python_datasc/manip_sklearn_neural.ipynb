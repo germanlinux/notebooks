{
 "cells": [
  {
   "cell_type": "markdown",
   "id": "84207c6a",
   "metadata": {},
   "source": [
    "## On souhaite simuler un opérateur logique 'et' "
   ]
  },
  {
   "cell_type": "markdown",
   "id": "9f9b167f",
   "metadata": {},
   "source": [
    "### Generer des cas d'ecole  1 ou 0"
   ]
  },
  {
   "cell_type": "code",
   "execution_count": 1,
   "id": "e9b95d5c",
   "metadata": {},
   "outputs": [],
   "source": [
    "import numpy as np \n",
    "import random\n",
    "import pandas as pd"
   ]
  },
  {
   "cell_type": "markdown",
   "id": "6e441296",
   "metadata": {},
   "source": [
    "### Construction des données d apprentissage\n"
   ]
  },
  {
   "cell_type": "markdown",
   "id": "229beba3",
   "metadata": {},
   "source": [
    "#### Cas simples: 0 ou 1"
   ]
  },
  {
   "cell_type": "code",
   "execution_count": 2,
   "id": "cb2867fb",
   "metadata": {},
   "outputs": [],
   "source": [
    "x1 = [random.choice([0.0, 1.0])   for x in range(30)]\n",
    "x2 =  [random.choice([0.0, 1.0])   for x in range(30)]"
   ]
  },
  {
   "cell_type": "code",
   "execution_count": 3,
   "id": "d2847041",
   "metadata": {},
   "outputs": [
    {
     "name": "stdout",
     "output_type": "stream",
     "text": [
      "[0.0, 1.0, 0.0, 1.0, 0.0, 1.0, 0.0, 1.0, 1.0, 1.0, 1.0, 1.0, 1.0, 1.0, 0.0, 0.0, 1.0, 0.0, 1.0, 0.0, 1.0, 0.0, 0.0, 1.0, 1.0, 0.0, 1.0, 1.0, 0.0, 1.0]\n"
     ]
    }
   ],
   "source": [
    "print(x1)"
   ]
  },
  {
   "cell_type": "markdown",
   "id": "f4ce012f",
   "metadata": {},
   "source": [
    "### détermination des etiquettes 0 ou 1"
   ]
  },
  {
   "cell_type": "code",
   "execution_count": 4,
   "id": "ba766ea7",
   "metadata": {},
   "outputs": [],
   "source": [
    "y_cas_general = zip(x1, x2)\n",
    "y_general = [1 if x[0] == 1 and x[1] == 1 else 0  for x in y_cas_general  ]"
   ]
  },
  {
   "cell_type": "markdown",
   "id": "946e2021",
   "metadata": {},
   "source": [
    "### introduction de 'bruit' dans les données"
   ]
  },
  {
   "cell_type": "code",
   "execution_count": 5,
   "id": "d8f6ffd5",
   "metadata": {},
   "outputs": [
    {
     "name": "stdout",
     "output_type": "stream",
     "text": [
      "[0, 1, 2, 3, 4, 5]\n"
     ]
    }
   ],
   "source": [
    "ecart = list(range(6))\n",
    "print(ecart)"
   ]
  },
  {
   "cell_type": "markdown",
   "id": "9490538d",
   "metadata": {},
   "source": [
    "### Création d'un deuxieme jeu de données: les entrants sont pertubés mais le resultats doit rester le même"
   ]
  },
  {
   "cell_type": "code",
   "execution_count": 6,
   "id": "eeb41929",
   "metadata": {},
   "outputs": [],
   "source": [
    "# x3 = [0 + (random.choice(ecart) / 10.0) for x ]\n",
    "y_cas_general = zip(x1, x2)\n",
    "x_fading = []\n",
    "for (nx0,nx1) in y_cas_general :\n",
    "    if nx0 == 0:\n",
    "        nx0 += (random.choice(ecart) / 10.0)\n",
    "    else:\n",
    "        nx0 -= (random.choice(ecart) / 10.0) \n",
    "    if nx1 == 0:\n",
    "        nx1 += (random.choice(ecart) / 10.0)\n",
    "    else:\n",
    "        nx1 -= (random.choice(ecart) / 10.0) \n",
    "    x_fading.append((nx0, nx1))\n",
    "y_fading = y_general\n"
   ]
  },
  {
   "cell_type": "markdown",
   "id": "7151722d",
   "metadata": {},
   "source": [
    "### Création d'un datagramme qu'il faudra 'retourner' c'est à dire le transposer"
   ]
  },
  {
   "cell_type": "code",
   "execution_count": 7,
   "id": "8490f9ae",
   "metadata": {},
   "outputs": [
    {
     "name": "stdout",
     "output_type": "stream",
     "text": [
      "(3, 30)\n",
      "    0    1    2    3    4    5    6    7    8    9   ...   20   21   22   23  \\\n",
      "0  0.0  1.0  0.0  1.0  0.0  1.0  0.0  1.0  1.0  1.0  ...  1.0  0.0  0.0  1.0   \n",
      "1  0.0  1.0  1.0  0.0  1.0  1.0  1.0  0.0  1.0  0.0  ...  0.0  0.0  0.0  0.0   \n",
      "2  0.0  1.0  0.0  0.0  0.0  1.0  0.0  0.0  1.0  0.0  ...  0.0  0.0  0.0  0.0   \n",
      "\n",
      "    24   25   26   27   28   29  \n",
      "0  1.0  0.0  1.0  1.0  0.0  1.0  \n",
      "1  0.0  0.0  1.0  1.0  1.0  0.0  \n",
      "2  0.0  0.0  1.0  1.0  0.0  0.0  \n",
      "\n",
      "[3 rows x 30 columns]\n"
     ]
    }
   ],
   "source": [
    "dt = pd.DataFrame([x1, x2, y_general])\n",
    "print(dt.shape)\n",
    "print(dt.head())"
   ]
  },
  {
   "cell_type": "markdown",
   "id": "8b4b10f4",
   "metadata": {},
   "source": [
    "### Fabrication d'un 2eme dataframe pour les données brouillées"
   ]
  },
  {
   "cell_type": "code",
   "execution_count": 8,
   "id": "adb16840",
   "metadata": {},
   "outputs": [
    {
     "name": "stdout",
     "output_type": "stream",
     "text": [
      "    0    1    2    3    4    5    6    7    8    9   ...   20   21   22   23  \\\n",
      "0  0.3  0.9  0.2  0.6  0.5  0.5  0.3  0.5  1.0  0.7  ...  0.6  0.0  0.0  0.6   \n",
      "1  0.4  0.8  0.9  0.4  1.0  0.9  0.8  0.1  0.5  0.4  ...  0.0  0.2  0.5  0.5   \n",
      "2  0.0  1.0  0.0  0.0  0.0  1.0  0.0  0.0  1.0  0.0  ...  0.0  0.0  0.0  0.0   \n",
      "\n",
      "    24   25   26   27   28   29  \n",
      "0  0.7  0.4  0.6  0.6  0.3  0.8  \n",
      "1  0.1  0.1  0.9  0.9  0.7  0.5  \n",
      "2  0.0  0.0  1.0  1.0  0.0  0.0  \n",
      "\n",
      "[3 rows x 30 columns]\n"
     ]
    }
   ],
   "source": [
    "x0_fadingok = [x0 for x0,_ in x_fading]\n",
    "x1_fadingok = [x1 for _,x1 in x_fading]\n",
    "\n",
    "              \n",
    "dt2 = pd.DataFrame([x0_fadingok, x1_fadingok, y_general])\n",
    "print(dt2.head())"
   ]
  },
  {
   "cell_type": "markdown",
   "id": "15320a8e",
   "metadata": {},
   "source": [
    "### On concatene les deux dataframes"
   ]
  },
  {
   "cell_type": "code",
   "execution_count": 9,
   "id": "32a99fe6",
   "metadata": {},
   "outputs": [],
   "source": [
    "dtotal = pd.concat([dt,dt2], axis = 1)"
   ]
  },
  {
   "cell_type": "code",
   "execution_count": 10,
   "id": "3fef1b8c",
   "metadata": {},
   "outputs": [
    {
     "data": {
      "text/html": [
       "<div>\n",
       "<style scoped>\n",
       "    .dataframe tbody tr th:only-of-type {\n",
       "        vertical-align: middle;\n",
       "    }\n",
       "\n",
       "    .dataframe tbody tr th {\n",
       "        vertical-align: top;\n",
       "    }\n",
       "\n",
       "    .dataframe thead th {\n",
       "        text-align: right;\n",
       "    }\n",
       "</style>\n",
       "<table border=\"1\" class=\"dataframe\">\n",
       "  <thead>\n",
       "    <tr style=\"text-align: right;\">\n",
       "      <th></th>\n",
       "      <th>0</th>\n",
       "      <th>1</th>\n",
       "      <th>2</th>\n",
       "      <th>3</th>\n",
       "      <th>4</th>\n",
       "      <th>5</th>\n",
       "      <th>6</th>\n",
       "      <th>7</th>\n",
       "      <th>8</th>\n",
       "      <th>9</th>\n",
       "      <th>...</th>\n",
       "      <th>20</th>\n",
       "      <th>21</th>\n",
       "      <th>22</th>\n",
       "      <th>23</th>\n",
       "      <th>24</th>\n",
       "      <th>25</th>\n",
       "      <th>26</th>\n",
       "      <th>27</th>\n",
       "      <th>28</th>\n",
       "      <th>29</th>\n",
       "    </tr>\n",
       "  </thead>\n",
       "  <tbody>\n",
       "    <tr>\n",
       "      <th>0</th>\n",
       "      <td>0.0</td>\n",
       "      <td>1.0</td>\n",
       "      <td>0.0</td>\n",
       "      <td>1.0</td>\n",
       "      <td>0.0</td>\n",
       "      <td>1.0</td>\n",
       "      <td>0.0</td>\n",
       "      <td>1.0</td>\n",
       "      <td>1.0</td>\n",
       "      <td>1.0</td>\n",
       "      <td>...</td>\n",
       "      <td>0.6</td>\n",
       "      <td>0.0</td>\n",
       "      <td>0.0</td>\n",
       "      <td>0.6</td>\n",
       "      <td>0.7</td>\n",
       "      <td>0.4</td>\n",
       "      <td>0.6</td>\n",
       "      <td>0.6</td>\n",
       "      <td>0.3</td>\n",
       "      <td>0.8</td>\n",
       "    </tr>\n",
       "    <tr>\n",
       "      <th>1</th>\n",
       "      <td>0.0</td>\n",
       "      <td>1.0</td>\n",
       "      <td>1.0</td>\n",
       "      <td>0.0</td>\n",
       "      <td>1.0</td>\n",
       "      <td>1.0</td>\n",
       "      <td>1.0</td>\n",
       "      <td>0.0</td>\n",
       "      <td>1.0</td>\n",
       "      <td>0.0</td>\n",
       "      <td>...</td>\n",
       "      <td>0.0</td>\n",
       "      <td>0.2</td>\n",
       "      <td>0.5</td>\n",
       "      <td>0.5</td>\n",
       "      <td>0.1</td>\n",
       "      <td>0.1</td>\n",
       "      <td>0.9</td>\n",
       "      <td>0.9</td>\n",
       "      <td>0.7</td>\n",
       "      <td>0.5</td>\n",
       "    </tr>\n",
       "    <tr>\n",
       "      <th>2</th>\n",
       "      <td>0.0</td>\n",
       "      <td>1.0</td>\n",
       "      <td>0.0</td>\n",
       "      <td>0.0</td>\n",
       "      <td>0.0</td>\n",
       "      <td>1.0</td>\n",
       "      <td>0.0</td>\n",
       "      <td>0.0</td>\n",
       "      <td>1.0</td>\n",
       "      <td>0.0</td>\n",
       "      <td>...</td>\n",
       "      <td>0.0</td>\n",
       "      <td>0.0</td>\n",
       "      <td>0.0</td>\n",
       "      <td>0.0</td>\n",
       "      <td>0.0</td>\n",
       "      <td>0.0</td>\n",
       "      <td>1.0</td>\n",
       "      <td>1.0</td>\n",
       "      <td>0.0</td>\n",
       "      <td>0.0</td>\n",
       "    </tr>\n",
       "  </tbody>\n",
       "</table>\n",
       "<p>3 rows × 60 columns</p>\n",
       "</div>"
      ],
      "text/plain": [
       "    0    1    2    3    4    5    6    7    8    9   ...   20   21   22   23  \\\n",
       "0  0.0  1.0  0.0  1.0  0.0  1.0  0.0  1.0  1.0  1.0  ...  0.6  0.0  0.0  0.6   \n",
       "1  0.0  1.0  1.0  0.0  1.0  1.0  1.0  0.0  1.0  0.0  ...  0.0  0.2  0.5  0.5   \n",
       "2  0.0  1.0  0.0  0.0  0.0  1.0  0.0  0.0  1.0  0.0  ...  0.0  0.0  0.0  0.0   \n",
       "\n",
       "    24   25   26   27   28   29  \n",
       "0  0.7  0.4  0.6  0.6  0.3  0.8  \n",
       "1  0.1  0.1  0.9  0.9  0.7  0.5  \n",
       "2  0.0  0.0  1.0  1.0  0.0  0.0  \n",
       "\n",
       "[3 rows x 60 columns]"
      ]
     },
     "execution_count": 10,
     "metadata": {},
     "output_type": "execute_result"
    }
   ],
   "source": [
    "dtotal.head()"
   ]
  },
  {
   "cell_type": "code",
   "execution_count": 11,
   "id": "56622119",
   "metadata": {},
   "outputs": [],
   "source": [
    "import matplotlib.pyplot as plt"
   ]
  },
  {
   "cell_type": "markdown",
   "id": "d1be7827",
   "metadata": {},
   "source": [
    "### On permutte les colonnes et les iignes: transposition"
   ]
  },
  {
   "cell_type": "code",
   "execution_count": 12,
   "id": "dafabffd",
   "metadata": {},
   "outputs": [
    {
     "name": "stdout",
     "output_type": "stream",
     "text": [
      "     0    1    2\n",
      "0  0.0  0.0  0.0\n",
      "1  1.0  1.0  1.0\n",
      "2  0.0  1.0  0.0\n",
      "3  1.0  0.0  0.0\n",
      "4  0.0  1.0  0.0\n"
     ]
    }
   ],
   "source": [
    "dtotal= dtotal.transpose()\n",
    "print(dtotal.head())"
   ]
  },
  {
   "cell_type": "markdown",
   "id": "8e84dcfe",
   "metadata": {},
   "source": [
    "### Création d'un filtre nommé"
   ]
  },
  {
   "cell_type": "code",
   "execution_count": 13,
   "id": "0c575350",
   "metadata": {},
   "outputs": [],
   "source": [
    "vrai = dtotal[2] == 1"
   ]
  },
  {
   "cell_type": "markdown",
   "id": "6588a832",
   "metadata": {},
   "source": [
    "### Decompte des 'faux' et 'vrais'"
   ]
  },
  {
   "cell_type": "code",
   "execution_count": 14,
   "id": "d17e876f",
   "metadata": {},
   "outputs": [
    {
     "data": {
      "text/plain": [
       "False    42\n",
       "True     18\n",
       "Name: 2, dtype: int64"
      ]
     },
     "execution_count": 14,
     "metadata": {},
     "output_type": "execute_result"
    }
   ],
   "source": [
    "vrai.value_counts()"
   ]
  },
  {
   "cell_type": "markdown",
   "id": "288fe66b",
   "metadata": {},
   "source": [
    "### Visualisation des données"
   ]
  },
  {
   "cell_type": "code",
   "execution_count": 27,
   "id": "aebcc43c",
   "metadata": {},
   "outputs": [
    {
     "data": {
      "text/plain": [
       "<matplotlib.legend.Legend at 0x210d1e829d0>"
      ]
     },
     "execution_count": 27,
     "metadata": {},
     "output_type": "execute_result"
    },
    {
     "data": {
      "image/png": "[encoded data removed]",
      "text/plain": [
       "<Figure size 432x288 with 1 Axes>"
      ]
     },
     "metadata": {
      "needs_background": "light"
     },
     "output_type": "display_data"
    }
   ],
   "source": [
    "plt.scatter(dtotal[0][vrai],dtotal[1][vrai], marker='+' )\n",
    "plt.scatter(dtotal[0][~vrai],dtotal[1][~vrai], marker='o' , color ='r' )\n",
    "plt.xlabel('x1')\n",
    "plt.ylabel('x2')\n",
    "plt.legend(['vrai', 'faux'], loc = 'lower right')\n"
   ]
  },
  {
   "cell_type": "markdown",
   "id": "e7fb84ad",
   "metadata": {},
   "source": [
    "### Utisation d'un perceptron"
   ]
  },
  {
   "cell_type": "code",
   "execution_count": 17,
   "id": "7fa52352",
   "metadata": {},
   "outputs": [],
   "source": [
    "from sklearn.linear_model import Perceptron"
   ]
  },
  {
   "cell_type": "markdown",
   "id": "368e82bb",
   "metadata": {},
   "source": [
    "### Export du dataframe vers des objets numpy"
   ]
  },
  {
   "cell_type": "code",
   "execution_count": 18,
   "id": "894789bd",
   "metadata": {},
   "outputs": [
    {
     "name": "stdout",
     "output_type": "stream",
     "text": [
      "60\n"
     ]
    }
   ],
   "source": [
    "X_ = dtotal[[0,1]].to_numpy()\n",
    "y = dtotal[2].to_numpy()\n",
    "print(len(y))"
   ]
  },
  {
   "cell_type": "markdown",
   "id": "00e868b3",
   "metadata": {},
   "source": [
    "### Entrainement du modèle"
   ]
  },
  {
   "cell_type": "code",
   "execution_count": 19,
   "id": "1821ee52",
   "metadata": {},
   "outputs": [
    {
     "name": "stdout",
     "output_type": "stream",
     "text": [
      "-- Epoch 1\n",
      "Norm: 2.10, NNZs: 2, Bias: -3.000000, T: 60, Avg. loss: 0.245333\n",
      "Total training time: 0.00 seconds.\n",
      "-- Epoch 2\n",
      "Norm: 3.96, NNZs: 2, Bias: -2.000000, T: 120, Avg. loss: 0.077500\n",
      "Total training time: 0.00 seconds.\n",
      "-- Epoch 3\n",
      "Norm: 4.08, NNZs: 2, Bias: -4.000000, T: 180, Avg. loss: 0.071833\n",
      "Total training time: 0.00 seconds.\n",
      "-- Epoch 4\n",
      "Norm: 4.95, NNZs: 2, Bias: -4.000000, T: 240, Avg. loss: 0.079167\n",
      "Total training time: 0.00 seconds.\n",
      "-- Epoch 5\n",
      "Norm: 4.74, NNZs: 2, Bias: -5.000000, T: 300, Avg. loss: 0.025500\n",
      "Total training time: 0.01 seconds.\n",
      "-- Epoch 6\n",
      "Norm: 5.24, NNZs: 2, Bias: -5.000000, T: 360, Avg. loss: 0.060333\n",
      "Total training time: 0.01 seconds.\n",
      "-- Epoch 7\n",
      "Norm: 5.16, NNZs: 2, Bias: -5.000000, T: 420, Avg. loss: 0.041333\n",
      "Total training time: 0.01 seconds.\n",
      "-- Epoch 8\n",
      "Norm: 4.86, NNZs: 2, Bias: -6.000000, T: 480, Avg. loss: 0.058000\n",
      "Total training time: 0.01 seconds.\n",
      "-- Epoch 9\n",
      "Norm: 6.17, NNZs: 2, Bias: -5.000000, T: 540, Avg. loss: 0.059500\n",
      "Total training time: 0.01 seconds.\n",
      "-- Epoch 10\n",
      "Norm: 5.66, NNZs: 2, Bias: -6.000000, T: 600, Avg. loss: 0.075667\n",
      "Total training time: 0.01 seconds.\n",
      "Convergence after 10 epochs took 0.01 seconds\n"
     ]
    },
    {
     "data": {
      "text/plain": [
       "Perceptron(verbose=1)"
      ]
     },
     "execution_count": 19,
     "metadata": {},
     "output_type": "execute_result"
    }
   ],
   "source": [
    "pr = Perceptron(verbose=1)\n",
    "pr.fit(X_, y )"
   ]
  },
  {
   "cell_type": "markdown",
   "id": "138777f1",
   "metadata": {},
   "source": [
    "### Affiche les poids calculés"
   ]
  },
  {
   "cell_type": "code",
   "execution_count": 20,
   "id": "31177840",
   "metadata": {},
   "outputs": [
    {
     "name": "stdout",
     "output_type": "stream",
     "text": [
      "[[4.2 3.8]] [-6.]\n"
     ]
    }
   ],
   "source": [
    "print(pr.coef_, pr.intercept_)"
   ]
  },
  {
   "cell_type": "markdown",
   "id": "193fcc70",
   "metadata": {},
   "source": [
    "### Construction des cas de test"
   ]
  },
  {
   "cell_type": "code",
   "execution_count": 21,
   "id": "e5e60ee1",
   "metadata": {},
   "outputs": [],
   "source": [
    "tests  = np.array([[0,0], [1,0], [0,1] , [1, 1]])\n",
    "y_theorique = np.array([0, 0, 0, 1])"
   ]
  },
  {
   "cell_type": "markdown",
   "id": "2d822c65",
   "metadata": {},
   "source": [
    "### Score de notre modèle"
   ]
  },
  {
   "cell_type": "code",
   "execution_count": 22,
   "id": "d8a7674a",
   "metadata": {},
   "outputs": [
    {
     "data": {
      "text/plain": [
       "1.0"
      ]
     },
     "execution_count": 22,
     "metadata": {},
     "output_type": "execute_result"
    }
   ],
   "source": [
    "pr.score(tests, y_theorique)"
   ]
  },
  {
   "cell_type": "markdown",
   "id": "5ecb6fdd",
   "metadata": {},
   "source": [
    "### Prévisions"
   ]
  },
  {
   "cell_type": "code",
   "execution_count": 23,
   "id": "e26597c1",
   "metadata": {},
   "outputs": [
    {
     "data": {
      "text/plain": [
       "array([0., 0., 0., 1.])"
      ]
     },
     "execution_count": 23,
     "metadata": {},
     "output_type": "execute_result"
    }
   ],
   "source": [
    "pr.predict(tests)"
   ]
  },
  {
   "cell_type": "code",
   "execution_count": 24,
   "id": "d841f2b7",
   "metadata": {},
   "outputs": [
    {
     "data": {
      "text/plain": [
       "array([-6. , -1.8, -2.2,  2. ])"
      ]
     },
     "execution_count": 24,
     "metadata": {},
     "output_type": "execute_result"
    }
   ],
   "source": [
    "pr.decision_function(tests)"
   ]
  },
  {
   "cell_type": "code",
   "execution_count": 25,
   "id": "5d0ab8d3",
   "metadata": {},
   "outputs": [
    {
     "data": {
      "text/plain": [
       "{'alpha': 0.0001,\n",
       " 'class_weight': None,\n",
       " 'early_stopping': False,\n",
       " 'eta0': 1.0,\n",
       " 'fit_intercept': True,\n",
       " 'l1_ratio': 0.15,\n",
       " 'max_iter': 1000,\n",
       " 'n_iter_no_change': 5,\n",
       " 'n_jobs': None,\n",
       " 'penalty': None,\n",
       " 'random_state': 0,\n",
       " 'shuffle': True,\n",
       " 'tol': 0.001,\n",
       " 'validation_fraction': 0.1,\n",
       " 'verbose': 1,\n",
       " 'warm_start': False}"
      ]
     },
     "execution_count": 25,
     "metadata": {},
     "output_type": "execute_result"
    }
   ],
   "source": [
    "pr.get_params()"
   ]
  }
 ],
 "metadata": {
  "kernelspec": {
   "display_name": "Python 3 (ipykernel)",
   "language": "python",
   "name": "python3"
  },
  "language_info": {
   "codemirror_mode": {
    "name": "ipython",
    "version": 3
   },
   "file_extension": ".py",
   "mimetype": "text/x-python",
   "name": "python",
   "nbconvert_exporter": "python",
   "pygments_lexer": "ipython3",
   "version": "3.9.12"
  }
 },
 "nbformat": 4,
 "nbformat_minor": 5
}
