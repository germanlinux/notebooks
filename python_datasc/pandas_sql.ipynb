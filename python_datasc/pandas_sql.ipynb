{
 "cells": [
  {
   "cell_type": "code",
   "execution_count": 1,
   "metadata": {},
   "outputs": [],
   "source": [
    "import pandas as pd\n",
    "import sqlite3 as sq"
   ]
  },
  {
   "cell_type": "code",
   "execution_count": 2,
   "metadata": {},
   "outputs": [],
   "source": [
    "conn = sq.connect('films.db')\n"
   ]
  },
  {
   "cell_type": "code",
   "execution_count": 10,
   "metadata": {},
   "outputs": [],
   "source": [
    "dp = pd.read_sql_query('select * from best_films ', conn, index_col='id')"
   ]
  },
  {
   "cell_type": "code",
   "execution_count": 11,
   "metadata": {},
   "outputs": [
    {
     "name": "stdout",
     "output_type": "stream",
     "text": [
      "                            titre     duree  \\\n",
      "id                                            \n",
      "1                    Forrest Gump  2h 20min   \n",
      "2           La Liste de Schindler  3h 15min   \n",
      "3                  La Ligne verte  3h 09min   \n",
      "4             12 hommes en colère  1h 35min   \n",
      "5                      Le Parrain  2h 55min   \n",
      "..                            ...       ...   \n",
      "296  La Colline des hommes perdus  2h 03min   \n",
      "297                       Amadeus  3h 00min   \n",
      "298          Inglourious Basterds  2h 33min   \n",
      "299                   M le Maudit  1h 52min   \n",
      "300                   Raging Bull  2h 09min   \n",
      "\n",
      "                                                 pitch           categorie  \\\n",
      "id                                                                           \n",
      "1    Quelques décennies d'histoire américaine, des ...             Comédie   \n",
      "2    Evocation des années de guerre d'Oskar Schindl...          Historique   \n",
      "3    Paul Edgecomb, Gardien-chef du pénitencier de ...            Policier   \n",
      "4    Lors d'un procès, un juré émet l'hypothèse que...               Drame   \n",
      "5    En 1945, à New York, les Corleone sont une des...            Policier   \n",
      "..                                                 ...                 ...   \n",
      "296  Durant la Seconde Guerre mondiale, un camp dis...              Guerre   \n",
      "297  Au XVIIIe siècle, à Vienne, Antonio Salieri, l...  Comédie dramatique   \n",
      "298  Dans la France occupée de 1940, Shosanna assis...              Action   \n",
      "299  Toute la presse ne parle que de ça : le maniaq...            Policier   \n",
      "300  La carrière éblouissante du boxeur Jake La Mot...              Biopic   \n",
      "\n",
      "              realisateur  \n",
      "id                         \n",
      "1         Robert Zemeckis  \n",
      "2        Steven Spielberg  \n",
      "3          Frank Darabont  \n",
      "4            Sidney Lumet  \n",
      "5    Francis Ford Coppola  \n",
      "..                    ...  \n",
      "296          Sidney Lumet  \n",
      "297          Milos Forman  \n",
      "298     Quentin Tarantino  \n",
      "299            Fritz Lang  \n",
      "300       Martin Scorsese  \n",
      "\n",
      "[300 rows x 5 columns]\n"
     ]
    }
   ],
   "source": [
    "print(dp)"
   ]
  },
  {
   "cell_type": "code",
   "execution_count": null,
   "metadata": {},
   "outputs": [],
   "source": []
  }
 ],
 "metadata": {
  "kernelspec": {
   "display_name": "Python 3 (ipykernel)",
   "language": "python",
   "name": "python3"
  },
  "language_info": {
   "codemirror_mode": {
    "name": "ipython",
    "version": 3
   },
   "file_extension": ".py",
   "mimetype": "text/x-python",
   "name": "python",
   "nbconvert_exporter": "python",
   "pygments_lexer": "ipython3",
   "version": "3.9.12"
  }
 },
 "nbformat": 4,
 "nbformat_minor": 2
}
