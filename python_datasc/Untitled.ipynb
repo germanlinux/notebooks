{
 "cells": [
  {
   "cell_type": "code",
   "execution_count": 30,
   "id": "c87c444c",
   "metadata": {},
   "outputs": [],
   "source": [
    "from sklearn.preprocessing import OrdinalEncoder\n",
    "import numpy as np"
   ]
  },
  {
   "cell_type": "code",
   "execution_count": 31,
   "id": "a52593c4",
   "metadata": {},
   "outputs": [],
   "source": [
    "a =np.array( [['lundi'], ['mardi'], 'lundi' , 'jeudi', 'vendredi']])"
   ]
  },
  {
   "cell_type": "code",
   "execution_count": 32,
   "id": "fdf879f7",
   "metadata": {},
   "outputs": [
    {
     "data": {
      "text/plain": [
       "OrdinalEncoder()"
      ]
     },
     "execution_count": 32,
     "metadata": {},
     "output_type": "execute_result"
    }
   ],
   "source": [
    "enc = OrdinalEncoder()\n",
    "enc.fit(a)"
   ]
  },
  {
   "cell_type": "code",
   "execution_count": 33,
   "id": "30336e87",
   "metadata": {},
   "outputs": [
    {
     "name": "stdout",
     "output_type": "stream",
     "text": [
      "[['lundi' 'mardi' 'lundi' 'jeudi' 'vendredi']]\n"
     ]
    }
   ],
   "source": [
    "print(a)"
   ]
  },
  {
   "cell_type": "code",
   "execution_count": 34,
   "id": "3685803a",
   "metadata": {},
   "outputs": [
    {
     "name": "stdout",
     "output_type": "stream",
     "text": [
      "OrdinalEncoder()\n"
     ]
    }
   ],
   "source": [
    "print(enc)"
   ]
  },
  {
   "cell_type": "code",
   "execution_count": 35,
   "id": "a776631e",
   "metadata": {},
   "outputs": [
    {
     "name": "stdout",
     "output_type": "stream",
     "text": [
      "[[0. 0. 0. 0. 0.]]\n"
     ]
    }
   ],
   "source": [
    "a = enc.transform(a)\n",
    "print(a)"
   ]
  },
  {
   "cell_type": "code",
   "execution_count": 36,
   "id": "76934c4b",
   "metadata": {},
   "outputs": [
    {
     "name": "stdout",
     "output_type": "stream",
     "text": [
      "[['lundi' 'mardi' 'lundi' 'jeudi' 'vendredi']]\n"
     ]
    }
   ],
   "source": [
    "print(enc.inverse_transform(a))"
   ]
  },
  {
   "cell_type": "code",
   "execution_count": 37,
   "id": "3b9f5249",
   "metadata": {},
   "outputs": [
    {
     "name": "stdout",
     "output_type": "stream",
     "text": [
      "[array(['lundi'], dtype='<U8'), array(['mardi'], dtype='<U8'), array(['lundi'], dtype='<U8'), array(['jeudi'], dtype='<U8'), array(['vendredi'], dtype='<U8')]\n"
     ]
    }
   ],
   "source": [
    "print(enc.categories_)"
   ]
  },
  {
   "cell_type": "code",
   "execution_count": 38,
   "id": "17c43fca",
   "metadata": {},
   "outputs": [
    {
     "data": {
      "text/plain": [
       "14"
      ]
     },
     "execution_count": 38,
     "metadata": {},
     "output_type": "execute_result"
    }
   ],
   "source": [
    "b = np.array([1,2, 3])\n",
    "np.dot(b,b)"
   ]
  },
  {
   "cell_type": "code",
   "execution_count": 39,
   "id": "c82882f3",
   "metadata": {},
   "outputs": [
    {
     "data": {
      "text/plain": [
       "array([1, 4, 9])"
      ]
     },
     "execution_count": 39,
     "metadata": {},
     "output_type": "execute_result"
    }
   ],
   "source": [
    "b*b"
   ]
  },
  {
   "cell_type": "code",
   "execution_count": null,
   "id": "455e80f1",
   "metadata": {},
   "outputs": [],
   "source": []
  }
 ],
 "metadata": {
  "kernelspec": {
   "display_name": "Python 3 (ipykernel)",
   "language": "python",
   "name": "python3"
  },
  "language_info": {
   "codemirror_mode": {
    "name": "ipython",
    "version": 3
   },
   "file_extension": ".py",
   "mimetype": "text/x-python",
   "name": "python",
   "nbconvert_exporter": "python",
   "pygments_lexer": "ipython3",
   "version": "3.9.12"
  }
 },
 "nbformat": 4,
 "nbformat_minor": 5
}
