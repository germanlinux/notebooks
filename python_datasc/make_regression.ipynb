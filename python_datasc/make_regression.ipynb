{
 "cells": [
  {
   "cell_type": "code",
   "execution_count": 10,
   "id": "d2ffcc31",
   "metadata": {},
   "outputs": [],
   "source": [
    "import pandas as pd\n",
    "import numpy as np"
   ]
  },
  {
   "cell_type": "code",
   "execution_count": 1,
   "id": "f12cadb3",
   "metadata": {},
   "outputs": [],
   "source": [
    "from sklearn.datasets import make_regression\n",
    "from sklearn.model_selection import train_test_split\n",
    "import matplotlib.pyplot as plt\n",
    "from sklearn import  linear_model\n",
    "from sklearn.metrics import mean_squared_error, r2_score"
   ]
  },
  {
   "cell_type": "code",
   "execution_count": 85,
   "id": "c5f04989",
   "metadata": {},
   "outputs": [],
   "source": [
    "X, y = make_regression(n_samples= 100, n_features=1, noise= 25, random_state =2)"
   ]
  },
  {
   "cell_type": "code",
   "execution_count": 86,
   "id": "71a369cf",
   "metadata": {},
   "outputs": [
    {
     "data": {
      "image/png": "[encoded data removed]",
      "text/plain": [
       "<Figure size 720x504 with 1 Axes>"
      ]
     },
     "metadata": {
      "needs_background": "light"
     },
     "output_type": "display_data"
    }
   ],
   "source": [
    "fig = plt.figure(figsize= (10, 7) )\n",
    "plt.scatter(X,y)\n",
    "\n",
    "plt.show()"
   ]
  },
  {
   "cell_type": "code",
   "execution_count": 87,
   "id": "be6e3bdc",
   "metadata": {},
   "outputs": [
    {
     "name": "stdout",
     "output_type": "stream",
     "text": [
      "<class 'numpy.ndarray'> (100, 1)\n"
     ]
    }
   ],
   "source": [
    "print(type(X), X.shape)"
   ]
  },
  {
   "cell_type": "code",
   "execution_count": 88,
   "id": "98edf769",
   "metadata": {},
   "outputs": [
    {
     "name": "stdout",
     "output_type": "stream",
     "text": [
      "<class 'numpy.ndarray'> (100,)\n"
     ]
    }
   ],
   "source": [
    "print(type(y), y.shape)"
   ]
  },
  {
   "cell_type": "code",
   "execution_count": 89,
   "id": "dfdacf1e",
   "metadata": {},
   "outputs": [],
   "source": [
    "dt = pd.DataFrame({'x': X.flatten() , 'y':y}) "
   ]
  },
  {
   "cell_type": "code",
   "execution_count": 90,
   "id": "73baa98b",
   "metadata": {},
   "outputs": [
    {
     "data": {
      "text/html": [
       "<div>\n",
       "<style scoped>\n",
       "    .dataframe tbody tr th:only-of-type {\n",
       "        vertical-align: middle;\n",
       "    }\n",
       "\n",
       "    .dataframe tbody tr th {\n",
       "        vertical-align: top;\n",
       "    }\n",
       "\n",
       "    .dataframe thead th {\n",
       "        text-align: right;\n",
       "    }\n",
       "</style>\n",
       "<table border=\"1\" class=\"dataframe\">\n",
       "  <thead>\n",
       "    <tr style=\"text-align: right;\">\n",
       "      <th></th>\n",
       "      <th>x</th>\n",
       "      <th>y</th>\n",
       "    </tr>\n",
       "  </thead>\n",
       "  <tbody>\n",
       "    <tr>\n",
       "      <th>0</th>\n",
       "      <td>-0.878108</td>\n",
       "      <td>-35.744446</td>\n",
       "    </tr>\n",
       "    <tr>\n",
       "      <th>1</th>\n",
       "      <td>1.359634</td>\n",
       "      <td>54.769648</td>\n",
       "    </tr>\n",
       "    <tr>\n",
       "      <th>2</th>\n",
       "      <td>1.640271</td>\n",
       "      <td>69.453871</td>\n",
       "    </tr>\n",
       "    <tr>\n",
       "      <th>3</th>\n",
       "      <td>0.542353</td>\n",
       "      <td>47.962416</td>\n",
       "    </tr>\n",
       "    <tr>\n",
       "      <th>4</th>\n",
       "      <td>0.824703</td>\n",
       "      <td>72.031975</td>\n",
       "    </tr>\n",
       "    <tr>\n",
       "      <th>5</th>\n",
       "      <td>-0.596160</td>\n",
       "      <td>-81.641577</td>\n",
       "    </tr>\n",
       "    <tr>\n",
       "      <th>6</th>\n",
       "      <td>-0.056267</td>\n",
       "      <td>24.628735</td>\n",
       "    </tr>\n",
       "    <tr>\n",
       "      <th>7</th>\n",
       "      <td>-0.132329</td>\n",
       "      <td>-26.096207</td>\n",
       "    </tr>\n",
       "    <tr>\n",
       "      <th>8</th>\n",
       "      <td>-2.434768</td>\n",
       "      <td>-140.771825</td>\n",
       "    </tr>\n",
       "    <tr>\n",
       "      <th>9</th>\n",
       "      <td>-0.403892</td>\n",
       "      <td>-12.831866</td>\n",
       "    </tr>\n",
       "  </tbody>\n",
       "</table>\n",
       "</div>"
      ],
      "text/plain": [
       "          x           y\n",
       "0 -0.878108  -35.744446\n",
       "1  1.359634   54.769648\n",
       "2  1.640271   69.453871\n",
       "3  0.542353   47.962416\n",
       "4  0.824703   72.031975\n",
       "5 -0.596160  -81.641577\n",
       "6 -0.056267   24.628735\n",
       "7 -0.132329  -26.096207\n",
       "8 -2.434768 -140.771825\n",
       "9 -0.403892  -12.831866"
      ]
     },
     "execution_count": 90,
     "metadata": {},
     "output_type": "execute_result"
    }
   ],
   "source": [
    "dt.head(10)"
   ]
  },
  {
   "cell_type": "code",
   "execution_count": 91,
   "id": "677c0b51",
   "metadata": {},
   "outputs": [],
   "source": [
    "dt.sort_values(by = ['x'], inplace =True)"
   ]
  },
  {
   "cell_type": "code",
   "execution_count": 92,
   "id": "d4aabf2f",
   "metadata": {},
   "outputs": [
    {
     "data": {
      "text/html": [
       "<div>\n",
       "<style scoped>\n",
       "    .dataframe tbody tr th:only-of-type {\n",
       "        vertical-align: middle;\n",
       "    }\n",
       "\n",
       "    .dataframe tbody tr th {\n",
       "        vertical-align: top;\n",
       "    }\n",
       "\n",
       "    .dataframe thead th {\n",
       "        text-align: right;\n",
       "    }\n",
       "</style>\n",
       "<table border=\"1\" class=\"dataframe\">\n",
       "  <thead>\n",
       "    <tr style=\"text-align: right;\">\n",
       "      <th></th>\n",
       "      <th>x</th>\n",
       "      <th>y</th>\n",
       "    </tr>\n",
       "  </thead>\n",
       "  <tbody>\n",
       "    <tr>\n",
       "      <th>68</th>\n",
       "      <td>-2.659449</td>\n",
       "      <td>-168.317424</td>\n",
       "    </tr>\n",
       "    <tr>\n",
       "      <th>8</th>\n",
       "      <td>-2.434768</td>\n",
       "      <td>-140.771825</td>\n",
       "    </tr>\n",
       "    <tr>\n",
       "      <th>74</th>\n",
       "      <td>-2.343603</td>\n",
       "      <td>-145.872038</td>\n",
       "    </tr>\n",
       "    <tr>\n",
       "      <th>40</th>\n",
       "      <td>-2.136196</td>\n",
       "      <td>-121.408823</td>\n",
       "    </tr>\n",
       "    <tr>\n",
       "      <th>96</th>\n",
       "      <td>-2.040323</td>\n",
       "      <td>-106.895135</td>\n",
       "    </tr>\n",
       "    <tr>\n",
       "      <th>86</th>\n",
       "      <td>-2.033467</td>\n",
       "      <td>-138.765745</td>\n",
       "    </tr>\n",
       "    <tr>\n",
       "      <th>54</th>\n",
       "      <td>-1.868091</td>\n",
       "      <td>-103.587407</td>\n",
       "    </tr>\n",
       "    <tr>\n",
       "      <th>42</th>\n",
       "      <td>-1.858612</td>\n",
       "      <td>-83.957388</td>\n",
       "    </tr>\n",
       "    <tr>\n",
       "      <th>32</th>\n",
       "      <td>-1.793436</td>\n",
       "      <td>-34.791443</td>\n",
       "    </tr>\n",
       "    <tr>\n",
       "      <th>95</th>\n",
       "      <td>-1.737960</td>\n",
       "      <td>-123.582914</td>\n",
       "    </tr>\n",
       "  </tbody>\n",
       "</table>\n",
       "</div>"
      ],
      "text/plain": [
       "           x           y\n",
       "68 -2.659449 -168.317424\n",
       "8  -2.434768 -140.771825\n",
       "74 -2.343603 -145.872038\n",
       "40 -2.136196 -121.408823\n",
       "96 -2.040323 -106.895135\n",
       "86 -2.033467 -138.765745\n",
       "54 -1.868091 -103.587407\n",
       "42 -1.858612  -83.957388\n",
       "32 -1.793436  -34.791443\n",
       "95 -1.737960 -123.582914"
      ]
     },
     "execution_count": 92,
     "metadata": {},
     "output_type": "execute_result"
    }
   ],
   "source": [
    "dt.head(10)"
   ]
  },
  {
   "cell_type": "code",
   "execution_count": 93,
   "id": "0cfc22f2",
   "metadata": {},
   "outputs": [
    {
     "data": {
      "text/plain": [
       "2.2922080128149576"
      ]
     },
     "execution_count": 93,
     "metadata": {},
     "output_type": "execute_result"
    }
   ],
   "source": [
    "dt.x.min()\n",
    "dt['x'].max()"
   ]
  },
  {
   "cell_type": "code",
   "execution_count": 94,
   "id": "1879dd55",
   "metadata": {},
   "outputs": [],
   "source": [
    "nx = np.interp(dt.x , (dt.x.min(), dt.x.max()),(0,99)  ) "
   ]
  },
  {
   "cell_type": "code",
   "execution_count": 95,
   "id": "ac87f97c",
   "metadata": {},
   "outputs": [
    {
     "data": {
      "text/plain": [
       "array([ 0.        ,  4.49213344,  6.31481084, 10.46156424, 12.37838335,\n",
       "       12.5154675 , 15.8218782 , 16.01138012, 17.3144798 , 18.42363003,\n",
       "       24.39204111, 24.75635511, 25.49008064, 28.27376015, 29.42689003,\n",
       "       30.82016033, 31.20376185, 32.01922336, 33.40222368, 34.99711831,\n",
       "       35.61490589, 36.29256277, 36.34187302, 36.59403012, 38.21877288,\n",
       "       39.62221039, 40.11055306, 40.42235377, 40.48184799, 41.25198222,\n",
       "       43.93417115, 44.78766268, 44.83881825, 45.09604368, 45.54340963,\n",
       "       45.55188608, 45.66031166, 46.39701413, 46.45988562, 46.90312004,\n",
       "       47.79184719, 48.44908571, 48.82993343, 49.3830683 , 50.04354902,\n",
       "       50.10230884, 50.52549309, 51.34274495, 51.62732881, 51.68226846,\n",
       "       52.04622531, 52.38004528, 52.78870331, 53.17138033, 53.35162977,\n",
       "       54.00169494, 54.09598597, 54.13027586, 54.50052023, 54.92480235,\n",
       "       55.4249606 , 57.25397765, 57.49205848, 58.30087657, 59.68907137,\n",
       "       60.18660599, 60.57759592, 60.77807746, 60.80595341, 61.83820968,\n",
       "       63.20496957, 63.22544692, 63.33570651, 63.65360381, 63.9487428 ,\n",
       "       64.01460578, 64.19657429, 64.49290301, 65.39390808, 67.06892372,\n",
       "       67.87185428, 68.58625831, 69.65972422, 70.01467089, 73.17180585,\n",
       "       73.98069633, 76.63395881, 76.66334339, 77.52074457, 78.12708729,\n",
       "       78.73021153, 80.35476021, 80.50674055, 81.29569273, 82.51491986,\n",
       "       84.85031878, 85.96562037, 87.78328889, 97.78358283, 99.        ])"
      ]
     },
     "execution_count": 95,
     "metadata": {},
     "output_type": "execute_result"
    }
   ],
   "source": [
    "nx"
   ]
  },
  {
   "cell_type": "code",
   "execution_count": 96,
   "id": "092aaa10",
   "metadata": {},
   "outputs": [],
   "source": [
    "ny = np.interp(dt.y , (dt.y.min(), dt.y.max()),(0,99)  ) "
   ]
  },
  {
   "cell_type": "code",
   "execution_count": 119,
   "id": "d48e7c25",
   "metadata": {},
   "outputs": [
    {
     "data": {
      "image/png": "[encoded data removed]",
      "text/plain": [
       "<Figure size 720x504 with 1 Axes>"
      ]
     },
     "metadata": {
      "needs_background": "light"
     },
     "output_type": "display_data"
    }
   ],
   "source": [
    "fig = plt.figure(figsize= (10, 7) )\n",
    "plt.scatter(nx,ny)\n",
    "\n",
    "plt.show()"
   ]
  },
  {
   "cell_type": "code",
   "execution_count": 98,
   "id": "a2cc36c3",
   "metadata": {},
   "outputs": [
    {
     "name": "stdout",
     "output_type": "stream",
     "text": [
      "(100,) (100,)\n"
     ]
    }
   ],
   "source": [
    "print(nx.shape, ny.shape)\n",
    "nx =nx.reshape(-1,1)"
   ]
  },
  {
   "cell_type": "code",
   "execution_count": 152,
   "id": "5436cab5",
   "metadata": {},
   "outputs": [],
   "source": [
    "gx = dt.x.to_numpy()\n",
    "gx = gx.reshape(-1,1)\n",
    "gy = dt.y.to_numpy()"
   ]
  },
  {
   "cell_type": "code",
   "execution_count": 131,
   "id": "b2584836",
   "metadata": {
    "scrolled": true
   },
   "outputs": [
    {
     "name": "stdout",
     "output_type": "stream",
     "text": [
      "0.8667428143875417\n",
      "[0.86051194]\n"
     ]
    }
   ],
   "source": [
    "regr = linear_model.LinearRegression()\n",
    "regr.fit(nx, ny)\n",
    "print(regr.score(nx, ny))\n",
    "print(regr.coef_)"
   ]
  },
  {
   "cell_type": "code",
   "execution_count": 101,
   "id": "c642bee1",
   "metadata": {},
   "outputs": [],
   "source": [
    " from sklearn.linear_model import SGDRegressor\n",
    "    "
   ]
  },
  {
   "cell_type": "code",
   "execution_count": 145,
   "id": "7d57c3a0",
   "metadata": {},
   "outputs": [],
   "source": [
    "gx = dt.x.to_numpy()\n",
    "gx = gx.reshape(-1,1)\n",
    "gy = dt.y.to_numpy()"
   ]
  },
  {
   "cell_type": "code",
   "execution_count": 146,
   "id": "b9ef02e7",
   "metadata": {},
   "outputs": [],
   "source": [
    " regr2 = SGDRegressor( max_iter=1000, penalty=None)"
   ]
  },
  {
   "cell_type": "code",
   "execution_count": 148,
   "id": "b154d80c",
   "metadata": {},
   "outputs": [
    {
     "name": "stdout",
     "output_type": "stream",
     "text": [
      "0.8667427113043573\n"
     ]
    }
   ],
   "source": [
    "regr2.fit(gx, gy)\n",
    "print(regr2.score(gx, gy))"
   ]
  },
  {
   "cell_type": "code",
   "execution_count": 151,
   "id": "2fddbf9f",
   "metadata": {},
   "outputs": [
    {
     "name": "stdout",
     "output_type": "stream",
     "text": [
      "[57.45703031] [0.66740755]\n"
     ]
    }
   ],
   "source": [
    "print(regr2.coef_, regr2.intercept_)"
   ]
  },
  {
   "cell_type": "code",
   "execution_count": 155,
   "id": "4d55bf52",
   "metadata": {
    "scrolled": true
   },
   "outputs": [
    {
     "name": "stdout",
     "output_type": "stream",
     "text": [
      "0.8667428143875416\n",
      "[57.43727105]\n"
     ]
    }
   ],
   "source": [
    "regr = linear_model.LinearRegression()\n",
    "regr.fit(gx, gy)\n",
    "print(regr.score(gx, gy))\n",
    "print(regr.coef_)"
   ]
  },
  {
   "cell_type": "code",
   "execution_count": null,
   "id": "d50b985a",
   "metadata": {},
   "outputs": [],
   "source": []
  }
 ],
 "metadata": {
  "kernelspec": {
   "display_name": "Python 3 (ipykernel)",
   "language": "python",
   "name": "python3"
  },
  "language_info": {
   "codemirror_mode": {
    "name": "ipython",
    "version": 3
   },
   "file_extension": ".py",
   "mimetype": "text/x-python",
   "name": "python",
   "nbconvert_exporter": "python",
   "pygments_lexer": "ipython3",
   "version": "3.9.12"
  }
 },
 "nbformat": 4,
 "nbformat_minor": 5
}
