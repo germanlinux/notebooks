{
 "cells": [
  {
   "cell_type": "code",
   "execution_count": 1,
   "metadata": {},
   "outputs": [],
   "source": [
    "import numpy as np\n",
    "import pandas as pd"
   ]
  },
  {
   "cell_type": "code",
   "execution_count": 2,
   "metadata": {},
   "outputs": [
    {
     "data": {
      "text/html": [
       "<div>\n",
       "<style scoped>\n",
       "    .dataframe tbody tr th:only-of-type {\n",
       "        vertical-align: middle;\n",
       "    }\n",
       "\n",
       "    .dataframe tbody tr th {\n",
       "        vertical-align: top;\n",
       "    }\n",
       "\n",
       "    .dataframe thead th {\n",
       "        text-align: right;\n",
       "    }\n",
       "</style>\n",
       "<table border=\"1\" class=\"dataframe\">\n",
       "  <thead>\n",
       "    <tr style=\"text-align: right;\">\n",
       "      <th></th>\n",
       "      <th>Valeur fonciere</th>\n",
       "      <th>Code postal</th>\n",
       "      <th>Type local</th>\n",
       "    </tr>\n",
       "  </thead>\n",
       "  <tbody>\n",
       "    <tr>\n",
       "      <th>0</th>\n",
       "      <td>84000.0</td>\n",
       "      <td>01960</td>\n",
       "      <td>Dépendance</td>\n",
       "    </tr>\n",
       "    <tr>\n",
       "      <th>1</th>\n",
       "      <td>84000.0</td>\n",
       "      <td>01960</td>\n",
       "      <td>Appartement</td>\n",
       "    </tr>\n",
       "    <tr>\n",
       "      <th>2</th>\n",
       "      <td>210000.0</td>\n",
       "      <td>01250</td>\n",
       "      <td>Maison</td>\n",
       "    </tr>\n",
       "    <tr>\n",
       "      <th>3</th>\n",
       "      <td>210000.0</td>\n",
       "      <td>01250</td>\n",
       "      <td>Maison</td>\n",
       "    </tr>\n",
       "    <tr>\n",
       "      <th>4</th>\n",
       "      <td>36000.0</td>\n",
       "      <td>01560</td>\n",
       "      <td>Maison</td>\n",
       "    </tr>\n",
       "    <tr>\n",
       "      <th>5</th>\n",
       "      <td>600000.0</td>\n",
       "      <td>01000</td>\n",
       "      <td>non renseigne</td>\n",
       "    </tr>\n",
       "    <tr>\n",
       "      <th>6</th>\n",
       "      <td>600000.0</td>\n",
       "      <td>01000</td>\n",
       "      <td>Local industriel. commercial ou assimilé</td>\n",
       "    </tr>\n",
       "    <tr>\n",
       "      <th>7</th>\n",
       "      <td>600000.0</td>\n",
       "      <td>01000</td>\n",
       "      <td>Local industriel. commercial ou assimilé</td>\n",
       "    </tr>\n",
       "    <tr>\n",
       "      <th>8</th>\n",
       "      <td>84920.0</td>\n",
       "      <td>01500</td>\n",
       "      <td>Appartement</td>\n",
       "    </tr>\n",
       "    <tr>\n",
       "      <th>9</th>\n",
       "      <td>84920.0</td>\n",
       "      <td>01500</td>\n",
       "      <td>Dépendance</td>\n",
       "    </tr>\n",
       "  </tbody>\n",
       "</table>\n",
       "</div>"
      ],
      "text/plain": [
       "   Valeur fonciere Code postal                                Type local\n",
       "0          84000.0       01960                                Dépendance\n",
       "1          84000.0       01960                               Appartement\n",
       "2         210000.0       01250                                    Maison\n",
       "3         210000.0       01250                                    Maison\n",
       "4          36000.0       01560                                    Maison\n",
       "5         600000.0       01000                             non renseigne\n",
       "6         600000.0       01000  Local industriel. commercial ou assimilé\n",
       "7         600000.0       01000  Local industriel. commercial ou assimilé\n",
       "8          84920.0       01500                               Appartement\n",
       "9          84920.0       01500                                Dépendance"
      ]
     },
     "execution_count": 2,
     "metadata": {},
     "output_type": "execute_result"
    }
   ],
   "source": [
    "data1 = pd.read_csv('valeurspropres.csv', index_col =0, dtype={\n",
    "                     'Code postal': str})\n",
    "data1.head(10)"
   ]
  },
  {
   "cell_type": "markdown",
   "metadata": {},
   "source": [
    "###  Selectionner une ligne ou un groupe de ligne par le rang"
   ]
  },
  {
   "cell_type": "code",
   "execution_count": 3,
   "metadata": {},
   "outputs": [
    {
     "name": "stdout",
     "output_type": "stream",
     "text": [
      "Valeur fonciere        84000.0\n",
      "Code postal              01960\n",
      "Type local         Appartement\n",
      "Name: 1, dtype: object\n",
      "------------------------------------------------\n",
      "   Valeur fonciere Code postal   Type local\n",
      "1          84000.0       01960  Appartement\n",
      "2         210000.0       01250       Maison\n",
      "3         210000.0       01250       Maison\n",
      "4          36000.0       01560       Maison\n",
      "------------------------------------------------\n",
      "Appartement\n"
     ]
    }
   ],
   "source": [
    "print(data1.iloc[1])\n",
    "print('------------------------------------------------')\n",
    "print(data1.iloc[1:5])\n",
    "print('------------------------------------------------')\n",
    "print(data1.iloc[1,2])"
   ]
  },
  {
   "cell_type": "code",
   "execution_count": 4,
   "metadata": {},
   "outputs": [
    {
     "name": "stdout",
     "output_type": "stream",
     "text": [
      "01250\n"
     ]
    }
   ],
   "source": [
    "print(data1['Code postal'][2])"
   ]
  },
  {
   "cell_type": "markdown",
   "metadata": {},
   "source": [
    "### Declarer un nouvel index "
   ]
  },
  {
   "cell_type": "code",
   "execution_count": 5,
   "metadata": {},
   "outputs": [],
   "source": [
    "data1.set_index('Code postal', inplace =True)"
   ]
  },
  {
   "cell_type": "code",
   "execution_count": 6,
   "metadata": {},
   "outputs": [
    {
     "data": {
      "text/plain": [
       "Index(['01960', '01960', '01250', '01250', '01560', '01000', '01000', '01000',\n",
       "       '01500', '01500',\n",
       "       ...\n",
       "       '75002', '75002', '75002', '75002', '75002', '75002', '75002', '75002',\n",
       "       '75002', '75002'],\n",
       "      dtype='object', name='Code postal', length=1017154)"
      ]
     },
     "execution_count": 6,
     "metadata": {},
     "output_type": "execute_result"
    }
   ],
   "source": [
    "data1.index"
   ]
  },
  {
   "cell_type": "markdown",
   "metadata": {},
   "source": [
    "### Recherche par etiquette"
   ]
  },
  {
   "cell_type": "code",
   "execution_count": 7,
   "metadata": {},
   "outputs": [
    {
     "data": {
      "text/plain": [
       "Valeur fonciere    36000.0\n",
       "Type local          Maison\n",
       "Name: 01560, dtype: object"
      ]
     },
     "execution_count": 7,
     "metadata": {},
     "output_type": "execute_result"
    }
   ],
   "source": [
    "data1.loc['01560']"
   ]
  },
  {
   "cell_type": "code",
   "execution_count": 8,
   "metadata": {},
   "outputs": [
    {
     "data": {
      "text/plain": [
       "'Maison'"
      ]
     },
     "execution_count": 8,
     "metadata": {},
     "output_type": "execute_result"
    }
   ],
   "source": [
    "data1.loc['01560','Type local']"
   ]
  },
  {
   "cell_type": "code",
   "execution_count": 9,
   "metadata": {},
   "outputs": [
    {
     "data": {
      "text/html": [
       "<div>\n",
       "<style scoped>\n",
       "    .dataframe tbody tr th:only-of-type {\n",
       "        vertical-align: middle;\n",
       "    }\n",
       "\n",
       "    .dataframe tbody tr th {\n",
       "        vertical-align: top;\n",
       "    }\n",
       "\n",
       "    .dataframe thead th {\n",
       "        text-align: right;\n",
       "    }\n",
       "</style>\n",
       "<table border=\"1\" class=\"dataframe\">\n",
       "  <thead>\n",
       "    <tr style=\"text-align: right;\">\n",
       "      <th></th>\n",
       "      <th>Valeur fonciere</th>\n",
       "      <th>Type local</th>\n",
       "    </tr>\n",
       "    <tr>\n",
       "      <th>Code postal</th>\n",
       "      <th></th>\n",
       "      <th></th>\n",
       "    </tr>\n",
       "  </thead>\n",
       "  <tbody>\n",
       "    <tr>\n",
       "      <th>01560</th>\n",
       "      <td>36000.0</td>\n",
       "      <td>Maison</td>\n",
       "    </tr>\n",
       "    <tr>\n",
       "      <th>01960</th>\n",
       "      <td>84000.0</td>\n",
       "      <td>Dépendance</td>\n",
       "    </tr>\n",
       "    <tr>\n",
       "      <th>01960</th>\n",
       "      <td>84000.0</td>\n",
       "      <td>Appartement</td>\n",
       "    </tr>\n",
       "  </tbody>\n",
       "</table>\n",
       "</div>"
      ],
      "text/plain": [
       "             Valeur fonciere   Type local\n",
       "Code postal                              \n",
       "01560                36000.0       Maison\n",
       "01960                84000.0   Dépendance\n",
       "01960                84000.0  Appartement"
      ]
     },
     "execution_count": 9,
     "metadata": {},
     "output_type": "execute_result"
    }
   ],
   "source": [
    "data1.loc[['01560','01960']]"
   ]
  },
  {
   "cell_type": "code",
   "execution_count": 10,
   "metadata": {},
   "outputs": [
    {
     "data": {
      "text/html": [
       "<div>\n",
       "<style scoped>\n",
       "    .dataframe tbody tr th:only-of-type {\n",
       "        vertical-align: middle;\n",
       "    }\n",
       "\n",
       "    .dataframe tbody tr th {\n",
       "        vertical-align: top;\n",
       "    }\n",
       "\n",
       "    .dataframe thead th {\n",
       "        text-align: right;\n",
       "    }\n",
       "</style>\n",
       "<table border=\"1\" class=\"dataframe\">\n",
       "  <thead>\n",
       "    <tr style=\"text-align: right;\">\n",
       "      <th></th>\n",
       "      <th>Valeur fonciere</th>\n",
       "      <th>Type local</th>\n",
       "    </tr>\n",
       "    <tr>\n",
       "      <th>Code postal</th>\n",
       "      <th></th>\n",
       "      <th></th>\n",
       "    </tr>\n",
       "  </thead>\n",
       "  <tbody>\n",
       "    <tr>\n",
       "      <th>01250</th>\n",
       "      <td>210000.0</td>\n",
       "      <td>Maison</td>\n",
       "    </tr>\n",
       "    <tr>\n",
       "      <th>01250</th>\n",
       "      <td>210000.0</td>\n",
       "      <td>Maison</td>\n",
       "    </tr>\n",
       "    <tr>\n",
       "      <th>01560</th>\n",
       "      <td>36000.0</td>\n",
       "      <td>Maison</td>\n",
       "    </tr>\n",
       "    <tr>\n",
       "      <th>01200</th>\n",
       "      <td>284410.0</td>\n",
       "      <td>Maison</td>\n",
       "    </tr>\n",
       "    <tr>\n",
       "      <th>01640</th>\n",
       "      <td>139480.0</td>\n",
       "      <td>Maison</td>\n",
       "    </tr>\n",
       "    <tr>\n",
       "      <th>...</th>\n",
       "      <td>...</td>\n",
       "      <td>...</td>\n",
       "    </tr>\n",
       "    <tr>\n",
       "      <th>75020</th>\n",
       "      <td>1098800.0</td>\n",
       "      <td>Maison</td>\n",
       "    </tr>\n",
       "    <tr>\n",
       "      <th>75019</th>\n",
       "      <td>1030000.0</td>\n",
       "      <td>Maison</td>\n",
       "    </tr>\n",
       "    <tr>\n",
       "      <th>75020</th>\n",
       "      <td>1217000.0</td>\n",
       "      <td>Maison</td>\n",
       "    </tr>\n",
       "    <tr>\n",
       "      <th>75020</th>\n",
       "      <td>3000000.0</td>\n",
       "      <td>Maison</td>\n",
       "    </tr>\n",
       "    <tr>\n",
       "      <th>75020</th>\n",
       "      <td>3000000.0</td>\n",
       "      <td>Maison</td>\n",
       "    </tr>\n",
       "  </tbody>\n",
       "</table>\n",
       "<p>204007 rows × 2 columns</p>\n",
       "</div>"
      ],
      "text/plain": [
       "             Valeur fonciere Type local\n",
       "Code postal                            \n",
       "01250               210000.0     Maison\n",
       "01250               210000.0     Maison\n",
       "01560                36000.0     Maison\n",
       "01200               284410.0     Maison\n",
       "01640               139480.0     Maison\n",
       "...                      ...        ...\n",
       "75020              1098800.0     Maison\n",
       "75019              1030000.0     Maison\n",
       "75020              1217000.0     Maison\n",
       "75020              3000000.0     Maison\n",
       "75020              3000000.0     Maison\n",
       "\n",
       "[204007 rows x 2 columns]"
      ]
     },
     "execution_count": 10,
     "metadata": {},
     "output_type": "execute_result"
    }
   ],
   "source": [
    "data1.loc[data1['Type local']== 'Maison']"
   ]
  },
  {
   "cell_type": "code",
   "execution_count": null,
   "metadata": {},
   "outputs": [],
   "source": []
  }
 ],
 "metadata": {
  "kernelspec": {
   "display_name": "Python 3 (ipykernel)",
   "language": "python",
   "name": "python3"
  },
  "language_info": {
   "codemirror_mode": {
    "name": "ipython",
    "version": 3
   },
   "file_extension": ".py",
   "mimetype": "text/x-python",
   "name": "python",
   "nbconvert_exporter": "python",
   "pygments_lexer": "ipython3",
   "version": "3.9.12"
  }
 },
 "nbformat": 4,
 "nbformat_minor": 2
}
