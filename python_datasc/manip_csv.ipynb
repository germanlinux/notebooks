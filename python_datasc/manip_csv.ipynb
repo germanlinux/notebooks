{
 "cells": [
  {
   "cell_type": "code",
   "execution_count": 1,
   "metadata": {},
   "outputs": [],
   "source": [
    "import pandas as pd"
   ]
  },
  {
   "cell_type": "code",
   "execution_count": 2,
   "metadata": {},
   "outputs": [],
   "source": [
    "dataf = pd.read_csv('parcelles_ext.csv')  # donne des mauvais résultats"
   ]
  },
  {
   "cell_type": "code",
   "execution_count": 5,
   "metadata": {},
   "outputs": [
    {
     "name": "stdout",
     "output_type": "stream",
     "text": [
      "   id_mutation;valeur_fonciere;adresse_numero;adresse_code_voie;id_parcelle;code_type_local;surface_reelle_bati;nombre_pieces_principales;surface_terrain\n",
      "0  2019-417959;455000.0;25.0;195;94079000AE0030;1...                                                                                                     \n",
      "1  2019-417674;430000.0;61.0;910;94079000AE0069;1...                                                                                                     \n",
      "2  2019-417478;150000.0;37.0;280;94079000AE0306;1...                                                                                                     \n",
      "3  2019-417248;390000.0;31.0;195;94079000AE0035;1...                                                                                                     \n",
      "4  2019-417247;697500.0;3.0;400;94079000AE0387;1;...                                                                                                     \n"
     ]
    }
   ],
   "source": [
    "print(dataf.head()) "
   ]
  },
  {
   "cell_type": "markdown",
   "metadata": {},
   "source": [
    "#### Le séparateur"
   ]
  },
  {
   "cell_type": "code",
   "execution_count": 51,
   "metadata": {},
   "outputs": [],
   "source": [
    "dataf = pd.read_csv('parcelles_ext.csv', sep =';')"
   ]
  },
  {
   "cell_type": "code",
   "execution_count": 7,
   "metadata": {},
   "outputs": [
    {
     "name": "stdout",
     "output_type": "stream",
     "text": [
      "   id_mutation  valeur_fonciere  adresse_numero  adresse_code_voie  \\\n",
      "0  2019-417959         455000.0            25.0                195   \n",
      "1  2019-417674         430000.0            61.0                910   \n",
      "2  2019-417478         150000.0            37.0                280   \n",
      "3  2019-417248         390000.0            31.0                195   \n",
      "4  2019-417247         697500.0             3.0                400   \n",
      "\n",
      "      id_parcelle code_type_local  surface_reelle_bati  \\\n",
      "0  94079000AE0030               1                117.0   \n",
      "1  94079000AE0069               1                113.0   \n",
      "2  94079000AE0306               1                 91.0   \n",
      "3  94079000AE0035               1                 61.0   \n",
      "4  94079000AE0387               1                150.0   \n",
      "\n",
      "   nombre_pieces_principales  surface_terrain  \n",
      "0                        5.0              NaN  \n",
      "1                        6.0            488.0  \n",
      "2                        4.0            258.0  \n",
      "3                        3.0            507.0  \n",
      "4                        5.0            434.0  \n"
     ]
    }
   ],
   "source": [
    "print(dataf.head()) "
   ]
  },
  {
   "cell_type": "markdown",
   "metadata": {},
   "source": [
    "#### Les noms de colonnes sont reconnues"
   ]
  },
  {
   "cell_type": "code",
   "execution_count": 16,
   "metadata": {},
   "outputs": [
    {
     "name": "stdout",
     "output_type": "stream",
     "text": [
      "Index([' id_mutation', 'valeur_fonciere', 'adresse_numero',\n",
      "       'adresse_code_voie', 'id_parcelle', 'code_type_local',\n",
      "       'surface_reelle_bati', 'nombre_pieces_principales', 'surface_terrain'],\n",
      "      dtype='object')\n",
      "---------------------------------------------------------------------------\n",
      "<class 'pandas.core.frame.DataFrame'>\n",
      "RangeIndex: 102 entries, 0 to 101\n",
      "Data columns (total 9 columns):\n",
      " id_mutation                 102 non-null object\n",
      "valeur_fonciere              102 non-null float64\n",
      "adresse_numero               100 non-null float64\n",
      "adresse_code_voie            102 non-null int64\n",
      "id_parcelle                  102 non-null object\n",
      "code_type_local              102 non-null object\n",
      "surface_reelle_bati          83 non-null float64\n",
      "nombre_pieces_principales    94 non-null float64\n",
      "surface_terrain              71 non-null float64\n",
      "dtypes: float64(5), int64(1), object(3)\n",
      "memory usage: 7.3+ KB\n",
      "None\n"
     ]
    }
   ],
   "source": [
    "print(dataf.columns)\n",
    "print('---------------------------------------------------------------------------')\n",
    "print(dataf.info())"
   ]
  },
  {
   "cell_type": "markdown",
   "metadata": {},
   "source": [
    "####  Commentaires sur le type des données"
   ]
  },
  {
   "cell_type": "code",
   "execution_count": 17,
   "metadata": {},
   "outputs": [
    {
     "name": "stdout",
     "output_type": "stream",
     "text": [
      "              0                1               2                  3  \\\n",
      "0   id_mutation  valeur_fonciere  adresse_numero  adresse_code_voie   \n",
      "1   2019-417959         455000.0            25.0                195   \n",
      "2   2019-417674         430000.0            61.0                910   \n",
      "3   2019-417478         150000.0            37.0                280   \n",
      "4   2019-417248         390000.0            31.0                195   \n",
      "\n",
      "                4                5                    6  \\\n",
      "0     id_parcelle  code_type_local  surface_reelle_bati   \n",
      "1  94079000AE0030                1                117.0   \n",
      "2  94079000AE0069                1                113.0   \n",
      "3  94079000AE0306                1                 91.0   \n",
      "4  94079000AE0035                1                 61.0   \n",
      "\n",
      "                           7                8  \n",
      "0  nombre_pieces_principales  surface_terrain  \n",
      "1                        5.0              NaN  \n",
      "2                        6.0            488.0  \n",
      "3                        4.0            258.0  \n",
      "4                        3.0            507.0  \n"
     ]
    }
   ],
   "source": [
    "dataf = pd.read_csv('parcelles_ext.csv', sep =';', header = None)\n",
    "print(dataf.head())"
   ]
  },
  {
   "cell_type": "code",
   "execution_count": 18,
   "metadata": {},
   "outputs": [
    {
     "name": "stdout",
     "output_type": "stream",
     "text": [
      "Int64Index([0, 1, 2, 3, 4, 5, 6, 7, 8], dtype='int64')\n",
      "---------------------------------------------------------------------------\n",
      "<class 'pandas.core.frame.DataFrame'>\n",
      "RangeIndex: 103 entries, 0 to 102\n",
      "Data columns (total 9 columns):\n",
      "0    103 non-null object\n",
      "1    103 non-null object\n",
      "2    101 non-null object\n",
      "3    103 non-null object\n",
      "4    103 non-null object\n",
      "5    103 non-null object\n",
      "6    84 non-null object\n",
      "7    95 non-null object\n",
      "8    72 non-null object\n",
      "dtypes: object(9)\n",
      "memory usage: 7.4+ KB\n",
      "None\n"
     ]
    }
   ],
   "source": [
    "print(dataf.columns)\n",
    "print('---------------------------------------------------------------------------')\n",
    "print(dataf.info())"
   ]
  },
  {
   "cell_type": "markdown",
   "metadata": {},
   "source": [
    "####  Avec un saut de ligne de départ"
   ]
  },
  {
   "cell_type": "code",
   "execution_count": 48,
   "metadata": {},
   "outputs": [
    {
     "name": "stdout",
     "output_type": "stream",
     "text": [
      "             0         1     2    3               4     5      6    7      8\n",
      "0  2019-417674  430000.0  61.0  910  94079000AE0069     1  113.0  6.0  488.0\n",
      "1  2019-417478  150000.0  37.0  280  94079000AE0306     1   91.0  4.0  258.0\n",
      "2  2019-417248  390000.0  31.0  195  94079000AE0035     1   61.0  3.0  507.0\n",
      "3  2019-417247  697500.0   3.0  400  94079000AE0387     1  150.0  5.0  434.0\n",
      "4  2019-417127  299000.0  49.0  910  94079000AE0396  None    NaN  NaN  476.0\n"
     ]
    }
   ],
   "source": [
    "dataf = pd.read_csv('parcelles_ext.csv', sep =';', skiprows =2 , header= None)\n",
    "print(dataf.head())"
   ]
  },
  {
   "cell_type": "markdown",
   "metadata": {},
   "source": [
    "#### Signification de NaN  et le traitement correctif"
   ]
  },
  {
   "cell_type": "markdown",
   "metadata": {},
   "source": [
    "#### Par suppression"
   ]
  },
  {
   "cell_type": "code",
   "execution_count": 23,
   "metadata": {},
   "outputs": [
    {
     "name": "stdout",
     "output_type": "stream",
     "text": [
      "<class 'pandas.core.frame.DataFrame'>\n",
      "Int64Index: 63 entries, 0 to 96\n",
      "Data columns (total 9 columns):\n",
      "0    63 non-null object\n",
      "1    63 non-null float64\n",
      "2    63 non-null float64\n",
      "3    63 non-null int64\n",
      "4    63 non-null object\n",
      "5    63 non-null object\n",
      "6    63 non-null float64\n",
      "7    63 non-null float64\n",
      "8    63 non-null float64\n",
      "dtypes: float64(5), int64(1), object(3)\n",
      "memory usage: 4.9+ KB\n",
      "None\n"
     ]
    }
   ],
   "source": [
    "dataf2 = dataf.dropna()\n",
    "print(dataf2.info())"
   ]
  },
  {
   "cell_type": "markdown",
   "metadata": {},
   "source": [
    "#### Methodes\n",
    "\n",
    "    isnull()\n",
    "    notnull()\n",
    "    dropna()\n",
    "    fillna()\n",
    "    replace()\n",
    "    interpolate()\n"
   ]
  },
  {
   "cell_type": "code",
   "execution_count": 32,
   "metadata": {},
   "outputs": [
    {
     "name": "stdout",
     "output_type": "stream",
     "text": [
      "<class 'pandas.core.frame.DataFrame'>\n",
      "RangeIndex: 101 entries, 0 to 100\n",
      "Data columns (total 9 columns):\n",
      "0    101 non-null object\n",
      "1    101 non-null float64\n",
      "2    101 non-null float64\n",
      "3    101 non-null int64\n",
      "4    101 non-null object\n",
      "5    101 non-null object\n",
      "6    101 non-null float64\n",
      "7    101 non-null float64\n",
      "8    101 non-null float64\n",
      "dtypes: float64(5), int64(1), object(3)\n",
      "memory usage: 7.2+ KB\n",
      "None\n"
     ]
    }
   ],
   "source": [
    "dataf2 = dataf.fillna( method ='ffill') # forward \n",
    "print(dataf2.info())"
   ]
  },
  {
   "cell_type": "code",
   "execution_count": 39,
   "metadata": {},
   "outputs": [
    {
     "name": "stdout",
     "output_type": "stream",
     "text": [
      "0.0\n",
      "9.0\n"
     ]
    }
   ],
   "source": [
    "print(dataf[7].min())\n",
    "print(dataf2[8].min())"
   ]
  },
  {
   "cell_type": "code",
   "execution_count": 53,
   "metadata": {},
   "outputs": [
    {
     "data": {
      "text/html": [
       "<div>\n",
       "<style scoped>\n",
       "    .dataframe tbody tr th:only-of-type {\n",
       "        vertical-align: middle;\n",
       "    }\n",
       "\n",
       "    .dataframe tbody tr th {\n",
       "        vertical-align: top;\n",
       "    }\n",
       "\n",
       "    .dataframe thead th {\n",
       "        text-align: right;\n",
       "    }\n",
       "</style>\n",
       "<table border=\"1\" class=\"dataframe\">\n",
       "  <thead>\n",
       "    <tr style=\"text-align: right;\">\n",
       "      <th></th>\n",
       "      <th>id_mutation</th>\n",
       "      <th>valeur_fonciere</th>\n",
       "      <th>adresse_numero</th>\n",
       "      <th>adresse_code_voie</th>\n",
       "      <th>id_parcelle</th>\n",
       "      <th>code_type_local</th>\n",
       "      <th>surface_reelle_bati</th>\n",
       "      <th>nombre_pieces_principales</th>\n",
       "      <th>surface_terrain</th>\n",
       "    </tr>\n",
       "  </thead>\n",
       "  <tbody>\n",
       "    <tr>\n",
       "      <td>5</td>\n",
       "      <td>2019-417127</td>\n",
       "      <td>299000.0</td>\n",
       "      <td>49.0</td>\n",
       "      <td>910</td>\n",
       "      <td>94079000AE0396</td>\n",
       "      <td>None</td>\n",
       "      <td>NaN</td>\n",
       "      <td>NaN</td>\n",
       "      <td>476.0</td>\n",
       "    </tr>\n",
       "    <tr>\n",
       "      <td>7</td>\n",
       "      <td>2019-416616</td>\n",
       "      <td>293000.0</td>\n",
       "      <td>34.0</td>\n",
       "      <td>910</td>\n",
       "      <td>94079000AE0319</td>\n",
       "      <td>None</td>\n",
       "      <td>NaN</td>\n",
       "      <td>NaN</td>\n",
       "      <td>100.0</td>\n",
       "    </tr>\n",
       "    <tr>\n",
       "      <td>66</td>\n",
       "      <td>2015-1108912</td>\n",
       "      <td>646000.0</td>\n",
       "      <td>NaN</td>\n",
       "      <td>195</td>\n",
       "      <td>94079000AE0048</td>\n",
       "      <td>None</td>\n",
       "      <td>NaN</td>\n",
       "      <td>NaN</td>\n",
       "      <td>53.0</td>\n",
       "    </tr>\n",
       "    <tr>\n",
       "      <td>70</td>\n",
       "      <td>2015-1107619</td>\n",
       "      <td>360000.0</td>\n",
       "      <td>50.0</td>\n",
       "      <td>600</td>\n",
       "      <td>94079000AE0389</td>\n",
       "      <td>None</td>\n",
       "      <td>NaN</td>\n",
       "      <td>NaN</td>\n",
       "      <td>189.0</td>\n",
       "    </tr>\n",
       "    <tr>\n",
       "      <td>74</td>\n",
       "      <td>2015-1107092</td>\n",
       "      <td>428000.0</td>\n",
       "      <td>31.0</td>\n",
       "      <td>910</td>\n",
       "      <td>94079000AE0322</td>\n",
       "      <td>None</td>\n",
       "      <td>NaN</td>\n",
       "      <td>NaN</td>\n",
       "      <td>417.0</td>\n",
       "    </tr>\n",
       "  </tbody>\n",
       "</table>\n",
       "</div>"
      ],
      "text/plain": [
       "     id_mutation  valeur_fonciere  adresse_numero  adresse_code_voie  \\\n",
       "5    2019-417127         299000.0            49.0                910   \n",
       "7    2019-416616         293000.0            34.0                910   \n",
       "66  2015-1108912         646000.0             NaN                195   \n",
       "70  2015-1107619         360000.0            50.0                600   \n",
       "74  2015-1107092         428000.0            31.0                910   \n",
       "\n",
       "       id_parcelle code_type_local  surface_reelle_bati  \\\n",
       "5   94079000AE0396            None                  NaN   \n",
       "7   94079000AE0319            None                  NaN   \n",
       "66  94079000AE0048            None                  NaN   \n",
       "70  94079000AE0389            None                  NaN   \n",
       "74  94079000AE0322            None                  NaN   \n",
       "\n",
       "    nombre_pieces_principales  surface_terrain  \n",
       "5                         NaN            476.0  \n",
       "7                         NaN            100.0  \n",
       "66                        NaN             53.0  \n",
       "70                        NaN            189.0  \n",
       "74                        NaN            417.0  "
      ]
     },
     "execution_count": 53,
     "metadata": {},
     "output_type": "execute_result"
    }
   ],
   "source": [
    "dataf[dataf['code_type_local'] == 'None'].head()"
   ]
  },
  {
   "cell_type": "code",
   "execution_count": 63,
   "metadata": {
    "scrolled": true
   },
   "outputs": [
    {
     "name": "stdout",
     "output_type": "stream",
     "text": [
      " id_mutation                    2019-417127\n",
      "valeur_fonciere                      299000\n",
      "adresse_numero                           49\n",
      "adresse_code_voie                       910\n",
      "id_parcelle                  94079000AE0396\n",
      "code_type_local                         NaN\n",
      "surface_reelle_bati                     NaN\n",
      "nombre_pieces_principales               NaN\n",
      "surface_terrain                         476\n",
      "Name: 5, dtype: object\n"
     ]
    }
   ],
   "source": [
    "import numpy as np\n",
    "dataf.replace('None', np.nan, inplace = True)  # modification sur l'objet lui même\n",
    "print(dataf.iloc[5])                           # affiche la ligne d'index numero 5"
   ]
  },
  {
   "cell_type": "markdown",
   "metadata": {},
   "source": [
    "#### Le traitement des valeurs nulles peut aussi se faire au préalable: \n",
    "\n",
    "    missing_values = [\"n/a\", \"na\", \"--\"]\n",
    "    df = pd.read_csv(\"data.csv\", na_values = missing_values)"
   ]
  },
  {
   "cell_type": "markdown",
   "metadata": {},
   "source": [
    "#### Ne selectionner que certaines colonnes en lecture"
   ]
  },
  {
   "cell_type": "code",
   "execution_count": 75,
   "metadata": {},
   "outputs": [
    {
     "name": "stdout",
     "output_type": "stream",
     "text": [
      "   valeur_fonciere  adresse_code_voie\n",
      "0         455000.0                195\n",
      "1         430000.0                910\n",
      "2         150000.0                280\n",
      "3         390000.0                195\n",
      "4         697500.0                400\n",
      "<class 'pandas.core.frame.DataFrame'>\n",
      "RangeIndex: 102 entries, 0 to 101\n",
      "Data columns (total 2 columns):\n",
      "valeur_fonciere      102 non-null float64\n",
      "adresse_code_voie    102 non-null int64\n",
      "dtypes: float64(1), int64(1)\n",
      "memory usage: 1.7 KB\n",
      "None\n"
     ]
    }
   ],
   "source": [
    "dataf = pd.read_csv('parcelles_ext.csv', sep =';', usecols=[1,3])  # ou utilisation du nom de colonne\n",
    "print(dataf.head())\n",
    "print(dataf.info())"
   ]
  },
  {
   "cell_type": "markdown",
   "metadata": {},
   "source": [
    "#### Changer un type de donnée"
   ]
  },
  {
   "cell_type": "code",
   "execution_count": 79,
   "metadata": {},
   "outputs": [],
   "source": [
    "dataf = pd.read_csv('parcelles_ext.csv', sep =';')\n",
    "dataf.dropna(inplace = True)\n",
    "dataf['adresse_numero'] =dataf['adresse_numero'].astype('int32')"
   ]
  },
  {
   "cell_type": "code",
   "execution_count": 80,
   "metadata": {},
   "outputs": [
    {
     "data": {
      "text/html": [
       "<div>\n",
       "<style scoped>\n",
       "    .dataframe tbody tr th:only-of-type {\n",
       "        vertical-align: middle;\n",
       "    }\n",
       "\n",
       "    .dataframe tbody tr th {\n",
       "        vertical-align: top;\n",
       "    }\n",
       "\n",
       "    .dataframe thead th {\n",
       "        text-align: right;\n",
       "    }\n",
       "</style>\n",
       "<table border=\"1\" class=\"dataframe\">\n",
       "  <thead>\n",
       "    <tr style=\"text-align: right;\">\n",
       "      <th></th>\n",
       "      <th>id_mutation</th>\n",
       "      <th>valeur_fonciere</th>\n",
       "      <th>adresse_numero</th>\n",
       "      <th>adresse_code_voie</th>\n",
       "      <th>id_parcelle</th>\n",
       "      <th>code_type_local</th>\n",
       "      <th>surface_reelle_bati</th>\n",
       "      <th>nombre_pieces_principales</th>\n",
       "      <th>surface_terrain</th>\n",
       "    </tr>\n",
       "  </thead>\n",
       "  <tbody>\n",
       "    <tr>\n",
       "      <td>1</td>\n",
       "      <td>2019-417674</td>\n",
       "      <td>430000.0</td>\n",
       "      <td>61</td>\n",
       "      <td>910</td>\n",
       "      <td>94079000AE0069</td>\n",
       "      <td>1</td>\n",
       "      <td>113.0</td>\n",
       "      <td>6.0</td>\n",
       "      <td>488.0</td>\n",
       "    </tr>\n",
       "    <tr>\n",
       "      <td>2</td>\n",
       "      <td>2019-417478</td>\n",
       "      <td>150000.0</td>\n",
       "      <td>37</td>\n",
       "      <td>280</td>\n",
       "      <td>94079000AE0306</td>\n",
       "      <td>1</td>\n",
       "      <td>91.0</td>\n",
       "      <td>4.0</td>\n",
       "      <td>258.0</td>\n",
       "    </tr>\n",
       "    <tr>\n",
       "      <td>3</td>\n",
       "      <td>2019-417248</td>\n",
       "      <td>390000.0</td>\n",
       "      <td>31</td>\n",
       "      <td>195</td>\n",
       "      <td>94079000AE0035</td>\n",
       "      <td>1</td>\n",
       "      <td>61.0</td>\n",
       "      <td>3.0</td>\n",
       "      <td>507.0</td>\n",
       "    </tr>\n",
       "    <tr>\n",
       "      <td>4</td>\n",
       "      <td>2019-417247</td>\n",
       "      <td>697500.0</td>\n",
       "      <td>3</td>\n",
       "      <td>400</td>\n",
       "      <td>94079000AE0387</td>\n",
       "      <td>1</td>\n",
       "      <td>150.0</td>\n",
       "      <td>5.0</td>\n",
       "      <td>434.0</td>\n",
       "    </tr>\n",
       "    <tr>\n",
       "      <td>6</td>\n",
       "      <td>2019-416616</td>\n",
       "      <td>293000.0</td>\n",
       "      <td>34</td>\n",
       "      <td>910</td>\n",
       "      <td>94079000AE0318</td>\n",
       "      <td>1</td>\n",
       "      <td>76.0</td>\n",
       "      <td>3.0</td>\n",
       "      <td>528.0</td>\n",
       "    </tr>\n",
       "  </tbody>\n",
       "</table>\n",
       "</div>"
      ],
      "text/plain": [
       "   id_mutation  valeur_fonciere  adresse_numero  adresse_code_voie  \\\n",
       "1  2019-417674         430000.0              61                910   \n",
       "2  2019-417478         150000.0              37                280   \n",
       "3  2019-417248         390000.0              31                195   \n",
       "4  2019-417247         697500.0               3                400   \n",
       "6  2019-416616         293000.0              34                910   \n",
       "\n",
       "      id_parcelle code_type_local  surface_reelle_bati  \\\n",
       "1  94079000AE0069               1                113.0   \n",
       "2  94079000AE0306               1                 91.0   \n",
       "3  94079000AE0035               1                 61.0   \n",
       "4  94079000AE0387               1                150.0   \n",
       "6  94079000AE0318               1                 76.0   \n",
       "\n",
       "   nombre_pieces_principales  surface_terrain  \n",
       "1                        6.0            488.0  \n",
       "2                        4.0            258.0  \n",
       "3                        3.0            507.0  \n",
       "4                        5.0            434.0  \n",
       "6                        3.0            528.0  "
      ]
     },
     "execution_count": 80,
     "metadata": {},
     "output_type": "execute_result"
    }
   ],
   "source": [
    "dataf.head()"
   ]
  },
  {
   "cell_type": "code",
   "execution_count": null,
   "metadata": {},
   "outputs": [],
   "source": []
  }
 ],
 "metadata": {
  "kernelspec": {
   "display_name": "Python 3",
   "language": "python",
   "name": "python3"
  },
  "language_info": {
   "codemirror_mode": {
    "name": "ipython",
    "version": 3
   },
   "file_extension": ".py",
   "mimetype": "text/x-python",
   "name": "python",
   "nbconvert_exporter": "python",
   "pygments_lexer": "ipython3",
   "version": "3.7.4"
  }
 },
 "nbformat": 4,
 "nbformat_minor": 2
}
