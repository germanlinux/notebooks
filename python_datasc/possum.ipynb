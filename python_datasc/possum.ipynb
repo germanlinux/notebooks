{
 "cells": [
  {
   "cell_type": "code",
   "execution_count": 3,
   "id": "8b5361d3",
   "metadata": {},
   "outputs": [],
   "source": [
    "import pandas as pd\n",
    "import numpy as np\n",
    "import matplotlib.pyplot as plt "
   ]
  },
  {
   "cell_type": "code",
   "execution_count": 4,
   "id": "2a7a40e2",
   "metadata": {},
   "outputs": [],
   "source": [
    "dt = pd.read_csv('possum.csv')\n"
   ]
  },
  {
   "cell_type": "code",
   "execution_count": 5,
   "id": "dbfcf5e9",
   "metadata": {},
   "outputs": [
    {
     "data": {
      "text/html": [
       "<div>\n",
       "<style scoped>\n",
       "    .dataframe tbody tr th:only-of-type {\n",
       "        vertical-align: middle;\n",
       "    }\n",
       "\n",
       "    .dataframe tbody tr th {\n",
       "        vertical-align: top;\n",
       "    }\n",
       "\n",
       "    .dataframe thead th {\n",
       "        text-align: right;\n",
       "    }\n",
       "</style>\n",
       "<table border=\"1\" class=\"dataframe\">\n",
       "  <thead>\n",
       "    <tr style=\"text-align: right;\">\n",
       "      <th></th>\n",
       "      <th>case</th>\n",
       "      <th>site</th>\n",
       "      <th>Pop</th>\n",
       "      <th>sex</th>\n",
       "      <th>age</th>\n",
       "      <th>hdlngth</th>\n",
       "      <th>skullw</th>\n",
       "      <th>totlngth</th>\n",
       "      <th>taill</th>\n",
       "      <th>footlgth</th>\n",
       "      <th>earconch</th>\n",
       "      <th>eye</th>\n",
       "      <th>chest</th>\n",
       "      <th>belly</th>\n",
       "    </tr>\n",
       "  </thead>\n",
       "  <tbody>\n",
       "    <tr>\n",
       "      <th>0</th>\n",
       "      <td>1</td>\n",
       "      <td>1</td>\n",
       "      <td>Vic</td>\n",
       "      <td>m</td>\n",
       "      <td>8.0</td>\n",
       "      <td>94.1</td>\n",
       "      <td>60.4</td>\n",
       "      <td>89.0</td>\n",
       "      <td>36.0</td>\n",
       "      <td>74.5</td>\n",
       "      <td>54.5</td>\n",
       "      <td>15.2</td>\n",
       "      <td>28.0</td>\n",
       "      <td>36.0</td>\n",
       "    </tr>\n",
       "    <tr>\n",
       "      <th>1</th>\n",
       "      <td>2</td>\n",
       "      <td>1</td>\n",
       "      <td>Vic</td>\n",
       "      <td>f</td>\n",
       "      <td>6.0</td>\n",
       "      <td>92.5</td>\n",
       "      <td>57.6</td>\n",
       "      <td>91.5</td>\n",
       "      <td>36.5</td>\n",
       "      <td>72.5</td>\n",
       "      <td>51.2</td>\n",
       "      <td>16.0</td>\n",
       "      <td>28.5</td>\n",
       "      <td>33.0</td>\n",
       "    </tr>\n",
       "    <tr>\n",
       "      <th>2</th>\n",
       "      <td>3</td>\n",
       "      <td>1</td>\n",
       "      <td>Vic</td>\n",
       "      <td>f</td>\n",
       "      <td>6.0</td>\n",
       "      <td>94.0</td>\n",
       "      <td>60.0</td>\n",
       "      <td>95.5</td>\n",
       "      <td>39.0</td>\n",
       "      <td>75.4</td>\n",
       "      <td>51.9</td>\n",
       "      <td>15.5</td>\n",
       "      <td>30.0</td>\n",
       "      <td>34.0</td>\n",
       "    </tr>\n",
       "    <tr>\n",
       "      <th>3</th>\n",
       "      <td>4</td>\n",
       "      <td>1</td>\n",
       "      <td>Vic</td>\n",
       "      <td>f</td>\n",
       "      <td>6.0</td>\n",
       "      <td>93.2</td>\n",
       "      <td>57.1</td>\n",
       "      <td>92.0</td>\n",
       "      <td>38.0</td>\n",
       "      <td>76.1</td>\n",
       "      <td>52.2</td>\n",
       "      <td>15.2</td>\n",
       "      <td>28.0</td>\n",
       "      <td>34.0</td>\n",
       "    </tr>\n",
       "    <tr>\n",
       "      <th>4</th>\n",
       "      <td>5</td>\n",
       "      <td>1</td>\n",
       "      <td>Vic</td>\n",
       "      <td>f</td>\n",
       "      <td>2.0</td>\n",
       "      <td>91.5</td>\n",
       "      <td>56.3</td>\n",
       "      <td>85.5</td>\n",
       "      <td>36.0</td>\n",
       "      <td>71.0</td>\n",
       "      <td>53.2</td>\n",
       "      <td>15.1</td>\n",
       "      <td>28.5</td>\n",
       "      <td>33.0</td>\n",
       "    </tr>\n",
       "    <tr>\n",
       "      <th>...</th>\n",
       "      <td>...</td>\n",
       "      <td>...</td>\n",
       "      <td>...</td>\n",
       "      <td>...</td>\n",
       "      <td>...</td>\n",
       "      <td>...</td>\n",
       "      <td>...</td>\n",
       "      <td>...</td>\n",
       "      <td>...</td>\n",
       "      <td>...</td>\n",
       "      <td>...</td>\n",
       "      <td>...</td>\n",
       "      <td>...</td>\n",
       "      <td>...</td>\n",
       "    </tr>\n",
       "    <tr>\n",
       "      <th>99</th>\n",
       "      <td>100</td>\n",
       "      <td>7</td>\n",
       "      <td>other</td>\n",
       "      <td>m</td>\n",
       "      <td>1.0</td>\n",
       "      <td>89.5</td>\n",
       "      <td>56.0</td>\n",
       "      <td>81.5</td>\n",
       "      <td>36.5</td>\n",
       "      <td>66.0</td>\n",
       "      <td>46.8</td>\n",
       "      <td>14.8</td>\n",
       "      <td>23.0</td>\n",
       "      <td>27.0</td>\n",
       "    </tr>\n",
       "    <tr>\n",
       "      <th>100</th>\n",
       "      <td>101</td>\n",
       "      <td>7</td>\n",
       "      <td>other</td>\n",
       "      <td>m</td>\n",
       "      <td>1.0</td>\n",
       "      <td>88.6</td>\n",
       "      <td>54.7</td>\n",
       "      <td>82.5</td>\n",
       "      <td>39.0</td>\n",
       "      <td>64.4</td>\n",
       "      <td>48.0</td>\n",
       "      <td>14.0</td>\n",
       "      <td>25.0</td>\n",
       "      <td>33.0</td>\n",
       "    </tr>\n",
       "    <tr>\n",
       "      <th>101</th>\n",
       "      <td>102</td>\n",
       "      <td>7</td>\n",
       "      <td>other</td>\n",
       "      <td>f</td>\n",
       "      <td>6.0</td>\n",
       "      <td>92.4</td>\n",
       "      <td>55.0</td>\n",
       "      <td>89.0</td>\n",
       "      <td>38.0</td>\n",
       "      <td>63.5</td>\n",
       "      <td>45.4</td>\n",
       "      <td>13.0</td>\n",
       "      <td>25.0</td>\n",
       "      <td>30.0</td>\n",
       "    </tr>\n",
       "    <tr>\n",
       "      <th>102</th>\n",
       "      <td>103</td>\n",
       "      <td>7</td>\n",
       "      <td>other</td>\n",
       "      <td>m</td>\n",
       "      <td>4.0</td>\n",
       "      <td>91.5</td>\n",
       "      <td>55.2</td>\n",
       "      <td>82.5</td>\n",
       "      <td>36.5</td>\n",
       "      <td>62.9</td>\n",
       "      <td>45.9</td>\n",
       "      <td>15.4</td>\n",
       "      <td>25.0</td>\n",
       "      <td>29.0</td>\n",
       "    </tr>\n",
       "    <tr>\n",
       "      <th>103</th>\n",
       "      <td>104</td>\n",
       "      <td>7</td>\n",
       "      <td>other</td>\n",
       "      <td>f</td>\n",
       "      <td>3.0</td>\n",
       "      <td>93.6</td>\n",
       "      <td>59.9</td>\n",
       "      <td>89.0</td>\n",
       "      <td>40.0</td>\n",
       "      <td>67.6</td>\n",
       "      <td>46.0</td>\n",
       "      <td>14.8</td>\n",
       "      <td>28.5</td>\n",
       "      <td>33.5</td>\n",
       "    </tr>\n",
       "  </tbody>\n",
       "</table>\n",
       "<p>104 rows × 14 columns</p>\n",
       "</div>"
      ],
      "text/plain": [
       "     case  site    Pop sex  age  hdlngth  skullw  totlngth  taill  footlgth  \\\n",
       "0       1     1    Vic   m  8.0     94.1    60.4      89.0   36.0      74.5   \n",
       "1       2     1    Vic   f  6.0     92.5    57.6      91.5   36.5      72.5   \n",
       "2       3     1    Vic   f  6.0     94.0    60.0      95.5   39.0      75.4   \n",
       "3       4     1    Vic   f  6.0     93.2    57.1      92.0   38.0      76.1   \n",
       "4       5     1    Vic   f  2.0     91.5    56.3      85.5   36.0      71.0   \n",
       "..    ...   ...    ...  ..  ...      ...     ...       ...    ...       ...   \n",
       "99    100     7  other   m  1.0     89.5    56.0      81.5   36.5      66.0   \n",
       "100   101     7  other   m  1.0     88.6    54.7      82.5   39.0      64.4   \n",
       "101   102     7  other   f  6.0     92.4    55.0      89.0   38.0      63.5   \n",
       "102   103     7  other   m  4.0     91.5    55.2      82.5   36.5      62.9   \n",
       "103   104     7  other   f  3.0     93.6    59.9      89.0   40.0      67.6   \n",
       "\n",
       "     earconch   eye  chest  belly  \n",
       "0        54.5  15.2   28.0   36.0  \n",
       "1        51.2  16.0   28.5   33.0  \n",
       "2        51.9  15.5   30.0   34.0  \n",
       "3        52.2  15.2   28.0   34.0  \n",
       "4        53.2  15.1   28.5   33.0  \n",
       "..        ...   ...    ...    ...  \n",
       "99       46.8  14.8   23.0   27.0  \n",
       "100      48.0  14.0   25.0   33.0  \n",
       "101      45.4  13.0   25.0   30.0  \n",
       "102      45.9  15.4   25.0   29.0  \n",
       "103      46.0  14.8   28.5   33.5  \n",
       "\n",
       "[104 rows x 14 columns]"
      ]
     },
     "execution_count": 5,
     "metadata": {},
     "output_type": "execute_result"
    }
   ],
   "source": [
    "dt"
   ]
  },
  {
   "cell_type": "code",
   "execution_count": 6,
   "id": "9ebd9009",
   "metadata": {},
   "outputs": [],
   "source": [
    "dt.drop(['case', 'site','Pop'], axis =1, inplace= True)"
   ]
  },
  {
   "cell_type": "code",
   "execution_count": 7,
   "id": "2c437113",
   "metadata": {},
   "outputs": [
    {
     "data": {
      "text/html": [
       "<div>\n",
       "<style scoped>\n",
       "    .dataframe tbody tr th:only-of-type {\n",
       "        vertical-align: middle;\n",
       "    }\n",
       "\n",
       "    .dataframe tbody tr th {\n",
       "        vertical-align: top;\n",
       "    }\n",
       "\n",
       "    .dataframe thead th {\n",
       "        text-align: right;\n",
       "    }\n",
       "</style>\n",
       "<table border=\"1\" class=\"dataframe\">\n",
       "  <thead>\n",
       "    <tr style=\"text-align: right;\">\n",
       "      <th></th>\n",
       "      <th>sex</th>\n",
       "      <th>age</th>\n",
       "      <th>hdlngth</th>\n",
       "      <th>skullw</th>\n",
       "      <th>totlngth</th>\n",
       "      <th>taill</th>\n",
       "      <th>footlgth</th>\n",
       "      <th>earconch</th>\n",
       "      <th>eye</th>\n",
       "      <th>chest</th>\n",
       "      <th>belly</th>\n",
       "    </tr>\n",
       "  </thead>\n",
       "  <tbody>\n",
       "    <tr>\n",
       "      <th>0</th>\n",
       "      <td>m</td>\n",
       "      <td>8.0</td>\n",
       "      <td>94.1</td>\n",
       "      <td>60.4</td>\n",
       "      <td>89.0</td>\n",
       "      <td>36.0</td>\n",
       "      <td>74.5</td>\n",
       "      <td>54.5</td>\n",
       "      <td>15.2</td>\n",
       "      <td>28.0</td>\n",
       "      <td>36.0</td>\n",
       "    </tr>\n",
       "    <tr>\n",
       "      <th>1</th>\n",
       "      <td>f</td>\n",
       "      <td>6.0</td>\n",
       "      <td>92.5</td>\n",
       "      <td>57.6</td>\n",
       "      <td>91.5</td>\n",
       "      <td>36.5</td>\n",
       "      <td>72.5</td>\n",
       "      <td>51.2</td>\n",
       "      <td>16.0</td>\n",
       "      <td>28.5</td>\n",
       "      <td>33.0</td>\n",
       "    </tr>\n",
       "    <tr>\n",
       "      <th>2</th>\n",
       "      <td>f</td>\n",
       "      <td>6.0</td>\n",
       "      <td>94.0</td>\n",
       "      <td>60.0</td>\n",
       "      <td>95.5</td>\n",
       "      <td>39.0</td>\n",
       "      <td>75.4</td>\n",
       "      <td>51.9</td>\n",
       "      <td>15.5</td>\n",
       "      <td>30.0</td>\n",
       "      <td>34.0</td>\n",
       "    </tr>\n",
       "    <tr>\n",
       "      <th>3</th>\n",
       "      <td>f</td>\n",
       "      <td>6.0</td>\n",
       "      <td>93.2</td>\n",
       "      <td>57.1</td>\n",
       "      <td>92.0</td>\n",
       "      <td>38.0</td>\n",
       "      <td>76.1</td>\n",
       "      <td>52.2</td>\n",
       "      <td>15.2</td>\n",
       "      <td>28.0</td>\n",
       "      <td>34.0</td>\n",
       "    </tr>\n",
       "    <tr>\n",
       "      <th>4</th>\n",
       "      <td>f</td>\n",
       "      <td>2.0</td>\n",
       "      <td>91.5</td>\n",
       "      <td>56.3</td>\n",
       "      <td>85.5</td>\n",
       "      <td>36.0</td>\n",
       "      <td>71.0</td>\n",
       "      <td>53.2</td>\n",
       "      <td>15.1</td>\n",
       "      <td>28.5</td>\n",
       "      <td>33.0</td>\n",
       "    </tr>\n",
       "    <tr>\n",
       "      <th>...</th>\n",
       "      <td>...</td>\n",
       "      <td>...</td>\n",
       "      <td>...</td>\n",
       "      <td>...</td>\n",
       "      <td>...</td>\n",
       "      <td>...</td>\n",
       "      <td>...</td>\n",
       "      <td>...</td>\n",
       "      <td>...</td>\n",
       "      <td>...</td>\n",
       "      <td>...</td>\n",
       "    </tr>\n",
       "    <tr>\n",
       "      <th>99</th>\n",
       "      <td>m</td>\n",
       "      <td>1.0</td>\n",
       "      <td>89.5</td>\n",
       "      <td>56.0</td>\n",
       "      <td>81.5</td>\n",
       "      <td>36.5</td>\n",
       "      <td>66.0</td>\n",
       "      <td>46.8</td>\n",
       "      <td>14.8</td>\n",
       "      <td>23.0</td>\n",
       "      <td>27.0</td>\n",
       "    </tr>\n",
       "    <tr>\n",
       "      <th>100</th>\n",
       "      <td>m</td>\n",
       "      <td>1.0</td>\n",
       "      <td>88.6</td>\n",
       "      <td>54.7</td>\n",
       "      <td>82.5</td>\n",
       "      <td>39.0</td>\n",
       "      <td>64.4</td>\n",
       "      <td>48.0</td>\n",
       "      <td>14.0</td>\n",
       "      <td>25.0</td>\n",
       "      <td>33.0</td>\n",
       "    </tr>\n",
       "    <tr>\n",
       "      <th>101</th>\n",
       "      <td>f</td>\n",
       "      <td>6.0</td>\n",
       "      <td>92.4</td>\n",
       "      <td>55.0</td>\n",
       "      <td>89.0</td>\n",
       "      <td>38.0</td>\n",
       "      <td>63.5</td>\n",
       "      <td>45.4</td>\n",
       "      <td>13.0</td>\n",
       "      <td>25.0</td>\n",
       "      <td>30.0</td>\n",
       "    </tr>\n",
       "    <tr>\n",
       "      <th>102</th>\n",
       "      <td>m</td>\n",
       "      <td>4.0</td>\n",
       "      <td>91.5</td>\n",
       "      <td>55.2</td>\n",
       "      <td>82.5</td>\n",
       "      <td>36.5</td>\n",
       "      <td>62.9</td>\n",
       "      <td>45.9</td>\n",
       "      <td>15.4</td>\n",
       "      <td>25.0</td>\n",
       "      <td>29.0</td>\n",
       "    </tr>\n",
       "    <tr>\n",
       "      <th>103</th>\n",
       "      <td>f</td>\n",
       "      <td>3.0</td>\n",
       "      <td>93.6</td>\n",
       "      <td>59.9</td>\n",
       "      <td>89.0</td>\n",
       "      <td>40.0</td>\n",
       "      <td>67.6</td>\n",
       "      <td>46.0</td>\n",
       "      <td>14.8</td>\n",
       "      <td>28.5</td>\n",
       "      <td>33.5</td>\n",
       "    </tr>\n",
       "  </tbody>\n",
       "</table>\n",
       "<p>104 rows × 11 columns</p>\n",
       "</div>"
      ],
      "text/plain": [
       "    sex  age  hdlngth  skullw  totlngth  taill  footlgth  earconch   eye  \\\n",
       "0     m  8.0     94.1    60.4      89.0   36.0      74.5      54.5  15.2   \n",
       "1     f  6.0     92.5    57.6      91.5   36.5      72.5      51.2  16.0   \n",
       "2     f  6.0     94.0    60.0      95.5   39.0      75.4      51.9  15.5   \n",
       "3     f  6.0     93.2    57.1      92.0   38.0      76.1      52.2  15.2   \n",
       "4     f  2.0     91.5    56.3      85.5   36.0      71.0      53.2  15.1   \n",
       "..   ..  ...      ...     ...       ...    ...       ...       ...   ...   \n",
       "99    m  1.0     89.5    56.0      81.5   36.5      66.0      46.8  14.8   \n",
       "100   m  1.0     88.6    54.7      82.5   39.0      64.4      48.0  14.0   \n",
       "101   f  6.0     92.4    55.0      89.0   38.0      63.5      45.4  13.0   \n",
       "102   m  4.0     91.5    55.2      82.5   36.5      62.9      45.9  15.4   \n",
       "103   f  3.0     93.6    59.9      89.0   40.0      67.6      46.0  14.8   \n",
       "\n",
       "     chest  belly  \n",
       "0     28.0   36.0  \n",
       "1     28.5   33.0  \n",
       "2     30.0   34.0  \n",
       "3     28.0   34.0  \n",
       "4     28.5   33.0  \n",
       "..     ...    ...  \n",
       "99    23.0   27.0  \n",
       "100   25.0   33.0  \n",
       "101   25.0   30.0  \n",
       "102   25.0   29.0  \n",
       "103   28.5   33.5  \n",
       "\n",
       "[104 rows x 11 columns]"
      ]
     },
     "execution_count": 7,
     "metadata": {},
     "output_type": "execute_result"
    }
   ],
   "source": [
    "dt"
   ]
  },
  {
   "cell_type": "code",
   "execution_count": 8,
   "id": "66280108",
   "metadata": {},
   "outputs": [],
   "source": [
    "corr_matrix = dt.corr()"
   ]
  },
  {
   "cell_type": "code",
   "execution_count": 9,
   "id": "31f82a99",
   "metadata": {},
   "outputs": [
    {
     "name": "stdout",
     "output_type": "stream",
     "text": [
      "               age   hdlngth    skullw  totlngth     taill  footlgth  \\\n",
      "age       1.000000  0.319022  0.285107  0.260280  0.118241  0.126190   \n",
      "hdlngth   0.319022  1.000000  0.710827  0.691094  0.287429  0.391605   \n",
      "skullw    0.285107  0.710827  1.000000  0.526413  0.255921  0.275059   \n",
      "totlngth  0.260280  0.691094  0.526413  1.000000  0.565646  0.444832   \n",
      "taill     0.118241  0.287429  0.255921  0.565646  1.000000 -0.126277   \n",
      "footlgth  0.126190  0.391605  0.275059  0.444832 -0.126277  1.000000   \n",
      "earconch  0.053405  0.121463 -0.000537  0.154484 -0.385136  0.783050   \n",
      "eye       0.235553  0.347175  0.321991  0.247786  0.198134  0.005213   \n",
      "chest     0.334209  0.631498  0.629737  0.577890  0.174997  0.450590   \n",
      "belly     0.354298  0.562663  0.451838  0.519465  0.294493  0.302584   \n",
      "\n",
      "          earconch       eye     chest     belly  \n",
      "age       0.053405  0.235553  0.334209  0.354298  \n",
      "hdlngth   0.121463  0.347175  0.631498  0.562663  \n",
      "skullw   -0.000537  0.321991  0.629737  0.451838  \n",
      "totlngth  0.154484  0.247786  0.577890  0.519465  \n",
      "taill    -0.385136  0.198134  0.174997  0.294493  \n",
      "footlgth  0.783050  0.005213  0.450590  0.302584  \n",
      "earconch  1.000000 -0.165092  0.199230  0.066527  \n",
      "eye      -0.165092  1.000000  0.149338  0.235716  \n",
      "chest     0.199230  0.149338  1.000000  0.606170  \n",
      "belly     0.066527  0.235716  0.606170  1.000000  \n"
     ]
    }
   ],
   "source": [
    "print(corr_matrix)"
   ]
  },
  {
   "cell_type": "markdown",
   "id": "c7ccd2fa",
   "metadata": {},
   "source": [
    "### Explication sur l'absence de certaines colonnes => elles sont non numeriques"
   ]
  },
  {
   "cell_type": "code",
   "execution_count": 10,
   "id": "46d6a255",
   "metadata": {},
   "outputs": [],
   "source": [
    "from sklearn.preprocessing  import OrdinalEncoder "
   ]
  },
  {
   "cell_type": "code",
   "execution_count": 11,
   "id": "91cd3e6b",
   "metadata": {},
   "outputs": [
    {
     "data": {
      "text/plain": [
       "OrdinalEncoder()"
      ]
     },
     "execution_count": 11,
     "metadata": {},
     "output_type": "execute_result"
    }
   ],
   "source": [
    "\n",
    "enc = OrdinalEncoder()\n",
    "enc.fit(dt[['sex']])"
   ]
  },
  {
   "cell_type": "code",
   "execution_count": 12,
   "id": "52513774",
   "metadata": {},
   "outputs": [],
   "source": [
    "dt['sexe'] = enc.transform(dt[['sex']])"
   ]
  },
  {
   "cell_type": "code",
   "execution_count": 13,
   "id": "0e1e3959",
   "metadata": {},
   "outputs": [
    {
     "data": {
      "text/html": [
       "<div>\n",
       "<style scoped>\n",
       "    .dataframe tbody tr th:only-of-type {\n",
       "        vertical-align: middle;\n",
       "    }\n",
       "\n",
       "    .dataframe tbody tr th {\n",
       "        vertical-align: top;\n",
       "    }\n",
       "\n",
       "    .dataframe thead th {\n",
       "        text-align: right;\n",
       "    }\n",
       "</style>\n",
       "<table border=\"1\" class=\"dataframe\">\n",
       "  <thead>\n",
       "    <tr style=\"text-align: right;\">\n",
       "      <th></th>\n",
       "      <th>sex</th>\n",
       "      <th>age</th>\n",
       "      <th>hdlngth</th>\n",
       "      <th>skullw</th>\n",
       "      <th>totlngth</th>\n",
       "      <th>taill</th>\n",
       "      <th>footlgth</th>\n",
       "      <th>earconch</th>\n",
       "      <th>eye</th>\n",
       "      <th>chest</th>\n",
       "      <th>belly</th>\n",
       "      <th>sexe</th>\n",
       "    </tr>\n",
       "  </thead>\n",
       "  <tbody>\n",
       "    <tr>\n",
       "      <th>0</th>\n",
       "      <td>m</td>\n",
       "      <td>8.0</td>\n",
       "      <td>94.1</td>\n",
       "      <td>60.4</td>\n",
       "      <td>89.0</td>\n",
       "      <td>36.0</td>\n",
       "      <td>74.5</td>\n",
       "      <td>54.5</td>\n",
       "      <td>15.2</td>\n",
       "      <td>28.0</td>\n",
       "      <td>36.0</td>\n",
       "      <td>1.0</td>\n",
       "    </tr>\n",
       "    <tr>\n",
       "      <th>1</th>\n",
       "      <td>f</td>\n",
       "      <td>6.0</td>\n",
       "      <td>92.5</td>\n",
       "      <td>57.6</td>\n",
       "      <td>91.5</td>\n",
       "      <td>36.5</td>\n",
       "      <td>72.5</td>\n",
       "      <td>51.2</td>\n",
       "      <td>16.0</td>\n",
       "      <td>28.5</td>\n",
       "      <td>33.0</td>\n",
       "      <td>0.0</td>\n",
       "    </tr>\n",
       "    <tr>\n",
       "      <th>2</th>\n",
       "      <td>f</td>\n",
       "      <td>6.0</td>\n",
       "      <td>94.0</td>\n",
       "      <td>60.0</td>\n",
       "      <td>95.5</td>\n",
       "      <td>39.0</td>\n",
       "      <td>75.4</td>\n",
       "      <td>51.9</td>\n",
       "      <td>15.5</td>\n",
       "      <td>30.0</td>\n",
       "      <td>34.0</td>\n",
       "      <td>0.0</td>\n",
       "    </tr>\n",
       "    <tr>\n",
       "      <th>3</th>\n",
       "      <td>f</td>\n",
       "      <td>6.0</td>\n",
       "      <td>93.2</td>\n",
       "      <td>57.1</td>\n",
       "      <td>92.0</td>\n",
       "      <td>38.0</td>\n",
       "      <td>76.1</td>\n",
       "      <td>52.2</td>\n",
       "      <td>15.2</td>\n",
       "      <td>28.0</td>\n",
       "      <td>34.0</td>\n",
       "      <td>0.0</td>\n",
       "    </tr>\n",
       "    <tr>\n",
       "      <th>4</th>\n",
       "      <td>f</td>\n",
       "      <td>2.0</td>\n",
       "      <td>91.5</td>\n",
       "      <td>56.3</td>\n",
       "      <td>85.5</td>\n",
       "      <td>36.0</td>\n",
       "      <td>71.0</td>\n",
       "      <td>53.2</td>\n",
       "      <td>15.1</td>\n",
       "      <td>28.5</td>\n",
       "      <td>33.0</td>\n",
       "      <td>0.0</td>\n",
       "    </tr>\n",
       "    <tr>\n",
       "      <th>...</th>\n",
       "      <td>...</td>\n",
       "      <td>...</td>\n",
       "      <td>...</td>\n",
       "      <td>...</td>\n",
       "      <td>...</td>\n",
       "      <td>...</td>\n",
       "      <td>...</td>\n",
       "      <td>...</td>\n",
       "      <td>...</td>\n",
       "      <td>...</td>\n",
       "      <td>...</td>\n",
       "      <td>...</td>\n",
       "    </tr>\n",
       "    <tr>\n",
       "      <th>99</th>\n",
       "      <td>m</td>\n",
       "      <td>1.0</td>\n",
       "      <td>89.5</td>\n",
       "      <td>56.0</td>\n",
       "      <td>81.5</td>\n",
       "      <td>36.5</td>\n",
       "      <td>66.0</td>\n",
       "      <td>46.8</td>\n",
       "      <td>14.8</td>\n",
       "      <td>23.0</td>\n",
       "      <td>27.0</td>\n",
       "      <td>1.0</td>\n",
       "    </tr>\n",
       "    <tr>\n",
       "      <th>100</th>\n",
       "      <td>m</td>\n",
       "      <td>1.0</td>\n",
       "      <td>88.6</td>\n",
       "      <td>54.7</td>\n",
       "      <td>82.5</td>\n",
       "      <td>39.0</td>\n",
       "      <td>64.4</td>\n",
       "      <td>48.0</td>\n",
       "      <td>14.0</td>\n",
       "      <td>25.0</td>\n",
       "      <td>33.0</td>\n",
       "      <td>1.0</td>\n",
       "    </tr>\n",
       "    <tr>\n",
       "      <th>101</th>\n",
       "      <td>f</td>\n",
       "      <td>6.0</td>\n",
       "      <td>92.4</td>\n",
       "      <td>55.0</td>\n",
       "      <td>89.0</td>\n",
       "      <td>38.0</td>\n",
       "      <td>63.5</td>\n",
       "      <td>45.4</td>\n",
       "      <td>13.0</td>\n",
       "      <td>25.0</td>\n",
       "      <td>30.0</td>\n",
       "      <td>0.0</td>\n",
       "    </tr>\n",
       "    <tr>\n",
       "      <th>102</th>\n",
       "      <td>m</td>\n",
       "      <td>4.0</td>\n",
       "      <td>91.5</td>\n",
       "      <td>55.2</td>\n",
       "      <td>82.5</td>\n",
       "      <td>36.5</td>\n",
       "      <td>62.9</td>\n",
       "      <td>45.9</td>\n",
       "      <td>15.4</td>\n",
       "      <td>25.0</td>\n",
       "      <td>29.0</td>\n",
       "      <td>1.0</td>\n",
       "    </tr>\n",
       "    <tr>\n",
       "      <th>103</th>\n",
       "      <td>f</td>\n",
       "      <td>3.0</td>\n",
       "      <td>93.6</td>\n",
       "      <td>59.9</td>\n",
       "      <td>89.0</td>\n",
       "      <td>40.0</td>\n",
       "      <td>67.6</td>\n",
       "      <td>46.0</td>\n",
       "      <td>14.8</td>\n",
       "      <td>28.5</td>\n",
       "      <td>33.5</td>\n",
       "      <td>0.0</td>\n",
       "    </tr>\n",
       "  </tbody>\n",
       "</table>\n",
       "<p>104 rows × 12 columns</p>\n",
       "</div>"
      ],
      "text/plain": [
       "    sex  age  hdlngth  skullw  totlngth  taill  footlgth  earconch   eye  \\\n",
       "0     m  8.0     94.1    60.4      89.0   36.0      74.5      54.5  15.2   \n",
       "1     f  6.0     92.5    57.6      91.5   36.5      72.5      51.2  16.0   \n",
       "2     f  6.0     94.0    60.0      95.5   39.0      75.4      51.9  15.5   \n",
       "3     f  6.0     93.2    57.1      92.0   38.0      76.1      52.2  15.2   \n",
       "4     f  2.0     91.5    56.3      85.5   36.0      71.0      53.2  15.1   \n",
       "..   ..  ...      ...     ...       ...    ...       ...       ...   ...   \n",
       "99    m  1.0     89.5    56.0      81.5   36.5      66.0      46.8  14.8   \n",
       "100   m  1.0     88.6    54.7      82.5   39.0      64.4      48.0  14.0   \n",
       "101   f  6.0     92.4    55.0      89.0   38.0      63.5      45.4  13.0   \n",
       "102   m  4.0     91.5    55.2      82.5   36.5      62.9      45.9  15.4   \n",
       "103   f  3.0     93.6    59.9      89.0   40.0      67.6      46.0  14.8   \n",
       "\n",
       "     chest  belly  sexe  \n",
       "0     28.0   36.0   1.0  \n",
       "1     28.5   33.0   0.0  \n",
       "2     30.0   34.0   0.0  \n",
       "3     28.0   34.0   0.0  \n",
       "4     28.5   33.0   0.0  \n",
       "..     ...    ...   ...  \n",
       "99    23.0   27.0   1.0  \n",
       "100   25.0   33.0   1.0  \n",
       "101   25.0   30.0   0.0  \n",
       "102   25.0   29.0   1.0  \n",
       "103   28.5   33.5   0.0  \n",
       "\n",
       "[104 rows x 12 columns]"
      ]
     },
     "execution_count": 13,
     "metadata": {},
     "output_type": "execute_result"
    }
   ],
   "source": [
    "dt"
   ]
  },
  {
   "cell_type": "code",
   "execution_count": 14,
   "id": "d0ea4c9b",
   "metadata": {},
   "outputs": [
    {
     "name": "stdout",
     "output_type": "stream",
     "text": [
      "               age   hdlngth    skullw  totlngth     taill  footlgth  \\\n",
      "age       1.000000  0.319022  0.285107  0.260280  0.118241  0.126190   \n",
      "hdlngth   0.319022  1.000000  0.710827  0.691094  0.287429  0.391605   \n",
      "skullw    0.285107  0.710827  1.000000  0.526413  0.255921  0.275059   \n",
      "totlngth  0.260280  0.691094  0.526413  1.000000  0.565646  0.444832   \n",
      "taill     0.118241  0.287429  0.255921  0.565646  1.000000 -0.126277   \n",
      "footlgth  0.126190  0.391605  0.275059  0.444832 -0.126277  1.000000   \n",
      "earconch  0.053405  0.121463 -0.000537  0.154484 -0.385136  0.783050   \n",
      "eye       0.235553  0.347175  0.321991  0.247786  0.198134  0.005213   \n",
      "chest     0.334209  0.631498  0.629737  0.577890  0.174997  0.450590   \n",
      "belly     0.354298  0.562663  0.451838  0.519465  0.294493  0.302584   \n",
      "sexe     -0.064442  0.107200  0.080014 -0.160200 -0.040917 -0.123820   \n",
      "\n",
      "          earconch       eye     chest     belly      sexe  \n",
      "age       0.053405  0.235553  0.334209  0.354298 -0.064442  \n",
      "hdlngth   0.121463  0.347175  0.631498  0.562663  0.107200  \n",
      "skullw   -0.000537  0.321991  0.629737  0.451838  0.080014  \n",
      "totlngth  0.154484  0.247786  0.577890  0.519465 -0.160200  \n",
      "taill    -0.385136  0.198134  0.174997  0.294493 -0.040917  \n",
      "footlgth  0.783050  0.005213  0.450590  0.302584 -0.123820  \n",
      "earconch  1.000000 -0.165092  0.199230  0.066527 -0.091559  \n",
      "eye      -0.165092  1.000000  0.149338  0.235716  0.188371  \n",
      "chest     0.199230  0.149338  1.000000  0.606170 -0.139074  \n",
      "belly     0.066527  0.235716  0.606170  1.000000 -0.090777  \n",
      "sexe     -0.091559  0.188371 -0.139074 -0.090777  1.000000  \n"
     ]
    }
   ],
   "source": [
    "corr_matrix = dt.corr()\n",
    "print(corr_matrix)"
   ]
  },
  {
   "cell_type": "code",
   "execution_count": 15,
   "id": "443d80bd",
   "metadata": {},
   "outputs": [],
   "source": [
    "from pandas.plotting  import scatter_matrix"
   ]
  },
  {
   "cell_type": "code",
   "execution_count": 16,
   "id": "a470da3a",
   "metadata": {},
   "outputs": [
    {
     "data": {
      "text/plain": [
       "array([[<AxesSubplot:xlabel='hdlngth', ylabel='hdlngth'>,\n",
       "        <AxesSubplot:xlabel='skullw', ylabel='hdlngth'>,\n",
       "        <AxesSubplot:xlabel='totlngth', ylabel='hdlngth'>,\n",
       "        <AxesSubplot:xlabel='taill', ylabel='hdlngth'>,\n",
       "        <AxesSubplot:xlabel='footlgth', ylabel='hdlngth'>,\n",
       "        <AxesSubplot:xlabel='eye', ylabel='hdlngth'>,\n",
       "        <AxesSubplot:xlabel='sexe', ylabel='hdlngth'>],\n",
       "       [<AxesSubplot:xlabel='hdlngth', ylabel='skullw'>,\n",
       "        <AxesSubplot:xlabel='skullw', ylabel='skullw'>,\n",
       "        <AxesSubplot:xlabel='totlngth', ylabel='skullw'>,\n",
       "        <AxesSubplot:xlabel='taill', ylabel='skullw'>,\n",
       "        <AxesSubplot:xlabel='footlgth', ylabel='skullw'>,\n",
       "        <AxesSubplot:xlabel='eye', ylabel='skullw'>,\n",
       "        <AxesSubplot:xlabel='sexe', ylabel='skullw'>],\n",
       "       [<AxesSubplot:xlabel='hdlngth', ylabel='totlngth'>,\n",
       "        <AxesSubplot:xlabel='skullw', ylabel='totlngth'>,\n",
       "        <AxesSubplot:xlabel='totlngth', ylabel='totlngth'>,\n",
       "        <AxesSubplot:xlabel='taill', ylabel='totlngth'>,\n",
       "        <AxesSubplot:xlabel='footlgth', ylabel='totlngth'>,\n",
       "        <AxesSubplot:xlabel='eye', ylabel='totlngth'>,\n",
       "        <AxesSubplot:xlabel='sexe', ylabel='totlngth'>],\n",
       "       [<AxesSubplot:xlabel='hdlngth', ylabel='taill'>,\n",
       "        <AxesSubplot:xlabel='skullw', ylabel='taill'>,\n",
       "        <AxesSubplot:xlabel='totlngth', ylabel='taill'>,\n",
       "        <AxesSubplot:xlabel='taill', ylabel='taill'>,\n",
       "        <AxesSubplot:xlabel='footlgth', ylabel='taill'>,\n",
       "        <AxesSubplot:xlabel='eye', ylabel='taill'>,\n",
       "        <AxesSubplot:xlabel='sexe', ylabel='taill'>],\n",
       "       [<AxesSubplot:xlabel='hdlngth', ylabel='footlgth'>,\n",
       "        <AxesSubplot:xlabel='skullw', ylabel='footlgth'>,\n",
       "        <AxesSubplot:xlabel='totlngth', ylabel='footlgth'>,\n",
       "        <AxesSubplot:xlabel='taill', ylabel='footlgth'>,\n",
       "        <AxesSubplot:xlabel='footlgth', ylabel='footlgth'>,\n",
       "        <AxesSubplot:xlabel='eye', ylabel='footlgth'>,\n",
       "        <AxesSubplot:xlabel='sexe', ylabel='footlgth'>],\n",
       "       [<AxesSubplot:xlabel='hdlngth', ylabel='eye'>,\n",
       "        <AxesSubplot:xlabel='skullw', ylabel='eye'>,\n",
       "        <AxesSubplot:xlabel='totlngth', ylabel='eye'>,\n",
       "        <AxesSubplot:xlabel='taill', ylabel='eye'>,\n",
       "        <AxesSubplot:xlabel='footlgth', ylabel='eye'>,\n",
       "        <AxesSubplot:xlabel='eye', ylabel='eye'>,\n",
       "        <AxesSubplot:xlabel='sexe', ylabel='eye'>],\n",
       "       [<AxesSubplot:xlabel='hdlngth', ylabel='sexe'>,\n",
       "        <AxesSubplot:xlabel='skullw', ylabel='sexe'>,\n",
       "        <AxesSubplot:xlabel='totlngth', ylabel='sexe'>,\n",
       "        <AxesSubplot:xlabel='taill', ylabel='sexe'>,\n",
       "        <AxesSubplot:xlabel='footlgth', ylabel='sexe'>,\n",
       "        <AxesSubplot:xlabel='eye', ylabel='sexe'>,\n",
       "        <AxesSubplot:xlabel='sexe', ylabel='sexe'>]], dtype=object)"
      ]
     },
     "execution_count": 16,
     "metadata": {},
     "output_type": "execute_result"
    },
    {
     "data": {
      "image/png": "[encoded data removed]",
      "text/plain": [
       "<Figure size 864x576 with 49 Axes>"
      ]
     },
     "metadata": {
      "needs_background": "light"
     },
     "output_type": "display_data"
    }
   ],
   "source": [
    "scatter_matrix(dt[['hdlngth', 'skullw','totlngth', 'taill','footlgth', 'eye', 'sexe']], figsize=(12,8)) "
   ]
  },
  {
   "cell_type": "code",
   "execution_count": 17,
   "id": "63995e45",
   "metadata": {},
   "outputs": [
    {
     "name": "stdout",
     "output_type": "stream",
     "text": [
      "<class 'pandas.core.frame.DataFrame'>\n",
      "RangeIndex: 104 entries, 0 to 103\n",
      "Data columns (total 12 columns):\n",
      " #   Column    Non-Null Count  Dtype  \n",
      "---  ------    --------------  -----  \n",
      " 0   sex       104 non-null    object \n",
      " 1   age       102 non-null    float64\n",
      " 2   hdlngth   104 non-null    float64\n",
      " 3   skullw    104 non-null    float64\n",
      " 4   totlngth  104 non-null    float64\n",
      " 5   taill     104 non-null    float64\n",
      " 6   footlgth  103 non-null    float64\n",
      " 7   earconch  104 non-null    float64\n",
      " 8   eye       104 non-null    float64\n",
      " 9   chest     104 non-null    float64\n",
      " 10  belly     104 non-null    float64\n",
      " 11  sexe      104 non-null    float64\n",
      "dtypes: float64(11), object(1)\n",
      "memory usage: 9.9+ KB\n"
     ]
    }
   ],
   "source": [
    "dt.info()"
   ]
  },
  {
   "cell_type": "code",
   "execution_count": 18,
   "id": "490873d8",
   "metadata": {},
   "outputs": [
    {
     "name": "stdout",
     "output_type": "stream",
     "text": [
      "<class 'pandas.core.frame.DataFrame'>\n",
      "Int64Index: 101 entries, 0 to 103\n",
      "Data columns (total 12 columns):\n",
      " #   Column    Non-Null Count  Dtype  \n",
      "---  ------    --------------  -----  \n",
      " 0   sex       101 non-null    object \n",
      " 1   age       101 non-null    float64\n",
      " 2   hdlngth   101 non-null    float64\n",
      " 3   skullw    101 non-null    float64\n",
      " 4   totlngth  101 non-null    float64\n",
      " 5   taill     101 non-null    float64\n",
      " 6   footlgth  101 non-null    float64\n",
      " 7   earconch  101 non-null    float64\n",
      " 8   eye       101 non-null    float64\n",
      " 9   chest     101 non-null    float64\n",
      " 10  belly     101 non-null    float64\n",
      " 11  sexe      101 non-null    float64\n",
      "dtypes: float64(11), object(1)\n",
      "memory usage: 10.3+ KB\n"
     ]
    }
   ],
   "source": [
    "atester = ['hdlngth', 'skullw','totlngth', 'taill','footlgth', 'eye']\n",
    "dt.dropna(inplace = True)\n",
    "dt.info()\n",
    "from sklearn.linear_model import LogisticRegression\n",
    "x_from sklearn.model_selection import train_test_split\n",
    "X = dt[atester]\n",
    "y = dt[['sexe']]"
   ]
  },
  {
   "cell_type": "code",
   "execution_count": 19,
   "id": "165fe2e5",
   "metadata": {},
   "outputs": [
    {
     "name": "stdout",
     "output_type": "stream",
     "text": [
      "(101, 6) (101, 1)\n"
     ]
    }
   ],
   "source": [
    "y = dt[['sexe']]\n",
    "y = y.to_numpy()\n",
    "print(X.shape ,y.shape)\n",
    "y= y.flat\n"
   ]
  },
  {
   "cell_type": "code",
   "execution_count": 20,
   "id": "ba2474a1",
   "metadata": {},
   "outputs": [],
   "source": [
    "X_train, X_test, y_train, y_test = train_test_split(X, y, test_size= 0.4)"
   ]
  },
  {
   "cell_type": "code",
   "execution_count": 21,
   "id": "547dbd42",
   "metadata": {},
   "outputs": [],
   "source": [
    "clf = LogisticRegression(random_state= 0, solver= 'liblinear').fit(X_train, y_train)"
   ]
  },
  {
   "cell_type": "code",
   "execution_count": 22,
   "id": "91c0b686",
   "metadata": {},
   "outputs": [
    {
     "name": "stdout",
     "output_type": "stream",
     "text": [
      "0.5365853658536586\n"
     ]
    }
   ],
   "source": [
    "print(clf.score(X_test, y_test))"
   ]
  },
  {
   "cell_type": "code",
   "execution_count": 23,
   "id": "38aeb3ba",
   "metadata": {},
   "outputs": [],
   "source": [
    "from sklearn.metrics  import confusion_matrix\n",
    "y_pred_test = clf.predict(X_test)\n",
    "conf = pd.DataFrame(confusion_matrix(y_test, y_pred_test, labels =[0, 1]))\n"
   ]
  },
  {
   "cell_type": "code",
   "execution_count": 24,
   "id": "070ff105",
   "metadata": {},
   "outputs": [
    {
     "name": "stdout",
     "output_type": "stream",
     "text": [
      "   0   1\n",
      "0  4  13\n",
      "1  6  18\n"
     ]
    }
   ],
   "source": [
    "print(conf)"
   ]
  },
  {
   "cell_type": "code",
   "execution_count": 37,
   "id": "deee1464",
   "metadata": {},
   "outputs": [],
   "source": [
    "from sklearn.decomposition import PCA\n",
    "pca = PCA(n_components = 2)"
   ]
  },
  {
   "cell_type": "code",
   "execution_count": 38,
   "id": "7bf86c8a",
   "metadata": {},
   "outputs": [],
   "source": [
    "X2D = pca.fit_transform(X_train)"
   ]
  },
  {
   "cell_type": "code",
   "execution_count": 39,
   "id": "f88962f0",
   "metadata": {},
   "outputs": [
    {
     "data": {
      "text/plain": [
       "array([0.60193489, 0.20541087])"
      ]
     },
     "execution_count": 39,
     "metadata": {},
     "output_type": "execute_result"
    }
   ],
   "source": [
    "pca.explained_variance_ratio_"
   ]
  },
  {
   "cell_type": "code",
   "execution_count": 40,
   "id": "386e298a",
   "metadata": {},
   "outputs": [
    {
     "name": "stdout",
     "output_type": "stream",
     "text": [
      "[[  5.31022499   2.7083368 ]\n",
      " [ -3.97310033   1.57446147]\n",
      " [  1.28823026   3.16199162]\n",
      " [  0.4026064   -4.6756445 ]\n",
      " [ -8.12400468  -5.63483833]\n",
      " [  3.18316112   4.05482872]\n",
      " [ -4.08142979   2.71423778]\n",
      " [  3.76898507  -0.7730394 ]\n",
      " [  0.01623484  -3.61650305]\n",
      " [-13.75779302  -4.54088446]\n",
      " [  8.44759318  -0.85618949]\n",
      " [ 10.41686282  -1.47539331]\n",
      " [  3.1359241   -1.48237459]\n",
      " [ -6.68241202   0.17061986]\n",
      " [  0.09193731   5.24416837]\n",
      " [ 14.98341607   3.12353524]\n",
      " [ -8.72118265  -3.74325279]\n",
      " [ -3.94600854   3.50043888]\n",
      " [-11.67351162  -3.65319079]\n",
      " [  2.98647735  -3.01561784]\n",
      " [ -5.31762079   2.80101264]\n",
      " [  5.49276252  -1.88850854]\n",
      " [ -1.7679853    0.70712507]\n",
      " [ -3.63973721  -6.42177012]\n",
      " [  1.76650319  -5.3603255 ]\n",
      " [  2.68123691  -1.71589275]\n",
      " [ -4.05421495  -5.7646575 ]\n",
      " [  7.8958916   -1.99961984]\n",
      " [ -4.013903     1.57087185]\n",
      " [ -0.07330319   2.18609522]\n",
      " [ 12.60141233   1.25665136]\n",
      " [ -3.70123977   0.87985203]\n",
      " [ 13.30294309   1.48909043]\n",
      " [  4.73856677   7.5448173 ]\n",
      " [ -6.59532497   3.6896237 ]\n",
      " [ -2.1688747    3.30114901]\n",
      " [  3.72525597  -2.6767239 ]\n",
      " [  9.21476461  -4.41253091]\n",
      " [ -6.32564464   2.54449061]\n",
      " [ -5.93203553   4.88352195]\n",
      " [ -7.47902052   1.60760944]\n",
      " [  0.53399513  -6.6034938 ]\n",
      " [  7.4395212    0.92076426]\n",
      " [  2.95860072  -3.43159301]\n",
      " [  3.28745535  -2.33849755]\n",
      " [  0.73040843  -4.31906956]\n",
      " [ -2.72994955   5.66337685]\n",
      " [  1.06806881   2.11280407]\n",
      " [ 10.70437467  -2.02114089]\n",
      " [ -5.63353755   0.81096811]\n",
      " [  0.28319078  -4.52835065]\n",
      " [ -4.2050367    1.35731786]\n",
      " [ -3.77589612   3.90566435]\n",
      " [  3.00074924  -3.97337182]\n",
      " [ -1.71847844  -3.18538692]\n",
      " [ -5.81551842   1.85698728]\n",
      " [  2.97765833   4.80236494]\n",
      " [ -9.66921472   0.52214268]\n",
      " [ -0.9001337    7.18527332]\n",
      " [ -1.95890074   4.25566876]]\n"
     ]
    }
   ],
   "source": [
    "print(X2D)"
   ]
  },
  {
   "cell_type": "code",
   "execution_count": 41,
   "id": "12de96ca",
   "metadata": {},
   "outputs": [],
   "source": [
    "clfPCA = LogisticRegression(random_state= 0, solver= 'liblinear').fit(X2D, y_train)"
   ]
  },
  {
   "cell_type": "code",
   "execution_count": 42,
   "id": "c430e68d",
   "metadata": {},
   "outputs": [],
   "source": [
    "X2D_test = pca.fit_transform(X_test)"
   ]
  },
  {
   "cell_type": "code",
   "execution_count": 44,
   "id": "7e575f53",
   "metadata": {},
   "outputs": [
    {
     "data": {
      "text/plain": [
       "0.5853658536585366"
      ]
     },
     "execution_count": 44,
     "metadata": {},
     "output_type": "execute_result"
    }
   ],
   "source": [
    "clfPCA.score(X2D_test, y_test)"
   ]
  },
  {
   "cell_type": "code",
   "execution_count": 50,
   "id": "f165db6d",
   "metadata": {},
   "outputs": [
    {
     "name": "stdout",
     "output_type": "stream",
     "text": [
      "(41, 2) 41\n"
     ]
    }
   ],
   "source": [
    "print(X2D_test.shape , len(y_test))"
   ]
  },
  {
   "cell_type": "code",
   "execution_count": 54,
   "id": "ec0c030d",
   "metadata": {},
   "outputs": [
    {
     "data": {
      "text/plain": [
       "<matplotlib.collections.PathCollection at 0x1d04a6ef820>"
      ]
     },
     "execution_count": 54,
     "metadata": {},
     "output_type": "execute_result"
    },
    {
     "data": {
      "image/png": "[encoded data removed]",
      "text/plain": [
       "<Figure size 432x288 with 1 Axes>"
      ]
     },
     "metadata": {
      "needs_background": "light"
     },
     "output_type": "display_data"
    }
   ],
   "source": [
    "\n",
    "lcolor = ['b' if  item == 0 else 'g' for item in y_test] \n",
    "plt.scatter(X2D_test[:,0],X2D_test[:,1] , color = lcolor )\n"
   ]
  },
  {
   "cell_type": "code",
   "execution_count": 55,
   "id": "a71ee295",
   "metadata": {},
   "outputs": [],
   "source": [
    "ypca_pred = clfPCA.predict(X2D_test)\n"
   ]
  },
  {
   "cell_type": "code",
   "execution_count": 56,
   "id": "b41da781",
   "metadata": {},
   "outputs": [
    {
     "data": {
      "text/plain": [
       "<matplotlib.collections.PathCollection at 0x1d04a72c250>"
      ]
     },
     "execution_count": 56,
     "metadata": {},
     "output_type": "execute_result"
    },
    {
     "data": {
      "image/png": "[encoded data removed]",
      "text/plain": [
       "<Figure size 432x288 with 1 Axes>"
      ]
     },
     "metadata": {
      "needs_background": "light"
     },
     "output_type": "display_data"
    }
   ],
   "source": [
    "lcolor = ['b' if  item == 0 else 'g' for item in ypca_pred] \n",
    "plt.scatter(X2D_test[:,0],X2D_test[:,1] , color = lcolor )"
   ]
  },
  {
   "cell_type": "code",
   "execution_count": null,
   "id": "9d2c27af",
   "metadata": {},
   "outputs": [],
   "source": []
  }
 ],
 "metadata": {
  "kernelspec": {
   "display_name": "Python 3 (ipykernel)",
   "language": "python",
   "name": "python3"
  },
  "language_info": {
   "codemirror_mode": {
    "name": "ipython",
    "version": 3
   },
   "file_extension": ".py",
   "mimetype": "text/x-python",
   "name": "python",
   "nbconvert_exporter": "python",
   "pygments_lexer": "ipython3",
   "version": "3.9.12"
  }
 },
 "nbformat": 4,
 "nbformat_minor": 5
}
