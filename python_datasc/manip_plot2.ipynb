{
 "cells": [
  {
   "cell_type": "code",
   "execution_count": 1,
   "metadata": {},
   "outputs": [],
   "source": [
    "%matplotlib  inline"
   ]
  },
  {
   "cell_type": "code",
   "execution_count": 2,
   "metadata": {},
   "outputs": [],
   "source": [
    "import numpy as np\n",
    "import pandas as pd\n",
    "import matplotlib.pyplot as plt\n",
    "import pyarrow as pa\n",
    "import pyarrow.parquet as pq\n"
   ]
  },
  {
   "cell_type": "code",
   "execution_count": 3,
   "metadata": {},
   "outputs": [
    {
     "name": "stdout",
     "output_type": "stream",
     "text": [
      "<class 'pandas.core.frame.DataFrame'>\n",
      "RangeIndex: 2236 entries, 0 to 2235\n",
      "Data columns (total 9 columns):\n",
      " #   Column          Non-Null Count  Dtype         \n",
      "---  ------          --------------  -----         \n",
      " 0   Stage           2236 non-null   category      \n",
      " 1   Date            2236 non-null   datetime64[ns]\n",
      " 2   Distance        2236 non-null   float64       \n",
      " 3   Origin          2236 non-null   object        \n",
      " 4   Destination     2236 non-null   object        \n",
      " 5   Type            2236 non-null   category      \n",
      " 6   Winner          2236 non-null   object        \n",
      " 7   Winner_Country  2184 non-null   object        \n",
      " 8   annee           2236 non-null   int64         \n",
      "dtypes: category(2), datetime64[ns](1), float64(1), int64(1), object(4)\n",
      "memory usage: 130.1+ KB\n"
     ]
    }
   ],
   "source": [
    "data1= pd.read_parquet('formatparquet.parquet')\n",
    "data1.info()"
   ]
  },
  {
   "cell_type": "code",
   "execution_count": 4,
   "metadata": {},
   "outputs": [
    {
     "data": {
      "text/html": [
       "<div>\n",
       "<style scoped>\n",
       "    .dataframe tbody tr th:only-of-type {\n",
       "        vertical-align: middle;\n",
       "    }\n",
       "\n",
       "    .dataframe tbody tr th {\n",
       "        vertical-align: top;\n",
       "    }\n",
       "\n",
       "    .dataframe thead th {\n",
       "        text-align: right;\n",
       "    }\n",
       "</style>\n",
       "<table border=\"1\" class=\"dataframe\">\n",
       "  <thead>\n",
       "    <tr style=\"text-align: right;\">\n",
       "      <th></th>\n",
       "      <th>Stage</th>\n",
       "      <th>Date</th>\n",
       "      <th>Distance</th>\n",
       "      <th>Origin</th>\n",
       "      <th>Destination</th>\n",
       "      <th>Type</th>\n",
       "      <th>Winner</th>\n",
       "      <th>Winner_Country</th>\n",
       "      <th>annee</th>\n",
       "    </tr>\n",
       "  </thead>\n",
       "  <tbody>\n",
       "    <tr>\n",
       "      <th>0</th>\n",
       "      <td>1</td>\n",
       "      <td>2017-07-01</td>\n",
       "      <td>14.0</td>\n",
       "      <td>Düsseldorf</td>\n",
       "      <td>Düsseldorf</td>\n",
       "      <td>Individual time trial</td>\n",
       "      <td>Geraint Thomas</td>\n",
       "      <td>GBR</td>\n",
       "      <td>2017</td>\n",
       "    </tr>\n",
       "    <tr>\n",
       "      <th>1</th>\n",
       "      <td>2</td>\n",
       "      <td>2017-07-02</td>\n",
       "      <td>203.5</td>\n",
       "      <td>Düsseldorf</td>\n",
       "      <td>Liège</td>\n",
       "      <td>Flat stage</td>\n",
       "      <td>Marcel Kittel</td>\n",
       "      <td>GER</td>\n",
       "      <td>2017</td>\n",
       "    </tr>\n",
       "    <tr>\n",
       "      <th>2</th>\n",
       "      <td>3</td>\n",
       "      <td>2017-07-03</td>\n",
       "      <td>212.5</td>\n",
       "      <td>Verviers</td>\n",
       "      <td>Longwy</td>\n",
       "      <td>Medium mountain stage</td>\n",
       "      <td>Peter Sagan</td>\n",
       "      <td>SVK</td>\n",
       "      <td>2017</td>\n",
       "    </tr>\n",
       "    <tr>\n",
       "      <th>3</th>\n",
       "      <td>4</td>\n",
       "      <td>2017-07-04</td>\n",
       "      <td>207.5</td>\n",
       "      <td>Mondorf-les-Bains</td>\n",
       "      <td>Vittel</td>\n",
       "      <td>Flat stage</td>\n",
       "      <td>Arnaud Démare</td>\n",
       "      <td>FRA</td>\n",
       "      <td>2017</td>\n",
       "    </tr>\n",
       "    <tr>\n",
       "      <th>4</th>\n",
       "      <td>5</td>\n",
       "      <td>2017-07-05</td>\n",
       "      <td>160.5</td>\n",
       "      <td>Vittel</td>\n",
       "      <td>La Planche des Belles Filles</td>\n",
       "      <td>Medium mountain stage</td>\n",
       "      <td>Fabio Aru</td>\n",
       "      <td>ITA</td>\n",
       "      <td>2017</td>\n",
       "    </tr>\n",
       "    <tr>\n",
       "      <th>...</th>\n",
       "      <td>...</td>\n",
       "      <td>...</td>\n",
       "      <td>...</td>\n",
       "      <td>...</td>\n",
       "      <td>...</td>\n",
       "      <td>...</td>\n",
       "      <td>...</td>\n",
       "      <td>...</td>\n",
       "      <td>...</td>\n",
       "    </tr>\n",
       "    <tr>\n",
       "      <th>2231</th>\n",
       "      <td>2</td>\n",
       "      <td>1903-07-05</td>\n",
       "      <td>374.0</td>\n",
       "      <td>Lyon</td>\n",
       "      <td>Marseille</td>\n",
       "      <td>Stage with mountain(s)</td>\n",
       "      <td>Hippolyte Aucouturier</td>\n",
       "      <td>FRA</td>\n",
       "      <td>1903</td>\n",
       "    </tr>\n",
       "    <tr>\n",
       "      <th>2232</th>\n",
       "      <td>3</td>\n",
       "      <td>1903-07-08</td>\n",
       "      <td>423.0</td>\n",
       "      <td>Marseille</td>\n",
       "      <td>Toulouse</td>\n",
       "      <td>Plain stage</td>\n",
       "      <td>Hippolyte Aucouturier</td>\n",
       "      <td>FRA</td>\n",
       "      <td>1903</td>\n",
       "    </tr>\n",
       "    <tr>\n",
       "      <th>2233</th>\n",
       "      <td>4</td>\n",
       "      <td>1903-07-12</td>\n",
       "      <td>268.0</td>\n",
       "      <td>Toulouse</td>\n",
       "      <td>Bordeaux</td>\n",
       "      <td>Plain stage</td>\n",
       "      <td>Charles Laeser</td>\n",
       "      <td>SUI</td>\n",
       "      <td>1903</td>\n",
       "    </tr>\n",
       "    <tr>\n",
       "      <th>2234</th>\n",
       "      <td>5</td>\n",
       "      <td>1903-07-13</td>\n",
       "      <td>425.0</td>\n",
       "      <td>Bordeaux</td>\n",
       "      <td>Nantes</td>\n",
       "      <td>Plain stage</td>\n",
       "      <td>Maurice Garin</td>\n",
       "      <td>FRA</td>\n",
       "      <td>1903</td>\n",
       "    </tr>\n",
       "    <tr>\n",
       "      <th>2235</th>\n",
       "      <td>6</td>\n",
       "      <td>1903-07-18</td>\n",
       "      <td>471.0</td>\n",
       "      <td>Nantes</td>\n",
       "      <td>Paris</td>\n",
       "      <td>Plain stage</td>\n",
       "      <td>Maurice Garin</td>\n",
       "      <td>FRA</td>\n",
       "      <td>1903</td>\n",
       "    </tr>\n",
       "  </tbody>\n",
       "</table>\n",
       "<p>2236 rows × 9 columns</p>\n",
       "</div>"
      ],
      "text/plain": [
       "     Stage       Date  Distance             Origin  \\\n",
       "0        1 2017-07-01      14.0         Düsseldorf   \n",
       "1        2 2017-07-02     203.5         Düsseldorf   \n",
       "2        3 2017-07-03     212.5           Verviers   \n",
       "3        4 2017-07-04     207.5  Mondorf-les-Bains   \n",
       "4        5 2017-07-05     160.5             Vittel   \n",
       "...    ...        ...       ...                ...   \n",
       "2231     2 1903-07-05     374.0               Lyon   \n",
       "2232     3 1903-07-08     423.0          Marseille   \n",
       "2233     4 1903-07-12     268.0           Toulouse   \n",
       "2234     5 1903-07-13     425.0           Bordeaux   \n",
       "2235     6 1903-07-18     471.0             Nantes   \n",
       "\n",
       "                       Destination                    Type  \\\n",
       "0                       Düsseldorf   Individual time trial   \n",
       "1                            Liège              Flat stage   \n",
       "2                           Longwy   Medium mountain stage   \n",
       "3                           Vittel              Flat stage   \n",
       "4     La Planche des Belles Filles   Medium mountain stage   \n",
       "...                            ...                     ...   \n",
       "2231                     Marseille  Stage with mountain(s)   \n",
       "2232                      Toulouse             Plain stage   \n",
       "2233                      Bordeaux             Plain stage   \n",
       "2234                        Nantes             Plain stage   \n",
       "2235                         Paris             Plain stage   \n",
       "\n",
       "                     Winner Winner_Country  annee  \n",
       "0            Geraint Thomas            GBR   2017  \n",
       "1             Marcel Kittel            GER   2017  \n",
       "2               Peter Sagan            SVK   2017  \n",
       "3             Arnaud Démare            FRA   2017  \n",
       "4                 Fabio Aru            ITA   2017  \n",
       "...                     ...            ...    ...  \n",
       "2231  Hippolyte Aucouturier            FRA   1903  \n",
       "2232  Hippolyte Aucouturier            FRA   1903  \n",
       "2233         Charles Laeser            SUI   1903  \n",
       "2234          Maurice Garin            FRA   1903  \n",
       "2235          Maurice Garin            FRA   1903  \n",
       "\n",
       "[2236 rows x 9 columns]"
      ]
     },
     "execution_count": 4,
     "metadata": {},
     "output_type": "execute_result"
    }
   ],
   "source": [
    "data1"
   ]
  },
  {
   "cell_type": "code",
   "execution_count": 5,
   "metadata": {},
   "outputs": [
    {
     "data": {
      "text/plain": [
       "104"
      ]
     },
     "execution_count": 5,
     "metadata": {},
     "output_type": "execute_result"
    }
   ],
   "source": [
    "comp = data1.groupby('annee')\n",
    "pd.set_option(\"display.max_rows\", 50)  \n",
    "len(comp)"
   ]
  },
  {
   "cell_type": "code",
   "execution_count": 6,
   "metadata": {},
   "outputs": [
    {
     "data": {
      "text/plain": [
       "dict_keys([1903, 1904, 1905, 1906, 1907, 1908, 1909, 1910, 1911, 1912, 1913, 1914, 1919, 1920, 1921, 1922, 1923, 1924, 1925, 1926, 1927, 1928, 1929, 1930, 1931, 1932, 1933, 1934, 1935, 1936, 1937, 1938, 1939, 1947, 1948, 1949, 1950, 1951, 1952, 1953, 1954, 1955, 1956, 1957, 1958, 1959, 1960, 1961, 1962, 1963, 1964, 1965, 1966, 1967, 1968, 1969, 1970, 1971, 1972, 1973, 1974, 1975, 1976, 1977, 1978, 1979, 1980, 1981, 1982, 1983, 1984, 1985, 1986, 1987, 1988, 1989, 1990, 1991, 1992, 1993, 1994, 1995, 1996, 1997, 1998, 1999, 2000, 2001, 2002, 2003, 2004, 2005, 2006, 2007, 2008, 2009, 2010, 2011, 2012, 2013, 2014, 2015, 2016, 2017])"
      ]
     },
     "execution_count": 6,
     "metadata": {},
     "output_type": "execute_result"
    }
   ],
   "source": [
    "comp.groups.keys()"
   ]
  },
  {
   "cell_type": "code",
   "execution_count": 7,
   "metadata": {},
   "outputs": [
    {
     "name": "stdout",
     "output_type": "stream",
     "text": [
      "annee\n",
      "1903     6\n",
      "1904     6\n",
      "1905    11\n",
      "1906    13\n",
      "1907    14\n",
      "        ..\n",
      "2013    21\n",
      "2014    21\n",
      "2015    21\n",
      "2016    21\n",
      "2017    21\n",
      "Name: Distance, Length: 104, dtype: int64\n",
      "dict_keys(['distance', 'etapes'])\n"
     ]
    },
    {
     "data": {
      "text/html": [
       "<div>\n",
       "<style scoped>\n",
       "    .dataframe tbody tr th:only-of-type {\n",
       "        vertical-align: middle;\n",
       "    }\n",
       "\n",
       "    .dataframe tbody tr th {\n",
       "        vertical-align: top;\n",
       "    }\n",
       "\n",
       "    .dataframe thead th {\n",
       "        text-align: right;\n",
       "    }\n",
       "</style>\n",
       "<table border=\"1\" class=\"dataframe\">\n",
       "  <thead>\n",
       "    <tr style=\"text-align: right;\">\n",
       "      <th></th>\n",
       "      <th>distance</th>\n",
       "      <th>etapes</th>\n",
       "    </tr>\n",
       "    <tr>\n",
       "      <th>annee</th>\n",
       "      <th></th>\n",
       "      <th></th>\n",
       "    </tr>\n",
       "  </thead>\n",
       "  <tbody>\n",
       "    <tr>\n",
       "      <th>1903</th>\n",
       "      <td>404.666667</td>\n",
       "      <td>6</td>\n",
       "    </tr>\n",
       "    <tr>\n",
       "      <th>1904</th>\n",
       "      <td>404.833333</td>\n",
       "      <td>6</td>\n",
       "    </tr>\n",
       "    <tr>\n",
       "      <th>1905</th>\n",
       "      <td>274.636364</td>\n",
       "      <td>11</td>\n",
       "    </tr>\n",
       "    <tr>\n",
       "      <th>1906</th>\n",
       "      <td>349.461538</td>\n",
       "      <td>13</td>\n",
       "    </tr>\n",
       "    <tr>\n",
       "      <th>1907</th>\n",
       "      <td>320.571429</td>\n",
       "      <td>14</td>\n",
       "    </tr>\n",
       "  </tbody>\n",
       "</table>\n",
       "</div>"
      ],
      "text/plain": [
       "         distance  etapes\n",
       "annee                    \n",
       "1903   404.666667       6\n",
       "1904   404.833333       6\n",
       "1905   274.636364      11\n",
       "1906   349.461538      13\n",
       "1907   320.571429      14"
      ]
     },
     "execution_count": 7,
     "metadata": {},
     "output_type": "execute_result"
    }
   ],
   "source": [
    "#comp.get_group(all).loc[:,'Distance'].mean()\n",
    "print(comp['Distance'].count())\n",
    "d = {'distance':comp['Distance'].mean() ,'etapes' :comp['Stage'].count()  }\n",
    "print(d.keys())\n",
    "synth= pd.DataFrame(d )\n",
    "synth.head()"
   ]
  },
  {
   "cell_type": "code",
   "execution_count": 8,
   "metadata": {},
   "outputs": [
    {
     "data": {
      "text/html": [
       "<div>\n",
       "<style scoped>\n",
       "    .dataframe tbody tr th:only-of-type {\n",
       "        vertical-align: middle;\n",
       "    }\n",
       "\n",
       "    .dataframe tbody tr th {\n",
       "        vertical-align: top;\n",
       "    }\n",
       "\n",
       "    .dataframe thead th {\n",
       "        text-align: right;\n",
       "    }\n",
       "</style>\n",
       "<table border=\"1\" class=\"dataframe\">\n",
       "  <thead>\n",
       "    <tr style=\"text-align: right;\">\n",
       "      <th></th>\n",
       "      <th>annee</th>\n",
       "      <th>distance</th>\n",
       "      <th>etapes</th>\n",
       "    </tr>\n",
       "  </thead>\n",
       "  <tbody>\n",
       "    <tr>\n",
       "      <th>0</th>\n",
       "      <td>1903</td>\n",
       "      <td>404.666667</td>\n",
       "      <td>6</td>\n",
       "    </tr>\n",
       "    <tr>\n",
       "      <th>1</th>\n",
       "      <td>1904</td>\n",
       "      <td>404.833333</td>\n",
       "      <td>6</td>\n",
       "    </tr>\n",
       "    <tr>\n",
       "      <th>2</th>\n",
       "      <td>1905</td>\n",
       "      <td>274.636364</td>\n",
       "      <td>11</td>\n",
       "    </tr>\n",
       "    <tr>\n",
       "      <th>3</th>\n",
       "      <td>1906</td>\n",
       "      <td>349.461538</td>\n",
       "      <td>13</td>\n",
       "    </tr>\n",
       "    <tr>\n",
       "      <th>4</th>\n",
       "      <td>1907</td>\n",
       "      <td>320.571429</td>\n",
       "      <td>14</td>\n",
       "    </tr>\n",
       "  </tbody>\n",
       "</table>\n",
       "</div>"
      ],
      "text/plain": [
       "   annee    distance  etapes\n",
       "0   1903  404.666667       6\n",
       "1   1904  404.833333       6\n",
       "2   1905  274.636364      11\n",
       "3   1906  349.461538      13\n",
       "4   1907  320.571429      14"
      ]
     },
     "execution_count": 8,
     "metadata": {},
     "output_type": "execute_result"
    }
   ],
   "source": [
    "synth.reset_index(inplace =True)\n",
    "synth.head()"
   ]
  },
  {
   "cell_type": "code",
   "execution_count": 9,
   "metadata": {},
   "outputs": [
    {
     "name": "stdout",
     "output_type": "stream",
     "text": [
      "<class 'pandas.core.frame.DataFrame'>\n",
      "RangeIndex: 104 entries, 0 to 103\n",
      "Data columns (total 3 columns):\n",
      " #   Column    Non-Null Count  Dtype  \n",
      "---  ------    --------------  -----  \n",
      " 0   annee     104 non-null    int64  \n",
      " 1   distance  104 non-null    float64\n",
      " 2   etapes    104 non-null    int64  \n",
      "dtypes: float64(1), int64(2)\n",
      "memory usage: 2.6 KB\n",
      "None\n",
      "<class 'numpy.ndarray'>\n"
     ]
    }
   ],
   "source": [
    "synth.head(30)\n",
    "print(synth.info())\n",
    "print(type(synth['etapes'].to_numpy()))"
   ]
  },
  {
   "cell_type": "code",
   "execution_count": 10,
   "metadata": {},
   "outputs": [
    {
     "data": {
      "text/plain": [
       "<function matplotlib.pyplot.show(close=None, block=None)>"
      ]
     },
     "execution_count": 10,
     "metadata": {},
     "output_type": "execute_result"
    },
    {
     "data": {
      "image/png": "[encoded data removed]",
      "text/plain": [
       "<Figure size 720x360 with 1 Axes>"
      ]
     },
     "metadata": {
      "needs_background": "light"
     },
     "output_type": "display_data"
    }
   ],
   "source": [
    "plt.figure(figsize=(10,5))\n",
    "plt.title('etapes')\n",
    "\n",
    "plt.plot(synth['annee'].to_numpy(),  synth['etapes'].to_numpy())  # warning sans numpy\n",
    "plt.show"
   ]
  },
  {
   "cell_type": "code",
   "execution_count": 11,
   "metadata": {},
   "outputs": [
    {
     "data": {
      "text/plain": [
       "<function matplotlib.pyplot.show(close=None, block=None)>"
      ]
     },
     "execution_count": 11,
     "metadata": {},
     "output_type": "execute_result"
    },
    {
     "data": {
      "image/png": "[encoded data removed]",
      "text/plain": [
       "<Figure size 720x360 with 1 Axes>"
      ]
     },
     "metadata": {
      "needs_background": "light"
     },
     "output_type": "display_data"
    }
   ],
   "source": [
    "plt.figure(figsize=(10,5))\n",
    "plt.title('etapes')\n",
    "plt.plot(synth['annee'],  synth['etapes'], marker ='o')\n",
    "plt.show"
   ]
  },
  {
   "cell_type": "code",
   "execution_count": 12,
   "metadata": {},
   "outputs": [
    {
     "data": {
      "text/plain": [
       "<function matplotlib.pyplot.show(close=None, block=None)>"
      ]
     },
     "execution_count": 12,
     "metadata": {},
     "output_type": "execute_result"
    },
    {
     "data": {
      "image/png": "[encoded data removed]",
      "text/plain": [
       "<Figure size 720x360 with 1 Axes>"
      ]
     },
     "metadata": {
      "needs_background": "light"
     },
     "output_type": "display_data"
    }
   ],
   "source": [
    "plt.figure(figsize=(10,5))\n",
    "plt.title('etapes')\n",
    "plt.plot(synth['annee'],  synth['etapes'], marker ='o', linestyle='')\n",
    "plt.show"
   ]
  },
  {
   "cell_type": "code",
   "execution_count": 13,
   "metadata": {},
   "outputs": [
    {
     "data": {
      "text/plain": [
       "<function matplotlib.pyplot.show(close=None, block=None)>"
      ]
     },
     "execution_count": 13,
     "metadata": {},
     "output_type": "execute_result"
    },
    {
     "data": {
      "image/png": "[encoded data removed]",
      "text/plain": [
       "<Figure size 1080x720 with 2 Axes>"
      ]
     },
     "metadata": {
      "needs_background": "light"
     },
     "output_type": "display_data"
    }
   ],
   "source": [
    "plt.figure(figsize=(15,10))\n",
    "plt.subplot(2,1,1)\n",
    "plt.title('Etapes')\n",
    "plt.bar(synth['annee'],  synth['etapes'], color ='r')\n",
    "plt.subplot(2,1,2)\n",
    "plt.title('Distances')\n",
    "\n",
    "plt.bar(synth['annee'],  synth['distance'])\n",
    "\n",
    "plt.show"
   ]
  },
  {
   "cell_type": "code",
   "execution_count": 14,
   "metadata": {},
   "outputs": [
    {
     "data": {
      "image/png": "[encoded data removed]",
      "text/plain": [
       "<Figure size 720x360 with 1 Axes>"
      ]
     },
     "metadata": {
      "needs_background": "light"
     },
     "output_type": "display_data"
    }
   ],
   "source": [
    "\n",
    "plt.figure(figsize=(10,5))\n",
    "plt.title('synthese')\n",
    "\n",
    "\n",
    "plt.bar(synth['annee'],  synth['etapes'], color ='r')\n",
    "#plt.subplot(2,1,2)\n",
    "plt.xlabel('années')\n",
    "\n",
    "plt.bar(synth['annee'],  synth['distance']) \n",
    "plt.legend(['distance', 'etapes', ])\n",
    "plt.show\n",
    "plt.savefig('mongraph1.png')"
   ]
  },
  {
   "cell_type": "code",
   "execution_count": 15,
   "metadata": {},
   "outputs": [
    {
     "data": {
      "text/plain": [
       "<function matplotlib.pyplot.show(*args, **kw)>"
      ]
     },
     "execution_count": 15,
     "metadata": {},
     "output_type": "execute_result"
    },
    {
     "data": {
      "image/png": "[encoded data removed]",
      "text/plain": [
       "<Figure size 720x360 with 1 Axes>"
      ]
     },
     "metadata": {
      "needs_background": "light"
     },
     "output_type": "display_data"
    }
   ],
   "source": [
    "plt.figure(figsize=(10,5))\n",
    "plt.title('synthese empilée')\n",
    "\n",
    "plt.bar(synth['annee'],  synth['etapes'], color ='r')\n",
    "#plt.subplot(2,1,2)\n",
    "plt.xlabel('années')\n",
    "\n",
    "plt.bar(synth['annee'],  synth['distance'], bottom =   synth['etapes']) \n",
    "plt.legend(['distance', 'etapes', ])\n",
    "plt.show "
   ]
  },
  {
   "cell_type": "code",
   "execution_count": 16,
   "metadata": {},
   "outputs": [
    {
     "data": {
      "text/plain": [
       "<function matplotlib.pyplot.show(*args, **kw)>"
      ]
     },
     "execution_count": 16,
     "metadata": {},
     "output_type": "execute_result"
    },
    {
     "data": {
      "image/png": "[encoded data removed]",
      "text/plain": [
       "<Figure size 1080x720 with 1 Axes>"
      ]
     },
     "metadata": {
      "needs_background": "light"
     },
     "output_type": "display_data"
    }
   ],
   "source": [
    "plt.figure(figsize=(15,10))\n",
    "plt.title('synthese decalée')\n",
    "\n",
    "plt.bar(synth['annee'],  synth['etapes'], color ='r', width= 0.5)\n",
    "#plt.subplot(2,1,2)\n",
    "plt.xlabel('années')\n",
    "\n",
    "plt.bar(synth['annee']+ 0.5,  synth['distance'],  width= 0.5) \n",
    "plt.legend(['distance', 'etapes', ])\n",
    "plt.show "
   ]
  },
  {
   "cell_type": "code",
   "execution_count": 17,
   "metadata": {},
   "outputs": [
    {
     "data": {
      "text/html": [
       "<div>\n",
       "<style scoped>\n",
       "    .dataframe tbody tr th:only-of-type {\n",
       "        vertical-align: middle;\n",
       "    }\n",
       "\n",
       "    .dataframe tbody tr th {\n",
       "        vertical-align: top;\n",
       "    }\n",
       "\n",
       "    .dataframe thead th {\n",
       "        text-align: right;\n",
       "    }\n",
       "</style>\n",
       "<table border=\"1\" class=\"dataframe\">\n",
       "  <thead>\n",
       "    <tr style=\"text-align: right;\">\n",
       "      <th></th>\n",
       "      <th>annee</th>\n",
       "      <th>distance</th>\n",
       "      <th>etapes</th>\n",
       "      <th>color</th>\n",
       "    </tr>\n",
       "  </thead>\n",
       "  <tbody>\n",
       "    <tr>\n",
       "      <th>0</th>\n",
       "      <td>1903</td>\n",
       "      <td>404.666667</td>\n",
       "      <td>6</td>\n",
       "      <td>r</td>\n",
       "    </tr>\n",
       "    <tr>\n",
       "      <th>1</th>\n",
       "      <td>1904</td>\n",
       "      <td>404.833333</td>\n",
       "      <td>6</td>\n",
       "      <td>r</td>\n",
       "    </tr>\n",
       "    <tr>\n",
       "      <th>2</th>\n",
       "      <td>1905</td>\n",
       "      <td>274.636364</td>\n",
       "      <td>11</td>\n",
       "      <td>r</td>\n",
       "    </tr>\n",
       "    <tr>\n",
       "      <th>3</th>\n",
       "      <td>1906</td>\n",
       "      <td>349.461538</td>\n",
       "      <td>13</td>\n",
       "      <td>r</td>\n",
       "    </tr>\n",
       "    <tr>\n",
       "      <th>4</th>\n",
       "      <td>1907</td>\n",
       "      <td>320.571429</td>\n",
       "      <td>14</td>\n",
       "      <td>r</td>\n",
       "    </tr>\n",
       "    <tr>\n",
       "      <th>5</th>\n",
       "      <td>1908</td>\n",
       "      <td>321.214286</td>\n",
       "      <td>14</td>\n",
       "      <td>r</td>\n",
       "    </tr>\n",
       "    <tr>\n",
       "      <th>6</th>\n",
       "      <td>1909</td>\n",
       "      <td>321.214286</td>\n",
       "      <td>14</td>\n",
       "      <td>r</td>\n",
       "    </tr>\n",
       "    <tr>\n",
       "      <th>7</th>\n",
       "      <td>1910</td>\n",
       "      <td>315.600000</td>\n",
       "      <td>15</td>\n",
       "      <td>r</td>\n",
       "    </tr>\n",
       "    <tr>\n",
       "      <th>8</th>\n",
       "      <td>1911</td>\n",
       "      <td>356.266667</td>\n",
       "      <td>15</td>\n",
       "      <td>r</td>\n",
       "    </tr>\n",
       "    <tr>\n",
       "      <th>9</th>\n",
       "      <td>1912</td>\n",
       "      <td>354.600000</td>\n",
       "      <td>15</td>\n",
       "      <td>r</td>\n",
       "    </tr>\n",
       "    <tr>\n",
       "      <th>10</th>\n",
       "      <td>1913</td>\n",
       "      <td>359.200000</td>\n",
       "      <td>15</td>\n",
       "      <td>r</td>\n",
       "    </tr>\n",
       "    <tr>\n",
       "      <th>11</th>\n",
       "      <td>1914</td>\n",
       "      <td>359.200000</td>\n",
       "      <td>15</td>\n",
       "      <td>r</td>\n",
       "    </tr>\n",
       "    <tr>\n",
       "      <th>12</th>\n",
       "      <td>1919</td>\n",
       "      <td>370.666667</td>\n",
       "      <td>15</td>\n",
       "      <td>r</td>\n",
       "    </tr>\n",
       "    <tr>\n",
       "      <th>13</th>\n",
       "      <td>1920</td>\n",
       "      <td>366.866667</td>\n",
       "      <td>15</td>\n",
       "      <td>r</td>\n",
       "    </tr>\n",
       "    <tr>\n",
       "      <th>14</th>\n",
       "      <td>1921</td>\n",
       "      <td>365.666667</td>\n",
       "      <td>15</td>\n",
       "      <td>r</td>\n",
       "    </tr>\n",
       "    <tr>\n",
       "      <th>15</th>\n",
       "      <td>1922</td>\n",
       "      <td>358.200000</td>\n",
       "      <td>15</td>\n",
       "      <td>r</td>\n",
       "    </tr>\n",
       "    <tr>\n",
       "      <th>16</th>\n",
       "      <td>1923</td>\n",
       "      <td>359.733333</td>\n",
       "      <td>15</td>\n",
       "      <td>r</td>\n",
       "    </tr>\n",
       "    <tr>\n",
       "      <th>17</th>\n",
       "      <td>1924</td>\n",
       "      <td>361.666667</td>\n",
       "      <td>15</td>\n",
       "      <td>r</td>\n",
       "    </tr>\n",
       "    <tr>\n",
       "      <th>18</th>\n",
       "      <td>1925</td>\n",
       "      <td>301.666667</td>\n",
       "      <td>18</td>\n",
       "      <td>r</td>\n",
       "    </tr>\n",
       "    <tr>\n",
       "      <th>19</th>\n",
       "      <td>1926</td>\n",
       "      <td>337.941176</td>\n",
       "      <td>17</td>\n",
       "      <td>r</td>\n",
       "    </tr>\n",
       "    <tr>\n",
       "      <th>20</th>\n",
       "      <td>1927</td>\n",
       "      <td>219.166667</td>\n",
       "      <td>24</td>\n",
       "      <td>b</td>\n",
       "    </tr>\n",
       "    <tr>\n",
       "      <th>21</th>\n",
       "      <td>1928</td>\n",
       "      <td>244.363636</td>\n",
       "      <td>22</td>\n",
       "      <td>b</td>\n",
       "    </tr>\n",
       "    <tr>\n",
       "      <th>22</th>\n",
       "      <td>1929</td>\n",
       "      <td>239.000000</td>\n",
       "      <td>22</td>\n",
       "      <td>b</td>\n",
       "    </tr>\n",
       "    <tr>\n",
       "      <th>23</th>\n",
       "      <td>1930</td>\n",
       "      <td>229.428571</td>\n",
       "      <td>21</td>\n",
       "      <td>b</td>\n",
       "    </tr>\n",
       "    <tr>\n",
       "      <th>24</th>\n",
       "      <td>1931</td>\n",
       "      <td>212.291667</td>\n",
       "      <td>24</td>\n",
       "      <td>b</td>\n",
       "    </tr>\n",
       "    <tr>\n",
       "      <th>25</th>\n",
       "      <td>1932</td>\n",
       "      <td>215.238095</td>\n",
       "      <td>21</td>\n",
       "      <td>b</td>\n",
       "    </tr>\n",
       "    <tr>\n",
       "      <th>26</th>\n",
       "      <td>1933</td>\n",
       "      <td>191.130435</td>\n",
       "      <td>23</td>\n",
       "      <td>b</td>\n",
       "    </tr>\n",
       "    <tr>\n",
       "      <th>27</th>\n",
       "      <td>1934</td>\n",
       "      <td>182.083333</td>\n",
       "      <td>24</td>\n",
       "      <td>b</td>\n",
       "    </tr>\n",
       "    <tr>\n",
       "      <th>28</th>\n",
       "      <td>1935</td>\n",
       "      <td>160.629630</td>\n",
       "      <td>27</td>\n",
       "      <td>b</td>\n",
       "    </tr>\n",
       "    <tr>\n",
       "      <th>29</th>\n",
       "      <td>1936</td>\n",
       "      <td>164.370370</td>\n",
       "      <td>27</td>\n",
       "      <td>b</td>\n",
       "    </tr>\n",
       "  </tbody>\n",
       "</table>\n",
       "</div>"
      ],
      "text/plain": [
       "    annee    distance  etapes color\n",
       "0    1903  404.666667       6     r\n",
       "1    1904  404.833333       6     r\n",
       "2    1905  274.636364      11     r\n",
       "3    1906  349.461538      13     r\n",
       "4    1907  320.571429      14     r\n",
       "5    1908  321.214286      14     r\n",
       "6    1909  321.214286      14     r\n",
       "7    1910  315.600000      15     r\n",
       "8    1911  356.266667      15     r\n",
       "9    1912  354.600000      15     r\n",
       "10   1913  359.200000      15     r\n",
       "11   1914  359.200000      15     r\n",
       "12   1919  370.666667      15     r\n",
       "13   1920  366.866667      15     r\n",
       "14   1921  365.666667      15     r\n",
       "15   1922  358.200000      15     r\n",
       "16   1923  359.733333      15     r\n",
       "17   1924  361.666667      15     r\n",
       "18   1925  301.666667      18     r\n",
       "19   1926  337.941176      17     r\n",
       "20   1927  219.166667      24     b\n",
       "21   1928  244.363636      22     b\n",
       "22   1929  239.000000      22     b\n",
       "23   1930  229.428571      21     b\n",
       "24   1931  212.291667      24     b\n",
       "25   1932  215.238095      21     b\n",
       "26   1933  191.130435      23     b\n",
       "27   1934  182.083333      24     b\n",
       "28   1935  160.629630      27     b\n",
       "29   1936  164.370370      27     b"
      ]
     },
     "execution_count": 17,
     "metadata": {},
     "output_type": "execute_result"
    }
   ],
   "source": [
    "synth['color'] = 'b'\n",
    "inf20 = synth['etapes'] < 20\n",
    "inf20\n",
    "synth.loc[inf20,'color'] = 'r'\n",
    "synth.head(30)"
   ]
  },
  {
   "cell_type": "code",
   "execution_count": 18,
   "metadata": {},
   "outputs": [
    {
     "data": {
      "text/plain": [
       "<matplotlib.collections.PathCollection at 0x2dfa4dff848>"
      ]
     },
     "execution_count": 18,
     "metadata": {},
     "output_type": "execute_result"
    },
    {
     "data": {
      "image/png": "[encoded data removed]",
      "text/plain": [
       "<Figure size 1080x720 with 1 Axes>"
      ]
     },
     "metadata": {
      "needs_background": "light"
     },
     "output_type": "display_data"
    }
   ],
   "source": [
    "plt.figure(figsize=(15,10))\n",
    "plt.title('scatter')\n",
    "\n",
    "#def color_select(item):\n",
    "#    if item \n",
    "                   \n",
    "plt.scatter(synth['annee'],  synth['distance'], s = synth['etapes']**2 , c = synth['color'])\n",
    "            "
   ]
  },
  {
   "cell_type": "code",
   "execution_count": null,
   "metadata": {},
   "outputs": [],
   "source": []
  }
 ],
 "metadata": {
  "kernelspec": {
   "display_name": "Python 3 (ipykernel)",
   "language": "python",
   "name": "python3"
  },
  "language_info": {
   "codemirror_mode": {
    "name": "ipython",
    "version": 3
   },
   "file_extension": ".py",
   "mimetype": "text/x-python",
   "name": "python",
   "nbconvert_exporter": "python",
   "pygments_lexer": "ipython3",
   "version": "3.9.12"
  }
 },
 "nbformat": 4,
 "nbformat_minor": 2
}
