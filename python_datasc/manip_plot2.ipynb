{
 "cells": [
  {
   "cell_type": "code",
   "execution_count": null,
   "metadata": {},
   "outputs": [],
   "source": [
    "%matplotlib  inline"
   ]
  },
  {
   "cell_type": "code",
   "execution_count": null,
   "metadata": {},
   "outputs": [],
   "source": [
    "import numpy as np\n",
    "import pandas as pd\n",
    "import matplotlib.pyplot as plt\n",
    "import pyarrow as pa\n",
    "import pyarrow.parquet as pq\n"
   ]
  },
  {
   "cell_type": "code",
   "execution_count": null,
   "metadata": {},
   "outputs": [],
   "source": [
    "data1= pd.read_parquet('formatparquet.parquet')\n",
    "data1.info()"
   ]
  },
  {
   "cell_type": "code",
   "execution_count": null,
   "metadata": {},
   "outputs": [],
   "source": [
    "data1"
   ]
  },
  {
   "cell_type": "code",
   "execution_count": null,
   "metadata": {},
   "outputs": [],
   "source": [
    "comp = data1.groupby('annee')\n",
    "pd.set_option(\"display.max_rows\", 50)  \n",
    "len(comp)"
   ]
  },
  {
   "cell_type": "code",
   "execution_count": null,
   "metadata": {},
   "outputs": [],
   "source": [
    "comp.groups.keys()"
   ]
  },
  {
   "cell_type": "code",
   "execution_count": null,
   "metadata": {},
   "outputs": [],
   "source": [
    "#comp.get_group(all).loc[:,'Distance'].mean()\n",
    "print(comp['Distance'].count())\n",
    "d = {'distance':comp['Distance'].mean() ,'etapes' :comp['Stage'].count()  }\n",
    "print(d.keys())\n",
    "synth= pd.DataFrame(d )\n",
    "synth.head()"
   ]
  },
  {
   "cell_type": "code",
   "execution_count": null,
   "metadata": {},
   "outputs": [],
   "source": [
    "synth.reset_index(inplace =True)\n",
    "synth.head()"
   ]
  },
  {
   "cell_type": "code",
   "execution_count": null,
   "metadata": {},
   "outputs": [],
   "source": [
    "synth.head(30)\n",
    "print(synth.info())\n",
    "print(type(synth['etapes'].to_numpy()))"
   ]
  },
  {
   "cell_type": "code",
   "execution_count": null,
   "metadata": {},
   "outputs": [],
   "source": [
    "plt.figure(figsize=(10,5))\n",
    "plt.title('etapes')\n",
    "\n",
    "plt.plot(synth['annee'].to_numpy(),  synth['etapes'].to_numpy())  # warning sans numpy\n",
    "plt.show"
   ]
  },
  {
   "cell_type": "code",
   "execution_count": null,
   "metadata": {},
   "outputs": [],
   "source": [
    "plt.figure(figsize=(10,5))\n",
    "plt.title('etapes')\n",
    "plt.plot(synth['annee'],  synth['etapes'], marker ='o')\n",
    "plt.show"
   ]
  },
  {
   "cell_type": "code",
   "execution_count": null,
   "metadata": {},
   "outputs": [],
   "source": [
    "plt.figure(figsize=(10,5))\n",
    "plt.title('etapes')\n",
    "plt.plot(synth['annee'],  synth['etapes'], marker ='o', linestyle='')\n",
    "plt.show"
   ]
  },
  {
   "cell_type": "code",
   "execution_count": null,
   "metadata": {},
   "outputs": [],
   "source": [
    "plt.figure(figsize=(15,10))\n",
    "plt.subplot(2,1,1)\n",
    "plt.title('Distance')\n",
    "plt.bar(synth['annee'],  synth['etapes'], color ='r')\n",
    "plt.subplot(2,1,2)\n",
    "plt.title('Etapes')\n",
    "\n",
    "plt.bar(synth['annee'],  synth['distance'])\n",
    "\n",
    "plt.show"
   ]
  },
  {
   "cell_type": "code",
   "execution_count": null,
   "metadata": {},
   "outputs": [],
   "source": [
    "\n",
    "plt.figure(figsize=(10,5))\n",
    "plt.title('synthese')\n",
    "\n",
    "\n",
    "plt.bar(synth['annee'],  synth['etapes'], color ='r')\n",
    "#plt.subplot(2,1,2)\n",
    "plt.xlabel('années')\n",
    "\n",
    "plt.bar(synth['annee'],  synth['distance']) \n",
    "plt.legend(['distance', 'etapes', ])\n",
    "plt.show\n",
    "plt.savefig('mongraph1.png')"
   ]
  },
  {
   "cell_type": "code",
   "execution_count": null,
   "metadata": {},
   "outputs": [],
   "source": [
    "plt.figure(figsize=(10,5))\n",
    "plt.title('synthese empilée')\n",
    "\n",
    "plt.bar(synth['annee'],  synth['etapes'], color ='r')\n",
    "#plt.subplot(2,1,2)\n",
    "plt.xlabel('années')\n",
    "\n",
    "plt.bar(synth['annee'],  synth['distance'], bottom =   synth['etapes']) \n",
    "plt.legend(['distance', 'etapes', ])\n",
    "plt.show "
   ]
  },
  {
   "cell_type": "code",
   "execution_count": null,
   "metadata": {},
   "outputs": [],
   "source": [
    "plt.figure(figsize=(15,10))\n",
    "plt.title('synthese decalée')\n",
    "\n",
    "plt.bar(synth['annee'],  synth['etapes'], color ='r', width= 0.5)\n",
    "#plt.subplot(2,1,2)\n",
    "plt.xlabel('années')\n",
    "\n",
    "plt.bar(synth['annee']+ 0.5,  synth['distance'],  width= 0.5) \n",
    "plt.legend(['distance', 'etapes', ])\n",
    "plt.show "
   ]
  },
  {
   "cell_type": "code",
   "execution_count": null,
   "metadata": {},
   "outputs": [],
   "source": [
    "synth['color'] = 'b'\n",
    "inf20 = synth['etapes'] < 20\n",
    "inf20\n",
    "synth.loc[inf20,'color'] = 'r'\n",
    "synth.head(30)"
   ]
  },
  {
   "cell_type": "code",
   "execution_count": null,
   "metadata": {},
   "outputs": [],
   "source": [
    "plt.figure(figsize=(15,10))\n",
    "plt.title('scatter')\n",
    "\n",
    "#def color_select(item):\n",
    "#    if item \n",
    "                   \n",
    "plt.scatter(synth['annee'],  synth['distance'], s = synth['etapes']**2 , c = synth['color'])\n",
    "            "
   ]
  },
  {
   "cell_type": "code",
   "execution_count": null,
   "metadata": {},
   "outputs": [],
   "source": []
  }
 ],
 "metadata": {
  "kernelspec": {
   "display_name": "Python 3 (ipykernel)",
   "language": "python",
   "name": "python3"
  },
  "language_info": {
   "codemirror_mode": {
    "name": "ipython",
    "version": 3
   },
   "file_extension": ".py",
   "mimetype": "text/x-python",
   "name": "python",
   "nbconvert_exporter": "python",
   "pygments_lexer": "ipython3",
   "version": "3.9.12"
  }
 },
 "nbformat": 4,
 "nbformat_minor": 2
}
