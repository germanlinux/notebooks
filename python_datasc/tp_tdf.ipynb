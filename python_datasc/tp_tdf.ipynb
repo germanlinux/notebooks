{
 "cells": [
  {
   "cell_type": "code",
   "execution_count": 1,
   "metadata": {},
   "outputs": [],
   "source": [
    "import numpy as np\n",
    "import pandas as pd"
   ]
  },
  {
   "cell_type": "markdown",
   "metadata": {},
   "source": [
    "### 1)  Examiner et charger le fichier valeursfoncieres.csv \n",
    "### Ne retenir que les colonnes 'Valeur fonciere' et 'Code postal'\n"
   ]
  },
  {
   "cell_type": "code",
   "execution_count": 2,
   "metadata": {},
   "outputs": [
    {
     "data": {
      "text/html": [
       "<div>\n",
       "<style scoped>\n",
       "    .dataframe tbody tr th:only-of-type {\n",
       "        vertical-align: middle;\n",
       "    }\n",
       "\n",
       "    .dataframe tbody tr th {\n",
       "        vertical-align: top;\n",
       "    }\n",
       "\n",
       "    .dataframe thead th {\n",
       "        text-align: right;\n",
       "    }\n",
       "</style>\n",
       "<table border=\"1\" class=\"dataframe\">\n",
       "  <thead>\n",
       "    <tr style=\"text-align: right;\">\n",
       "      <th></th>\n",
       "      <th>Valeur fonciere</th>\n",
       "      <th>Code postal</th>\n",
       "      <th>Type local</th>\n",
       "    </tr>\n",
       "  </thead>\n",
       "  <tbody>\n",
       "    <tr>\n",
       "      <td>0</td>\n",
       "      <td>84000,00</td>\n",
       "      <td>1960.0</td>\n",
       "      <td>Dépendance</td>\n",
       "    </tr>\n",
       "    <tr>\n",
       "      <td>1</td>\n",
       "      <td>84000,00</td>\n",
       "      <td>1960.0</td>\n",
       "      <td>Appartement</td>\n",
       "    </tr>\n",
       "    <tr>\n",
       "      <td>2</td>\n",
       "      <td>210000,00</td>\n",
       "      <td>1250.0</td>\n",
       "      <td>Maison</td>\n",
       "    </tr>\n",
       "    <tr>\n",
       "      <td>3</td>\n",
       "      <td>210000,00</td>\n",
       "      <td>1250.0</td>\n",
       "      <td>Maison</td>\n",
       "    </tr>\n",
       "    <tr>\n",
       "      <td>4</td>\n",
       "      <td>36000,00</td>\n",
       "      <td>1560.0</td>\n",
       "      <td>Maison</td>\n",
       "    </tr>\n",
       "    <tr>\n",
       "      <td>5</td>\n",
       "      <td>600000,00</td>\n",
       "      <td>1000.0</td>\n",
       "      <td>NaN</td>\n",
       "    </tr>\n",
       "    <tr>\n",
       "      <td>6</td>\n",
       "      <td>600000,00</td>\n",
       "      <td>1000.0</td>\n",
       "      <td>Local industriel. commercial ou assimilé</td>\n",
       "    </tr>\n",
       "    <tr>\n",
       "      <td>7</td>\n",
       "      <td>600000,00</td>\n",
       "      <td>1000.0</td>\n",
       "      <td>Local industriel. commercial ou assimilé</td>\n",
       "    </tr>\n",
       "    <tr>\n",
       "      <td>8</td>\n",
       "      <td>84920,00</td>\n",
       "      <td>1500.0</td>\n",
       "      <td>Appartement</td>\n",
       "    </tr>\n",
       "    <tr>\n",
       "      <td>9</td>\n",
       "      <td>84920,00</td>\n",
       "      <td>1500.0</td>\n",
       "      <td>Dépendance</td>\n",
       "    </tr>\n",
       "  </tbody>\n",
       "</table>\n",
       "</div>"
      ],
      "text/plain": [
       "  Valeur fonciere  Code postal                                Type local\n",
       "0        84000,00       1960.0                                Dépendance\n",
       "1        84000,00       1960.0                               Appartement\n",
       "2       210000,00       1250.0                                    Maison\n",
       "3       210000,00       1250.0                                    Maison\n",
       "4        36000,00       1560.0                                    Maison\n",
       "5       600000,00       1000.0                                       NaN\n",
       "6       600000,00       1000.0  Local industriel. commercial ou assimilé\n",
       "7       600000,00       1000.0  Local industriel. commercial ou assimilé\n",
       "8        84920,00       1500.0                               Appartement\n",
       "9        84920,00       1500.0                                Dépendance"
      ]
     },
     "execution_count": 2,
     "metadata": {},
     "output_type": "execute_result"
    }
   ],
   "source": [
    "data1 = pd.read_csv('valeursfoncieres.csv',usecols= ['Valeur fonciere','Code postal', 'Type local'], \n",
    "                    sep='|')\n",
    "data1.head(10)"
   ]
  },
  {
   "cell_type": "code",
   "execution_count": 3,
   "metadata": {},
   "outputs": [
    {
     "name": "stdout",
     "output_type": "stream",
     "text": [
      "<class 'pandas.core.frame.DataFrame'>\n",
      "RangeIndex: 1017154 entries, 0 to 1017153\n",
      "Data columns (total 3 columns):\n",
      "Valeur fonciere    1004369 non-null object\n",
      "Code postal        1004998 non-null float64\n",
      "Type local         541303 non-null object\n",
      "dtypes: float64(1), object(2)\n",
      "memory usage: 23.3+ MB\n",
      "None\n"
     ]
    }
   ],
   "source": [
    "print(data1.info())"
   ]
  },
  {
   "cell_type": "code",
   "execution_count": 4,
   "metadata": {},
   "outputs": [
    {
     "name": "stdout",
     "output_type": "stream",
     "text": [
      "Valeur fonciere    1004369\n",
      "Code postal        1004998\n",
      "Type local          541303\n",
      "dtype: int64\n"
     ]
    }
   ],
   "source": [
    "print(data1.count())"
   ]
  },
  {
   "cell_type": "markdown",
   "metadata": {},
   "source": [
    "###  2) nettoyer la colonne 'Type local' : remplacer les valeurs nulles par 'non renseigne'"
   ]
  },
  {
   "cell_type": "code",
   "execution_count": 5,
   "metadata": {},
   "outputs": [
    {
     "data": {
      "text/html": [
       "<div>\n",
       "<style scoped>\n",
       "    .dataframe tbody tr th:only-of-type {\n",
       "        vertical-align: middle;\n",
       "    }\n",
       "\n",
       "    .dataframe tbody tr th {\n",
       "        vertical-align: top;\n",
       "    }\n",
       "\n",
       "    .dataframe thead th {\n",
       "        text-align: right;\n",
       "    }\n",
       "</style>\n",
       "<table border=\"1\" class=\"dataframe\">\n",
       "  <thead>\n",
       "    <tr style=\"text-align: right;\">\n",
       "      <th></th>\n",
       "      <th>Valeur fonciere</th>\n",
       "      <th>Code postal</th>\n",
       "      <th>Type local</th>\n",
       "    </tr>\n",
       "  </thead>\n",
       "  <tbody>\n",
       "    <tr>\n",
       "      <td>5</td>\n",
       "      <td>600000,00</td>\n",
       "      <td>1000.0</td>\n",
       "      <td>NaN</td>\n",
       "    </tr>\n",
       "    <tr>\n",
       "      <td>10</td>\n",
       "      <td>532,00</td>\n",
       "      <td>1680.0</td>\n",
       "      <td>NaN</td>\n",
       "    </tr>\n",
       "    <tr>\n",
       "      <td>11</td>\n",
       "      <td>532,00</td>\n",
       "      <td>1680.0</td>\n",
       "      <td>NaN</td>\n",
       "    </tr>\n",
       "    <tr>\n",
       "      <td>12</td>\n",
       "      <td>60879,60</td>\n",
       "      <td>1500.0</td>\n",
       "      <td>NaN</td>\n",
       "    </tr>\n",
       "    <tr>\n",
       "      <td>13</td>\n",
       "      <td>60879,60</td>\n",
       "      <td>1500.0</td>\n",
       "      <td>NaN</td>\n",
       "    </tr>\n",
       "    <tr>\n",
       "      <td>...</td>\n",
       "      <td>...</td>\n",
       "      <td>...</td>\n",
       "      <td>...</td>\n",
       "    </tr>\n",
       "    <tr>\n",
       "      <td>1017064</td>\n",
       "      <td>4200900,00</td>\n",
       "      <td>75004.0</td>\n",
       "      <td>NaN</td>\n",
       "    </tr>\n",
       "    <tr>\n",
       "      <td>1017065</td>\n",
       "      <td>4200900,00</td>\n",
       "      <td>75004.0</td>\n",
       "      <td>NaN</td>\n",
       "    </tr>\n",
       "    <tr>\n",
       "      <td>1017066</td>\n",
       "      <td>1176000,00</td>\n",
       "      <td>75004.0</td>\n",
       "      <td>NaN</td>\n",
       "    </tr>\n",
       "    <tr>\n",
       "      <td>1017067</td>\n",
       "      <td>1176000,00</td>\n",
       "      <td>75004.0</td>\n",
       "      <td>NaN</td>\n",
       "    </tr>\n",
       "    <tr>\n",
       "      <td>1017069</td>\n",
       "      <td>414000,00</td>\n",
       "      <td>75004.0</td>\n",
       "      <td>NaN</td>\n",
       "    </tr>\n",
       "  </tbody>\n",
       "</table>\n",
       "<p>475851 rows × 3 columns</p>\n",
       "</div>"
      ],
      "text/plain": [
       "        Valeur fonciere  Code postal Type local\n",
       "5             600000,00       1000.0        NaN\n",
       "10               532,00       1680.0        NaN\n",
       "11               532,00       1680.0        NaN\n",
       "12             60879,60       1500.0        NaN\n",
       "13             60879,60       1500.0        NaN\n",
       "...                 ...          ...        ...\n",
       "1017064      4200900,00      75004.0        NaN\n",
       "1017065      4200900,00      75004.0        NaN\n",
       "1017066      1176000,00      75004.0        NaN\n",
       "1017067      1176000,00      75004.0        NaN\n",
       "1017069       414000,00      75004.0        NaN\n",
       "\n",
       "[475851 rows x 3 columns]"
      ]
     },
     "execution_count": 5,
     "metadata": {},
     "output_type": "execute_result"
    }
   ],
   "source": [
    "data1[data1['Type local'].isnull() == True]"
   ]
  },
  {
   "cell_type": "code",
   "execution_count": 6,
   "metadata": {},
   "outputs": [
    {
     "name": "stdout",
     "output_type": "stream",
     "text": [
      "0    False\n",
      "1    False\n",
      "2    False\n",
      "3    False\n",
      "4    False\n",
      "5     True\n",
      "6    False\n",
      "7    False\n",
      "8    False\n",
      "9    False\n",
      "Name: Type local, dtype: bool\n",
      "<class 'pandas.core.series.Series'>\n",
      "1017154\n",
      "[False  True]\n",
      "False    541303\n",
      "True     475851\n",
      "Name: Type local, dtype: int64\n"
     ]
    }
   ],
   "source": [
    "a_nettoyer = data1['Type local'].isnull() == True\n",
    "print(a_nettoyer.head(10))\n",
    "print(type(a_nettoyer))\n",
    "print(a_nettoyer.size)\n",
    "print(a_nettoyer.unique())\n",
    "print(a_nettoyer.value_counts())"
   ]
  },
  {
   "cell_type": "code",
   "execution_count": 7,
   "metadata": {},
   "outputs": [
    {
     "name": "stderr",
     "output_type": "stream",
     "text": [
      "C:\\Users\\33681\\Anaconda3\\lib\\site-packages\\ipykernel_launcher.py:1: SettingWithCopyWarning: \n",
      "A value is trying to be set on a copy of a slice from a DataFrame\n",
      "\n",
      "See the caveats in the documentation: http://pandas.pydata.org/pandas-docs/stable/user_guide/indexing.html#returning-a-view-versus-a-copy\n",
      "  \"\"\"Entry point for launching an IPython kernel.\n"
     ]
    }
   ],
   "source": [
    "data1['Type local'][a_nettoyer] = 'non renseigne'"
   ]
  },
  {
   "cell_type": "code",
   "execution_count": 8,
   "metadata": {},
   "outputs": [],
   "source": [
    "data1.loc[a_nettoyer,'Type local'] =  'non renseigne'"
   ]
  },
  {
   "cell_type": "code",
   "execution_count": 9,
   "metadata": {},
   "outputs": [
    {
     "data": {
      "text/html": [
       "<div>\n",
       "<style scoped>\n",
       "    .dataframe tbody tr th:only-of-type {\n",
       "        vertical-align: middle;\n",
       "    }\n",
       "\n",
       "    .dataframe tbody tr th {\n",
       "        vertical-align: top;\n",
       "    }\n",
       "\n",
       "    .dataframe thead th {\n",
       "        text-align: right;\n",
       "    }\n",
       "</style>\n",
       "<table border=\"1\" class=\"dataframe\">\n",
       "  <thead>\n",
       "    <tr style=\"text-align: right;\">\n",
       "      <th></th>\n",
       "      <th>Valeur fonciere</th>\n",
       "      <th>Code postal</th>\n",
       "      <th>Type local</th>\n",
       "    </tr>\n",
       "  </thead>\n",
       "  <tbody>\n",
       "    <tr>\n",
       "      <td>0</td>\n",
       "      <td>84000,00</td>\n",
       "      <td>1960.0</td>\n",
       "      <td>Dépendance</td>\n",
       "    </tr>\n",
       "    <tr>\n",
       "      <td>1</td>\n",
       "      <td>84000,00</td>\n",
       "      <td>1960.0</td>\n",
       "      <td>Appartement</td>\n",
       "    </tr>\n",
       "    <tr>\n",
       "      <td>2</td>\n",
       "      <td>210000,00</td>\n",
       "      <td>1250.0</td>\n",
       "      <td>Maison</td>\n",
       "    </tr>\n",
       "    <tr>\n",
       "      <td>3</td>\n",
       "      <td>210000,00</td>\n",
       "      <td>1250.0</td>\n",
       "      <td>Maison</td>\n",
       "    </tr>\n",
       "    <tr>\n",
       "      <td>4</td>\n",
       "      <td>36000,00</td>\n",
       "      <td>1560.0</td>\n",
       "      <td>Maison</td>\n",
       "    </tr>\n",
       "    <tr>\n",
       "      <td>5</td>\n",
       "      <td>600000,00</td>\n",
       "      <td>1000.0</td>\n",
       "      <td>non renseigne</td>\n",
       "    </tr>\n",
       "    <tr>\n",
       "      <td>6</td>\n",
       "      <td>600000,00</td>\n",
       "      <td>1000.0</td>\n",
       "      <td>Local industriel. commercial ou assimilé</td>\n",
       "    </tr>\n",
       "    <tr>\n",
       "      <td>7</td>\n",
       "      <td>600000,00</td>\n",
       "      <td>1000.0</td>\n",
       "      <td>Local industriel. commercial ou assimilé</td>\n",
       "    </tr>\n",
       "    <tr>\n",
       "      <td>8</td>\n",
       "      <td>84920,00</td>\n",
       "      <td>1500.0</td>\n",
       "      <td>Appartement</td>\n",
       "    </tr>\n",
       "    <tr>\n",
       "      <td>9</td>\n",
       "      <td>84920,00</td>\n",
       "      <td>1500.0</td>\n",
       "      <td>Dépendance</td>\n",
       "    </tr>\n",
       "  </tbody>\n",
       "</table>\n",
       "</div>"
      ],
      "text/plain": [
       "  Valeur fonciere  Code postal                                Type local\n",
       "0        84000,00       1960.0                                Dépendance\n",
       "1        84000,00       1960.0                               Appartement\n",
       "2       210000,00       1250.0                                    Maison\n",
       "3       210000,00       1250.0                                    Maison\n",
       "4        36000,00       1560.0                                    Maison\n",
       "5       600000,00       1000.0                             non renseigne\n",
       "6       600000,00       1000.0  Local industriel. commercial ou assimilé\n",
       "7       600000,00       1000.0  Local industriel. commercial ou assimilé\n",
       "8        84920,00       1500.0                               Appartement\n",
       "9        84920,00       1500.0                                Dépendance"
      ]
     },
     "execution_count": 9,
     "metadata": {},
     "output_type": "execute_result"
    }
   ],
   "source": [
    "data1.head(10)"
   ]
  },
  {
   "cell_type": "markdown",
   "metadata": {},
   "source": [
    "### 3) Compter et lister les valeurs uniques de la colonne 'Type local'"
   ]
  },
  {
   "cell_type": "code",
   "execution_count": 10,
   "metadata": {},
   "outputs": [
    {
     "name": "stdout",
     "output_type": "stream",
     "text": [
      "5\n",
      "['Dépendance' 'Appartement' 'Maison' 'non renseigne'\n",
      " 'Local industriel. commercial ou assimilé']\n"
     ]
    }
   ],
   "source": [
    "print(data1['Type local'].nunique())\n",
    "print(data1['Type local'].unique())\n"
   ]
  },
  {
   "cell_type": "markdown",
   "metadata": {},
   "source": [
    "###  4) Reduire la taille de la memoire necessaire en utilisant la categorisation"
   ]
  },
  {
   "cell_type": "code",
   "execution_count": 11,
   "metadata": {},
   "outputs": [
    {
     "name": "stdout",
     "output_type": "stream",
     "text": [
      "<class 'pandas.core.frame.DataFrame'>\n",
      "RangeIndex: 1017154 entries, 0 to 1017153\n",
      "Data columns (total 3 columns):\n",
      "Valeur fonciere    1004369 non-null object\n",
      "Code postal        1004998 non-null float64\n",
      "Type local         1017154 non-null object\n",
      "dtypes: float64(1), object(2)\n",
      "memory usage: 23.3+ MB\n",
      "None\n"
     ]
    }
   ],
   "source": [
    "print(data1.info())"
   ]
  },
  {
   "cell_type": "code",
   "execution_count": 12,
   "metadata": {},
   "outputs": [
    {
     "data": {
      "text/plain": [
       "0                                        Dépendance\n",
       "1                                       Appartement\n",
       "2                                            Maison\n",
       "3                                            Maison\n",
       "4                                            Maison\n",
       "                             ...                   \n",
       "1017149    Local industriel. commercial ou assimilé\n",
       "1017150    Local industriel. commercial ou assimilé\n",
       "1017151    Local industriel. commercial ou assimilé\n",
       "1017152    Local industriel. commercial ou assimilé\n",
       "1017153    Local industriel. commercial ou assimilé\n",
       "Name: Type local, Length: 1017154, dtype: category\n",
       "Categories (5, object): [Appartement, Dépendance, Local industriel. commercial ou assimilé, Maison, non renseigne]"
      ]
     },
     "execution_count": 12,
     "metadata": {},
     "output_type": "execute_result"
    }
   ],
   "source": [
    "data1['Type local'].astype('category')"
   ]
  },
  {
   "cell_type": "code",
   "execution_count": 13,
   "metadata": {},
   "outputs": [
    {
     "name": "stdout",
     "output_type": "stream",
     "text": [
      "<class 'pandas.core.frame.DataFrame'>\n",
      "RangeIndex: 1017154 entries, 0 to 1017153\n",
      "Data columns (total 3 columns):\n",
      "Valeur fonciere    1004369 non-null object\n",
      "Code postal        1004998 non-null float64\n",
      "Type local         1017154 non-null category\n",
      "dtypes: category(1), float64(1), object(1)\n",
      "memory usage: 16.5+ MB\n",
      "None\n"
     ]
    }
   ],
   "source": [
    "data1['Type local'] = data1['Type local'].astype('category')\n",
    "print(data1.info())"
   ]
  },
  {
   "cell_type": "markdown",
   "metadata": {},
   "source": [
    "### 5) Corriger le code postal (type et padding)\n",
    "\n",
    "####  Corriger les valeurs nulles\n",
    "#### Changer de type\n",
    "#### Mettre des zeros en tete"
   ]
  },
  {
   "cell_type": "code",
   "execution_count": 14,
   "metadata": {},
   "outputs": [
    {
     "data": {
      "text/plain": [
       "0           1960.0\n",
       "1           1960.0\n",
       "2           1250.0\n",
       "3           1250.0\n",
       "4           1560.0\n",
       "            ...   \n",
       "1017149    75002.0\n",
       "1017150    75002.0\n",
       "1017151    75002.0\n",
       "1017152    75002.0\n",
       "1017153    75002.0\n",
       "Name: Code postal, Length: 1017154, dtype: object"
      ]
     },
     "execution_count": 14,
     "metadata": {},
     "output_type": "execute_result"
    }
   ],
   "source": [
    "data1['Code postal'].astype(str)"
   ]
  },
  {
   "cell_type": "code",
   "execution_count": 15,
   "metadata": {},
   "outputs": [
    {
     "data": {
      "text/html": [
       "<div>\n",
       "<style scoped>\n",
       "    .dataframe tbody tr th:only-of-type {\n",
       "        vertical-align: middle;\n",
       "    }\n",
       "\n",
       "    .dataframe tbody tr th {\n",
       "        vertical-align: top;\n",
       "    }\n",
       "\n",
       "    .dataframe thead th {\n",
       "        text-align: right;\n",
       "    }\n",
       "</style>\n",
       "<table border=\"1\" class=\"dataframe\">\n",
       "  <thead>\n",
       "    <tr style=\"text-align: right;\">\n",
       "      <th></th>\n",
       "      <th>Valeur fonciere</th>\n",
       "      <th>Code postal</th>\n",
       "      <th>Type local</th>\n",
       "    </tr>\n",
       "  </thead>\n",
       "  <tbody>\n",
       "    <tr>\n",
       "      <td>843</td>\n",
       "      <td>17000,00</td>\n",
       "      <td>NaN</td>\n",
       "      <td>non renseigne</td>\n",
       "    </tr>\n",
       "    <tr>\n",
       "      <td>844</td>\n",
       "      <td>319500,00</td>\n",
       "      <td>NaN</td>\n",
       "      <td>non renseigne</td>\n",
       "    </tr>\n",
       "    <tr>\n",
       "      <td>1393</td>\n",
       "      <td>297700,00</td>\n",
       "      <td>NaN</td>\n",
       "      <td>Local industriel. commercial ou assimilé</td>\n",
       "    </tr>\n",
       "    <tr>\n",
       "      <td>2208</td>\n",
       "      <td>323000,00</td>\n",
       "      <td>NaN</td>\n",
       "      <td>non renseigne</td>\n",
       "    </tr>\n",
       "    <tr>\n",
       "      <td>3132</td>\n",
       "      <td>320000,00</td>\n",
       "      <td>NaN</td>\n",
       "      <td>non renseigne</td>\n",
       "    </tr>\n",
       "    <tr>\n",
       "      <td>...</td>\n",
       "      <td>...</td>\n",
       "      <td>...</td>\n",
       "      <td>...</td>\n",
       "    </tr>\n",
       "    <tr>\n",
       "      <td>1015987</td>\n",
       "      <td>NaN</td>\n",
       "      <td>NaN</td>\n",
       "      <td>non renseigne</td>\n",
       "    </tr>\n",
       "    <tr>\n",
       "      <td>1015988</td>\n",
       "      <td>NaN</td>\n",
       "      <td>NaN</td>\n",
       "      <td>non renseigne</td>\n",
       "    </tr>\n",
       "    <tr>\n",
       "      <td>1015989</td>\n",
       "      <td>NaN</td>\n",
       "      <td>NaN</td>\n",
       "      <td>non renseigne</td>\n",
       "    </tr>\n",
       "    <tr>\n",
       "      <td>1015990</td>\n",
       "      <td>NaN</td>\n",
       "      <td>NaN</td>\n",
       "      <td>non renseigne</td>\n",
       "    </tr>\n",
       "    <tr>\n",
       "      <td>1015991</td>\n",
       "      <td>NaN</td>\n",
       "      <td>NaN</td>\n",
       "      <td>non renseigne</td>\n",
       "    </tr>\n",
       "  </tbody>\n",
       "</table>\n",
       "<p>12156 rows × 3 columns</p>\n",
       "</div>"
      ],
      "text/plain": [
       "        Valeur fonciere  Code postal                                Type local\n",
       "843            17000,00          NaN                             non renseigne\n",
       "844           319500,00          NaN                             non renseigne\n",
       "1393          297700,00          NaN  Local industriel. commercial ou assimilé\n",
       "2208          323000,00          NaN                             non renseigne\n",
       "3132          320000,00          NaN                             non renseigne\n",
       "...                 ...          ...                                       ...\n",
       "1015987             NaN          NaN                             non renseigne\n",
       "1015988             NaN          NaN                             non renseigne\n",
       "1015989             NaN          NaN                             non renseigne\n",
       "1015990             NaN          NaN                             non renseigne\n",
       "1015991             NaN          NaN                             non renseigne\n",
       "\n",
       "[12156 rows x 3 columns]"
      ]
     },
     "execution_count": 15,
     "metadata": {},
     "output_type": "execute_result"
    }
   ],
   "source": [
    "data1[data1['Code postal'].isnull() == True]"
   ]
  },
  {
   "cell_type": "code",
   "execution_count": 16,
   "metadata": {},
   "outputs": [
    {
     "data": {
      "text/plain": [
       "0           1960.0\n",
       "1           1960.0\n",
       "2           1250.0\n",
       "3           1250.0\n",
       "4           1560.0\n",
       "            ...   \n",
       "1017149    75002.0\n",
       "1017150    75002.0\n",
       "1017151    75002.0\n",
       "1017152    75002.0\n",
       "1017153    75002.0\n",
       "Name: Code postal, Length: 1017154, dtype: float64"
      ]
     },
     "execution_count": 16,
     "metadata": {},
     "output_type": "execute_result"
    }
   ],
   "source": [
    "data1['Code postal'].fillna(99999.0)"
   ]
  },
  {
   "cell_type": "code",
   "execution_count": 17,
   "metadata": {},
   "outputs": [],
   "source": [
    "data1['Code postal']= data1['Code postal'].fillna(99999.0)"
   ]
  },
  {
   "cell_type": "code",
   "execution_count": 18,
   "metadata": {},
   "outputs": [],
   "source": [
    "data1['Code postal']= data1['Code postal'].astype(int)\n",
    "data1['Code postal']= data1['Code postal'].astype(str)\n"
   ]
  },
  {
   "cell_type": "code",
   "execution_count": 31,
   "metadata": {},
   "outputs": [
    {
     "ename": "AttributeError",
     "evalue": "'list' object has no attribute 'str'",
     "output_type": "error",
     "traceback": [
      "\u001b[1;31m---------------------------------------------------------------------------\u001b[0m",
      "\u001b[1;31mAttributeError\u001b[0m                            Traceback (most recent call last)",
      "\u001b[1;32m<ipython-input-31-01da40bb695f>\u001b[0m in \u001b[0;36m<module>\u001b[1;34m\u001b[0m\n\u001b[0;32m      1\u001b[0m \u001b[0mdata1\u001b[0m\u001b[1;33m[\u001b[0m\u001b[1;34m'Code postal'\u001b[0m\u001b[1;33m]\u001b[0m\u001b[1;33m=\u001b[0m \u001b[0mdata1\u001b[0m\u001b[1;33m[\u001b[0m\u001b[1;34m'Code postal'\u001b[0m\u001b[1;33m]\u001b[0m\u001b[1;33m.\u001b[0m\u001b[0mstr\u001b[0m\u001b[1;33m.\u001b[0m\u001b[0mzfill\u001b[0m\u001b[1;33m(\u001b[0m\u001b[1;36m5\u001b[0m\u001b[1;33m)\u001b[0m\u001b[1;33m\u001b[0m\u001b[1;33m\u001b[0m\u001b[0m\n\u001b[1;32m----> 2\u001b[1;33m \u001b[0mprint\u001b[0m\u001b[1;33m(\u001b[0m\u001b[0mdata1\u001b[0m\u001b[1;33m[\u001b[0m\u001b[1;33m[\u001b[0m\u001b[1;34m'Code postal'\u001b[0m\u001b[1;33m]\u001b[0m\u001b[1;33m.\u001b[0m\u001b[0mstr\u001b[0m\u001b[1;33m.\u001b[0m\u001b[0mlen\u001b[0m\u001b[1;33m(\u001b[0m\u001b[1;33m)\u001b[0m  \u001b[1;33m!=\u001b[0m \u001b[1;36m5\u001b[0m\u001b[1;33m]\u001b[0m\u001b[1;33m.\u001b[0m\u001b[0munique\u001b[0m \u001b[1;33m)\u001b[0m\u001b[1;33m\u001b[0m\u001b[1;33m\u001b[0m\u001b[0m\n\u001b[0m",
      "\u001b[1;31mAttributeError\u001b[0m: 'list' object has no attribute 'str'"
     ]
    }
   ],
   "source": [
    "data1['Code postal']= data1['Code postal'].str.zfill(5) \n"
   ]
  },
  {
   "cell_type": "code",
   "execution_count": 42,
   "metadata": {},
   "outputs": [
    {
     "data": {
      "text/html": [
       "<div>\n",
       "<style scoped>\n",
       "    .dataframe tbody tr th:only-of-type {\n",
       "        vertical-align: middle;\n",
       "    }\n",
       "\n",
       "    .dataframe tbody tr th {\n",
       "        vertical-align: top;\n",
       "    }\n",
       "\n",
       "    .dataframe thead th {\n",
       "        text-align: right;\n",
       "    }\n",
       "</style>\n",
       "<table border=\"1\" class=\"dataframe\">\n",
       "  <thead>\n",
       "    <tr style=\"text-align: right;\">\n",
       "      <th></th>\n",
       "      <th>Valeur fonciere</th>\n",
       "      <th>Code postal</th>\n",
       "      <th>Type local</th>\n",
       "    </tr>\n",
       "  </thead>\n",
       "  <tbody>\n",
       "    <tr>\n",
       "      <td>0</td>\n",
       "      <td>84000.0</td>\n",
       "      <td>01960</td>\n",
       "      <td>Dépendance</td>\n",
       "    </tr>\n",
       "    <tr>\n",
       "      <td>1</td>\n",
       "      <td>84000.0</td>\n",
       "      <td>01960</td>\n",
       "      <td>Appartement</td>\n",
       "    </tr>\n",
       "    <tr>\n",
       "      <td>136139</td>\n",
       "      <td>22000.0</td>\n",
       "      <td>19600</td>\n",
       "      <td>non renseigne</td>\n",
       "    </tr>\n",
       "    <tr>\n",
       "      <td>136145</td>\n",
       "      <td>37000.0</td>\n",
       "      <td>19600</td>\n",
       "      <td>non renseigne</td>\n",
       "    </tr>\n",
       "    <tr>\n",
       "      <td>136146</td>\n",
       "      <td>37000.0</td>\n",
       "      <td>19600</td>\n",
       "      <td>non renseigne</td>\n",
       "    </tr>\n",
       "    <tr>\n",
       "      <td>...</td>\n",
       "      <td>...</td>\n",
       "      <td>...</td>\n",
       "      <td>...</td>\n",
       "    </tr>\n",
       "    <tr>\n",
       "      <td>676902</td>\n",
       "      <td>248000.0</td>\n",
       "      <td>71960</td>\n",
       "      <td>Maison</td>\n",
       "    </tr>\n",
       "    <tr>\n",
       "      <td>676903</td>\n",
       "      <td>248000.0</td>\n",
       "      <td>71960</td>\n",
       "      <td>Maison</td>\n",
       "    </tr>\n",
       "    <tr>\n",
       "      <td>676904</td>\n",
       "      <td>248000.0</td>\n",
       "      <td>71960</td>\n",
       "      <td>non renseigne</td>\n",
       "    </tr>\n",
       "    <tr>\n",
       "      <td>676905</td>\n",
       "      <td>248000.0</td>\n",
       "      <td>71960</td>\n",
       "      <td>non renseigne</td>\n",
       "    </tr>\n",
       "    <tr>\n",
       "      <td>676919</td>\n",
       "      <td>70000.0</td>\n",
       "      <td>71960</td>\n",
       "      <td>Maison</td>\n",
       "    </tr>\n",
       "  </tbody>\n",
       "</table>\n",
       "<p>451 rows × 3 columns</p>\n",
       "</div>"
      ],
      "text/plain": [
       "        Valeur fonciere Code postal     Type local\n",
       "0               84000.0       01960     Dépendance\n",
       "1               84000.0       01960    Appartement\n",
       "136139          22000.0       19600  non renseigne\n",
       "136145          37000.0       19600  non renseigne\n",
       "136146          37000.0       19600  non renseigne\n",
       "...                 ...         ...            ...\n",
       "676902         248000.0       71960         Maison\n",
       "676903         248000.0       71960         Maison\n",
       "676904         248000.0       71960  non renseigne\n",
       "676905         248000.0       71960  non renseigne\n",
       "676919          70000.0       71960         Maison\n",
       "\n",
       "[451 rows x 3 columns]"
      ]
     },
     "execution_count": 42,
     "metadata": {},
     "output_type": "execute_result"
    }
   ],
   "source": [
    "data1.loc[data1['Code postal'].str.contains('1960', regex =False)]"
   ]
  },
  {
   "cell_type": "markdown",
   "metadata": {},
   "source": [
    "###  6) Commenter le resultat ci-dessous"
   ]
  },
  {
   "cell_type": "code",
   "execution_count": 20,
   "metadata": {},
   "outputs": [
    {
     "data": {
      "text/plain": [
       "'84000,0084000,00210000,00210000,0036000,00'"
      ]
     },
     "execution_count": 20,
     "metadata": {},
     "output_type": "execute_result"
    }
   ],
   "source": [
    "data1['Valeur fonciere'].head().sum()"
   ]
  },
  {
   "cell_type": "markdown",
   "metadata": {},
   "source": [
    "###  7) Réaliser le changement de type et le nettoyage de la colonne"
   ]
  },
  {
   "cell_type": "code",
   "execution_count": 21,
   "metadata": {},
   "outputs": [
    {
     "data": {
      "text/plain": [
       "0     84000.00\n",
       "1     84000.00\n",
       "2    210000.00\n",
       "3    210000.00\n",
       "4     36000.00\n",
       "Name: Valeur fonciere, dtype: object"
      ]
     },
     "execution_count": 21,
     "metadata": {},
     "output_type": "execute_result"
    }
   ],
   "source": [
    "data1['Valeur fonciere']=data1['Valeur fonciere'].str.replace(',','.')\n",
    "data1['Valeur fonciere'].head()"
   ]
  },
  {
   "cell_type": "code",
   "execution_count": 22,
   "metadata": {},
   "outputs": [
    {
     "data": {
      "text/plain": [
       "0     84000.0\n",
       "1     84000.0\n",
       "2    210000.0\n",
       "3    210000.0\n",
       "4     36000.0\n",
       "Name: Valeur fonciere, dtype: float64"
      ]
     },
     "execution_count": 22,
     "metadata": {},
     "output_type": "execute_result"
    }
   ],
   "source": [
    "data1['Valeur fonciere']=data1['Valeur fonciere'].astype(float)\n",
    "data1['Valeur fonciere'].head()"
   ]
  },
  {
   "cell_type": "code",
   "execution_count": 23,
   "metadata": {},
   "outputs": [],
   "source": [
    "data1['Valeur fonciere']= data1['Valeur fonciere'].fillna(0)"
   ]
  },
  {
   "cell_type": "code",
   "execution_count": 24,
   "metadata": {},
   "outputs": [
    {
     "data": {
      "text/html": [
       "<div>\n",
       "<style scoped>\n",
       "    .dataframe tbody tr th:only-of-type {\n",
       "        vertical-align: middle;\n",
       "    }\n",
       "\n",
       "    .dataframe tbody tr th {\n",
       "        vertical-align: top;\n",
       "    }\n",
       "\n",
       "    .dataframe thead th {\n",
       "        text-align: right;\n",
       "    }\n",
       "</style>\n",
       "<table border=\"1\" class=\"dataframe\">\n",
       "  <thead>\n",
       "    <tr style=\"text-align: right;\">\n",
       "      <th></th>\n",
       "      <th>Valeur fonciere</th>\n",
       "      <th>Code postal</th>\n",
       "      <th>Type local</th>\n",
       "    </tr>\n",
       "  </thead>\n",
       "  <tbody>\n",
       "    <tr>\n",
       "      <td>210851</td>\n",
       "      <td>1.750000e+09</td>\n",
       "      <td>29400</td>\n",
       "      <td>non renseigne</td>\n",
       "    </tr>\n",
       "    <tr>\n",
       "      <td>210852</td>\n",
       "      <td>1.750000e+09</td>\n",
       "      <td>29400</td>\n",
       "      <td>Maison</td>\n",
       "    </tr>\n",
       "    <tr>\n",
       "      <td>210853</td>\n",
       "      <td>1.750000e+09</td>\n",
       "      <td>29400</td>\n",
       "      <td>Maison</td>\n",
       "    </tr>\n",
       "    <tr>\n",
       "      <td>210888</td>\n",
       "      <td>4.000000e+08</td>\n",
       "      <td>29410</td>\n",
       "      <td>Maison</td>\n",
       "    </tr>\n",
       "    <tr>\n",
       "      <td>210854</td>\n",
       "      <td>3.850000e+08</td>\n",
       "      <td>29233</td>\n",
       "      <td>Maison</td>\n",
       "    </tr>\n",
       "  </tbody>\n",
       "</table>\n",
       "</div>"
      ],
      "text/plain": [
       "        Valeur fonciere Code postal     Type local\n",
       "210851     1.750000e+09       29400  non renseigne\n",
       "210852     1.750000e+09       29400         Maison\n",
       "210853     1.750000e+09       29400         Maison\n",
       "210888     4.000000e+08       29410         Maison\n",
       "210854     3.850000e+08       29233         Maison"
      ]
     },
     "execution_count": 24,
     "metadata": {},
     "output_type": "execute_result"
    }
   ],
   "source": [
    "data1.nlargest(5, 'Valeur fonciere')"
   ]
  },
  {
   "cell_type": "code",
   "execution_count": 25,
   "metadata": {},
   "outputs": [
    {
     "data": {
      "text/html": [
       "<div>\n",
       "<style scoped>\n",
       "    .dataframe tbody tr th:only-of-type {\n",
       "        vertical-align: middle;\n",
       "    }\n",
       "\n",
       "    .dataframe tbody tr th {\n",
       "        vertical-align: top;\n",
       "    }\n",
       "\n",
       "    .dataframe thead th {\n",
       "        text-align: right;\n",
       "    }\n",
       "</style>\n",
       "<table border=\"1\" class=\"dataframe\">\n",
       "  <thead>\n",
       "    <tr style=\"text-align: right;\">\n",
       "      <th></th>\n",
       "      <th>Valeur fonciere</th>\n",
       "      <th>Code postal</th>\n",
       "      <th>Type local</th>\n",
       "    </tr>\n",
       "  </thead>\n",
       "  <tbody>\n",
       "    <tr>\n",
       "      <td>843</td>\n",
       "      <td>17000.0</td>\n",
       "      <td>99999</td>\n",
       "      <td>non renseigne</td>\n",
       "    </tr>\n",
       "    <tr>\n",
       "      <td>844</td>\n",
       "      <td>319500.0</td>\n",
       "      <td>99999</td>\n",
       "      <td>non renseigne</td>\n",
       "    </tr>\n",
       "    <tr>\n",
       "      <td>1393</td>\n",
       "      <td>297700.0</td>\n",
       "      <td>99999</td>\n",
       "      <td>Local industriel. commercial ou assimilé</td>\n",
       "    </tr>\n",
       "    <tr>\n",
       "      <td>2208</td>\n",
       "      <td>323000.0</td>\n",
       "      <td>99999</td>\n",
       "      <td>non renseigne</td>\n",
       "    </tr>\n",
       "    <tr>\n",
       "      <td>3132</td>\n",
       "      <td>320000.0</td>\n",
       "      <td>99999</td>\n",
       "      <td>non renseigne</td>\n",
       "    </tr>\n",
       "    <tr>\n",
       "      <td>...</td>\n",
       "      <td>...</td>\n",
       "      <td>...</td>\n",
       "      <td>...</td>\n",
       "    </tr>\n",
       "    <tr>\n",
       "      <td>1015987</td>\n",
       "      <td>0.0</td>\n",
       "      <td>99999</td>\n",
       "      <td>non renseigne</td>\n",
       "    </tr>\n",
       "    <tr>\n",
       "      <td>1015988</td>\n",
       "      <td>0.0</td>\n",
       "      <td>99999</td>\n",
       "      <td>non renseigne</td>\n",
       "    </tr>\n",
       "    <tr>\n",
       "      <td>1015989</td>\n",
       "      <td>0.0</td>\n",
       "      <td>99999</td>\n",
       "      <td>non renseigne</td>\n",
       "    </tr>\n",
       "    <tr>\n",
       "      <td>1015990</td>\n",
       "      <td>0.0</td>\n",
       "      <td>99999</td>\n",
       "      <td>non renseigne</td>\n",
       "    </tr>\n",
       "    <tr>\n",
       "      <td>1015991</td>\n",
       "      <td>0.0</td>\n",
       "      <td>99999</td>\n",
       "      <td>non renseigne</td>\n",
       "    </tr>\n",
       "  </tbody>\n",
       "</table>\n",
       "<p>12156 rows × 3 columns</p>\n",
       "</div>"
      ],
      "text/plain": [
       "         Valeur fonciere Code postal                                Type local\n",
       "843              17000.0       99999                             non renseigne\n",
       "844             319500.0       99999                             non renseigne\n",
       "1393            297700.0       99999  Local industriel. commercial ou assimilé\n",
       "2208            323000.0       99999                             non renseigne\n",
       "3132            320000.0       99999                             non renseigne\n",
       "...                  ...         ...                                       ...\n",
       "1015987              0.0       99999                             non renseigne\n",
       "1015988              0.0       99999                             non renseigne\n",
       "1015989              0.0       99999                             non renseigne\n",
       "1015990              0.0       99999                             non renseigne\n",
       "1015991              0.0       99999                             non renseigne\n",
       "\n",
       "[12156 rows x 3 columns]"
      ]
     },
     "execution_count": 25,
     "metadata": {},
     "output_type": "execute_result"
    }
   ],
   "source": [
    "data1[data1['Code postal']=='99999']"
   ]
  },
  {
   "cell_type": "code",
   "execution_count": 26,
   "metadata": {},
   "outputs": [
    {
     "name": "stdout",
     "output_type": "stream",
     "text": [
      "<class 'pandas.core.frame.DataFrame'>\n",
      "RangeIndex: 1017154 entries, 0 to 1017153\n",
      "Data columns (total 3 columns):\n",
      "Valeur fonciere    1017154 non-null float64\n",
      "Code postal        1017154 non-null object\n",
      "Type local         1017154 non-null category\n",
      "dtypes: category(1), float64(1), object(1)\n",
      "memory usage: 16.5+ MB\n"
     ]
    }
   ],
   "source": [
    "data1.info()"
   ]
  },
  {
   "cell_type": "code",
   "execution_count": 48,
   "metadata": {},
   "outputs": [],
   "source": [
    "import csv\n",
    "data1.to_csv('valeurspropres.csv', quoting= csv. QUOTE_NONNUMERIC )"
   ]
  },
  {
   "cell_type": "code",
   "execution_count": null,
   "metadata": {},
   "outputs": [],
   "source": []
  }
 ],
 "metadata": {
  "kernelspec": {
   "display_name": "Python 3 (ipykernel)",
   "language": "python",
   "name": "python3"
  },
  "language_info": {
   "codemirror_mode": {
    "name": "ipython",
    "version": 3
   },
   "file_extension": ".py",
   "mimetype": "text/x-python",
   "name": "python",
   "nbconvert_exporter": "python",
   "pygments_lexer": "ipython3",
   "version": "3.9.12"
  }
 },
 "nbformat": 4,
 "nbformat_minor": 2
}
