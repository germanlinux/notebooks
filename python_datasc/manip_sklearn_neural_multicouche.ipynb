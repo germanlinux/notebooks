{
 "cells": [
  {
   "cell_type": "markdown",
   "id": "84207c6a",
   "metadata": {},
   "source": [
    "## On souhaite simuler un opérateur logique 'Non-xor' "
   ]
  },
  {
   "cell_type": "markdown",
   "id": "9f9b167f",
   "metadata": {},
   "source": [
    "### Generer des cas d'ecole  1 ou 0"
   ]
  },
  {
   "cell_type": "code",
   "execution_count": 1,
   "id": "e9b95d5c",
   "metadata": {},
   "outputs": [],
   "source": [
    "import numpy as np \n",
    "import random\n",
    "import pandas as pd"
   ]
  },
  {
   "cell_type": "code",
   "execution_count": 2,
   "id": "7ec4b776",
   "metadata": {},
   "outputs": [
    {
     "name": "stdout",
     "output_type": "stream",
     "text": [
      "True\n",
      "False\n",
      "False\n",
      "True\n",
      "---------\n",
      "False\n",
      "True\n",
      "True\n",
      "False\n"
     ]
    }
   ],
   "source": [
    "# Le XOR\n",
    "print(bool(1) != bool(0))\n",
    "print(bool(1) != bool(1))\n",
    "print(bool(0) != bool(0))\n",
    "print(bool(0) != bool(1))\n",
    "print('---------')\n",
    "# Le non XOR\n",
    "print(not(bool(1) != bool(0)))\n",
    "print(not(bool(1) != bool(1)))\n",
    "print(not(bool(0) != bool(0)))\n",
    "print(not(bool(0) != bool(1)))\n",
    "\n"
   ]
  },
  {
   "cell_type": "markdown",
   "id": "6e441296",
   "metadata": {},
   "source": [
    "### Construction des données d apprentissage\n"
   ]
  },
  {
   "cell_type": "markdown",
   "id": "229beba3",
   "metadata": {},
   "source": [
    "#### Cas simples: 0 ou 1"
   ]
  },
  {
   "cell_type": "code",
   "execution_count": 3,
   "id": "cb2867fb",
   "metadata": {},
   "outputs": [],
   "source": [
    "x1 = [random.choice([0.0, 1.0])   for x in range(30)]\n",
    "x2 =  [random.choice([0.0, 1.0])   for x in range(30)]"
   ]
  },
  {
   "cell_type": "code",
   "execution_count": 4,
   "id": "d2847041",
   "metadata": {},
   "outputs": [
    {
     "name": "stdout",
     "output_type": "stream",
     "text": [
      "[1.0, 0.0, 0.0, 0.0, 1.0, 1.0, 1.0, 1.0, 0.0, 0.0, 1.0, 0.0, 1.0, 0.0, 1.0, 0.0, 1.0, 1.0, 0.0, 1.0, 0.0, 1.0, 1.0, 0.0, 1.0, 1.0, 1.0, 0.0, 0.0, 1.0]\n"
     ]
    }
   ],
   "source": [
    "print(x1)"
   ]
  },
  {
   "cell_type": "markdown",
   "id": "f4ce012f",
   "metadata": {},
   "source": [
    "### détermination des etiquettes 0 ou 1"
   ]
  },
  {
   "cell_type": "code",
   "execution_count": 5,
   "id": "ba766ea7",
   "metadata": {},
   "outputs": [],
   "source": [
    "y_cas_general = zip(x1, x2)\n",
    "y_general = [0 if bool(x[0]) != bool(x[1])  else 1  for x in y_cas_general  ]"
   ]
  },
  {
   "cell_type": "markdown",
   "id": "946e2021",
   "metadata": {},
   "source": [
    "### introduction de 'bruit' dans les données"
   ]
  },
  {
   "cell_type": "code",
   "execution_count": 6,
   "id": "d8f6ffd5",
   "metadata": {},
   "outputs": [
    {
     "name": "stdout",
     "output_type": "stream",
     "text": [
      "[0, 1, 2, 3, 4, 5]\n"
     ]
    }
   ],
   "source": [
    "ecart = list(range(6))\n",
    "print(ecart)"
   ]
  },
  {
   "cell_type": "markdown",
   "id": "9490538d",
   "metadata": {},
   "source": [
    "### Création d'un deuxieme jeu de données: les entrants sont pertubés mais le resultats doit rester le même"
   ]
  },
  {
   "cell_type": "code",
   "execution_count": 7,
   "id": "eeb41929",
   "metadata": {},
   "outputs": [],
   "source": [
    "# x3 = [0 + (random.choice(ecart) / 10.0) for x ]\n",
    "y_cas_general = zip(x1, x2)\n",
    "x_fading = []\n",
    "for (nx0,nx1) in y_cas_general :\n",
    "    if nx0 == 0:\n",
    "        nx0 += (random.choice(ecart) / 10.0)\n",
    "    else:\n",
    "        nx0 -= (random.choice(ecart) / 10.0) \n",
    "    if nx1 == 0:\n",
    "        nx1 += (random.choice(ecart) / 10.0)\n",
    "    else:\n",
    "        nx1 -= (random.choice(ecart) / 10.0) \n",
    "    x_fading.append((nx0, nx1))\n",
    "y_fading = y_general\n"
   ]
  },
  {
   "cell_type": "markdown",
   "id": "7151722d",
   "metadata": {},
   "source": [
    "### Création d'un datagramme qu'il faudra 'retourner' c'est à dire le transposer"
   ]
  },
  {
   "cell_type": "code",
   "execution_count": 8,
   "id": "8490f9ae",
   "metadata": {},
   "outputs": [
    {
     "name": "stdout",
     "output_type": "stream",
     "text": [
      "(3, 30)\n",
      "    0    1    2    3    4    5    6    7    8    9   ...   20   21   22   23  \\\n",
      "0  1.0  0.0  0.0  0.0  1.0  1.0  1.0  1.0  0.0  0.0  ...  0.0  1.0  1.0  0.0   \n",
      "1  1.0  1.0  0.0  1.0  1.0  0.0  1.0  0.0  0.0  0.0  ...  1.0  1.0  0.0  0.0   \n",
      "2  1.0  0.0  1.0  0.0  1.0  0.0  1.0  0.0  1.0  1.0  ...  0.0  1.0  0.0  1.0   \n",
      "\n",
      "    24   25   26   27   28   29  \n",
      "0  1.0  1.0  1.0  0.0  0.0  1.0  \n",
      "1  1.0  0.0  0.0  0.0  0.0  0.0  \n",
      "2  1.0  0.0  0.0  1.0  1.0  0.0  \n",
      "\n",
      "[3 rows x 30 columns]\n"
     ]
    }
   ],
   "source": [
    "dt = pd.DataFrame([x1, x2, y_general])\n",
    "print(dt.shape)\n",
    "print(dt.head())"
   ]
  },
  {
   "cell_type": "markdown",
   "id": "8b4b10f4",
   "metadata": {},
   "source": [
    "### Fabrication d'un 2eme dataframe pour les données brouillées"
   ]
  },
  {
   "cell_type": "code",
   "execution_count": 9,
   "id": "adb16840",
   "metadata": {},
   "outputs": [
    {
     "name": "stdout",
     "output_type": "stream",
     "text": [
      "    0    1    2    3    4    5    6    7    8    9   ...   20   21   22   23  \\\n",
      "0  1.0  0.1  0.0  0.4  0.8  0.8  1.0  0.7  0.0  0.0  ...  0.5  0.6  0.7  0.2   \n",
      "1  0.8  0.5  0.4  0.5  0.7  0.4  1.0  0.5  0.5  0.0  ...  0.8  1.0  0.0  0.0   \n",
      "2  1.0  0.0  1.0  0.0  1.0  0.0  1.0  0.0  1.0  1.0  ...  0.0  1.0  0.0  1.0   \n",
      "\n",
      "    24   25   26   27   28   29  \n",
      "0  0.6  0.8  0.8  0.5  0.2  0.5  \n",
      "1  0.6  0.4  0.2  0.3  0.4  0.5  \n",
      "2  1.0  0.0  0.0  1.0  1.0  0.0  \n",
      "\n",
      "[3 rows x 30 columns]\n"
     ]
    }
   ],
   "source": [
    "x0_fadingok = [x0 for x0,_ in x_fading]\n",
    "x1_fadingok = [x1 for _,x1 in x_fading]\n",
    "\n",
    "              \n",
    "dt2 = pd.DataFrame([x0_fadingok, x1_fadingok, y_general])\n",
    "print(dt2.head())"
   ]
  },
  {
   "cell_type": "markdown",
   "id": "15320a8e",
   "metadata": {},
   "source": [
    "### On concatene les deux dataframes"
   ]
  },
  {
   "cell_type": "code",
   "execution_count": 10,
   "id": "32a99fe6",
   "metadata": {},
   "outputs": [],
   "source": [
    "dtotal = pd.concat([dt,dt2], axis = 1)"
   ]
  },
  {
   "cell_type": "code",
   "execution_count": 11,
   "id": "3fef1b8c",
   "metadata": {},
   "outputs": [
    {
     "data": {
      "text/html": [
       "<div>\n",
       "<style scoped>\n",
       "    .dataframe tbody tr th:only-of-type {\n",
       "        vertical-align: middle;\n",
       "    }\n",
       "\n",
       "    .dataframe tbody tr th {\n",
       "        vertical-align: top;\n",
       "    }\n",
       "\n",
       "    .dataframe thead th {\n",
       "        text-align: right;\n",
       "    }\n",
       "</style>\n",
       "<table border=\"1\" class=\"dataframe\">\n",
       "  <thead>\n",
       "    <tr style=\"text-align: right;\">\n",
       "      <th></th>\n",
       "      <th>0</th>\n",
       "      <th>1</th>\n",
       "      <th>2</th>\n",
       "      <th>3</th>\n",
       "      <th>4</th>\n",
       "      <th>5</th>\n",
       "      <th>6</th>\n",
       "      <th>7</th>\n",
       "      <th>8</th>\n",
       "      <th>9</th>\n",
       "      <th>...</th>\n",
       "      <th>20</th>\n",
       "      <th>21</th>\n",
       "      <th>22</th>\n",
       "      <th>23</th>\n",
       "      <th>24</th>\n",
       "      <th>25</th>\n",
       "      <th>26</th>\n",
       "      <th>27</th>\n",
       "      <th>28</th>\n",
       "      <th>29</th>\n",
       "    </tr>\n",
       "  </thead>\n",
       "  <tbody>\n",
       "    <tr>\n",
       "      <th>0</th>\n",
       "      <td>1.0</td>\n",
       "      <td>0.0</td>\n",
       "      <td>0.0</td>\n",
       "      <td>0.0</td>\n",
       "      <td>1.0</td>\n",
       "      <td>1.0</td>\n",
       "      <td>1.0</td>\n",
       "      <td>1.0</td>\n",
       "      <td>0.0</td>\n",
       "      <td>0.0</td>\n",
       "      <td>...</td>\n",
       "      <td>0.5</td>\n",
       "      <td>0.6</td>\n",
       "      <td>0.7</td>\n",
       "      <td>0.2</td>\n",
       "      <td>0.6</td>\n",
       "      <td>0.8</td>\n",
       "      <td>0.8</td>\n",
       "      <td>0.5</td>\n",
       "      <td>0.2</td>\n",
       "      <td>0.5</td>\n",
       "    </tr>\n",
       "    <tr>\n",
       "      <th>1</th>\n",
       "      <td>1.0</td>\n",
       "      <td>1.0</td>\n",
       "      <td>0.0</td>\n",
       "      <td>1.0</td>\n",
       "      <td>1.0</td>\n",
       "      <td>0.0</td>\n",
       "      <td>1.0</td>\n",
       "      <td>0.0</td>\n",
       "      <td>0.0</td>\n",
       "      <td>0.0</td>\n",
       "      <td>...</td>\n",
       "      <td>0.8</td>\n",
       "      <td>1.0</td>\n",
       "      <td>0.0</td>\n",
       "      <td>0.0</td>\n",
       "      <td>0.6</td>\n",
       "      <td>0.4</td>\n",
       "      <td>0.2</td>\n",
       "      <td>0.3</td>\n",
       "      <td>0.4</td>\n",
       "      <td>0.5</td>\n",
       "    </tr>\n",
       "    <tr>\n",
       "      <th>2</th>\n",
       "      <td>1.0</td>\n",
       "      <td>0.0</td>\n",
       "      <td>1.0</td>\n",
       "      <td>0.0</td>\n",
       "      <td>1.0</td>\n",
       "      <td>0.0</td>\n",
       "      <td>1.0</td>\n",
       "      <td>0.0</td>\n",
       "      <td>1.0</td>\n",
       "      <td>1.0</td>\n",
       "      <td>...</td>\n",
       "      <td>0.0</td>\n",
       "      <td>1.0</td>\n",
       "      <td>0.0</td>\n",
       "      <td>1.0</td>\n",
       "      <td>1.0</td>\n",
       "      <td>0.0</td>\n",
       "      <td>0.0</td>\n",
       "      <td>1.0</td>\n",
       "      <td>1.0</td>\n",
       "      <td>0.0</td>\n",
       "    </tr>\n",
       "  </tbody>\n",
       "</table>\n",
       "<p>3 rows × 60 columns</p>\n",
       "</div>"
      ],
      "text/plain": [
       "    0    1    2    3    4    5    6    7    8    9   ...   20   21   22   23  \\\n",
       "0  1.0  0.0  0.0  0.0  1.0  1.0  1.0  1.0  0.0  0.0  ...  0.5  0.6  0.7  0.2   \n",
       "1  1.0  1.0  0.0  1.0  1.0  0.0  1.0  0.0  0.0  0.0  ...  0.8  1.0  0.0  0.0   \n",
       "2  1.0  0.0  1.0  0.0  1.0  0.0  1.0  0.0  1.0  1.0  ...  0.0  1.0  0.0  1.0   \n",
       "\n",
       "    24   25   26   27   28   29  \n",
       "0  0.6  0.8  0.8  0.5  0.2  0.5  \n",
       "1  0.6  0.4  0.2  0.3  0.4  0.5  \n",
       "2  1.0  0.0  0.0  1.0  1.0  0.0  \n",
       "\n",
       "[3 rows x 60 columns]"
      ]
     },
     "execution_count": 11,
     "metadata": {},
     "output_type": "execute_result"
    }
   ],
   "source": [
    "dtotal.head()"
   ]
  },
  {
   "cell_type": "code",
   "execution_count": 12,
   "id": "56622119",
   "metadata": {},
   "outputs": [],
   "source": [
    "import matplotlib.pyplot as plt"
   ]
  },
  {
   "cell_type": "markdown",
   "id": "d1be7827",
   "metadata": {},
   "source": [
    "### On permutte les colonnes et les iignes: transposition"
   ]
  },
  {
   "cell_type": "code",
   "execution_count": 13,
   "id": "dafabffd",
   "metadata": {},
   "outputs": [
    {
     "name": "stdout",
     "output_type": "stream",
     "text": [
      "     0    1    2\n",
      "0  1.0  1.0  1.0\n",
      "1  0.0  1.0  0.0\n",
      "2  0.0  0.0  1.0\n",
      "3  0.0  1.0  0.0\n",
      "4  1.0  1.0  1.0\n"
     ]
    }
   ],
   "source": [
    "dtotal= dtotal.transpose()\n",
    "print(dtotal.head())"
   ]
  },
  {
   "cell_type": "markdown",
   "id": "8e84dcfe",
   "metadata": {},
   "source": [
    "### Création d'un filtre nommé"
   ]
  },
  {
   "cell_type": "code",
   "execution_count": 14,
   "id": "0c575350",
   "metadata": {},
   "outputs": [],
   "source": [
    "vrai = dtotal[2] == 1"
   ]
  },
  {
   "cell_type": "markdown",
   "id": "6588a832",
   "metadata": {},
   "source": [
    "### Decompte des 'faux' et 'vrais'"
   ]
  },
  {
   "cell_type": "code",
   "execution_count": 15,
   "id": "d17e876f",
   "metadata": {},
   "outputs": [
    {
     "data": {
      "text/plain": [
       "True     34\n",
       "False    26\n",
       "Name: 2, dtype: int64"
      ]
     },
     "execution_count": 15,
     "metadata": {},
     "output_type": "execute_result"
    }
   ],
   "source": [
    "vrai.value_counts()"
   ]
  },
  {
   "cell_type": "markdown",
   "id": "288fe66b",
   "metadata": {},
   "source": [
    "### Visualisation des données"
   ]
  },
  {
   "cell_type": "code",
   "execution_count": 16,
   "id": "aebcc43c",
   "metadata": {},
   "outputs": [
    {
     "data": {
      "text/plain": [
       "<matplotlib.legend.Legend at 0x2cf1ef091c0>"
      ]
     },
     "execution_count": 16,
     "metadata": {},
     "output_type": "execute_result"
    },
    {
     "data": {
      "image/png": "[encoded data removed]",
      "text/plain": [
       "<Figure size 432x288 with 1 Axes>"
      ]
     },
     "metadata": {
      "needs_background": "light"
     },
     "output_type": "display_data"
    }
   ],
   "source": [
    "plt.scatter(dtotal[0][vrai],dtotal[1][vrai], marker='+' )\n",
    "plt.scatter(dtotal[0][~vrai],dtotal[1][~vrai], marker='o' , color ='r' )\n",
    "plt.xlabel('x1')\n",
    "plt.ylabel('x2')\n",
    "plt.legend(['vrai', 'faux'], loc = 'lower right')\n"
   ]
  },
  {
   "cell_type": "markdown",
   "id": "e7fb84ad",
   "metadata": {},
   "source": [
    "### Utisation d'un perceptron"
   ]
  },
  {
   "cell_type": "code",
   "execution_count": 17,
   "id": "7fa52352",
   "metadata": {},
   "outputs": [],
   "source": [
    "from sklearn.neural_network import MLPClassifier"
   ]
  },
  {
   "cell_type": "markdown",
   "id": "368e82bb",
   "metadata": {},
   "source": [
    "### Export du dataframe vers des objets numpy"
   ]
  },
  {
   "cell_type": "code",
   "execution_count": 18,
   "id": "894789bd",
   "metadata": {},
   "outputs": [
    {
     "name": "stdout",
     "output_type": "stream",
     "text": [
      "60\n"
     ]
    }
   ],
   "source": [
    "X_ = dtotal[[0,1]].to_numpy()\n",
    "y = dtotal[2].to_numpy()\n",
    "print(len(y))"
   ]
  },
  {
   "cell_type": "markdown",
   "id": "00e868b3",
   "metadata": {},
   "source": [
    "### Entrainement du modèle"
   ]
  },
  {
   "cell_type": "code",
   "execution_count": 57,
   "id": "1821ee52",
   "metadata": {},
   "outputs": [
    {
     "data": {
      "text/plain": [
       "MLPClassifier(hidden_layer_sizes=(10,), max_iter=3000, random_state=0)"
      ]
     },
     "execution_count": 57,
     "metadata": {},
     "output_type": "execute_result"
    }
   ],
   "source": [
    "clf = MLPClassifier(max_iter=3000, random_state=0, hidden_layer_sizes=(10, ) , activation = 'relu')\n",
    "clf.fit(X_, y )"
   ]
  },
  {
   "cell_type": "markdown",
   "id": "138777f1",
   "metadata": {},
   "source": [
    "### Affiche les poids calculés"
   ]
  },
  {
   "cell_type": "code",
   "execution_count": 60,
   "id": "31177840",
   "metadata": {},
   "outputs": [
    {
     "name": "stdout",
     "output_type": "stream",
     "text": [
      "[array([[ 3.00331805e-01,  1.43136628e-01,  1.68661817e+00,\n",
      "        -2.97703190e-01,  2.57323728e-39,  1.43270037e+00,\n",
      "         4.07202025e-42,  1.35766912e-01,  4.00471852e-01,\n",
      "         1.51839913e+00],\n",
      "       [ 1.60489186e+00, -7.70188572e-01, -1.68656527e+00,\n",
      "        -6.81371736e-01, -1.88594625e-04, -1.43285495e+00,\n",
      "        -7.63937471e-04,  1.99103901e+00,  6.66577370e-02,\n",
      "         1.51822024e+00]]), array([[-1.34058926e+00],\n",
      "       [ 7.50247390e-01],\n",
      "       [-2.10539024e+00],\n",
      "       [ 7.43769434e-01],\n",
      "       [-1.28205831e-03],\n",
      "       [-1.80913947e+00],\n",
      "       [ 8.75011540e-31],\n",
      "       [-5.54471384e-01],\n",
      "       [ 3.43813188e-01],\n",
      "       [ 2.85495761e+00]])]\n"
     ]
    }
   ],
   "source": [
    "print(clf.coefs_)"
   ]
  },
  {
   "cell_type": "markdown",
   "id": "193fcc70",
   "metadata": {},
   "source": [
    "### Construction des cas de test"
   ]
  },
  {
   "cell_type": "code",
   "execution_count": 26,
   "id": "e5e60ee1",
   "metadata": {},
   "outputs": [],
   "source": [
    "tests  = np.array([[0,0], [1,0], [0,1] , [1, 1]])\n",
    "y_theorique = np.array([1, 0, 0, 1])"
   ]
  },
  {
   "cell_type": "markdown",
   "id": "2d822c65",
   "metadata": {},
   "source": [
    "### Score de notre modèle"
   ]
  },
  {
   "cell_type": "code",
   "execution_count": 58,
   "id": "d8a7674a",
   "metadata": {},
   "outputs": [
    {
     "data": {
      "text/plain": [
       "1.0"
      ]
     },
     "execution_count": 58,
     "metadata": {},
     "output_type": "execute_result"
    }
   ],
   "source": [
    "clf.score(tests, y_theorique)"
   ]
  },
  {
   "cell_type": "markdown",
   "id": "5ecb6fdd",
   "metadata": {},
   "source": [
    "### Prévisions"
   ]
  },
  {
   "cell_type": "code",
   "execution_count": 59,
   "id": "e26597c1",
   "metadata": {},
   "outputs": [
    {
     "data": {
      "text/plain": [
       "array([1., 0., 0., 1.])"
      ]
     },
     "execution_count": 59,
     "metadata": {},
     "output_type": "execute_result"
    }
   ],
   "source": [
    "clf.predict(tests)"
   ]
  },
  {
   "cell_type": "code",
   "execution_count": 63,
   "id": "5d0ab8d3",
   "metadata": {},
   "outputs": [
    {
     "data": {
      "text/plain": [
       "{'activation': 'relu',\n",
       " 'alpha': 0.0001,\n",
       " 'batch_size': 'auto',\n",
       " 'beta_1': 0.9,\n",
       " 'beta_2': 0.999,\n",
       " 'early_stopping': False,\n",
       " 'epsilon': 1e-08,\n",
       " 'hidden_layer_sizes': (10,),\n",
       " 'learning_rate': 'constant',\n",
       " 'learning_rate_init': 0.001,\n",
       " 'max_fun': 15000,\n",
       " 'max_iter': 3000,\n",
       " 'momentum': 0.9,\n",
       " 'n_iter_no_change': 10,\n",
       " 'nesterovs_momentum': True,\n",
       " 'power_t': 0.5,\n",
       " 'random_state': 0,\n",
       " 'shuffle': True,\n",
       " 'solver': 'adam',\n",
       " 'tol': 0.0001,\n",
       " 'validation_fraction': 0.1,\n",
       " 'verbose': False,\n",
       " 'warm_start': False}"
      ]
     },
     "execution_count": 63,
     "metadata": {},
     "output_type": "execute_result"
    }
   ],
   "source": [
    "clf.get_params()"
   ]
  },
  {
   "cell_type": "markdown",
   "id": "831c11d1",
   "metadata": {},
   "source": [
    "### Choisir la bonne configuration: "
   ]
  },
  {
   "cell_type": "code",
   "execution_count": 66,
   "id": "83cad234",
   "metadata": {},
   "outputs": [],
   "source": [
    "from sklearn.model_selection import GridSearchCV"
   ]
  },
  {
   "cell_type": "markdown",
   "id": "6be29947",
   "metadata": {},
   "source": [
    "### tester les differentes fonctions d activation de manière systématique"
   ]
  },
  {
   "cell_type": "code",
   "execution_count": 69,
   "id": "4b857557",
   "metadata": {},
   "outputs": [],
   "source": [
    "param_atester = { 'activation' : ('logistic', 'relu', 'identity', 'tanh')}"
   ]
  },
  {
   "cell_type": "code",
   "execution_count": 67,
   "id": "4efc658d",
   "metadata": {},
   "outputs": [],
   "source": [
    "clf = MLPClassifier(max_iter=3000, random_state=0, hidden_layer_sizes=(10, ))"
   ]
  },
  {
   "cell_type": "code",
   "execution_count": 70,
   "id": "4c0512b4",
   "metadata": {},
   "outputs": [
    {
     "data": {
      "text/plain": [
       "GridSearchCV(cv=4,\n",
       "             estimator=MLPClassifier(hidden_layer_sizes=(10,), max_iter=3000,\n",
       "                                     random_state=0),\n",
       "             param_grid={'activation': ('logistic', 'relu', 'identity',\n",
       "                                        'tanh')})"
      ]
     },
     "execution_count": 70,
     "metadata": {},
     "output_type": "execute_result"
    }
   ],
   "source": [
    "gs  =GridSearchCV(clf, param_atester, cv = 4)\n",
    "gs.fit(X_,y)"
   ]
  },
  {
   "cell_type": "code",
   "execution_count": 71,
   "id": "08667171",
   "metadata": {},
   "outputs": [
    {
     "data": {
      "text/plain": [
       "{'activation': 'relu'}"
      ]
     },
     "execution_count": 71,
     "metadata": {},
     "output_type": "execute_result"
    }
   ],
   "source": [
    "gs.best_params_"
   ]
  },
  {
   "cell_type": "code",
   "execution_count": 76,
   "id": "369b239c",
   "metadata": {},
   "outputs": [],
   "source": [
    "param_atester = { 'hidden_layer_sizes': [(5,), (7,) , (10,)]}\n",
    "clf = MLPClassifier(max_iter=3000, random_state=0, activation = 'relu')"
   ]
  },
  {
   "cell_type": "code",
   "execution_count": 77,
   "id": "a38260fb",
   "metadata": {},
   "outputs": [
    {
     "data": {
      "text/plain": [
       "GridSearchCV(cv=4, estimator=MLPClassifier(max_iter=3000, random_state=0),\n",
       "             param_grid={'hidden_layer_sizes': [(5,), (7,), (10,)]})"
      ]
     },
     "execution_count": 77,
     "metadata": {},
     "output_type": "execute_result"
    }
   ],
   "source": [
    "gs  =GridSearchCV(clf, param_atester, cv = 4)\n",
    "gs.fit(X_,y)"
   ]
  },
  {
   "cell_type": "code",
   "execution_count": 78,
   "id": "ac86435a",
   "metadata": {},
   "outputs": [
    {
     "data": {
      "text/plain": [
       "{'hidden_layer_sizes': (7,)}"
      ]
     },
     "execution_count": 78,
     "metadata": {},
     "output_type": "execute_result"
    }
   ],
   "source": [
    "gs.best_params_"
   ]
  },
  {
   "cell_type": "code",
   "execution_count": 80,
   "id": "e11488d3",
   "metadata": {},
   "outputs": [],
   "source": [
    "###  On peut combiner plusieurs parametres dans la recherche.\n",
    "param_atester = { 'hidden_layer_sizes': [(5,), (7,) , (10,)], 'max_iter':(1000, 2000, 3000)}\n",
    "clf = MLPClassifier( random_state=0, activation = 'relu')"
   ]
  },
  {
   "cell_type": "code",
   "execution_count": 81,
   "id": "ba95419e",
   "metadata": {},
   "outputs": [
    {
     "name": "stderr",
     "output_type": "stream",
     "text": [
      "C:\\Users\\33681\\anaconda3\\lib\\site-packages\\sklearn\\neural_network\\_multilayer_perceptron.py:692: ConvergenceWarning: Stochastic Optimizer: Maximum iterations (1000) reached and the optimization hasn't converged yet.\n",
      "  warnings.warn(\n",
      "C:\\Users\\33681\\anaconda3\\lib\\site-packages\\sklearn\\neural_network\\_multilayer_perceptron.py:692: ConvergenceWarning: Stochastic Optimizer: Maximum iterations (1000) reached and the optimization hasn't converged yet.\n",
      "  warnings.warn(\n",
      "C:\\Users\\33681\\anaconda3\\lib\\site-packages\\sklearn\\neural_network\\_multilayer_perceptron.py:692: ConvergenceWarning: Stochastic Optimizer: Maximum iterations (2000) reached and the optimization hasn't converged yet.\n",
      "  warnings.warn(\n",
      "C:\\Users\\33681\\anaconda3\\lib\\site-packages\\sklearn\\neural_network\\_multilayer_perceptron.py:692: ConvergenceWarning: Stochastic Optimizer: Maximum iterations (2000) reached and the optimization hasn't converged yet.\n",
      "  warnings.warn(\n",
      "C:\\Users\\33681\\anaconda3\\lib\\site-packages\\sklearn\\neural_network\\_multilayer_perceptron.py:692: ConvergenceWarning: Stochastic Optimizer: Maximum iterations (1000) reached and the optimization hasn't converged yet.\n",
      "  warnings.warn(\n",
      "C:\\Users\\33681\\anaconda3\\lib\\site-packages\\sklearn\\neural_network\\_multilayer_perceptron.py:692: ConvergenceWarning: Stochastic Optimizer: Maximum iterations (1000) reached and the optimization hasn't converged yet.\n",
      "  warnings.warn(\n",
      "C:\\Users\\33681\\anaconda3\\lib\\site-packages\\sklearn\\neural_network\\_multilayer_perceptron.py:692: ConvergenceWarning: Stochastic Optimizer: Maximum iterations (1000) reached and the optimization hasn't converged yet.\n",
      "  warnings.warn(\n",
      "C:\\Users\\33681\\anaconda3\\lib\\site-packages\\sklearn\\neural_network\\_multilayer_perceptron.py:692: ConvergenceWarning: Stochastic Optimizer: Maximum iterations (1000) reached and the optimization hasn't converged yet.\n",
      "  warnings.warn(\n",
      "C:\\Users\\33681\\anaconda3\\lib\\site-packages\\sklearn\\neural_network\\_multilayer_perceptron.py:692: ConvergenceWarning: Stochastic Optimizer: Maximum iterations (1000) reached and the optimization hasn't converged yet.\n",
      "  warnings.warn(\n",
      "C:\\Users\\33681\\anaconda3\\lib\\site-packages\\sklearn\\neural_network\\_multilayer_perceptron.py:692: ConvergenceWarning: Stochastic Optimizer: Maximum iterations (1000) reached and the optimization hasn't converged yet.\n",
      "  warnings.warn(\n",
      "C:\\Users\\33681\\anaconda3\\lib\\site-packages\\sklearn\\neural_network\\_multilayer_perceptron.py:692: ConvergenceWarning: Stochastic Optimizer: Maximum iterations (1000) reached and the optimization hasn't converged yet.\n",
      "  warnings.warn(\n",
      "C:\\Users\\33681\\anaconda3\\lib\\site-packages\\sklearn\\neural_network\\_multilayer_perceptron.py:692: ConvergenceWarning: Stochastic Optimizer: Maximum iterations (1000) reached and the optimization hasn't converged yet.\n",
      "  warnings.warn(\n",
      "C:\\Users\\33681\\anaconda3\\lib\\site-packages\\sklearn\\neural_network\\_multilayer_perceptron.py:692: ConvergenceWarning: Stochastic Optimizer: Maximum iterations (2000) reached and the optimization hasn't converged yet.\n",
      "  warnings.warn(\n",
      "C:\\Users\\33681\\anaconda3\\lib\\site-packages\\sklearn\\neural_network\\_multilayer_perceptron.py:692: ConvergenceWarning: Stochastic Optimizer: Maximum iterations (2000) reached and the optimization hasn't converged yet.\n",
      "  warnings.warn(\n"
     ]
    },
    {
     "data": {
      "text/plain": [
       "GridSearchCV(cv=4, estimator=MLPClassifier(random_state=0),\n",
       "             param_grid={'hidden_layer_sizes': [(5,), (7,), (10,)],\n",
       "                         'max_iter': (1000, 2000, 3000)})"
      ]
     },
     "execution_count": 81,
     "metadata": {},
     "output_type": "execute_result"
    }
   ],
   "source": [
    "gs  =GridSearchCV(clf, param_atester, cv = 4)\n",
    "gs.fit(X_,y)"
   ]
  },
  {
   "cell_type": "code",
   "execution_count": 82,
   "id": "f2de13e6",
   "metadata": {},
   "outputs": [
    {
     "data": {
      "text/plain": [
       "{'hidden_layer_sizes': (7,), 'max_iter': 2000}"
      ]
     },
     "execution_count": 82,
     "metadata": {},
     "output_type": "execute_result"
    }
   ],
   "source": [
    "gs.best_params_"
   ]
  },
  {
   "cell_type": "markdown",
   "id": "09b62ed3",
   "metadata": {},
   "source": [
    "### Remarques : dans le cas d'un apprentissage avec ds données en nombre important et un modèle complexe\n",
    "### L'utilisation de : RandomizedSearchCV permet généralement de gagner du temps"
   ]
  },
  {
   "cell_type": "code",
   "execution_count": 83,
   "id": "8fa40842",
   "metadata": {},
   "outputs": [],
   "source": [
    "from sklearn.model_selection import RandomizedSearchCV"
   ]
  },
  {
   "cell_type": "code",
   "execution_count": 84,
   "id": "27dbde42",
   "metadata": {},
   "outputs": [
    {
     "name": "stderr",
     "output_type": "stream",
     "text": [
      "C:\\Users\\33681\\anaconda3\\lib\\site-packages\\sklearn\\model_selection\\_search.py:292: UserWarning: The total space of parameters 9 is smaller than n_iter=10. Running 9 iterations. For exhaustive searches, use GridSearchCV.\n",
      "  warnings.warn(\n",
      "C:\\Users\\33681\\anaconda3\\lib\\site-packages\\sklearn\\neural_network\\_multilayer_perceptron.py:692: ConvergenceWarning: Stochastic Optimizer: Maximum iterations (1000) reached and the optimization hasn't converged yet.\n",
      "  warnings.warn(\n",
      "C:\\Users\\33681\\anaconda3\\lib\\site-packages\\sklearn\\neural_network\\_multilayer_perceptron.py:692: ConvergenceWarning: Stochastic Optimizer: Maximum iterations (1000) reached and the optimization hasn't converged yet.\n",
      "  warnings.warn(\n",
      "C:\\Users\\33681\\anaconda3\\lib\\site-packages\\sklearn\\neural_network\\_multilayer_perceptron.py:692: ConvergenceWarning: Stochastic Optimizer: Maximum iterations (2000) reached and the optimization hasn't converged yet.\n",
      "  warnings.warn(\n",
      "C:\\Users\\33681\\anaconda3\\lib\\site-packages\\sklearn\\neural_network\\_multilayer_perceptron.py:692: ConvergenceWarning: Stochastic Optimizer: Maximum iterations (2000) reached and the optimization hasn't converged yet.\n",
      "  warnings.warn(\n",
      "C:\\Users\\33681\\anaconda3\\lib\\site-packages\\sklearn\\neural_network\\_multilayer_perceptron.py:692: ConvergenceWarning: Stochastic Optimizer: Maximum iterations (1000) reached and the optimization hasn't converged yet.\n",
      "  warnings.warn(\n",
      "C:\\Users\\33681\\anaconda3\\lib\\site-packages\\sklearn\\neural_network\\_multilayer_perceptron.py:692: ConvergenceWarning: Stochastic Optimizer: Maximum iterations (1000) reached and the optimization hasn't converged yet.\n",
      "  warnings.warn(\n",
      "C:\\Users\\33681\\anaconda3\\lib\\site-packages\\sklearn\\neural_network\\_multilayer_perceptron.py:692: ConvergenceWarning: Stochastic Optimizer: Maximum iterations (1000) reached and the optimization hasn't converged yet.\n",
      "  warnings.warn(\n",
      "C:\\Users\\33681\\anaconda3\\lib\\site-packages\\sklearn\\neural_network\\_multilayer_perceptron.py:692: ConvergenceWarning: Stochastic Optimizer: Maximum iterations (1000) reached and the optimization hasn't converged yet.\n",
      "  warnings.warn(\n",
      "C:\\Users\\33681\\anaconda3\\lib\\site-packages\\sklearn\\neural_network\\_multilayer_perceptron.py:692: ConvergenceWarning: Stochastic Optimizer: Maximum iterations (1000) reached and the optimization hasn't converged yet.\n",
      "  warnings.warn(\n",
      "C:\\Users\\33681\\anaconda3\\lib\\site-packages\\sklearn\\neural_network\\_multilayer_perceptron.py:692: ConvergenceWarning: Stochastic Optimizer: Maximum iterations (1000) reached and the optimization hasn't converged yet.\n",
      "  warnings.warn(\n",
      "C:\\Users\\33681\\anaconda3\\lib\\site-packages\\sklearn\\neural_network\\_multilayer_perceptron.py:692: ConvergenceWarning: Stochastic Optimizer: Maximum iterations (1000) reached and the optimization hasn't converged yet.\n",
      "  warnings.warn(\n",
      "C:\\Users\\33681\\anaconda3\\lib\\site-packages\\sklearn\\neural_network\\_multilayer_perceptron.py:692: ConvergenceWarning: Stochastic Optimizer: Maximum iterations (1000) reached and the optimization hasn't converged yet.\n",
      "  warnings.warn(\n",
      "C:\\Users\\33681\\anaconda3\\lib\\site-packages\\sklearn\\neural_network\\_multilayer_perceptron.py:692: ConvergenceWarning: Stochastic Optimizer: Maximum iterations (2000) reached and the optimization hasn't converged yet.\n",
      "  warnings.warn(\n",
      "C:\\Users\\33681\\anaconda3\\lib\\site-packages\\sklearn\\neural_network\\_multilayer_perceptron.py:692: ConvergenceWarning: Stochastic Optimizer: Maximum iterations (2000) reached and the optimization hasn't converged yet.\n",
      "  warnings.warn(\n"
     ]
    },
    {
     "data": {
      "text/plain": [
       "RandomizedSearchCV(cv=4, estimator=MLPClassifier(random_state=0),\n",
       "                   param_distributions={'hidden_layer_sizes': [(5,), (7,),\n",
       "                                                               (10,)],\n",
       "                                        'max_iter': (1000, 2000, 3000)})"
      ]
     },
     "execution_count": 84,
     "metadata": {},
     "output_type": "execute_result"
    }
   ],
   "source": [
    "rds  =RandomizedSearchCV(clf, param_atester, cv = 4)\n",
    "rds.fit(X_,y)"
   ]
  },
  {
   "cell_type": "code",
   "execution_count": 85,
   "id": "d8adfd48",
   "metadata": {},
   "outputs": [
    {
     "data": {
      "text/plain": [
       "{'max_iter': 2000, 'hidden_layer_sizes': (7,)}"
      ]
     },
     "execution_count": 85,
     "metadata": {},
     "output_type": "execute_result"
    }
   ],
   "source": [
    "rds.best_params_"
   ]
  },
  {
   "cell_type": "code",
   "execution_count": null,
   "id": "5a3c991c",
   "metadata": {},
   "outputs": [],
   "source": []
  }
 ],
 "metadata": {
  "kernelspec": {
   "display_name": "Python 3 (ipykernel)",
   "language": "python",
   "name": "python3"
  },
  "language_info": {
   "codemirror_mode": {
    "name": "ipython",
    "version": 3
   },
   "file_extension": ".py",
   "mimetype": "text/x-python",
   "name": "python",
   "nbconvert_exporter": "python",
   "pygments_lexer": "ipython3",
   "version": "3.9.12"
  }
 },
 "nbformat": 4,
 "nbformat_minor": 5
}
