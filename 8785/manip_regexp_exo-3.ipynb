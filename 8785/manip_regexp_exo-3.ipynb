{
 "cells": [
  {
   "cell_type": "code",
   "execution_count": 2,
   "metadata": {},
   "outputs": [],
   "source": [
    "sstitre = \"2'5\\\":Mon toit est à toi, Toinon\""
   ]
  },
  {
   "cell_type": "code",
   "execution_count": 2,
   "metadata": {},
   "outputs": [
    {
     "data": {
      "text/plain": [
       "'2\\'5\":Mon toit est à toi, Toinon'"
      ]
     },
     "execution_count": 2,
     "metadata": {},
     "output_type": "execute_result"
    }
   ],
   "source": [
    "sstitre"
   ]
  },
  {
   "cell_type": "code",
   "execution_count": 4,
   "metadata": {},
   "outputs": [
    {
     "name": "stdout",
     "output_type": "stream",
     "text": [
      "sans modificateur 2\n",
      "avec modificateur 3\n"
     ]
    }
   ],
   "source": [
    "import re\n",
    "recherche = re.findall(r\"toi\", sstitre)\n",
    "print('sans modificateur', len(recherche))\n",
    "recherche = re.findall(r\"toi\", sstitre, re.I)\n",
    "print('avec modificateur', len(recherche))"
   ]
  },
  {
   "cell_type": "code",
   "execution_count": 5,
   "metadata": {},
   "outputs": [
    {
     "name": "stdout",
     "output_type": "stream",
     "text": [
      "2\n"
     ]
    }
   ],
   "source": [
    "print(sstitre.count('toi'))\n"
   ]
  },
  {
   "cell_type": "code",
   "execution_count": 6,
   "metadata": {},
   "outputs": [
    {
     "name": "stdout",
     "output_type": "stream",
     "text": [
      "3\n"
     ]
    }
   ],
   "source": [
    "print(sstitre.lower().count('toi'))"
   ]
  },
  {
   "cell_type": "code",
   "execution_count": 42,
   "metadata": {},
   "outputs": [
    {
     "name": "stdout",
     "output_type": "stream",
     "text": [
      "1\n"
     ]
    }
   ],
   "source": [
    "recherche = re.findall(\"Toi\", sstitre)\n",
    "print(len(recherche))"
   ]
  },
  {
   "cell_type": "code",
   "execution_count": 74,
   "metadata": {},
   "outputs": [
    {
     "name": "stdout",
     "output_type": "stream",
     "text": [
      "2\n"
     ]
    }
   ],
   "source": [
    "recherche = re.findall(r\"n\\W|$\", sstitre)\n",
    "print(len(recherche))"
   ]
  },
  {
   "cell_type": "code",
   "execution_count": 75,
   "metadata": {},
   "outputs": [
    {
     "name": "stdout",
     "output_type": "stream",
     "text": [
      "2\n"
     ]
    }
   ],
   "source": [
    "recherche = re.findall(r\"n\\b\", sstitre)\n",
    "print(len(recherche))"
   ]
  },
  {
   "cell_type": "code",
   "execution_count": 69,
   "metadata": {},
   "outputs": [
    {
     "name": "stdout",
     "output_type": "stream",
     "text": [
      "['2\\'5\":Mon', 'toit', 'est', 'à', 'toi,', 'Toinon']\n",
      "2\n"
     ]
    }
   ],
   "source": [
    "tableau = sstitre.split(' ')\n",
    "cp = 0\n",
    "print(tableau)\n",
    "for item in tableau:\n",
    "    if item[-1] == 'n':\n",
    "        cp += 1\n",
    "print(cp) \n"
   ]
  },
  {
   "cell_type": "code",
   "execution_count": 70,
   "metadata": {},
   "outputs": [
    {
     "name": "stdout",
     "output_type": "stream",
     "text": [
      "2\n",
      "5\n"
     ]
    }
   ],
   "source": [
    "recherche = re.match(r\"(\\d+)\\'(\\d+)\", sstitre)\n",
    "print(recherche[1])\n",
    "print(recherche[2])\n"
   ]
  },
  {
   "cell_type": "code",
   "execution_count": 71,
   "metadata": {
    "scrolled": true
   },
   "outputs": [
    {
     "name": "stdout",
     "output_type": "stream",
     "text": [
      "(9, 12)\n",
      "(20, 23)\n",
      "(25, 28)\n"
     ]
    }
   ],
   "source": [
    "for m in re.finditer(\"toi\", sstitre, re.I):\n",
    "    print(m.span())\n",
    "    \n",
    "\n"
   ]
  },
  {
   "cell_type": "code",
   "execution_count": 73,
   "metadata": {},
   "outputs": [
    {
     "name": "stdout",
     "output_type": "stream",
     "text": [
      "[(9, 12), (20, 23), (25, 28)]\n"
     ]
    }
   ],
   "source": [
    "liste = [x.span() for x in re.finditer(r\"toi\", sstitre, re.I)]\n",
    "\n",
    "print(liste)"
   ]
  },
  {
   "cell_type": "code",
   "execution_count": 39,
   "metadata": {},
   "outputs": [
    {
     "name": "stdout",
     "output_type": "stream",
     "text": [
      "[('toi', (9, 12)), ('toi', (20, 23)), ('Toi', (25, 28))]\n"
     ]
    }
   ],
   "source": [
    "liste = [(x[0], x.span()) for x in re.finditer(\"toi\", sstitre, re.I)]\n",
    "\n",
    "print(liste)"
   ]
  },
  {
   "cell_type": "code",
   "execution_count": 61,
   "metadata": {},
   "outputs": [
    {
     "name": "stdout",
     "output_type": "stream",
     "text": [
      "[('toit', (9, 13)), ('toi', (20, 23)), ('Toinon', (25, 31))]\n"
     ]
    }
   ],
   "source": [
    "liste = [(x[0], x.span()) for x in re.finditer(r\"toi\\w*\", sstitre, re.I)]\n",
    "\n",
    "print(liste)"
   ]
  },
  {
   "cell_type": "code",
   "execution_count": null,
   "metadata": {},
   "outputs": [],
   "source": []
  }
 ],
 "metadata": {
  "kernelspec": {
   "display_name": "Python 3",
   "language": "python",
   "name": "python3"
  },
  "language_info": {
   "codemirror_mode": {
    "name": "ipython",
    "version": 3
   },
   "file_extension": ".py",
   "mimetype": "text/x-python",
   "name": "python",
   "nbconvert_exporter": "python",
   "pygments_lexer": "ipython3",
   "version": "3.7.4"
  }
 },
 "nbformat": 4,
 "nbformat_minor": 2
}
