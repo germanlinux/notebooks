{
 "cells": [
  {
   "cell_type": "code",
   "execution_count": 1,
   "metadata": {},
   "outputs": [
    {
     "name": "stdout",
     "output_type": "stream",
     "text": [
      "Longueur de liste_b : 5\n",
      "['6', '6', '6', '6', '6']\n",
      "[16, 4, 36, 9, 16, 36, 36, 36, 9, 36]\n"
     ]
    }
   ],
   "source": [
    "#Solution exercices : comprehensions de listes\n",
    "liste_a = [1,4,2,6,7,1,9,0,3,4,6,6,6,8,3,6]\n",
    "# 1 - Réaliser le même script en 3 lignes seulement afin d’afficher le même résultat\n",
    "liste_b = [x for x in liste_a if x == 6]\n",
    "print(\"Longueur de liste_b : {}\".format(len(liste_b)))\n",
    "#2 En une ligne convertir en texte les valeurs de liste_b\n",
    "liste_b = [str(x) for x in liste_b]\n",
    "# (puis vérifier la bonne conversion avec un print de liste_b)\n",
    "print(liste_b)\n",
    "#3 - A partir de liste_a, créer en une ligne une nouvelle liste nommée « liste_c »\n",
    "# qui contiendra les valeurs suivantes : [16, 4, 36, 9, 16, 36, 36, 36, 9, 36]\n",
    "liste_c = [x**2  for x in liste_a if x >= 2 and x < 7]\n",
    "print(liste_c)\n"
   ]
  },
  {
   "cell_type": "code",
   "execution_count": null,
   "metadata": {},
   "outputs": [],
   "source": []
  }
 ],
 "metadata": {
  "kernelspec": {
   "display_name": "Python 3 (ipykernel)",
   "language": "python",
   "name": "python3"
  },
  "language_info": {
   "codemirror_mode": {
    "name": "ipython",
    "version": 3
   },
   "file_extension": ".py",
   "mimetype": "text/x-python",
   "name": "python",
   "nbconvert_exporter": "python",
   "pygments_lexer": "ipython3",
   "version": "3.9.12"
  }
 },
 "nbformat": 4,
 "nbformat_minor": 2
}
