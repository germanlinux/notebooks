{
 "cells": [
  {
   "cell_type": "markdown",
   "metadata": {},
   "source": [
    "###  A) Soit la fonction suivante:"
   ]
  },
  {
   "cell_type": "code",
   "execution_count": null,
   "metadata": {},
   "outputs": [],
   "source": [
    "def complement(a,b=10):\n",
    "    return (b - a) /2 "
   ]
  },
  {
   "cell_type": "markdown",
   "metadata": {},
   "source": [
    "### Réaliser 3 appels de cette fonctions avec des syntaxes differentes"
   ]
  },
  {
   "cell_type": "code",
   "execution_count": 2,
   "metadata": {},
   "outputs": [
    {
     "name": "stdout",
     "output_type": "stream",
     "text": [
      "1.0\n"
     ]
    }
   ],
   "source": [
    "print(complement(4, 6))"
   ]
  },
  {
   "cell_type": "code",
   "execution_count": 3,
   "metadata": {},
   "outputs": [
    {
     "name": "stdout",
     "output_type": "stream",
     "text": [
      "1.0\n"
     ]
    }
   ],
   "source": [
    "print(complement(4,b = 6))"
   ]
  },
  {
   "cell_type": "code",
   "execution_count": 4,
   "metadata": {},
   "outputs": [
    {
     "name": "stdout",
     "output_type": "stream",
     "text": [
      "1.0\n"
     ]
    }
   ],
   "source": [
    "c  = {'a' : 4,'b' : 6} \n",
    "print(complement(**c))"
   ]
  },
  {
   "cell_type": "code",
   "execution_count": 5,
   "metadata": {},
   "outputs": [
    {
     "name": "stdout",
     "output_type": "stream",
     "text": [
      "1.0\n"
     ]
    }
   ],
   "source": [
    "c = (4,6)\n",
    "print(complement(*c))"
   ]
  },
  {
   "cell_type": "markdown",
   "metadata": {},
   "source": [
    "### B) Modifier la fonction suivante pour obtenir les résultats attendus"
   ]
  },
  {
   "cell_type": "code",
   "execution_count": null,
   "metadata": {},
   "outputs": [],
   "source": [
    "a = ['aa','bb','cc']\n",
    "def fonct(lettre,liste=[] ):\n",
    "    liste.append(lettre)\n",
    "    return(\"-\".join(liste))\n",
    "\n",
    "print(fonct('m', ['e','g'])) # e-g-m\n",
    "print(fonct('e'))            # e\n",
    "print(fonct('g'))            # g\n",
    "print(fonct('m', a))         # aa-bb-cc-m\n",
    "print(a)                     #['aa', 'bb', 'cc']\n",
    "print(fonct('e',[]))         # e\n",
    "print(fonct('e'))            # e"
   ]
  },
  {
   "cell_type": "code",
   "execution_count": null,
   "metadata": {},
   "outputs": [],
   "source": [
    "def fonctcorr(lettre,liste=None ):\n",
    "    if liste == None:\n",
    "        liste = []\n",
    "    _liste = list(liste) \n",
    "    _liste.append(lettre)\n",
    "    return(\"-\".join(_liste))"
   ]
  },
  {
   "cell_type": "code",
   "execution_count": null,
   "metadata": {},
   "outputs": [],
   "source": [
    "a = ['aa','bb','cc']\n",
    "print(fonctcorr('m', ['e','g']))\n",
    "print(fonctcorr('e'))\n",
    "print(fonctcorr('g'))\n",
    "print(fonctcorr('m', a)) \n",
    "print(a)\n",
    "print(fonctcorr('e'))\n",
    "print(fonctcorr('e',[]))"
   ]
  },
  {
   "cell_type": "markdown",
   "metadata": {},
   "source": [
    "###  C) Boucle et conversion de type "
   ]
  },
  {
   "cell_type": "markdown",
   "metadata": {},
   "source": [
    "####  Soit la variable a = 'chaine à retourner'\n",
    "\n",
    "Avec extraction d'intervalle [...] , inverser l'ordre des caractères\n"
   ]
  },
  {
   "cell_type": "raw",
   "metadata": {},
   "source": [
    "a = 'chaine à retourner'\n",
    "b = a[::-1]\n",
    "print(b)"
   ]
  },
  {
   "cell_type": "markdown",
   "metadata": {},
   "source": [
    "#### Meme question avec une boucle for"
   ]
  },
  {
   "cell_type": "code",
   "execution_count": null,
   "metadata": {},
   "outputs": [],
   "source": [
    "a = 'chaine à retourner'\n",
    "b = ''\n",
    "for c in range(len(a)-1 ,-1, -1):\n",
    "    b += a[c]\n",
    "print(b)"
   ]
  },
  {
   "cell_type": "markdown",
   "metadata": {},
   "source": [
    "#### Meme question en passant par une liste"
   ]
  },
  {
   "cell_type": "code",
   "execution_count": null,
   "metadata": {},
   "outputs": [],
   "source": [
    "a = 'chaine à retourner'\n",
    "b = list(a)\n",
    "b.reverse()\n",
    "b = ''.join(b)\n",
    "print(b)"
   ]
  },
  {
   "cell_type": "markdown",
   "metadata": {},
   "source": [
    "### D) Construire une classe Autoreverse qui prend comme argument une chaine de caractère et l'inverse:\n",
    "    \n",
    "machaine = Autoreverse('noel')\n",
    "\n",
    "print(machaine)  # leon\n",
    "\n",
    "machaine = Autoreverse('eric')\n",
    "\n",
    "print(machaine)  # cire\n",
    "  \n",
    "L'instruction 'help' devra afficher sa documentation  "
   ]
  },
  {
   "cell_type": "code",
   "execution_count": null,
   "metadata": {},
   "outputs": [],
   "source": [
    "class Autoreverse():\n",
    "    '''Autoreverse implemente la méthode  __str__  qui retourne la chaine passée au constructeur en inversant l'ordre des\n",
    "   caractères'''\n",
    "    def __init__(self,chaine):\n",
    "            self.chaine = chaine\n",
    "    \n",
    "    \n",
    "    def __str__(self):\n",
    "        return self.chaine[::-1]\n",
    "   \n",
    "    "
   ]
  },
  {
   "cell_type": "raw",
   "metadata": {},
   "source": [
    "machaine = Autoreverse('noel')\n",
    "print(machaine)\n",
    "help(Autoreverse)"
   ]
  },
  {
   "cell_type": "code",
   "execution_count": null,
   "metadata": {},
   "outputs": [],
   "source": [
    "machaine = Autoreverse('eric')\n",
    "print(machaine)\n"
   ]
  },
  {
   "cell_type": "markdown",
   "metadata": {},
   "source": [
    "### E) Modifier la classe pour que la methode saute(self, pas) renvoie une chaine avec un décalage de caractere \n",
    "exemple avec 1 : a=> b , b => c etc.\n",
    "    "
   ]
  },
  {
   "cell_type": "code",
   "execution_count": null,
   "metadata": {},
   "outputs": [],
   "source": [
    "class Autoreverse():\n",
    "    '''Autoreverse implemente la méthode  __str__  qui retourne la chaine passée au constructeur en inversant l'ordre des\n",
    "   caractères'''\n",
    "    def __init__(self,chaine):\n",
    "            self.chaine = chaine\n",
    "    \n",
    "    \n",
    "    def __str__(self):\n",
    "        return self.chaine[::-1]\n",
    "    def saute(self,pas):\n",
    "        b = ''\n",
    "        for lettre  in self.chaine:\n",
    "            b += chr(ord(lettre) + pas)\n",
    "        return b\n",
    "   "
   ]
  },
  {
   "cell_type": "code",
   "execution_count": null,
   "metadata": {},
   "outputs": [],
   "source": [
    "machaine = Autoreverse('avec un decalage')\n",
    "print(machaine.saute(2))"
   ]
  },
  {
   "cell_type": "code",
   "execution_count": null,
   "metadata": {
    "scrolled": true
   },
   "outputs": [],
   "source": [
    "help(Autoreverse)"
   ]
  },
  {
   "cell_type": "code",
   "execution_count": null,
   "metadata": {},
   "outputs": [],
   "source": []
  },
  {
   "cell_type": "code",
   "execution_count": null,
   "metadata": {},
   "outputs": [],
   "source": []
  }
 ],
 "metadata": {
  "kernelspec": {
   "display_name": "Python 3 (ipykernel)",
   "language": "python",
   "name": "python3"
  },
  "language_info": {
   "codemirror_mode": {
    "name": "ipython",
    "version": 3
   },
   "file_extension": ".py",
   "mimetype": "text/x-python",
   "name": "python",
   "nbconvert_exporter": "python",
   "pygments_lexer": "ipython3",
   "version": "3.9.12"
  }
 },
 "nbformat": 4,
 "nbformat_minor": 2
}
