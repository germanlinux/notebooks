{
 "cells": [
  {
   "cell_type": "code",
   "execution_count": 4,
   "metadata": {},
   "outputs": [
    {
     "name": "stdout",
     "output_type": "stream",
     "text": [
      "['chaton', 'chateau']\n",
      "<class 'list'>\n",
      "2\n"
     ]
    }
   ],
   "source": [
    "import re\n",
    "rechercher_chat= re.findall('chat\\w+','le chaton est sur le toit du chateau')\n",
    "# \\w =>  1 caractère alphanumerique\n",
    "# \\w+ => repetition de 1 à n\n",
    "\n",
    "print(rechercher_chat)\n",
    "print(type(rechercher_chat))\n",
    "print(len(rechercher_chat))"
   ]
  },
  {
   "cell_type": "code",
   "execution_count": 5,
   "metadata": {},
   "outputs": [
    {
     "name": "stdout",
     "output_type": "stream",
     "text": [
      "['chaton', 'chateau']\n"
     ]
    }
   ],
   "source": [
    "rechercher_chat= re.findall('chat\\w+','chat, le chaton est sur le toit du chateau')\n",
    "print(rechercher_chat)"
   ]
  },
  {
   "cell_type": "markdown",
   "metadata": {},
   "source": [
    "#### la virgule après chat  n'est pas un \\w "
   ]
  },
  {
   "cell_type": "markdown",
   "metadata": {},
   "source": [
    "### quantificateurs"
   ]
  },
  {
   "cell_type": "code",
   "execution_count": 13,
   "metadata": {},
   "outputs": [
    {
     "name": "stdout",
     "output_type": "stream",
     "text": [
      "['la', 'la ', 'la']\n"
     ]
    }
   ],
   "source": [
    "chaine= 'lala land'\n",
    "re.etoile = r'la *'\n",
    "re_la = re.findall(re.etoile, chaine)\n",
    "print(re_la)\n",
    "# 'la' suivi d'un espace qui est répété de 0 à n fois "
   ]
  },
  {
   "cell_type": "code",
   "execution_count": 14,
   "metadata": {},
   "outputs": [
    {
     "name": "stdout",
     "output_type": "stream",
     "text": [
      "['la ']\n"
     ]
    }
   ],
   "source": [
    "re.plus = r'la +'\n",
    "re_la = re.findall(re.plus, chaine)\n",
    "print(re_la)\n",
    "# 'la' suivi d'un espace qui est répété de 1 à n fois "
   ]
  },
  {
   "cell_type": "code",
   "execution_count": 19,
   "metadata": {},
   "outputs": [
    {
     "name": "stdout",
     "output_type": "stream",
     "text": [
      "['lax', 'lax']\n"
     ]
    }
   ],
   "source": [
    "chaine= 'lalaxlandxlaxx'\n",
    "re.unefois = r'lax{1}'\n",
    "re_la = re.findall(re.unefois, chaine)\n",
    "print(re_la)\n",
    "# 'la' suivi d'un x qui est répété  1 fois "
   ]
  },
  {
   "cell_type": "markdown",
   "metadata": {},
   "source": [
    "### A faire :tester avec {2}"
   ]
  },
  {
   "cell_type": "markdown",
   "metadata": {},
   "source": [
    "### Avec search ou match\n"
   ]
  },
  {
   "cell_type": "code",
   "execution_count": 23,
   "metadata": {},
   "outputs": [
    {
     "name": "stdout",
     "output_type": "stream",
     "text": [
      "None\n",
      "<re.Match object; span=(21, 24), match='un '>\n"
     ]
    }
   ],
   "source": [
    "chaine = 'Descriptif : « C’est un roc ! … c’est un pic ! … c’est un cap !'\n",
    "re.un = r'un\\s'\n",
    "print(re.match(re.un, chaine))\n",
    "print(re.search(re.un, chaine))"
   ]
  },
  {
   "cell_type": "markdown",
   "metadata": {},
   "source": [
    "### A faire trouver deux motif de match: un qui ne donne que Descriptif , l'autre toute la chaine"
   ]
  },
  {
   "cell_type": "code",
   "execution_count": 36,
   "metadata": {},
   "outputs": [
    {
     "name": "stdout",
     "output_type": "stream",
     "text": [
      "<re.Match object; span=(21, 27), match='un roc'>\n"
     ]
    }
   ],
   "source": [
    "re.cest =r'un\\s(\\w+)'\n",
    "print(re.search(re.cest, chaine))\n"
   ]
  },
  {
   "cell_type": "markdown",
   "metadata": {},
   "source": [
    "### iterer sur un motif"
   ]
  },
  {
   "cell_type": "code",
   "execution_count": 39,
   "metadata": {},
   "outputs": [
    {
     "name": "stdout",
     "output_type": "stream",
     "text": [
      "roc\n",
      "pic\n",
      "cap\n"
     ]
    }
   ],
   "source": [
    "for item in re.finditer(re.cest, chaine):\n",
    "    print(item[1])"
   ]
  },
  {
   "cell_type": "code",
   "execution_count": 42,
   "metadata": {},
   "outputs": [
    {
     "name": "stdout",
     "output_type": "stream",
     "text": [
      "['roc', 'pic', 'cap']\n"
     ]
    }
   ],
   "source": [
    "print(re.findall(re.cest, chaine))  # plus simple"
   ]
  },
  {
   "cell_type": "code",
   "execution_count": 45,
   "metadata": {},
   "outputs": [
    {
     "name": "stdout",
     "output_type": "stream",
     "text": [
      "roc (21, 27)\n",
      "pic (38, 44)\n",
      "cap (55, 61)\n"
     ]
    }
   ],
   "source": [
    "# plus utile \n",
    "for item in re.finditer(re.cest, chaine):\n",
    "    print(item[1],item.span())"
   ]
  },
  {
   "cell_type": "markdown",
   "metadata": {},
   "source": [
    "### mode glouton ou non"
   ]
  },
  {
   "cell_type": "code",
   "execution_count": 54,
   "metadata": {},
   "outputs": [
    {
     "name": "stdout",
     "output_type": "stream",
     "text": [
      "roc ! … c’est un pic ! … c’est un cap !\n"
     ]
    }
   ],
   "source": [
    "chaine = 'Descriptif : « C’est un roc ! … c’est un pic ! … c’est un cap !'\n",
    "re.cestun = r'un\\s(.+)'\n",
    "print(re.search(re.cestun, chaine)[1])"
   ]
  },
  {
   "cell_type": "code",
   "execution_count": 55,
   "metadata": {},
   "outputs": [
    {
     "name": "stdout",
     "output_type": "stream",
     "text": [
      "r\n"
     ]
    }
   ],
   "source": [
    "chaine = 'Descriptif : « C’est un roc ! … c’est un pic ! … c’est un cap !'\n",
    "re.cestun = r'un\\s(.+?)'\n",
    "print(re.search(re.cestun, chaine)[1])"
   ]
  },
  {
   "cell_type": "code",
   "execution_count": 119,
   "metadata": {},
   "outputs": [
    {
     "name": "stdout",
     "output_type": "stream",
     "text": [
      "laa\n",
      "a\n"
     ]
    }
   ],
   "source": [
    "chaine = 'laaaaaaaaaaaaa'\n",
    "re.cestun = 'l(a+?)a'\n",
    "print(re.search(re.cestun, chaine)[0])\n",
    "print(re.search(re.cestun, chaine)[1])\n"
   ]
  },
  {
   "cell_type": "code",
   "execution_count": 120,
   "metadata": {},
   "outputs": [
    {
     "name": "stdout",
     "output_type": "stream",
     "text": [
      "laaaaaaaaaaaaa\n",
      "aaaaaaaaaaaa\n"
     ]
    }
   ],
   "source": [
    "chaine = 'laaaaaaaaaaaaa'\n",
    "re.cestun = 'l(a+)a'\n",
    "print(re.search(re.cestun, chaine)[0])\n",
    "print(re.search(re.cestun, chaine)[1])\n"
   ]
  },
  {
   "cell_type": "code",
   "execution_count": 121,
   "metadata": {},
   "outputs": [
    {
     "name": "stdout",
     "output_type": "stream",
     "text": [
      "la\n",
      "None\n"
     ]
    }
   ],
   "source": [
    "chaine = 'laaaaaaaaaaaaa'\n",
    "re.cestun = 'l(ct)?a'\n",
    "print(re.search(re.cestun, chaine)[0])\n",
    "print(re.search(re.cestun, chaine)[1])\n"
   ]
  },
  {
   "cell_type": "markdown",
   "metadata": {},
   "source": [
    "### Intervalle"
   ]
  },
  {
   "cell_type": "code",
   "execution_count": 132,
   "metadata": {},
   "outputs": [
    {
     "name": "stdout",
     "output_type": "stream",
     "text": [
      "['la', 'la2', 'land']\n"
     ]
    }
   ],
   "source": [
    "chaine = 'la la2 land'\n",
    "re.cestun = r'(\\w+)'\n",
    "print(re.findall(re.cestun, chaine))"
   ]
  },
  {
   "cell_type": "code",
   "execution_count": 126,
   "metadata": {},
   "outputs": [
    {
     "name": "stdout",
     "output_type": "stream",
     "text": [
      "['la', 'la2', 'land']\n"
     ]
    }
   ],
   "source": [
    "chaine = 'la la2 land'\n",
    "re.cestun = '([a-zAZ0-9]+)'\n",
    "print(re.findall(re.cestun, chaine))"
   ]
  },
  {
   "cell_type": "markdown",
   "metadata": {},
   "source": [
    "### Negation d intervalle"
   ]
  },
  {
   "cell_type": "code",
   "execution_count": 130,
   "metadata": {},
   "outputs": [
    {
     "name": "stdout",
     "output_type": "stream",
     "text": [
      "la la\n"
     ]
    }
   ],
   "source": [
    "chaine = 'la la2 land'\n",
    "re.cestun = '([^2]+)'\n",
    "print(re.search(re.cestun, chaine)[0])"
   ]
  },
  {
   "cell_type": "markdown",
   "metadata": {},
   "source": [
    "### Les défis"
   ]
  },
  {
   "cell_type": "markdown",
   "metadata": {},
   "source": [
    "###  verifier ques les adresses mails ci dessous sont conformes aux regles:\n",
    "    * un nom de domaine avec au minimum 2 niveaux (exemple.com)\n",
    "    * un nom suivi de l' @\n",
    "    * des caractères alphanumriques et sans espace.\n",
    "    * Pas de point '.' de terminaison\n",
    "    \n",
    "    Retourner soit la valeur true si le mail est ok, sinon false\n",
    "    \n",
    "  eric@gmail.com : ok\n",
    "  eric@gouv : ko\n",
    "  eric.german.@yhaoo .fr :ko \n",
    "  eric1@dgfip.gouv.fr  :ok\n",
    "  eric<@gouv.fr  : ko\n",
    "  "
   ]
  },
  {
   "cell_type": "markdown",
   "metadata": {},
   "source": [
    "#### Soit le log: \n",
    "\n",
    "<code>\n",
    "127.0.0.1 - frank [10/Oct/2000:13:55:36 -0700] \"GET /apache_pb.gif HTTP/1.0\" 200 2326\n",
    "162.210.196.129 - - [19/Dec/2020:16:46:12 +0100] \"GET / HTTP/1.1\" 200 10479\n",
    "66.249.66.158 - louis [19/Dec/2020:17:11:04 +0100] \"GET / HTTP/1.1\" 200 10479\n",
    "45.145.161.12 - - [19/Dec/2020:17:35:42 +0100] \"GET /index.php?option=com_contact&view=contact&id=1 HTTP/1.1\" 200 9873\n",
    "45.145.161.12 - - [19/Dec/2020:17:35:43 +0100] \"POST /index.php?option=com_contact&view=contact&id=1 HTTP/1.1\" 200 188\n",
    "45.132.51.36 - - [19/Dec/2020:17:36:18 +0100] \"GET /index.php?option=com_contact&view=contact&id=1 HTTP/1.1\" 200 98735\n",
    "45.132.51.36 - - [19/Dec/2020:17:36:18 +0100] \"POST /index.php?option=com_contact&view=contact&id=1 HTTP/1.1\" 200 188\n",
    "</code>\n",
    "\n",
    "Faire des expressions regulières pour extraire:\n",
    "    * l adresse IP \n",
    "    * Le jour et l'année \n",
    "    * La méthode\n",
    "    * La ressource demandée\n",
    "    * La version du protocole\n",
    "    * le code retour\n",
    "    * L'heure\n",
    "    "
   ]
  },
  {
   "cell_type": "code",
   "execution_count": null,
   "metadata": {},
   "outputs": [],
   "source": []
  },
  {
   "cell_type": "code",
   "execution_count": null,
   "metadata": {},
   "outputs": [],
   "source": []
  }
 ],
 "metadata": {
  "kernelspec": {
   "display_name": "Python 3",
   "language": "python",
   "name": "python3"
  },
  "language_info": {
   "codemirror_mode": {
    "name": "ipython",
    "version": 3
   },
   "file_extension": ".py",
   "mimetype": "text/x-python",
   "name": "python",
   "nbconvert_exporter": "python",
   "pygments_lexer": "ipython3",
   "version": "3.7.4"
  }
 },
 "nbformat": 4,
 "nbformat_minor": 2
}
