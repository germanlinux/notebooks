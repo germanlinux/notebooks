{
 "cells": [
  {
   "cell_type": "markdown",
   "metadata": {},
   "source": [
    "###  Utilisation des mots clés"
   ]
  },
  {
   "cell_type": "code",
   "execution_count": 19,
   "metadata": {},
   "outputs": [],
   "source": [
    "def espace_occupe(*args,**kwargs):\n",
    "    print('arg:', *args)\n",
    "    a= dict(**kwargs)\n",
    "    print(a)\n",
    "    \n",
    "    total = 1\n",
    "    for cote in args:\n",
    "        total *= cote\n",
    "    return total"
   ]
  },
  {
   "cell_type": "code",
   "execution_count": 20,
   "metadata": {},
   "outputs": [
    {
     "name": "stdout",
     "output_type": "stream",
     "text": [
      "arg: 4 5\n",
      "{'hauteur': 6}\n"
     ]
    },
    {
     "data": {
      "text/plain": [
       "20"
      ]
     },
     "execution_count": 20,
     "metadata": {},
     "output_type": "execute_result"
    }
   ],
   "source": [
    "print(espace_occupe(4,5 , hauteur = 6))  # seul args est pris en compte => a refactoriser"
   ]
  },
  {
   "cell_type": "code",
   "execution_count": 21,
   "metadata": {},
   "outputs": [
    {
     "name": "stdout",
     "output_type": "stream",
     "text": [
      "arg: 4\n",
      "{'hauteur': 6, 'largeur': 2}\n",
      "4\n"
     ]
    }
   ],
   "source": [
    "print(espace_occupe(4 , hauteur = 6, largeur= 2))"
   ]
  },
  {
   "cell_type": "code",
   "execution_count": 26,
   "metadata": {},
   "outputs": [],
   "source": [
    "def espace_occupe(*args,**kwargs):\n",
    "    print('arg:', *args)\n",
    "    a= dict(**kwargs)\n",
    "    print(a)\n",
    "    \n",
    "    total = 1\n",
    "    for cote in args:\n",
    "        total *= cote\n",
    "    for cle in kwargs:\n",
    "        total *= kwargs[cle]\n",
    "    return total"
   ]
  },
  {
   "cell_type": "code",
   "execution_count": 27,
   "metadata": {},
   "outputs": [
    {
     "name": "stdout",
     "output_type": "stream",
     "text": [
      "arg: 4\n",
      "{'hauteur': 6, 'largeur': 2}\n",
      "48\n"
     ]
    }
   ],
   "source": [
    "print(espace_occupe(4 , hauteur = 6, largeur= 2))"
   ]
  },
  {
   "cell_type": "code",
   "execution_count": null,
   "metadata": {},
   "outputs": [],
   "source": []
  }
 ],
 "metadata": {
  "kernelspec": {
   "display_name": "Python 3",
   "language": "python",
   "name": "python3"
  },
  "language_info": {
   "codemirror_mode": {
    "name": "ipython",
    "version": 3
   },
   "file_extension": ".py",
   "mimetype": "text/x-python",
   "name": "python",
   "nbconvert_exporter": "python",
   "pygments_lexer": "ipython3",
   "version": "3.7.4"
  }
 },
 "nbformat": 4,
 "nbformat_minor": 2
}
