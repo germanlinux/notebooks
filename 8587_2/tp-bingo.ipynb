{
 "cells": [
  {
   "cell_type": "markdown",
   "metadata": {},
   "source": [
    "### L'obectif est de simuler un jeu de bingo\n",
    "\n",
    "Chaque joueur recoit une grille avec 15 nombres.\n",
    "\n",
    "A chaque tour, on procède au tirage d'un numero. La boule n'est pas remise dans le réservoir\n",
    "\n",
    "Il y a au départ 90 boules dans le reservoir\n",
    "\n",
    "Le premier joueur qui complete sa grille à gagné.\n"
   ]
  },
  {
   "cell_type": "markdown",
   "metadata": {},
   "source": [
    "### Construire un module avec 3 classes\n",
    "* Une classe réservoir qui prendra en charge les tirages\n",
    "* Une classe grille qui genrera les grilles, retracant 2 informations importantes : les nombres de la grille et les nombres de la grille tirés.\n",
    "* Une classe joueur associant un joueur avec une grille\n",
    "\n",
    "    "
   ]
  },
  {
   "cell_type": "markdown",
   "metadata": {},
   "source": [
    "### Developper un programme qui utilise ce module pour simuler une partie de bingo. \n",
    "\n",
    "Il n'y a pas de contrainte d'unicite sur les grilles\n",
    "\n",
    "Le programme retournera le nom du joueur gagnant et le nombre de tirage effectué pour gagner. "
   ]
  },
  {
   "cell_type": "code",
   "execution_count": null,
   "metadata": {},
   "outputs": [],
   "source": []
  }
 ],
 "metadata": {
  "kernelspec": {
   "display_name": "Python 3",
   "language": "python",
   "name": "python3"
  },
  "language_info": {
   "codemirror_mode": {
    "name": "ipython",
    "version": 3
   },
   "file_extension": ".py",
   "mimetype": "text/x-python",
   "name": "python",
   "nbconvert_exporter": "python",
   "pygments_lexer": "ipython3",
   "version": "3.7.4"
  }
 },
 "nbformat": 4,
 "nbformat_minor": 2
}
