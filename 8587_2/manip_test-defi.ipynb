{
 "cells": [
  {
   "cell_type": "code",
   "execution_count": 1,
   "metadata": {},
   "outputs": [],
   "source": [
    "import random\n",
    "import unittest\n",
    "from collections import Counter "
   ]
  },
  {
   "cell_type": "code",
   "execution_count": 23,
   "metadata": {},
   "outputs": [],
   "source": [
    "class De:\n",
    "    def __init__(self, nb_de_face=6): \n",
    "        self.face = list(range(1, nb_de_face + 1 ))  #oups !\n",
    "\n",
    "    def roule(self):\n",
    "        face = random.choice(self.face)\n",
    "        return(face) "
   ]
  },
  {
   "cell_type": "code",
   "execution_count": 21,
   "metadata": {},
   "outputs": [
    {
     "name": "stderr",
     "output_type": "stream",
     "text": [
      ".."
     ]
    },
    {
     "name": "stdout",
     "output_type": "stream",
     "text": [
      "Counter({2: 119, 9: 113, 3: 110, 6: 104, 1: 103, 8: 96, 4: 92, 5: 92, 10: 90, 7: 81})\n"
     ]
    },
    {
     "name": "stderr",
     "output_type": "stream",
     "text": [
      "\n",
      "----------------------------------------------------------------------\n",
      "Ran 2 tests in 0.007s\n",
      "\n",
      "OK\n"
     ]
    }
   ],
   "source": [
    "class MyTest(unittest.TestCase):\n",
    "    def test_lance(self):\n",
    "         mon_de = De()\n",
    "         self.assertTrue(  0 < mon_de.roule() <7)     \n",
    "\n",
    "    def test_frequence(self):\n",
    "        mon_de = De(10)\n",
    "        result = []\n",
    "        for _ in range(1000) : \n",
    "            result.append(mon_de.roule())\n",
    "        cp = Counter(result)\n",
    "        print(cp)\n",
    "        for i in cp.keys():\n",
    "            self.assertTrue(  70 < cp[i] <120 , f\"{i} : {cp[i]}\" )  \n",
    "        \n",
    "if __name__ == '__main__':\n",
    "    unittest.main(argv=['first-arg-is-ignored'], exit=False)\n",
    "    "
   ]
  },
  {
   "cell_type": "markdown",
   "metadata": {},
   "source": [
    "### Corriger le bug"
   ]
  }
 ],
 "metadata": {
  "kernelspec": {
   "display_name": "Python 3 (ipykernel)",
   "language": "python",
   "name": "python3"
  },
  "language_info": {
   "codemirror_mode": {
    "name": "ipython",
    "version": 3
   },
   "file_extension": ".py",
   "mimetype": "text/x-python",
   "name": "python",
   "nbconvert_exporter": "python",
   "pygments_lexer": "ipython3",
   "version": "3.9.12"
  }
 },
 "nbformat": 4,
 "nbformat_minor": 2
}
