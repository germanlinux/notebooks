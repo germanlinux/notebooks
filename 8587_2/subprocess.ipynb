{
 "cells": [
  {
   "cell_type": "code",
   "execution_count": 16,
   "metadata": {},
   "outputs": [],
   "source": [
    "import subprocess\n"
   ]
  },
  {
   "cell_type": "code",
   "execution_count": 30,
   "metadata": {},
   "outputs": [],
   "source": [
    "resultat = subprocess.check_output(\"dir\", shell=True, text = True ,encoding = 'cp437')"
   ]
  },
  {
   "cell_type": "code",
   "execution_count": 31,
   "metadata": {},
   "outputs": [
    {
     "name": "stdout",
     "output_type": "stream",
     "text": [
      "<class 'str'>  Le volume dans le lecteur C s'appelle OS\n",
      " Le numéro de série du volume est 1805-44CB\n",
      "\n",
      " Répertoire de C:\\Users\\33681\\Documents\\8785_def\\refonte\\8785n\n",
      "\n",
      "23/04/2022  10:17    <DIR>          .\n",
      "23/04/2022  10:17    <DIR>          ..\n",
      "22/04/2022  18:13    <DIR>          .ipynb_checkpoints\n",
      "09/04/2022  09:36         6 500 192 8785_complet_nv3.pptx\n",
      "07/04/2022  10:34         3 654 606 8785_partie1v0.pptx\n",
      "22/04/2022  11:52         1 339 138 8785_partie2v0.pptx\n",
      "01/02/2018  09:58     5 196 531 277 bigfic.avi\n",
      "07/04/2022  19:55             2 087 dataclasses.ipynb\n",
      "26/03/2022  17:32            10 616 exo-1.ipynb\n",
      "15/03/2022  17:31             3 492 exo-2.ipynb\n",
      "08/04/2022  16:26             8 334 iterable.ipynb\n",
      "24/02/2022  10:09             9 012 manip_arguments_1.ipynb\n",
      "24/02/2022  10:16             2 656 manip_arguments_2.ipynb\n",
      "07/04/2022  21:45             3 408 manip_attr.ipynb\n",
      "08/04/2022  10:59             3 757 manip_base.ipynb\n",
      "28/03/2022  19:24            33 792 manip_csv_json.ipynb\n",
      "04/04/2022  21:36             2 336 manip_decorateur.ipynb\n",
      "05/04/2022  22:39             3 537 manip_dict.ipynb\n",
      "14/04/2022  15:46            28 739 manip_fastapi.ipynb\n",
      "14/04/2022  15:38             1 415 manip_fastapi.py\n",
      "22/02/2022  18:34             6 588 manip_fonction.ipynb\n",
      "29/03/2022  21:09             3 191 manip_gros_fic.ipynb\n",
      "20/02/2022  22:17             7 246 manip_jupyter.ipynb\n",
      "03/04/2022  21:42            10 791 manip_regexp.ipynb\n",
      "22/04/2022  10:41             1 288 manip_tkinter.ipynb\n",
      "16/04/2022  21:27             1 694 manip_tkinter2.ipynb\n",
      "22/02/2022  00:24             5 185 manip_type.ipynb\n",
      "28/03/2022  19:21                47 mes_cle.csv\n",
      "15/04/2022  15:06             1 402 mfastapi.py\n",
      "28/03/2022  19:00                61 myjson.txt\n",
      "13/04/2022  17:11             1 621 pickle.ipynb\n",
      "13/04/2022  17:08                81 serial.dat\n",
      "29/03/2022  21:05     5 196 531 277 sortie.avi\n",
      "23/04/2022  10:17             4 164 subprocess.ipynb\n",
      "15/04/2022  15:41               433 tiki.py\n",
      "14/04/2022  11:00             4 696 tp_dictionnaires.ipynb\n",
      "22/04/2022  15:01             2 133 tp_tkinter.ipynb\n",
      "04/04/2022  11:43             2 730 Untitled.ipynb\n",
      "04/04/2022  17:53             1 945 Untitled1.ipynb\n",
      "14/04/2022  10:32               693 Untitled2.ipynb\n",
      "15/04/2022  15:06    <DIR>          __pycache__\n",
      "              37 fichier(s)   10 404 725 660 octets\n",
      "               4 Rép(s)  183 149 748 224 octets libres\n",
      "\n"
     ]
    }
   ],
   "source": [
    "print(type(resultat), resultat)"
   ]
  },
  {
   "cell_type": "code",
   "execution_count": null,
   "metadata": {},
   "outputs": [],
   "source": []
  }
 ],
 "metadata": {
  "kernelspec": {
   "display_name": "Python 3",
   "language": "python",
   "name": "python3"
  },
  "language_info": {
   "codemirror_mode": {
    "name": "ipython",
    "version": 3
   },
   "file_extension": ".py",
   "mimetype": "text/x-python",
   "name": "python",
   "nbconvert_exporter": "python",
   "pygments_lexer": "ipython3",
   "version": "3.7.4"
  }
 },
 "nbformat": 4,
 "nbformat_minor": 2
}
