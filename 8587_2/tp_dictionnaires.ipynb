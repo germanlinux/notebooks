{
 "cells": [
  {
   "cell_type": "markdown",
   "metadata": {},
   "source": [
    "### On desire construire un dictionnaire amélioré qui se comporte comme ceci :\n",
    "\n",
    "Pour les clés numeriques : \n",
    "    Il est possible d'interroger le dictionnaire sur l'entier ou sur la chaine representant l'entier\n",
    "    \n",
    "    Soit : mondict[1] = 'eric'\n",
    "        print(mondict[1])    # affichera 'eric'\n",
    "        print(mondict['1'])  # affichera 'eric'\n",
    "    \n",
    "    Si les entrées existent sous les deux formes, il retournera deux valeurs distinctes  \n",
    "        mondict[1] = 'eric'     #  print(mondict[1])  affichera 'eric'\n",
    "        mondict['1'] = 'jean'   #  print(mondict['1']) affichera 'jean'\n",
    "        \n",
    "       "
   ]
  },
  {
   "cell_type": "code",
   "execution_count": 1,
   "metadata": {},
   "outputs": [],
   "source": [
    "from collections import UserDict"
   ]
  },
  {
   "cell_type": "code",
   "execution_count": 2,
   "metadata": {},
   "outputs": [],
   "source": [
    "class DictCasse(UserDict):\n",
    "\n",
    "    def __missing__(self, cle):\n",
    "        print('je passe dans missing', cle, type(cle))\n",
    "        if XXXXXX in self.keys():\n",
    "            return self.__getitem__(XXXXXXXX)\n",
    "        if XXXXXXXXXXXXXXXXXXXXXXXXX:\n",
    "            return XXXXXXXXXXXXXXXXXXXXXXXXXXXX\n",
    "        raise KeyError\n",
    "        \n"
   ]
  },
  {
   "cell_type": "code",
   "execution_count": 3,
   "metadata": {},
   "outputs": [],
   "source": [
    "mondict = DictCasse()"
   ]
  },
  {
   "cell_type": "code",
   "execution_count": 4,
   "metadata": {},
   "outputs": [],
   "source": [
    "mondict[1] = 'eric'\n",
    "mondict['2'] = 'martin'\n"
   ]
  },
  {
   "cell_type": "code",
   "execution_count": 5,
   "metadata": {},
   "outputs": [
    {
     "name": "stdout",
     "output_type": "stream",
     "text": [
      "je passe dans missing 1 <class 'str'>\n",
      "eric\n",
      "je passe dans missing 2 <class 'int'>\n",
      "martin\n"
     ]
    }
   ],
   "source": [
    "print(mondict['1'])\n",
    "print(mondict[2])"
   ]
  },
  {
   "cell_type": "code",
   "execution_count": 6,
   "metadata": {},
   "outputs": [
    {
     "name": "stdout",
     "output_type": "stream",
     "text": [
      "jean\n",
      "eric\n"
     ]
    }
   ],
   "source": [
    "mondict['1'] = 'jean'\n",
    "print(mondict['1'])\n",
    "print(mondict[1])"
   ]
  },
  {
   "cell_type": "code",
   "execution_count": 8,
   "metadata": {},
   "outputs": [
    {
     "name": "stdout",
     "output_type": "stream",
     "text": [
      "martin\n"
     ]
    }
   ],
   "source": [
    "print(mondict.get('2'))\n"
   ]
  },
  {
   "cell_type": "code",
   "execution_count": 9,
   "metadata": {},
   "outputs": [
    {
     "name": "stdout",
     "output_type": "stream",
     "text": [
      "je passe dans missing 4 <class 'int'>\n",
      "None\n",
      "je passe dans missing 2 <class 'int'>\n",
      "martin\n"
     ]
    }
   ],
   "source": [
    "print(mondict.get(4))\n",
    "print(mondict.get(2))\n"
   ]
  },
  {
   "cell_type": "markdown",
   "metadata": {},
   "source": [
    "### Travail demandé\n",
    "\n",
    "* Creer un projet par poetry\n",
    "* Ecrire le module de la classe DictCasse en se servant du modèle\n",
    "* Passer la série de tests ci-dessus\n",
    "* Ecrire 3 tests \n",
    "* Obtenir le taux de converture des tests\n",
    "* Documenter le module\n",
    "* Construire le module pour sa livraison\n",
    "* Dans un envirronnement séparé faire un pip install local de votre module\n",
    "* faire un programme minimum qui active ce module\n"
   ]
  },
  {
   "cell_type": "markdown",
   "metadata": {},
   "source": [
    "### Aller plus loin \n",
    "\n",
    "Tester votre module avec les cas ci-dessous\n",
    "\n",
    "Proposer une correction si besoin\n"
   ]
  },
  {
   "cell_type": "code",
   "execution_count": 10,
   "metadata": {},
   "outputs": [],
   "source": [
    "mondict['olive'] = 'etoile'"
   ]
  },
  {
   "cell_type": "code",
   "execution_count": null,
   "metadata": {},
   "outputs": [],
   "source": [
    "print(mondict['sardine'])"
   ]
  }
 ],
 "metadata": {
  "kernelspec": {
   "display_name": "Python 3",
   "language": "python",
   "name": "python3"
  },
  "language_info": {
   "codemirror_mode": {
    "name": "ipython",
    "version": 3
   },
   "file_extension": ".py",
   "mimetype": "text/x-python",
   "name": "python",
   "nbconvert_exporter": "python",
   "pygments_lexer": "ipython3",
   "version": "3.7.4"
  }
 },
 "nbformat": 4,
 "nbformat_minor": 2
}
