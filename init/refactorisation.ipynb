{
 "cells": [
  {
   "cell_type": "markdown",
   "id": "7946b682",
   "metadata": {},
   "source": [
    "# La refactorisation avec Python"
   ]
  },
  {
   "cell_type": "markdown",
   "id": "2039fc6f",
   "metadata": {},
   "source": [
    "###  Soit une approche sous forme de fonction du calcul de perimetre d'un rectangle"
   ]
  },
  {
   "cell_type": "code",
   "execution_count": 1,
   "id": "06464619",
   "metadata": {},
   "outputs": [],
   "source": [
    "def calcul_perimetre_rectangle(longueur, largeur):\n",
    "    return (longueur + largeur) * 2"
   ]
  },
  {
   "cell_type": "markdown",
   "id": "f5c77449",
   "metadata": {},
   "source": [
    "#### Calcul pour un premier rectangle"
   ]
  },
  {
   "cell_type": "code",
   "execution_count": 2,
   "id": "57270563",
   "metadata": {},
   "outputs": [],
   "source": [
    "r1_L = 5\n",
    "r1_l = 3\n",
    "r1_perimetre =calcul_perimetre_rectangle(r1_L , r1_l)"
   ]
  },
  {
   "cell_type": "markdown",
   "id": "00b69201",
   "metadata": {},
   "source": [
    "#### On stocke les informations dans un tuple"
   ]
  },
  {
   "cell_type": "code",
   "execution_count": 3,
   "id": "319135f2",
   "metadata": {},
   "outputs": [],
   "source": [
    "tuple_rectancle1 = (r1_L,r1_l,r1_perimetre )\n"
   ]
  },
  {
   "cell_type": "markdown",
   "id": "77e02d95",
   "metadata": {},
   "source": [
    "#### Calcul pour un deuxieme rectangle"
   ]
  },
  {
   "cell_type": "code",
   "execution_count": 4,
   "id": "665ebbcd",
   "metadata": {},
   "outputs": [],
   "source": [
    "r2_L = 8\n",
    "r2_l = 5\n",
    "r2_perimetre =calcul_perimetre_rectangle(r2_L , r2_l)"
   ]
  },
  {
   "cell_type": "markdown",
   "id": "e75d4c18",
   "metadata": {},
   "source": [
    "#### On stocke les informations dans un tuple"
   ]
  },
  {
   "cell_type": "code",
   "execution_count": 5,
   "id": "cccd5f8f",
   "metadata": {},
   "outputs": [],
   "source": [
    "tuple_rectancle2 = (r2_L,r2_l,r2_perimetre )\n"
   ]
  },
  {
   "cell_type": "markdown",
   "id": "e2f72b73",
   "metadata": {},
   "source": [
    "#### On stocke à present les tuples dans une liste"
   ]
  },
  {
   "cell_type": "code",
   "execution_count": 6,
   "id": "ca61b552",
   "metadata": {},
   "outputs": [],
   "source": [
    "liste_rect = [tuple_rectancle1 , tuple_rectancle2]"
   ]
  },
  {
   "cell_type": "code",
   "execution_count": 7,
   "id": "b0d733ac",
   "metadata": {},
   "outputs": [
    {
     "name": "stdout",
     "output_type": "stream",
     "text": [
      "[(5, 3, 16), (8, 5, 26)]\n"
     ]
    }
   ],
   "source": [
    "print(liste_rect)"
   ]
  },
  {
   "cell_type": "markdown",
   "id": "64d9c552",
   "metadata": {},
   "source": [
    "#### On ajoute une fonction de calcul de surface"
   ]
  },
  {
   "cell_type": "code",
   "execution_count": 8,
   "id": "538a8409",
   "metadata": {},
   "outputs": [],
   "source": [
    "def calcul_surface_rectangle(tup ) : \n",
    "    return (tup[0] * tup[1], )\n"
   ]
  },
  {
   "cell_type": "markdown",
   "id": "95feb510",
   "metadata": {},
   "source": [
    "#### On modifie le tuple initial"
   ]
  },
  {
   "cell_type": "code",
   "execution_count": 9,
   "id": "34dd4da7",
   "metadata": {},
   "outputs": [],
   "source": [
    "tuple_rectancle1 = tuple_rectancle1 + calcul_surface_rectangle(tuple_rectancle1)"
   ]
  },
  {
   "cell_type": "code",
   "execution_count": 10,
   "id": "7435c9ff",
   "metadata": {},
   "outputs": [
    {
     "name": "stdout",
     "output_type": "stream",
     "text": [
      "(5, 3, 16, 15)\n"
     ]
    }
   ],
   "source": [
    "print(tuple_rectancle1)"
   ]
  },
  {
   "cell_type": "markdown",
   "id": "b05df635",
   "metadata": {},
   "source": [
    "#### On affiche les informations stockées dans la liste"
   ]
  },
  {
   "cell_type": "code",
   "execution_count": 11,
   "id": "7f28824e",
   "metadata": {},
   "outputs": [
    {
     "name": "stdout",
     "output_type": "stream",
     "text": [
      "5;3;16;\n",
      "8;5;26;\n"
     ]
    }
   ],
   "source": [
    "for rect  in liste_rect:\n",
    "    for item in rect:\n",
    "        print(item, end =';')\n",
    "    \n",
    "    print('')    "
   ]
  },
  {
   "cell_type": "markdown",
   "id": "905c2613",
   "metadata": {},
   "source": [
    "#### Le tuple pour le rectangle 1 est désynchronisé"
   ]
  },
  {
   "cell_type": "markdown",
   "id": "10a5173e",
   "metadata": {},
   "source": [
    "## Python permet de refactoriser facilement un programme pour le porter vers une forme objet\n"
   ]
  },
  {
   "cell_type": "code",
   "execution_count": 12,
   "id": "25852fab",
   "metadata": {},
   "outputs": [],
   "source": [
    "class Rectangle():\n",
    "    liste_rect = []\n",
    "    \n",
    "    def __init__(self, longueur, largeur):\n",
    "        self.longueur = longueur\n",
    "        self.largeur  = largeur\n",
    "        Rectangle.liste_rect.append(self) \n",
    "        \n",
    "    def calcul_perimetre(self):\n",
    "        self.perimetre = (self.longueur + self.largeur) * 2\n",
    "        return self.perimetre\n",
    "    \n",
    "    def calcul_surface(self):\n",
    "        self.surface = self.longueur + self.largeur\n",
    "        return self.surface\n",
    "        "
   ]
  },
  {
   "cell_type": "markdown",
   "id": "f3a79d23",
   "metadata": {},
   "source": [
    "#### Expliquer la refactorisation \n",
    "* transformation des fonctions en méthodes (ajout de self , le constructeur)\n",
    "* Le nommage\n",
    "* la variable de classe\n",
    "\n"
   ]
  },
  {
   "cell_type": "code",
   "execution_count": 13,
   "id": "707886ce",
   "metadata": {},
   "outputs": [],
   "source": [
    "r1 = Rectangle(5, 3)"
   ]
  },
  {
   "cell_type": "code",
   "execution_count": 14,
   "id": "7e13d1a9",
   "metadata": {},
   "outputs": [],
   "source": [
    "r2 = Rectangle(8,5)"
   ]
  },
  {
   "cell_type": "code",
   "execution_count": 15,
   "id": "1c5b9ad3",
   "metadata": {},
   "outputs": [
    {
     "data": {
      "text/plain": [
       "{'longueur': 5, 'largeur': 3}"
      ]
     },
     "execution_count": 15,
     "metadata": {},
     "output_type": "execute_result"
    }
   ],
   "source": [
    "vars(r1)"
   ]
  },
  {
   "cell_type": "code",
   "execution_count": 16,
   "id": "c4e2ef13",
   "metadata": {},
   "outputs": [
    {
     "data": {
      "text/plain": [
       "8"
      ]
     },
     "execution_count": 16,
     "metadata": {},
     "output_type": "execute_result"
    }
   ],
   "source": [
    "r1.calcul_surface()"
   ]
  },
  {
   "cell_type": "code",
   "execution_count": 17,
   "id": "7e362b16",
   "metadata": {},
   "outputs": [
    {
     "name": "stdout",
     "output_type": "stream",
     "text": [
      "5 3\n",
      "8 5\n"
     ]
    }
   ],
   "source": [
    "for item in Rectangle.liste_rect:\n",
    "    print(item.longueur, item.largeur)"
   ]
  },
  {
   "cell_type": "markdown",
   "id": "7e2342f4",
   "metadata": {},
   "source": [
    "#### Expliquer la variante qui consiste à ajouter l'appel des methodes perimetre et surface dans le constructeur\n"
   ]
  },
  {
   "cell_type": "markdown",
   "id": "9ad47f0e",
   "metadata": {},
   "source": [
    "```\n",
    "\n",
    "def __init__(self, longueur, largeur):\n",
    "        self.longueur = longueur\n",
    "        self.largeur  = largeur\n",
    "        self.calcul_perimetre()\n",
    "        self.calcul_surface()\n",
    "        Rectangle.liste_rect.append(self)\n",
    "```\n"
   ]
  },
  {
   "cell_type": "markdown",
   "id": "2c86fee2",
   "metadata": {},
   "source": [
    "##  Le module  \"Pickle\"  facilite la sauvegarde d'objet (sérialisation => mise à plat) "
   ]
  },
  {
   "cell_type": "code",
   "execution_count": 19,
   "id": "96ea1e99",
   "metadata": {},
   "outputs": [],
   "source": [
    "import pickle\n",
    "with open('mes_objets.pickle', 'wb') as f1:\n",
    "    pickle.dump(Rectangle.liste_rect, f1)"
   ]
  },
  {
   "cell_type": "code",
   "execution_count": 20,
   "id": "4cbf8463",
   "metadata": {},
   "outputs": [
    {
     "name": "stdout",
     "output_type": "stream",
     "text": [
      "[<__main__.Rectangle object at 0x000002D3DDB0CD90>, <__main__.Rectangle object at 0x000002D3DDB0CF10>] <class 'list'>\n"
     ]
    }
   ],
   "source": [
    "with open('mes_objets.pickle', 'rb') as f1:\n",
    "    ll = pickle.load(f1)\n",
    "    \n",
    "print(ll, type(ll))    "
   ]
  },
  {
   "cell_type": "code",
   "execution_count": 21,
   "id": "3c56d24e",
   "metadata": {},
   "outputs": [
    {
     "name": "stdout",
     "output_type": "stream",
     "text": [
      "5 3\n",
      "8 5\n"
     ]
    }
   ],
   "source": [
    "for item in ll:\n",
    "    print(item.longueur, item.largeur)"
   ]
  },
  {
   "cell_type": "markdown",
   "id": "4717aaab",
   "metadata": {},
   "source": [
    "## Utilisation de tests intégrés à la documentation doctest pour sécuriser la refactorisation"
   ]
  },
  {
   "cell_type": "markdown",
   "id": "a4033b9c",
   "metadata": {},
   "source": [
    "Principes :\n",
    "    \n",
    "* Ajouter  des instructions Python dans la docstring.  (exemple: >>> print('eric')\n",
    "* Faire suivre ces lignes par des résultats attendus.  (exemple:'eric' )\n",
    "\n",
    "* Puis lancer les tests.\n"
   ]
  },
  {
   "cell_type": "code",
   "execution_count": 22,
   "id": "58480726",
   "metadata": {},
   "outputs": [],
   "source": [
    "def calcul_somme_produit(a, b):\n",
    "    ''' cette fonction retourne la somme et le produit de deux nombres\n",
    "    >>> calcul_somme_produit(3, 4)\n",
    "    (7, 12)\n",
    "    \n",
    "    '''\n",
    "    return( a + b , a * b)"
   ]
  },
  {
   "cell_type": "code",
   "execution_count": 23,
   "id": "00eefa7e",
   "metadata": {},
   "outputs": [
    {
     "name": "stdout",
     "output_type": "stream",
     "text": [
      "Finding tests in NoName\n",
      "Trying:\n",
      "    calcul_somme_produit(3, 4)\n",
      "Expecting:\n",
      "    (7, 12)\n",
      "ok\n"
     ]
    }
   ],
   "source": [
    "import doctest          \n",
    "doctest.run_docstring_examples(calcul_somme_produit,None, verbose = 1)"
   ]
  }
 ],
 "metadata": {
  "kernelspec": {
   "display_name": "Python 3 (ipykernel)",
   "language": "python",
   "name": "python3"
  },
  "language_info": {
   "codemirror_mode": {
    "name": "ipython",
    "version": 3
   },
   "file_extension": ".py",
   "mimetype": "text/x-python",
   "name": "python",
   "nbconvert_exporter": "python",
   "pygments_lexer": "ipython3",
   "version": "3.9.12"
  }
 },
 "nbformat": 4,
 "nbformat_minor": 5
}
