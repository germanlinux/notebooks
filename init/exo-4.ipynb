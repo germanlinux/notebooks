{
 "cells": [
  {
   "cell_type": "markdown",
   "metadata": {},
   "source": [
    "## 1. Créer un set reprenant les familles des cartes {pique, trefle etc. }\n"
   ]
  },
  {
   "cell_type": "code",
   "execution_count": 2,
   "metadata": {},
   "outputs": [],
   "source": [
    "familles = {'carreau', 'trefle' , 'pique' , 'coeur'}"
   ]
  },
  {
   "cell_type": "markdown",
   "metadata": {},
   "source": [
    "## 2. Obtenir une liste triée du set familles"
   ]
  },
  {
   "cell_type": "code",
   "execution_count": 4,
   "metadata": {},
   "outputs": [
    {
     "name": "stdout",
     "output_type": "stream",
     "text": [
      "['carreau', 'coeur', 'pique', 'trefle']\n"
     ]
    }
   ],
   "source": [
    "familles_tries = sorted(list(familles)) \n",
    "print(familles_tries)"
   ]
  },
  {
   "cell_type": "markdown",
   "metadata": {},
   "source": [
    "## 3. Soit les sets {‘a’, ‘b’ , ‘e’} et {‘c’, ‘d’}\n",
    "### Exprimer la réunion des deux ensembles\n"
   ]
  },
  {
   "cell_type": "code",
   "execution_count": 6,
   "metadata": {},
   "outputs": [],
   "source": [
    "s1 =  {'a', 'b' , 'e'}\n",
    "s2 = {'c', 'd'}\n"
   ]
  },
  {
   "cell_type": "code",
   "execution_count": 8,
   "metadata": {},
   "outputs": [
    {
     "name": "stdout",
     "output_type": "stream",
     "text": [
      "{'a', 'e', 'c', 'b', 'd'}\n"
     ]
    }
   ],
   "source": [
    "reunion  = s1.union(s2)\n",
    "print(reunion)"
   ]
  },
  {
   "cell_type": "markdown",
   "metadata": {},
   "source": [
    "## 4. Soit la liste [1, 2, 2, 3, 4]\n",
    "### Rendre unique les éléments de cette liste\n"
   ]
  },
  {
   "cell_type": "code",
   "execution_count": 9,
   "metadata": {},
   "outputs": [],
   "source": [
    "a = [1, 2, 2 ,3 ,4]\n"
   ]
  },
  {
   "cell_type": "code",
   "execution_count": 10,
   "metadata": {},
   "outputs": [
    {
     "name": "stdout",
     "output_type": "stream",
     "text": [
      "[1, 2, 3, 4]\n"
     ]
    }
   ],
   "source": [
    "b = list(set(a))\n",
    "print(b)"
   ]
  },
  {
   "cell_type": "markdown",
   "metadata": {},
   "source": [
    "## 5. Transformer le dictionnaire {‘as’ : 11, 9 :14, ‘roi’ : 10} en  deux tuples et deux listes (clés et valeurs)\n"
   ]
  },
  {
   "cell_type": "code",
   "execution_count": 12,
   "metadata": {},
   "outputs": [],
   "source": [
    "mon_dict = {'as': 11, 9: 14, 'roi': 10}"
   ]
  },
  {
   "cell_type": "code",
   "execution_count": 18,
   "metadata": {},
   "outputs": [
    {
     "name": "stdout",
     "output_type": "stream",
     "text": [
      "('as', 9, 'roi')\n",
      "(11, 14, 10)\n",
      "['as', 9, 'roi']\n",
      "[11, 14, 10]\n"
     ]
    }
   ],
   "source": [
    "cles = tuple(mon_dict)\n",
    "valeurs = tuple(mon_dict.values())\n",
    "print(cles)\n",
    "print(valeurs)\n",
    "cles = list(mon_dict)\n",
    "valeurs = list(mon_dict.values())\n",
    "print(cles)\n",
    "print(valeurs)"
   ]
  },
  {
   "cell_type": "markdown",
   "metadata": {},
   "source": [
    "##  6. Assembler avec l'instruction ZIP deux listes: cles , valeurs en une liste de tuple (cle1, valeur1)   [('as', 11), (9, 14), ('roi', 10)]"
   ]
  },
  {
   "cell_type": "code",
   "execution_count": 21,
   "metadata": {},
   "outputs": [
    {
     "name": "stdout",
     "output_type": "stream",
     "text": [
      "<zip object at 0x000001DE4748F888>\n",
      "[('as', 11), (9, 14), ('roi', 10)]\n"
     ]
    }
   ],
   "source": [
    "liste = zip(cles, valeurs)\n",
    "print(liste)\n",
    "liste = list(liste)\n",
    "print(liste)"
   ]
  },
  {
   "cell_type": "code",
   "execution_count": null,
   "metadata": {},
   "outputs": [],
   "source": []
  }
 ],
 "metadata": {
  "kernelspec": {
   "display_name": "Python 3",
   "language": "python",
   "name": "python3"
  },
  "language_info": {
   "codemirror_mode": {
    "name": "ipython",
    "version": 3
   },
   "file_extension": ".py",
   "mimetype": "text/x-python",
   "name": "python",
   "nbconvert_exporter": "python",
   "pygments_lexer": "ipython3",
   "version": "3.7.4"
  }
 },
 "nbformat": 4,
 "nbformat_minor": 2
}
