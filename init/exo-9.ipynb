{
 "cells": [
  {
   "cell_type": "markdown",
   "metadata": {},
   "source": [
    "###  1 ) Soit la simulation d'un jeu de dé\n",
    "\n",
    "Creer une classe 'Dé'  qui accepte en parametre: un tuple avec le libelle des faces (numerique) \n",
    "implementer la méthode de lancé de dé (module math et methode randint) "
   ]
  },
  {
   "cell_type": "code",
   "execution_count": 1,
   "metadata": {},
   "outputs": [],
   "source": [
    "from random import randint # pour les tirages aléatoires"
   ]
  },
  {
   "cell_type": "code",
   "execution_count": 2,
   "metadata": {},
   "outputs": [],
   "source": [
    "class De:\n",
    "    def __init__(self, libelle):\n",
    "        self.nb_face = len(libelle)\n",
    "        self.libelle = libelle\n",
    "    \n",
    "    def roule_de(self):\n",
    "        nb = randint(0, self.nb_face - 1)\n",
    "        return(self.libelle[nb])"
   ]
  },
  {
   "cell_type": "markdown",
   "metadata": {},
   "source": [
    "###  2 ) instancier un objet dé et faire rouler le dé"
   ]
  },
  {
   "cell_type": "code",
   "execution_count": 3,
   "metadata": {},
   "outputs": [
    {
     "name": "stdout",
     "output_type": "stream",
     "text": [
      "4\n"
     ]
    }
   ],
   "source": [
    "mon_de = De((1,2,3,4))\n",
    "print(mon_de.roule_de())"
   ]
  },
  {
   "cell_type": "markdown",
   "metadata": {},
   "source": [
    "###  3) faire rouler 20 le dé"
   ]
  },
  {
   "cell_type": "code",
   "execution_count": 4,
   "metadata": {},
   "outputs": [
    {
     "name": "stdout",
     "output_type": "stream",
     "text": [
      "4\n",
      "1\n",
      "3\n",
      "2\n",
      "4\n",
      "1\n",
      "2\n",
      "4\n",
      "2\n",
      "4\n",
      "4\n",
      "4\n",
      "4\n",
      "4\n",
      "2\n",
      "2\n",
      "3\n",
      "1\n",
      "3\n",
      "3\n"
     ]
    }
   ],
   "source": [
    "for _ in range(20):\n",
    "    print(mon_de.roule_de())"
   ]
  },
  {
   "cell_type": "markdown",
   "metadata": {},
   "source": [
    "### 4) faire un dé avec comme face: les 4 figures d'un jeu de carte et la carte 10 et faire rouler 30 fois le dé"
   ]
  },
  {
   "cell_type": "code",
   "execution_count": 5,
   "metadata": {},
   "outputs": [
    {
     "name": "stdout",
     "output_type": "stream",
     "text": [
      "dame\n",
      "roi\n",
      "as\n",
      "10\n",
      "10\n",
      "dame\n",
      "as\n",
      "valet\n",
      "10\n",
      "10\n",
      "valet\n",
      "valet\n",
      "dame\n",
      "dame\n",
      "as\n",
      "10\n",
      "as\n",
      "10\n",
      "as\n",
      "10\n",
      "dame\n",
      "10\n",
      "valet\n",
      "dame\n",
      "10\n",
      "dame\n",
      "dame\n",
      "valet\n",
      "dame\n",
      "dame\n"
     ]
    }
   ],
   "source": [
    "mon_de = De(('as','roi','dame','valet',10))\n",
    "for _ in range(30):\n",
    "     print(mon_de.roule_de())"
   ]
  },
  {
   "cell_type": "markdown",
   "metadata": {},
   "source": [
    "### 5)  verifier sur 50000 lancés de dé que celui ci n'est pas pipé."
   ]
  },
  {
   "cell_type": "code",
   "execution_count": 6,
   "metadata": {},
   "outputs": [
    {
     "name": "stdout",
     "output_type": "stream",
     "text": [
      "valet 9948\n",
      "dame 9985\n",
      "roi 10025\n",
      "as 10053\n",
      "10 9989\n"
     ]
    }
   ],
   "source": [
    "dict_lance = {}\n",
    "for lance in range(50000) :\n",
    "    res = mon_de.roule_de()\n",
    "    if res in dict_lance:\n",
    "        dict_lance[res] += 1\n",
    "    else:\n",
    "        dict_lance[res] = 1\n",
    "for item in dict_lance:\n",
    "    print(item, dict_lance[item])\n",
    "     "
   ]
  },
  {
   "cell_type": "code",
   "execution_count": 7,
   "metadata": {},
   "outputs": [
    {
     "name": "stdout",
     "output_type": "stream",
     "text": [
      "valet 19.896\n",
      "dame 19.97\n",
      "roi 20.05\n",
      "as 20.105999999999998\n",
      "10 19.978\n"
     ]
    }
   ],
   "source": [
    "### afficher la frequence exprimée en pourcentage\n",
    "for item in dict_lance:\n",
    "    print(item, dict_lance[item]/50000 * 100)"
   ]
  },
  {
   "cell_type": "markdown",
   "metadata": {},
   "source": [
    "###  6) Afficher la frequence avec un 2 chiffres apres la virgule\n",
    "\n",
    "Plusieurs solutions possibles: voir le module decimal , l'instruction round  ou d'autres"
   ]
  },
  {
   "cell_type": "code",
   "execution_count": 8,
   "metadata": {},
   "outputs": [
    {
     "name": "stdout",
     "output_type": "stream",
     "text": [
      "valet 19.9\n",
      "dame 19.97\n",
      "roi 20.05\n",
      "as 20.11\n",
      "10 19.98\n"
     ]
    }
   ],
   "source": [
    "for item in dict_lance:\n",
    "    print(f\"{item} {round(dict_lance[item]/50000 * 100,2)}\")"
   ]
  },
  {
   "cell_type": "markdown",
   "metadata": {},
   "source": [
    "### 7) ajouter a sa classe : la python doc , les methodes pour str et repr  et une méthode pour vérifier l'equité du dé "
   ]
  },
  {
   "cell_type": "code",
   "execution_count": 9,
   "metadata": {},
   "outputs": [],
   "source": [
    "class De:\n",
    "    ''' La classe dé simule dé un avec un nombre de face variable  et des étiquettes au choix'''\n",
    "    def __init__(self, libelle):\n",
    "        self.nb_face = len(libelle)\n",
    "        self.libelle = libelle\n",
    "    \n",
    "    def roule_de(self):\n",
    "        nb = randint(0, self.nb_face - 1)\n",
    "        return(self.libelle[nb])\n",
    "    def __repr__(self):\n",
    "        return(f\"{id(self)};{self.libelle}\")\n",
    "    def __str__(self):\n",
    "        return(f\"un dé avec {self.libelle}\")\n",
    "    def est_juste(self, tirage):\n",
    "        dict_lance = {}       \n",
    "        for lance in range(tirage) :\n",
    "            res = mon_de.roule_de()\n",
    "            if res in dict_lance:\n",
    "                dict_lance[res] += 1\n",
    "            else:\n",
    "                dict_lance[res] = 1      \n",
    "        for item in dict_lance:\n",
    "            print(f\"{item} {round(dict_lance[item]/tirage * 100,2)}\")       "
   ]
  },
  {
   "cell_type": "code",
   "execution_count": 10,
   "metadata": {},
   "outputs": [
    {
     "name": "stdout",
     "output_type": "stream",
     "text": [
      "Help on class De in module __main__:\n",
      "\n",
      "class De(builtins.object)\n",
      " |  De(libelle)\n",
      " |  \n",
      " |  La classe dé simule un avec un nombre de face variable  et des étiquettes au choix\n",
      " |  \n",
      " |  Methods defined here:\n",
      " |  \n",
      " |  __init__(self, libelle)\n",
      " |      Initialize self.  See help(type(self)) for accurate signature.\n",
      " |  \n",
      " |  __repr__(self)\n",
      " |      Return repr(self).\n",
      " |  \n",
      " |  __str__(self)\n",
      " |      Return str(self).\n",
      " |  \n",
      " |  est_juste(self, tirage)\n",
      " |  \n",
      " |  roule_de(self)\n",
      " |  \n",
      " |  ----------------------------------------------------------------------\n",
      " |  Data descriptors defined here:\n",
      " |  \n",
      " |  __dict__\n",
      " |      dictionary for instance variables (if defined)\n",
      " |  \n",
      " |  __weakref__\n",
      " |      list of weak references to the object (if defined)\n",
      "\n"
     ]
    }
   ],
   "source": [
    "help(De)"
   ]
  },
  {
   "cell_type": "code",
   "execution_count": 11,
   "metadata": {},
   "outputs": [
    {
     "name": "stdout",
     "output_type": "stream",
     "text": [
      "un dé avec ('as', 'roi', 'dame', 'valet', 10)\n",
      "2701502210248;('as', 'roi', 'dame', 'valet', 10)\n"
     ]
    }
   ],
   "source": [
    "mon_de = De(('as','roi','dame','valet',10))\n",
    "print(str(mon_de))\n",
    "print(repr(mon_de))"
   ]
  },
  {
   "cell_type": "code",
   "execution_count": 12,
   "metadata": {},
   "outputs": [
    {
     "name": "stdout",
     "output_type": "stream",
     "text": [
      "10 20.9\n",
      "roi 19.3\n",
      "as 18.6\n",
      "valet 19.5\n",
      "dame 21.7\n",
      "None\n"
     ]
    }
   ],
   "source": [
    "print(mon_de.est_juste(1000))"
   ]
  },
  {
   "cell_type": "markdown",
   "metadata": {},
   "source": [
    "### 8)  Comment creer un dé pipé ?\n"
   ]
  },
  {
   "cell_type": "code",
   "execution_count": 13,
   "metadata": {},
   "outputs": [
    {
     "name": "stdout",
     "output_type": "stream",
     "text": [
      "dame 14.1\n",
      "valet 17.5\n",
      "10 34.3\n",
      "roi 17.4\n",
      "as 16.7\n",
      "None\n"
     ]
    }
   ],
   "source": [
    "mon_de = De(('as','roi','dame','valet',10, 10))\n",
    "print(mon_de.est_juste(1000))"
   ]
  },
  {
   "cell_type": "markdown",
   "metadata": {},
   "source": [
    "### 9) Aller plus loin : comment transformer la méthode 'est_juste' en booleen : retourne vrai ou faux'\n",
    "\n",
    "utilisation de l'instruction max et min"
   ]
  },
  {
   "cell_type": "code",
   "execution_count": 35,
   "metadata": {},
   "outputs": [],
   "source": [
    "class De:\n",
    "    ''' La classe dé simule un avec un nombre de face variable  et des étiquettes au choix'''\n",
    "    def __init__(self, libelle):\n",
    "        self.nb_face = len(libelle)\n",
    "        self.libelle = libelle\n",
    "    \n",
    "    def roule_de(self):\n",
    "        nb = randint(0, self.nb_face - 1)\n",
    "        return(self.libelle[nb])\n",
    "    def __repr__(self):\n",
    "        return(f\"{id(self)};{self.libelle}\")\n",
    "    def __str__(self):\n",
    "        return(f\"un dé avec {self.libelle}\")\n",
    "    def est_juste(self, tirage):\n",
    "        dict_lance = {}       \n",
    "        for lance in range(tirage) :\n",
    "            res = mon_de.roule_de()\n",
    "            if res in dict_lance:\n",
    "                dict_lance[res] += 1\n",
    "            else:\n",
    "                dict_lance[res] = 1      \n",
    "        liste_tirage = list(dict_lance.values())\n",
    "        if max(liste_tirage) - min(liste_tirage) > tirage/self.nb_face: \n",
    "            return False\n",
    "        else:\n",
    "            return True\n",
    "        \n",
    "            \n",
    "                   "
   ]
  },
  {
   "cell_type": "code",
   "execution_count": 36,
   "metadata": {},
   "outputs": [
    {
     "name": "stdout",
     "output_type": "stream",
     "text": [
      "True\n"
     ]
    }
   ],
   "source": [
    "mon_de = De(('as','roi','dame','valet',10))\n",
    "print(mon_de.est_juste(1000))"
   ]
  },
  {
   "cell_type": "code",
   "execution_count": 37,
   "metadata": {},
   "outputs": [
    {
     "name": "stdout",
     "output_type": "stream",
     "text": [
      "False\n"
     ]
    }
   ],
   "source": [
    "mon_de = De(('as','roi','dame','valet',10, 10))\n",
    "print(mon_de.est_juste(1000))"
   ]
  }
 ],
 "metadata": {
  "kernelspec": {
   "display_name": "Python 3",
   "language": "python",
   "name": "python3"
  },
  "language_info": {
   "codemirror_mode": {
    "name": "ipython",
    "version": 3
   },
   "file_extension": ".py",
   "mimetype": "text/x-python",
   "name": "python",
   "nbconvert_exporter": "python",
   "pygments_lexer": "ipython3",
   "version": "3.7.4"
  }
 },
 "nbformat": 4,
 "nbformat_minor": 2
}
