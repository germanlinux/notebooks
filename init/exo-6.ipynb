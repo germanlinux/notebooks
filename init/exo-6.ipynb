{
 "cells": [
  {
   "cell_type": "markdown",
   "metadata": {},
   "source": [
    "## Soit une fonction calibre qui reçoit en paramètre 'une chaine de caractère'\n"
   ]
  },
  {
   "cell_type": "markdown",
   "metadata": {},
   "source": [
    "Tester sa longueur :\n",
    "    \n",
    "* Si elle est inférieure à 4\n",
    "Afficher : ‘chaine : x..x’\n",
    "\n",
    "Sinon  prendre les 3 premiers caractères\n",
    "\n",
    "* Si le 3eme caractère est la lettre ‘i’  ajouter le 4eme caractère que s’il est différent de ‘e’\n",
    "\n",
    "Afficher le résultat ‘chaine : x..x’\n"
   ]
  },
  {
   "cell_type": "code",
   "execution_count": 5,
   "metadata": {},
   "outputs": [],
   "source": [
    "def calibre(chaine):\n",
    "    if len(chaine) < 4:\n",
    "        print(f\"chaine: {chaine}\")\n",
    "    else:\n",
    "        deb = chaine[:3]\n",
    "        if deb[2] == 'i' and chaine[3] != 'e' :\n",
    "            deb += chaine[3]\n",
    "        print((f\"chaine: {deb}\"))"
   ]
  },
  {
   "cell_type": "code",
   "execution_count": 6,
   "metadata": {},
   "outputs": [
    {
     "name": "stdout",
     "output_type": "stream",
     "text": [
      "chaine: mai\n",
      "chaine: juin\n",
      "chaine: juil\n",
      "chaine: moit\n",
      "chaine: mat\n"
     ]
    }
   ],
   "source": [
    "calibre('mai')\n",
    "calibre('juin')\n",
    "calibre('juillet')\n",
    "calibre('moite')\n",
    "calibre('maternelle')"
   ]
  },
  {
   "cell_type": "markdown",
   "metadata": {},
   "source": [
    "## Aller plus loin\n",
    "\n",
    "Refactoriser la fonction pour n'avoir qu'une seule instruction  print et qu'un seul 'if'"
   ]
  },
  {
   "cell_type": "code",
   "execution_count": 13,
   "metadata": {},
   "outputs": [],
   "source": [
    "def calibre(chaine):\n",
    "    deb = chaine[:3]\n",
    "    if len(chaine) >4 and  deb[2] == 'i' and chaine[3] != 'e' :\n",
    "            deb += chaine[3]\n",
    "    print((f\"chaine: {deb}\"))\n",
    "    "
   ]
  },
  {
   "cell_type": "code",
   "execution_count": 14,
   "metadata": {},
   "outputs": [
    {
     "name": "stdout",
     "output_type": "stream",
     "text": [
      "chaine: mai\n",
      "chaine: jui\n",
      "chaine: juil\n",
      "chaine: moit\n",
      "chaine: mat\n"
     ]
    }
   ],
   "source": [
    "calibre('mai')\n",
    "calibre('juin')\n",
    "calibre('juillet')\n",
    "calibre('moite')\n",
    "calibre('maternelle')"
   ]
  },
  {
   "cell_type": "code",
   "execution_count": null,
   "metadata": {},
   "outputs": [],
   "source": []
  }
 ],
 "metadata": {
  "kernelspec": {
   "display_name": "Python 3 (ipykernel)",
   "language": "python",
   "name": "python3"
  },
  "language_info": {
   "codemirror_mode": {
    "name": "ipython",
    "version": 3
   },
   "file_extension": ".py",
   "mimetype": "text/x-python",
   "name": "python",
   "nbconvert_exporter": "python",
   "pygments_lexer": "ipython3",
   "version": "3.9.12"
  }
 },
 "nbformat": 4,
 "nbformat_minor": 2
}
