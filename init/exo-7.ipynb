{
 "cells": [
  {
   "cell_type": "markdown",
   "metadata": {},
   "source": [
    "## Soit le dictionnaire"
   ]
  },
  {
   "cell_type": "code",
   "execution_count": 1,
   "metadata": {},
   "outputs": [],
   "source": [
    "dic = {'roi': 10, 'reine': 8 , 'valet': 6 , '9' : 14 , 'As' : 12 , 1: 12 }"
   ]
  },
  {
   "cell_type": "markdown",
   "metadata": {},
   "source": [
    "## 1 )Faire une boucle qui affiche les clés / valeurs du dictionnaire"
   ]
  },
  {
   "cell_type": "code",
   "execution_count": 2,
   "metadata": {},
   "outputs": [
    {
     "name": "stdout",
     "output_type": "stream",
     "text": [
      "roi => 10\n",
      "reine => 8\n",
      "valet => 6\n",
      "9 => 14\n",
      "As => 12\n",
      "1 => 12\n"
     ]
    }
   ],
   "source": [
    "for cle in dic:\n",
    "    print(f\"{cle} => {dic[cle]}\")"
   ]
  },
  {
   "cell_type": "markdown",
   "metadata": {},
   "source": [
    "## 2) A partir d'une chaine de caractère , afficher les frequences des lettres (pas des espaces)"
   ]
  },
  {
   "cell_type": "code",
   "execution_count": 3,
   "metadata": {},
   "outputs": [],
   "source": [
    "def compte(chaine):\n",
    "    dico = {}\n",
    "    for l in chaine:\n",
    "        if dico.get(l):\n",
    "            dico[l] += 1\n",
    "        else:\n",
    "            dico[l] = 1\n",
    "    if dico.get(' '):\n",
    "       del dico[' ']\n",
    "    for i in dico:\n",
    "        print(f\" {i}   => {dico[i]}\")"
   ]
  },
  {
   "cell_type": "code",
   "execution_count": 4,
   "metadata": {},
   "outputs": [
    {
     "name": "stdout",
     "output_type": "stream",
     "text": [
      " u   => 6\n",
      " n   => 2\n",
      " c   => 3\n",
      " o   => 6\n",
      " b   => 1\n",
      " j   => 1\n",
      " r   => 1\n",
      " h   => 1\n",
      " e   => 1\n",
      " z   => 1\n",
      " v   => 1\n",
      " s   => 1\n"
     ]
    }
   ],
   "source": [
    "compte('un coucou ou bonjour chez vous')"
   ]
  },
  {
   "cell_type": "code",
   "execution_count": 5,
   "metadata": {},
   "outputs": [
    {
     "name": "stdout",
     "output_type": "stream",
     "text": [
      " o   => 3\n",
      " u   => 1\n",
      " e   => 1\n",
      " t   => 1\n",
      " d   => 1\n",
      " n   => 2\n",
      " c   => 2\n",
      " r   => 2\n",
      " i   => 1\n",
      " a   => 1\n"
     ]
    }
   ],
   "source": [
    "compte('ouetdoncornicar')"
   ]
  },
  {
   "cell_type": "markdown",
   "metadata": {},
   "source": [
    "## Par quoi peut on remplacer le methode get d'un dictionnaire pour tester la présence d'une clé ?"
   ]
  },
  {
   "cell_type": "code",
   "execution_count": 6,
   "metadata": {},
   "outputs": [
    {
     "name": "stdout",
     "output_type": "stream",
     "text": [
      "la cle n existe pas\n",
      "la cle n existe pas\n"
     ]
    }
   ],
   "source": [
    "if dic.get('rien') :\n",
    "    print('la cle existe')\n",
    "else:\n",
    "    print('la cle n existe pas')\n",
    "\n",
    "    \n",
    "if 'rien'  in dic.keys():\n",
    "     print('la cle existe')\n",
    "else:\n",
    "    print('la cle n existe pas') "
   ]
  },
  {
   "cell_type": "markdown",
   "metadata": {},
   "source": [
    "## 3) Faire un boucle qui decompte de 11 à 2"
   ]
  },
  {
   "cell_type": "code",
   "execution_count": 7,
   "metadata": {},
   "outputs": [
    {
     "name": "stdout",
     "output_type": "stream",
     "text": [
      "11\n",
      "10\n",
      "9\n",
      "8\n",
      "7\n",
      "6\n",
      "5\n",
      "4\n",
      "3\n",
      "2\n"
     ]
    }
   ],
   "source": [
    "for nb in range(11,1,-1):\n",
    "    print(nb)"
   ]
  },
  {
   "cell_type": "markdown",
   "metadata": {},
   "source": [
    "## 4) Faire un boucle qui decompte de -11 à 0"
   ]
  },
  {
   "cell_type": "code",
   "execution_count": 8,
   "metadata": {},
   "outputs": [
    {
     "name": "stdout",
     "output_type": "stream",
     "text": [
      "-11\n",
      "-10\n",
      "-9\n",
      "-8\n",
      "-7\n",
      "-6\n",
      "-5\n",
      "-4\n",
      "-3\n",
      "-2\n",
      "-1\n",
      "0\n"
     ]
    }
   ],
   "source": [
    "for nb in range(-11,1):\n",
    "    print(nb)"
   ]
  },
  {
   "cell_type": "markdown",
   "metadata": {},
   "source": [
    "### 5) A partir de la liste 'a' faire une boucle qui affiche l'element de la liste précedé par son rang (utilisation d'un compteur)\n",
    "\n",
    "0 zero\n",
    "\n",
    "1 un\n",
    "\n",
    "2 deux\n",
    "\n",
    "3 trois"
   ]
  },
  {
   "cell_type": "code",
   "execution_count": 9,
   "metadata": {},
   "outputs": [],
   "source": [
    "a = ['zero', 'un', 'deux', 'trois']"
   ]
  },
  {
   "cell_type": "code",
   "execution_count": 10,
   "metadata": {},
   "outputs": [
    {
     "name": "stdout",
     "output_type": "stream",
     "text": [
      "0 zero\n",
      "1 un\n",
      "2 deux\n",
      "3 trois\n"
     ]
    }
   ],
   "source": [
    "cp = 0\n",
    "for item in a:\n",
    "    print(cp, item)\n",
    "    cp += 1\n",
    "    \n"
   ]
  },
  {
   "cell_type": "code",
   "execution_count": 11,
   "metadata": {},
   "outputs": [],
   "source": [
    "## même question en utilisant l'instruction 'enumerate'  (help ...)"
   ]
  },
  {
   "cell_type": "code",
   "execution_count": 12,
   "metadata": {},
   "outputs": [
    {
     "name": "stdout",
     "output_type": "stream",
     "text": [
      "Help on class enumerate in module builtins:\n",
      "\n",
      "class enumerate(object)\n",
      " |  enumerate(iterable, start=0)\n",
      " |  \n",
      " |  Return an enumerate object.\n",
      " |  \n",
      " |    iterable\n",
      " |      an object supporting iteration\n",
      " |  \n",
      " |  The enumerate object yields pairs containing a count (from start, which\n",
      " |  defaults to zero) and a value yielded by the iterable argument.\n",
      " |  \n",
      " |  enumerate is useful for obtaining an indexed list:\n",
      " |      (0, seq[0]), (1, seq[1]), (2, seq[2]), ...\n",
      " |  \n",
      " |  Methods defined here:\n",
      " |  \n",
      " |  __getattribute__(self, name, /)\n",
      " |      Return getattr(self, name).\n",
      " |  \n",
      " |  __iter__(self, /)\n",
      " |      Implement iter(self).\n",
      " |  \n",
      " |  __next__(self, /)\n",
      " |      Implement next(self).\n",
      " |  \n",
      " |  __reduce__(...)\n",
      " |      Return state information for pickling.\n",
      " |  \n",
      " |  ----------------------------------------------------------------------\n",
      " |  Static methods defined here:\n",
      " |  \n",
      " |  __new__(*args, **kwargs) from builtins.type\n",
      " |      Create and return a new object.  See help(type) for accurate signature.\n",
      "\n"
     ]
    }
   ],
   "source": [
    "help(enumerate)"
   ]
  },
  {
   "cell_type": "code",
   "execution_count": 13,
   "metadata": {},
   "outputs": [
    {
     "name": "stdout",
     "output_type": "stream",
     "text": [
      "0 zero\n",
      "1 un\n",
      "2 deux\n",
      "3 trois\n"
     ]
    }
   ],
   "source": [
    "for i,item in enumerate(a):\n",
    "    print(i,item)"
   ]
  },
  {
   "cell_type": "markdown",
   "metadata": {},
   "source": [
    "## Pour aller plus loin..\n",
    "\n",
    "### soit une liste de tuple : afficher chaque éléments individuellement\n"
   ]
  },
  {
   "cell_type": "code",
   "execution_count": 14,
   "metadata": {},
   "outputs": [],
   "source": [
    "tableau = [('z', 'v'), (4, 'r','c'), (18,)]\n",
    "#z\n",
    "#v\n",
    "#4\n",
    "#r\n",
    "#c\n",
    "#18"
   ]
  },
  {
   "cell_type": "code",
   "execution_count": 15,
   "metadata": {},
   "outputs": [
    {
     "name": "stdout",
     "output_type": "stream",
     "text": [
      "z\n",
      "v\n",
      "4\n",
      "r\n",
      "c\n",
      "18\n"
     ]
    }
   ],
   "source": [
    "for ligne in tableau:\n",
    "    for col in ligne:\n",
    "        print(col)"
   ]
  },
  {
   "cell_type": "code",
   "execution_count": null,
   "metadata": {},
   "outputs": [],
   "source": []
  }
 ],
 "metadata": {
  "kernelspec": {
   "display_name": "Python 3",
   "language": "python",
   "name": "python3"
  },
  "language_info": {
   "codemirror_mode": {
    "name": "ipython",
    "version": 3
   },
   "file_extension": ".py",
   "mimetype": "text/x-python",
   "name": "python",
   "nbconvert_exporter": "python",
   "pygments_lexer": "ipython3",
   "version": "3.7.4"
  }
 },
 "nbformat": 4,
 "nbformat_minor": 2
}
