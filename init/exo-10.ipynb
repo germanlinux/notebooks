{
 "cells": [
  {
   "cell_type": "markdown",
   "metadata": {},
   "source": [
    "###  Creer une classe de6 qui herite de la classe De \n",
    "\n",
    "La classe de6 construit un dé à 6 faces avec les libelles numeriques de 1 à 6"
   ]
  },
  {
   "cell_type": "code",
   "execution_count": 1,
   "metadata": {},
   "outputs": [],
   "source": [
    "from random import randint\n",
    "class De:\n",
    "    ''' La classe dé simule un dé avec un nombre de face variable  et des étiquettes au choix'''\n",
    "    def __init__(self, libelle):\n",
    "        self.nb_face = len(libelle)\n",
    "        self.libelle = libelle\n",
    "    \n",
    "    def roule_de(self):\n",
    "        nb = randint(0, self.nb_face - 1)\n",
    "        return(self.libelle[nb])\n",
    "    def __repr__(self):\n",
    "        return(f\"{id(self)};{self.libelle}\")\n",
    "    def __str__(self):\n",
    "        return(f\"un dé avec {self.libelle}\")\n",
    "    def est_juste(self, tirage):\n",
    "        dict_lance = {}       \n",
    "        for lance in range(tirage) :\n",
    "            res = mon_de.roule_de()\n",
    "            if res in dict_lance:\n",
    "                dict_lance[res] += 1\n",
    "            else:\n",
    "                dict_lance[res] = 1      \n",
    "        liste_tirage = list(dict_lance.values())\n",
    "        if max(liste_tirage) - min(liste_tirage) > tirage/self.nb_face: \n",
    "            return False\n",
    "        else:\n",
    "            return True\n",
    "        "
   ]
  },
  {
   "cell_type": "code",
   "execution_count": 2,
   "metadata": {},
   "outputs": [],
   "source": [
    "class De6(De):\n",
    "    def __init__(self):\n",
    "        super().__init__((1,2,3,4,5,6))\n",
    "        "
   ]
  },
  {
   "cell_type": "code",
   "execution_count": 3,
   "metadata": {},
   "outputs": [
    {
     "name": "stdout",
     "output_type": "stream",
     "text": [
      "un dé avec (1, 2, 3, 4, 5, 6)\n"
     ]
    }
   ],
   "source": [
    "mon_de = De6()\n",
    "print(str(mon_de))"
   ]
  },
  {
   "cell_type": "code",
   "execution_count": 4,
   "metadata": {},
   "outputs": [
    {
     "name": "stdout",
     "output_type": "stream",
     "text": [
      "{'nb_face': 6, 'libelle': (1, 2, 3, 4, 5, 6)}\n"
     ]
    }
   ],
   "source": [
    "print(vars(mon_de))"
   ]
  },
  {
   "cell_type": "code",
   "execution_count": 5,
   "metadata": {},
   "outputs": [
    {
     "name": "stdout",
     "output_type": "stream",
     "text": [
      "True\n"
     ]
    }
   ],
   "source": [
    "print(mon_de.est_juste(1000))"
   ]
  },
  {
   "cell_type": "markdown",
   "metadata": {},
   "source": [
    "### Creer un classe de_triche qui herite de la classe De. \n",
    "\n",
    "Elle triple les chances de sortie du dernier libelle et se comporte comme la classe Dé (masque la triche)"
   ]
  },
  {
   "cell_type": "code",
   "execution_count": 6,
   "metadata": {},
   "outputs": [],
   "source": [
    "class De_triche(De):\n",
    "    def __init__(self,libelle):\n",
    "        self.libelle_org = libelle\n",
    "        self_libelle_triche = self.libelle_org + (self.libelle_org[-1] , self.libelle_org[-1])\n",
    "        super().__init__( self_libelle_triche)\n",
    "    def __str__(self):\n",
    "        return(f\"un dé avec {self.libelle_org}\")\n",
    "    def __repr__(self):\n",
    "         return(f\"{id(self)};{self.libelle_org}\")\n",
    "    def  est_juste(self, tirage):\n",
    "        return True"
   ]
  },
  {
   "cell_type": "code",
   "execution_count": 7,
   "metadata": {},
   "outputs": [
    {
     "name": "stdout",
     "output_type": "stream",
     "text": [
      "6\n",
      "6\n",
      "6\n",
      "3\n",
      "3\n",
      "6\n",
      "5\n",
      "1\n",
      "6\n",
      "6\n",
      "6\n",
      "6\n",
      "3\n",
      "1\n",
      "5\n",
      "6\n",
      "1\n",
      "2\n",
      "5\n",
      "6\n",
      "6\n",
      "3\n",
      "6\n",
      "6\n",
      "2\n",
      "3\n",
      "5\n",
      "2\n",
      "1\n",
      "2\n",
      "1\n",
      "3\n",
      "2\n",
      "6\n",
      "6\n",
      "5\n",
      "2\n",
      "1\n",
      "6\n",
      "3\n",
      "1\n",
      "2\n",
      "3\n",
      "3\n",
      "6\n",
      "6\n",
      "6\n",
      "3\n",
      "6\n",
      "2\n",
      "True\n"
     ]
    }
   ],
   "source": [
    "mon_de = De_triche((1,2,3,5, 6))\n",
    "for _ in range(50):\n",
    "    print(mon_de.roule_de())\n",
    "print(mon_de.est_juste(1000))    "
   ]
  },
  {
   "cell_type": "code",
   "execution_count": 8,
   "metadata": {},
   "outputs": [
    {
     "name": "stdout",
     "output_type": "stream",
     "text": [
      "{'libelle_org': (1, 2, 3, 5, 6), 'nb_face': 7, 'libelle': (1, 2, 3, 5, 6, 6, 6)}\n"
     ]
    }
   ],
   "source": [
    "print(vars(mon_de))"
   ]
  },
  {
   "cell_type": "code",
   "execution_count": 9,
   "metadata": {},
   "outputs": [
    {
     "name": "stdout",
     "output_type": "stream",
     "text": [
      "un dé avec (1, 2, 3, 5, 6)\n"
     ]
    }
   ],
   "source": [
    "print(str(mon_de))"
   ]
  },
  {
   "cell_type": "code",
   "execution_count": 10,
   "metadata": {},
   "outputs": [
    {
     "name": "stdout",
     "output_type": "stream",
     "text": [
      "2258418399112;(1, 2, 3, 5, 6)\n"
     ]
    }
   ],
   "source": [
    "print(repr(mon_de))"
   ]
  },
  {
   "cell_type": "markdown",
   "metadata": {},
   "source": [
    "### Creer un classe dé double , qui à partir de la classe De6 , retourne le resultat du lancement de deux dés sous forme de tuple\n",
    "\n",
    "* Avec une nouvelle methode roule_deux \n",
    "* Avec surcharge de la méthode roule_de"
   ]
  },
  {
   "cell_type": "code",
   "execution_count": 11,
   "metadata": {},
   "outputs": [],
   "source": [
    "class De_double(De6):\n",
    "    def roule_deux(self):\n",
    "        un  = self.roule_de()\n",
    "        deux = self.roule_de()\n",
    "        return un,deux\n",
    "    "
   ]
  },
  {
   "cell_type": "code",
   "execution_count": 12,
   "metadata": {},
   "outputs": [
    {
     "data": {
      "text/plain": [
       "(5, 1)"
      ]
     },
     "execution_count": 12,
     "metadata": {},
     "output_type": "execute_result"
    }
   ],
   "source": [
    "mon_de = De_double()\n",
    "mon_de.roule_deux()"
   ]
  },
  {
   "cell_type": "code",
   "execution_count": 13,
   "metadata": {},
   "outputs": [],
   "source": [
    "class De_double(De6):\n",
    "    def roule_de(self):\n",
    "        un  = super().roule_de()\n",
    "        deux = super().roule_de()\n",
    "        return un,deux"
   ]
  },
  {
   "cell_type": "code",
   "execution_count": 14,
   "metadata": {},
   "outputs": [
    {
     "data": {
      "text/plain": [
       "(6, 5)"
      ]
     },
     "execution_count": 14,
     "metadata": {},
     "output_type": "execute_result"
    }
   ],
   "source": [
    "mon_de = De_double()\n",
    "mon_de.roule_de()"
   ]
  },
  {
   "cell_type": "code",
   "execution_count": null,
   "metadata": {},
   "outputs": [],
   "source": []
  }
 ],
 "metadata": {
  "kernelspec": {
   "display_name": "Python 3",
   "language": "python",
   "name": "python3"
  },
  "language_info": {
   "codemirror_mode": {
    "name": "ipython",
    "version": 3
   },
   "file_extension": ".py",
   "mimetype": "text/x-python",
   "name": "python",
   "nbconvert_exporter": "python",
   "pygments_lexer": "ipython3",
   "version": "3.7.4"
  }
 },
 "nbformat": 4,
 "nbformat_minor": 2
}
