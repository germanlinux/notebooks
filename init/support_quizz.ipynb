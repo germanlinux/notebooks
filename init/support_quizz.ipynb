{
 "cells": [
  {
   "cell_type": "code",
   "execution_count": 1,
   "id": "035f74a0",
   "metadata": {},
   "outputs": [],
   "source": [
    "a = 10\n",
    "def fonct(a):\n",
    "    b = a *10\n",
    "    a = b\n",
    "    return b\n",
    "\n",
    "c  = fonct(a)"
   ]
  },
  {
   "cell_type": "code",
   "execution_count": null,
   "id": "4e4e8e29",
   "metadata": {},
   "outputs": [],
   "source": [
    "def surface(L,l,h):\n",
    "    return L*l*h\n"
   ]
  }
 ],
 "metadata": {
  "kernelspec": {
   "display_name": "Python 3 (ipykernel)",
   "language": "python",
   "name": "python3"
  },
  "language_info": {
   "codemirror_mode": {
    "name": "ipython",
    "version": 3
   },
   "file_extension": ".py",
   "mimetype": "text/x-python",
   "name": "python",
   "nbconvert_exporter": "python",
   "pygments_lexer": "ipython3",
   "version": "3.9.12"
  }
 },
 "nbformat": 4,
 "nbformat_minor": 5
}
