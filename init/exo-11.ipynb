{
 "cells": [
  {
   "cell_type": "markdown",
   "metadata": {},
   "source": [
    "### Creer un fichier qui contendra 5 lignes de texte"
   ]
  },
  {
   "cell_type": "code",
   "execution_count": 1,
   "metadata": {},
   "outputs": [],
   "source": [
    "machaine = '''ma premiere ligne\n",
    "et la deuxieme ligne''' \n",
    "machaine2 = machaine[::-1]\n",
    "with open('monfic11.txt', 'w')  as fic :\n",
    "        fic.write(f\"{machaine}\" + '\\n')\n",
    "        fic.write(f\"{machaine2}\" + '\\n')\n",
    "        fic.write(\"la 5eme ligne\\n\")"
   ]
  },
  {
   "cell_type": "markdown",
   "metadata": {},
   "source": [
    "### Ouvrir le fichier et afficher le contenu"
   ]
  },
  {
   "cell_type": "code",
   "execution_count": 3,
   "metadata": {},
   "outputs": [
    {
     "name": "stdout",
     "output_type": "stream",
     "text": [
      "ma premiere ligne\n",
      "et la deuxieme ligne\n",
      "engil emeixued al te\n",
      "engil ereimerp am\n",
      "la 5eme ligne\n"
     ]
    }
   ],
   "source": [
    "with  open('monfic11.txt')  as fic :\n",
    "    for ligne in fic:\n",
    "        print(ligne[:-1])\n",
    "\n",
    "# ma premiere ligne\n",
    "# et la deuxieme ligne\n",
    "# et engil emeixued al te\n",
    "# engil ereimerp am\n",
    "# la 5eme ligne        "
   ]
  },
  {
   "cell_type": "markdown",
   "metadata": {},
   "source": [
    "### Ajouter 4 lignes"
   ]
  },
  {
   "cell_type": "code",
   "execution_count": 4,
   "metadata": {},
   "outputs": [],
   "source": [
    "with open('monfic11.txt', 'a')  as fic :\n",
    "        fic.write(f\"{machaine}\" + '\\n')\n",
    "        fic.write(f\"{machaine2}\" + '\\n')"
   ]
  },
  {
   "cell_type": "markdown",
   "metadata": {},
   "source": [
    "### Creer une copie du fichier"
   ]
  },
  {
   "cell_type": "code",
   "execution_count": 5,
   "metadata": {},
   "outputs": [],
   "source": [
    "with  open('monfic11.txt')  as fic :\n",
    "    with open('monfichier2.txt','w') as sortie:\n",
    "        for ligne in fic:\n",
    "            sortie.write(ligne)\n",
    "            \n",
    "       "
   ]
  },
  {
   "cell_type": "markdown",
   "metadata": {},
   "source": [
    "### Ecrire une ligne sur deux dans un fichier"
   ]
  },
  {
   "cell_type": "code",
   "execution_count": 6,
   "metadata": {},
   "outputs": [],
   "source": [
    "flag = 0\n",
    "with  open('monfic11.txt')  as fic :\n",
    "    with open('monfichier3.txt','w') as sortie:\n",
    "        for ligne in fic:\n",
    "            if flag == 0:\n",
    "                sortie.write(ligne)\n",
    "                flag = 1\n",
    "            else:\n",
    "                flag= 0"
   ]
  }
 ],
 "metadata": {
  "kernelspec": {
   "display_name": "Python 3",
   "language": "python",
   "name": "python3"
  },
  "language_info": {
   "codemirror_mode": {
    "name": "ipython",
    "version": 3
   },
   "file_extension": ".py",
   "mimetype": "text/x-python",
   "name": "python",
   "nbconvert_exporter": "python",
   "pygments_lexer": "ipython3",
   "version": "3.7.4"
  }
 },
 "nbformat": 4,
 "nbformat_minor": 2
}
