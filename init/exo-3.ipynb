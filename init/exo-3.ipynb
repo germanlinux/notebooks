{
 "cells": [
  {
   "cell_type": "markdown",
   "metadata": {},
   "source": [
    "### Ecrire une fonction qui prendra en entrée une chaîne de type ‘20190329’  (aaaammjj) et retourne 29/03/19 (jj/mm/AA)\n"
   ]
  },
  {
   "cell_type": "code",
   "execution_count": 13,
   "metadata": {},
   "outputs": [],
   "source": [
    "def formate(datebrute):\n",
    "    madate = datebrute[-2:] + '/' + datebrute[4:6] + '/' + datebrute[2:4]\n",
    "    return madate "
   ]
  },
  {
   "cell_type": "code",
   "execution_count": 14,
   "metadata": {},
   "outputs": [
    {
     "name": "stdout",
     "output_type": "stream",
     "text": [
      "29/03/19\n"
     ]
    }
   ],
   "source": [
    "print(formate('20190329'))"
   ]
  },
  {
   "cell_type": "markdown",
   "metadata": {},
   "source": [
    "### Ecrire une fonction qui prend en entrée 3 paramètres : Prénom,Nom,téléphone et qui retourne: le début du nom complet ( en minuscule)  et le téléphone \n",
    "  exemple:      PIERRE’, ‘DUPONT’, ‘XXXXXXXXXX’  → ‘p.dupont:xx.xx.xx.xx.xx’"
   ]
  },
  {
   "cell_type": "code",
   "execution_count": 25,
   "metadata": {},
   "outputs": [],
   "source": [
    "def etat_civil(prenom, nom, tel):\n",
    "    debut_du_nom = f\"{prenom[0].lower()}.{nom.lower()}\"\n",
    "    telephone = f\"{tel[:2]}.{tel[2:4]}.{tel[4:6]}.{tel[6:8]}.{tel[8:]}\"\n",
    "    return(f\"{debut_du_nom}:{telephone}\")                  "
   ]
  },
  {
   "cell_type": "code",
   "execution_count": 26,
   "metadata": {},
   "outputs": [
    {
     "name": "stdout",
     "output_type": "stream",
     "text": [
      "p.dupont:12.34.56.78.90\n"
     ]
    }
   ],
   "source": [
    "chaine = etat_civil('PIERRE', 'DUPONT', '1234567890' )\n",
    "print(chaine)"
   ]
  },
  {
   "cell_type": "markdown",
   "metadata": {},
   "source": [
    "### Aller plus loin.."
   ]
  },
  {
   "cell_type": "markdown",
   "metadata": {},
   "source": [
    "#### faire un fonction qui prend un mot en parametre et qui retourne uniquement une lettre sur 2. "
   ]
  },
  {
   "cell_type": "code",
   "execution_count": 27,
   "metadata": {},
   "outputs": [],
   "source": [
    "def une_sur_deux(mot):\n",
    "    return mot[::2]"
   ]
  },
  {
   "cell_type": "code",
   "execution_count": 28,
   "metadata": {},
   "outputs": [
    {
     "name": "stdout",
     "output_type": "stream",
     "text": [
      "arcdba\n"
     ]
    }
   ],
   "source": [
    "print(une_sur_deux('abracadabra)'))"
   ]
  },
  {
   "cell_type": "markdown",
   "metadata": {},
   "source": [
    "####  même question mais en en inversant l'ordre "
   ]
  },
  {
   "cell_type": "code",
   "execution_count": 36,
   "metadata": {},
   "outputs": [],
   "source": [
    "def une_sur_xued(mot):\n",
    "    return mot[::-2]"
   ]
  },
  {
   "cell_type": "code",
   "execution_count": 37,
   "metadata": {},
   "outputs": [
    {
     "name": "stdout",
     "output_type": "stream",
     "text": [
      "abdcra\n"
     ]
    }
   ],
   "source": [
    "print(une_sur_xued('abracadabra'))"
   ]
  },
  {
   "cell_type": "code",
   "execution_count": null,
   "metadata": {},
   "outputs": [],
   "source": []
  }
 ],
 "metadata": {
  "kernelspec": {
   "display_name": "Python 3",
   "language": "python",
   "name": "python3"
  },
  "language_info": {
   "codemirror_mode": {
    "name": "ipython",
    "version": 3
   },
   "file_extension": ".py",
   "mimetype": "text/x-python",
   "name": "python",
   "nbconvert_exporter": "python",
   "pygments_lexer": "ipython3",
   "version": "3.7.4"
  }
 },
 "nbformat": 4,
 "nbformat_minor": 2
}
