{
 "cells": [
  {
   "cell_type": "markdown",
   "metadata": {},
   "source": [
    "###  1) A partir d’une chaine de caractère :\n",
    "\n",
    "* Compter le nombre de mot avec une boucle while\n",
    "* Exemple: un espace = 2 mots , 3 espaces = mots etc..\n"
   ]
  },
  {
   "cell_type": "code",
   "execution_count": 9,
   "metadata": {},
   "outputs": [],
   "source": [
    "def compte_while(chaine):\n",
    "    cp = 0\n",
    "    curseur = 0\n",
    "    while curseur < len(chaine):\n",
    "        if chaine[curseur] == ' ':\n",
    "            cp += 1\n",
    "        curseur += 1    \n",
    "    return cp + 1            "
   ]
  },
  {
   "cell_type": "code",
   "execution_count": 10,
   "metadata": {},
   "outputs": [
    {
     "name": "stdout",
     "output_type": "stream",
     "text": [
      "8\n"
     ]
    }
   ],
   "source": [
    "print(compte_while('compte le nombre de mot de cette chaine'))"
   ]
  },
  {
   "cell_type": "markdown",
   "metadata": {},
   "source": [
    "### Même question avec un for"
   ]
  },
  {
   "cell_type": "code",
   "execution_count": 12,
   "metadata": {},
   "outputs": [],
   "source": [
    "def compte_for(chaine):\n",
    "    cp = 0\n",
    "    for lettre in chaine:\n",
    "        if lettre  == ' ':\n",
    "            cp += 1\n",
    "    return cp + 1            "
   ]
  },
  {
   "cell_type": "code",
   "execution_count": 13,
   "metadata": {},
   "outputs": [
    {
     "name": "stdout",
     "output_type": "stream",
     "text": [
      "8\n"
     ]
    }
   ],
   "source": [
    "print(compte_for('compte le nombre de mot de cette chaine'))"
   ]
  },
  {
   "cell_type": "markdown",
   "metadata": {},
   "source": [
    "### Instruction count de la classe str"
   ]
  },
  {
   "cell_type": "code",
   "execution_count": 15,
   "metadata": {},
   "outputs": [
    {
     "name": "stdout",
     "output_type": "stream",
     "text": [
      "8\n"
     ]
    }
   ],
   "source": [
    "print('compte le nombre de mot de cette chaine'.count(' ')  + 1)"
   ]
  },
  {
   "cell_type": "markdown",
   "metadata": {},
   "source": [
    "### 2) Soit la liste de chaine de caractère  de type : nom;prenom;direction;indice"
   ]
  },
  {
   "cell_type": "code",
   "execution_count": 22,
   "metadata": {},
   "outputs": [],
   "source": [
    "a = [\"dupont;jean;dgfip;634\", \"MartiN;fELIX;insee ;624\", \"durand; Pierre;SG; 900\" ]"
   ]
  },
  {
   "cell_type": "markdown",
   "metadata": {},
   "source": [
    "#### sortir une liste d'adresse mail : 1ere lettre du prenom + nom '@' direction.fr Tout en minuscule \n",
    "####  Faire le total des indices\n",
    "\n",
    "Utiliser les méthodes split, strip etc. de la classe str"
   ]
  },
  {
   "cell_type": "markdown",
   "metadata": {},
   "source": [
    "#### Version basique"
   ]
  },
  {
   "cell_type": "code",
   "execution_count": 23,
   "metadata": {},
   "outputs": [
    {
     "name": "stdout",
     "output_type": "stream",
     "text": [
      "jdupont@dgfip.fr\n",
      "fmartin@insee .fr\n",
      " durand@sg.fr\n"
     ]
    }
   ],
   "source": [
    "for ligne in a:\n",
    "    tab = ligne.split(';')\n",
    "    mail = tab[1][0].lower() + tab[0].lower() + '@' + tab[2].lower() + '.fr'\n",
    "    print(mail)"
   ]
  },
  {
   "cell_type": "markdown",
   "metadata": {},
   "source": [
    "#### version avancee"
   ]
  },
  {
   "cell_type": "code",
   "execution_count": 26,
   "metadata": {},
   "outputs": [],
   "source": [
    "def formate(champs):\n",
    "    return champs.lower().strip()"
   ]
  },
  {
   "cell_type": "code",
   "execution_count": 28,
   "metadata": {},
   "outputs": [
    {
     "name": "stdout",
     "output_type": "stream",
     "text": [
      "jdupont@dgfip.fr\n",
      "fmartin@insee.fr\n",
      "pdurand@sg.fr\n"
     ]
    }
   ],
   "source": [
    "for ligne in a:\n",
    "    tab = ligne.split(';')\n",
    "    mail = formate(tab[1])[0] +  formate(tab[0]) +   '@' + formate(tab[2]) + '.fr'\n",
    "    print(mail)"
   ]
  },
  {
   "cell_type": "markdown",
   "metadata": {},
   "source": [
    "### calcul indice\n"
   ]
  },
  {
   "cell_type": "code",
   "execution_count": 33,
   "metadata": {},
   "outputs": [
    {
     "name": "stdout",
     "output_type": "stream",
     "text": [
      "2158\n"
     ]
    }
   ],
   "source": [
    "somme = 0\n",
    "for ligne in a:\n",
    "    tab = ligne.split(';')\n",
    "    somme += int(tab[3])\n",
    "print(somme)   # 2158 "
   ]
  }
 ],
 "metadata": {
  "kernelspec": {
   "display_name": "Python 3",
   "language": "python",
   "name": "python3"
  },
  "language_info": {
   "codemirror_mode": {
    "name": "ipython",
    "version": 3
   },
   "file_extension": ".py",
   "mimetype": "text/x-python",
   "name": "python",
   "nbconvert_exporter": "python",
   "pygments_lexer": "ipython3",
   "version": "3.7.4"
  }
 },
 "nbformat": 4,
 "nbformat_minor": 2
}
