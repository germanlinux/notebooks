{
 "cells": [
  {
   "cell_type": "markdown",
   "metadata": {},
   "source": [
    "### Ecrire un fichier"
   ]
  },
  {
   "cell_type": "code",
   "execution_count": null,
   "metadata": {},
   "outputs": [],
   "source": [
    "s = \"ma chaine ligne \"\n",
    "with open('monfic.txt', 'w')  as fic :\n",
    "    for cp in range(5):\n",
    "        fic.write(f\"{s}{cp}\\n\")\n",
    "    "
   ]
  },
  {
   "cell_type": "markdown",
   "metadata": {},
   "source": [
    "### Lecture et traitement d un fichier"
   ]
  },
  {
   "cell_type": "code",
   "execution_count": null,
   "metadata": {},
   "outputs": [],
   "source": [
    "with open('monfic.txt')  as fic : # le mode 'r' read est par defaut\n",
    "    mes_lignes = fic.readlines()\n",
    "for une_ligne in mes_lignes:\n",
    "    print(une_ligne)\n",
    "    une_ligne= une_ligne[:-1]  # enleve le retour chariot\n",
    "    ## traitement d'une ligne\n",
    "    print(une_ligne)"
   ]
  },
  {
   "cell_type": "markdown",
   "metadata": {},
   "source": [
    "### Aller  plus loin\n",
    "\n",
    "Lire le fichier ligne par ligne et écrire les lignes contenant un chiffre impair "
   ]
  },
  {
   "cell_type": "code",
   "execution_count": null,
   "metadata": {},
   "outputs": [],
   "source": [
    "with open('monfic.txt')  as fic : # le mode 'r' read est par defaut\n",
    "    with  open('monficimp.txt','w')  as ficout:\n",
    "        for ma_ligne in fic: \n",
    "            if int(ma_ligne[-2]) % 2 == 1:\n",
    "                ficout.write(ma_ligne)"
   ]
  },
  {
   "cell_type": "code",
   "execution_count": null,
   "metadata": {},
   "outputs": [],
   "source": []
  }
 ],
 "metadata": {
  "kernelspec": {
   "display_name": "Python 3 (ipykernel)",
   "language": "python",
   "name": "python3"
  },
  "language_info": {
   "codemirror_mode": {
    "name": "ipython",
    "version": 3
   },
   "file_extension": ".py",
   "mimetype": "text/x-python",
   "name": "python",
   "nbconvert_exporter": "python",
   "pygments_lexer": "ipython3",
   "version": "3.9.12"
  }
 },
 "nbformat": 4,
 "nbformat_minor": 2
}
