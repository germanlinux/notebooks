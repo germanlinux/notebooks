{
 "cells": [
  {
   "cell_type": "markdown",
   "metadata": {},
   "source": [
    "## Le modèle de classe Python"
   ]
  },
  {
   "cell_type": "markdown",
   "metadata": {},
   "source": [
    "#### Une classe est un moule à gauffre\n",
    "\n",
    "* Il permet de fabriquer des gauffres\n",
    "* Une gaufre est un objet. C'est une instance de la classe gaufrier \n",
    "* Chaque gauffre differe très légèrement de toutes les autres (cuisson, texture, garniture)\n",
    "* Une gauffre se caractérise par des propriétés (taille, poids etc) et des comportements: Elle tombe toujours du mauvais coté sur le sol (loi de murphy)"
   ]
  },
  {
   "cell_type": "markdown",
   "metadata": {},
   "source": [
    "#### En python:\n",
    "\n",
    "* Une classe est un modèle\n",
    "\n",
    "Une variable qui instancie un objet d'une classe, ne contient rien d'autre qu'un pointeur vers un espace memoire qui va représenter l'objet: Des attributs et des méthodes\n"
   ]
  },
  {
   "cell_type": "markdown",
   "metadata": {},
   "source": [
    "### Avant de commencer:\n"
   ]
  },
  {
   "cell_type": "code",
   "execution_count": 3,
   "metadata": {},
   "outputs": [
    {
     "name": "stdout",
     "output_type": "stream",
     "text": [
      "chaine-de_a chaine de b\n"
     ]
    }
   ],
   "source": [
    "a = 'chaine-de_a'  # structure non mutable\n",
    "b = a \n",
    "b = 'chaine de b'\n",
    "print(a,b)"
   ]
  },
  {
   "cell_type": "code",
   "execution_count": null,
   "metadata": {},
   "outputs": [],
   "source": [
    "#### une chaine est un objet non mutable"
   ]
  },
  {
   "cell_type": "code",
   "execution_count": 4,
   "metadata": {},
   "outputs": [
    {
     "name": "stdout",
     "output_type": "stream",
     "text": [
      "[1, 3, 'effetdebord', 'Z'] [1, 3, 'effetdebord', 'Z']\n"
     ]
    }
   ],
   "source": [
    "a = [1 , 3 , 'e' , 'Z']  # strucure mutable\n",
    "b = a \n",
    "b[2] = 'effetdebord'\n",
    "print(a,b)"
   ]
  },
  {
   "cell_type": "code",
   "execution_count": 5,
   "metadata": {},
   "outputs": [],
   "source": [
    "#### a et b pointent vers la même reference"
   ]
  },
  {
   "cell_type": "code",
   "execution_count": null,
   "metadata": {},
   "outputs": [],
   "source": [
    "### demonstration sur https://pythontutor.com/"
   ]
  },
  {
   "cell_type": "code",
   "execution_count": null,
   "metadata": {},
   "outputs": [],
   "source": [
    "b = a[:]   # solution de contournement\n"
   ]
  },
  {
   "cell_type": "markdown",
   "metadata": {},
   "source": [
    "#### Apres cette disgression"
   ]
  },
  {
   "cell_type": "code",
   "execution_count": 8,
   "metadata": {},
   "outputs": [],
   "source": [
    "class Demos:   \n",
    "    def __init__(self, nom, prenom):\n",
    "        self.nom = nom\n",
    "        self.prenom = prenom\n",
    "    def affiche(self):\n",
    "        return(self.prenom + ' ' + self.nom.upper()   )"
   ]
  },
  {
   "cell_type": "code",
   "execution_count": 10,
   "metadata": {},
   "outputs": [
    {
     "name": "stdout",
     "output_type": "stream",
     "text": [
      "alain MARTIN\n"
     ]
    }
   ],
   "source": [
    "ma_demo1 = Demos('martin', 'alain')\n",
    "print(ma_demo1.affiche())"
   ]
  },
  {
   "cell_type": "code",
   "execution_count": 11,
   "metadata": {},
   "outputs": [
    {
     "data": {
      "text/plain": [
       "['__class__',\n",
       " '__delattr__',\n",
       " '__dict__',\n",
       " '__dir__',\n",
       " '__doc__',\n",
       " '__eq__',\n",
       " '__format__',\n",
       " '__ge__',\n",
       " '__getattribute__',\n",
       " '__gt__',\n",
       " '__hash__',\n",
       " '__init__',\n",
       " '__init_subclass__',\n",
       " '__le__',\n",
       " '__lt__',\n",
       " '__module__',\n",
       " '__ne__',\n",
       " '__new__',\n",
       " '__reduce__',\n",
       " '__reduce_ex__',\n",
       " '__repr__',\n",
       " '__setattr__',\n",
       " '__sizeof__',\n",
       " '__str__',\n",
       " '__subclasshook__',\n",
       " '__weakref__',\n",
       " 'affiche',\n",
       " 'nom',\n",
       " 'prenom']"
      ]
     },
     "execution_count": 11,
     "metadata": {},
     "output_type": "execute_result"
    }
   ],
   "source": [
    "dir(ma_demo1)"
   ]
  },
  {
   "cell_type": "code",
   "execution_count": 12,
   "metadata": {},
   "outputs": [
    {
     "data": {
      "text/plain": [
       "{'nom': 'martin', 'prenom': 'alain'}"
      ]
     },
     "execution_count": 12,
     "metadata": {},
     "output_type": "execute_result"
    }
   ],
   "source": [
    "vars(ma_demo1)"
   ]
  },
  {
   "cell_type": "code",
   "execution_count": 22,
   "metadata": {},
   "outputs": [],
   "source": [
    "ma_demo2 = ma_demo1\n",
    "ma_demo1.nom = 'dubois'"
   ]
  },
  {
   "cell_type": "code",
   "execution_count": 23,
   "metadata": {},
   "outputs": [
    {
     "name": "stdout",
     "output_type": "stream",
     "text": [
      "alain DUBOIS\n"
     ]
    }
   ],
   "source": [
    "print(ma_demo2.affiche())"
   ]
  },
  {
   "cell_type": "code",
   "execution_count": 24,
   "metadata": {},
   "outputs": [
    {
     "name": "stdout",
     "output_type": "stream",
     "text": [
      "alain DURAND\n",
      "alain DUBOIS\n"
     ]
    }
   ],
   "source": [
    "import copy\n",
    "ma_demo2 =copy.copy(ma_demo1)\n",
    "ma_demo1.nom ='Durand'\n",
    "print(ma_demo1.affiche())\n",
    "print(ma_demo2.affiche())"
   ]
  },
  {
   "cell_type": "markdown",
   "metadata": {},
   "source": [
    "### les methodes magiques\n",
    "\n",
    "elles sont encadrées par '__'"
   ]
  },
  {
   "cell_type": "code",
   "execution_count": 26,
   "metadata": {},
   "outputs": [
    {
     "name": "stdout",
     "output_type": "stream",
     "text": [
      "<__main__.Demos object at 0x0000023C74203248>\n"
     ]
    }
   ],
   "source": [
    "print(ma_demo2)"
   ]
  },
  {
   "cell_type": "code",
   "execution_count": 37,
   "metadata": {},
   "outputs": [],
   "source": [
    "class Demos:   \n",
    "    def __init__(self, nom, prenom):\n",
    "        self.nom = nom\n",
    "        self.prenom = prenom\n",
    "    def affiche(self):\n",
    "        return(self.prenom + ' ' + self.nom.upper()   )\n",
    "    def __str__(self):\n",
    "        return  f\"c est l objet {self.nom} {self.prenom}\"\n",
    "    def __repr__(self):\n",
    "        return  f\"Demos:{self.nom};{self.prenom}\"\n",
    "    "
   ]
  },
  {
   "cell_type": "code",
   "execution_count": 39,
   "metadata": {},
   "outputs": [
    {
     "name": "stdout",
     "output_type": "stream",
     "text": [
      "c est l objet martin alain\n",
      "Demos:martin;alain\n",
      "c est l objet martin alain\n"
     ]
    }
   ],
   "source": [
    "ma_demo1 = Demos('martin', 'alain')\n",
    "print(str(ma_demo1))\n",
    "print(repr(ma_demo1))\n",
    "print(ma_demo1)"
   ]
  },
  {
   "cell_type": "code",
   "execution_count": null,
   "metadata": {},
   "outputs": [],
   "source": []
  }
 ],
 "metadata": {
  "kernelspec": {
   "display_name": "Python 3 (ipykernel)",
   "language": "python",
   "name": "python3"
  },
  "language_info": {
   "codemirror_mode": {
    "name": "ipython",
    "version": 3
   },
   "file_extension": ".py",
   "mimetype": "text/x-python",
   "name": "python",
   "nbconvert_exporter": "python",
   "pygments_lexer": "ipython3",
   "version": "3.9.12"
  }
 },
 "nbformat": 4,
 "nbformat_minor": 2
}
