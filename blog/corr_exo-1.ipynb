{
 "cells": [
  {
   "cell_type": "code",
   "execution_count": 1,
   "id": "90ffaae7",
   "metadata": {},
   "outputs": [],
   "source": [
    "# Question 1 classe  Et logique\n",
    "class EtLogique:\n",
    "    '''simulateur de circuit logique ET'''\n",
    "    def __init__(self):\n",
    "        self.entreeX = 0\n",
    "        self.entreeY = 0\n",
    "        self.sortieET = 0\n",
    "    def etat(self):\n",
    "        self.sortieET = 0\n",
    "        if self.entreeX == 1 and self.entreeY == 1:\n",
    "            self.sortieET = 1\n",
    "            return self.sortieET\n",
    "        else:\n",
    "            return 0\n",
    "    def set_entreeX(self, valeur):\n",
    "        if valeur:\n",
    "            self.entreeX = 1\n",
    "        else:\n",
    "            self.entreeX = 0\n",
    "    \n",
    "    def set_entreeY(self, valeur):\n",
    "        if valeur:\n",
    "            self.entreeY = 1\n",
    "        else:\n",
    "            self.entreeY = 0\n",
    "                        "
   ]
  },
  {
   "cell_type": "code",
   "execution_count": 2,
   "id": "922cbbc6",
   "metadata": {},
   "outputs": [
    {
     "name": "stdout",
     "output_type": "stream",
     "text": [
      "0\n"
     ]
    }
   ],
   "source": [
    "composant1 = EtLogique()\n",
    "print(composant1.etat())"
   ]
  },
  {
   "cell_type": "code",
   "execution_count": 3,
   "id": "795d24e2",
   "metadata": {},
   "outputs": [],
   "source": [
    "composant1.set_entreeX(1)\n",
    "composant1.set_entreeY(True)"
   ]
  },
  {
   "cell_type": "code",
   "execution_count": 4,
   "id": "7bb9d5c6",
   "metadata": {},
   "outputs": [
    {
     "name": "stdout",
     "output_type": "stream",
     "text": [
      "1\n",
      "{'entreeX': 1, 'entreeY': 1, 'sortieET': 1}\n"
     ]
    }
   ],
   "source": [
    "print(composant1.etat())\n",
    "print(vars(composant1))"
   ]
  },
  {
   "cell_type": "code",
   "execution_count": 5,
   "id": "6b6fedef",
   "metadata": {},
   "outputs": [
    {
     "name": "stdout",
     "output_type": "stream",
     "text": [
      "0\n",
      "0\n",
      "0\n",
      "1\n"
     ]
    }
   ],
   "source": [
    "composant_test = EtLogique()\n",
    "cas = [(0,0), (1,0),(0,1), (1,1)]\n",
    "\n",
    "for item in cas:\n",
    "    composant_test.set_entreeX(item[0])\n",
    "    composant_test.set_entreeY(item[1])\n",
    "    print(composant_test.etat())\n",
    "    \n",
    "    "
   ]
  },
  {
   "cell_type": "code",
   "execution_count": 6,
   "id": "1a3f27cc",
   "metadata": {},
   "outputs": [
    {
     "name": "stdout",
     "output_type": "stream",
     "text": [
      "1\n",
      "{'entreeX': 1, 'entreeY': 1, 'sortieET': 1}\n"
     ]
    }
   ],
   "source": [
    "# Question 2 : circuit logique\n",
    "composant1  = EtLogique()\n",
    "composant2  = EtLogique()\n",
    "comp_resultat = EtLogique()\n",
    "composant1.set_entreeX(1)\n",
    "composant1.set_entreeY(1)\n",
    "\n",
    "composant2.set_entreeX(1)\n",
    "composant2.set_entreeY(1)\n",
    "\n",
    "comp_resultat.set_entreeX(composant1.etat())\n",
    "comp_resultat.set_entreeY(composant2.etat())\n",
    "print(comp_resultat.etat())\n",
    "print(vars(comp_resultat))\n"
   ]
  },
  {
   "cell_type": "code",
   "execution_count": 7,
   "id": "0a6c5bf8",
   "metadata": {},
   "outputs": [],
   "source": [
    "# Question 3 non logique\n",
    "class Non():\n",
    "    def __init__(self, composant):\n",
    "        self.composant = composant\n",
    "    def etat(self):\n",
    "        if self.composant.etat() == 1:\n",
    "            return 0\n",
    "        else:\n",
    "            return 1\n",
    "        "
   ]
  },
  {
   "cell_type": "code",
   "execution_count": 8,
   "id": "6494bada",
   "metadata": {},
   "outputs": [
    {
     "name": "stdout",
     "output_type": "stream",
     "text": [
      "1\n"
     ]
    }
   ],
   "source": [
    "compopsantEt = EtLogique()\n",
    "non1 = Non(compopsantEt)\n",
    "print(non1.etat())"
   ]
  },
  {
   "cell_type": "code",
   "execution_count": 9,
   "id": "90218357",
   "metadata": {},
   "outputs": [
    {
     "name": "stdout",
     "output_type": "stream",
     "text": [
      "0\n"
     ]
    }
   ],
   "source": [
    "# Question 4 NonET\n",
    "non_test = Non(composant1)\n",
    "print(non_test.etat())"
   ]
  },
  {
   "cell_type": "code",
   "execution_count": 10,
   "id": "866e64f5",
   "metadata": {},
   "outputs": [
    {
     "name": "stdout",
     "output_type": "stream",
     "text": [
      "0\n",
      "1\n"
     ]
    }
   ],
   "source": [
    "composant1.set_entreeY(0)\n",
    "print(composant1.etat())\n",
    "print(non_test.etat())"
   ]
  },
  {
   "cell_type": "code",
   "execution_count": null,
   "id": "7bdeac4d",
   "metadata": {},
   "outputs": [],
   "source": []
  }
 ],
 "metadata": {
  "kernelspec": {
   "display_name": "Python 3 (ipykernel)",
   "language": "python",
   "name": "python3"
  },
  "language_info": {
   "codemirror_mode": {
    "name": "ipython",
    "version": 3
   },
   "file_extension": ".py",
   "mimetype": "text/x-python",
   "name": "python",
   "nbconvert_exporter": "python",
   "pygments_lexer": "ipython3",
   "version": "3.9.12"
  }
 },
 "nbformat": 4,
 "nbformat_minor": 5
}
