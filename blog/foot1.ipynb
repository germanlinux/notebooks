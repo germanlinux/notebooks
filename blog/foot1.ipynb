{
 "cells": [
  {
   "cell_type": "code",
   "execution_count": 1,
   "id": "bef9df7a",
   "metadata": {},
   "outputs": [],
   "source": [
    "import pandas as pd\n"
   ]
  },
  {
   "cell_type": "code",
   "execution_count": 3,
   "id": "5ac61d75",
   "metadata": {},
   "outputs": [],
   "source": [
    "dt = pd.read_json('30.json')"
   ]
  },
  {
   "cell_type": "code",
   "execution_count": 6,
   "id": "49a6d0bc",
   "metadata": {},
   "outputs": [
    {
     "name": "stdout",
     "output_type": "stream",
     "text": [
      "<class 'pandas.core.frame.DataFrame'>\n",
      "RangeIndex: 52 entries, 0 to 51\n",
      "Data columns (total 18 columns):\n",
      " #   Column             Non-Null Count  Dtype \n",
      "---  ------             --------------  ----- \n",
      " 0   match_id           52 non-null     int64 \n",
      " 1   match_date         52 non-null     object\n",
      " 2   kick_off           52 non-null     object\n",
      " 3   competition        52 non-null     object\n",
      " 4   season             52 non-null     object\n",
      " 5   home_team          52 non-null     object\n",
      " 6   away_team          52 non-null     object\n",
      " 7   home_score         52 non-null     int64 \n",
      " 8   away_score         52 non-null     int64 \n",
      " 9   match_status       52 non-null     object\n",
      " 10  match_status_360   52 non-null     object\n",
      " 11  last_updated       52 non-null     object\n",
      " 12  last_updated_360   52 non-null     object\n",
      " 13  metadata           52 non-null     object\n",
      " 14  match_week         52 non-null     int64 \n",
      " 15  competition_stage  52 non-null     object\n",
      " 16  stadium            52 non-null     object\n",
      " 17  referee            36 non-null     object\n",
      "dtypes: int64(4), object(14)\n",
      "memory usage: 7.4+ KB\n"
     ]
    }
   ],
   "source": [
    "dt.info()"
   ]
  },
  {
   "cell_type": "code",
   "execution_count": 14,
   "id": "da26510c",
   "metadata": {},
   "outputs": [
    {
     "data": {
      "text/plain": [
       "Index(['match_id', 'match_date', 'kick_off', 'competition', 'season',\n",
       "       'home_team', 'away_team', 'home_score', 'away_score', 'match_status',\n",
       "       'match_status_360', 'last_updated', 'last_updated_360', 'metadata',\n",
       "       'match_week', 'competition_stage', 'stadium', 'referee'],\n",
       "      dtype='object')"
      ]
     },
     "execution_count": 14,
     "metadata": {},
     "output_type": "execute_result"
    }
   ],
   "source": [
    "dt.columns"
   ]
  },
  {
   "cell_type": "code",
   "execution_count": 20,
   "id": "007e35e6",
   "metadata": {},
   "outputs": [
    {
     "name": "stderr",
     "output_type": "stream",
     "text": [
      "<>:1: SyntaxWarning: str indices must be integers or slices, not str; perhaps you missed a comma?\n",
      "<>:1: SyntaxWarning: str indices must be integers or slices, not str; perhaps you missed a comma?\n",
      "C:\\Users\\33681\\AppData\\Local\\Temp\\ipykernel_9488\\2974164765.py:1: SyntaxWarning: str indices must be integers or slices, not str; perhaps you missed a comma?\n",
      "  dt.loc[:,[ 'home_team'['home_team-id'], 'away_team']]\n",
      "C:\\Users\\33681\\AppData\\Local\\Temp\\ipykernel_9488\\2974164765.py:1: SyntaxWarning: str indices must be integers or slices, not str; perhaps you missed a comma?\n",
      "  dt.loc[:,[ 'home_team'['home_team-id'], 'away_team']]\n",
      "C:\\Users\\33681\\AppData\\Local\\Temp\\ipykernel_9488\\2974164765.py:1: SyntaxWarning: str indices must be integers or slices, not str; perhaps you missed a comma?\n",
      "  dt.loc[:,[ 'home_team'['home_team-id'], 'away_team']]\n",
      "C:\\Users\\33681\\AppData\\Local\\Temp\\ipykernel_9488\\2974164765.py:1: SyntaxWarning: str indices must be integers or slices, not str; perhaps you missed a comma?\n",
      "  dt.loc[:,[ 'home_team'['home_team-id'], 'away_team']]\n"
     ]
    },
    {
     "ename": "TypeError",
     "evalue": "string indices must be integers",
     "output_type": "error",
     "traceback": [
      "\u001b[1;31m---------------------------------------------------------------------------\u001b[0m",
      "\u001b[1;31mTypeError\u001b[0m                                 Traceback (most recent call last)",
      "Input \u001b[1;32mIn [20]\u001b[0m, in \u001b[0;36m<cell line: 1>\u001b[1;34m()\u001b[0m\n\u001b[1;32m----> 1\u001b[0m dt\u001b[38;5;241m.\u001b[39mloc[:,[ \u001b[38;5;124;43m'\u001b[39;49m\u001b[38;5;124;43mhome_team\u001b[39;49m\u001b[38;5;124;43m'\u001b[39;49m\u001b[43m[\u001b[49m\u001b[38;5;124;43m'\u001b[39;49m\u001b[38;5;124;43mhome_team-id\u001b[39;49m\u001b[38;5;124;43m'\u001b[39;49m\u001b[43m]\u001b[49m, \u001b[38;5;124m'\u001b[39m\u001b[38;5;124maway_team\u001b[39m\u001b[38;5;124m'\u001b[39m]]\n",
      "\u001b[1;31mTypeError\u001b[0m: string indices must be integers"
     ]
    }
   ],
   "source": [
    "dt.loc[:,[ 'home_team', 'away_team']]"
   ]
  },
  {
   "cell_type": "code",
   "execution_count": null,
   "id": "229770b6",
   "metadata": {},
   "outputs": [],
   "source": []
  }
 ],
 "metadata": {
  "kernelspec": {
   "display_name": "Python 3 (ipykernel)",
   "language": "python",
   "name": "python3"
  },
  "language_info": {
   "codemirror_mode": {
    "name": "ipython",
    "version": 3
   },
   "file_extension": ".py",
   "mimetype": "text/x-python",
   "name": "python",
   "nbconvert_exporter": "python",
   "pygments_lexer": "ipython3",
   "version": "3.9.12"
  }
 },
 "nbformat": 4,
 "nbformat_minor": 5
}
