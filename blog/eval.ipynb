{
 "cells": [
  {
   "cell_type": "code",
   "execution_count": 2,
   "id": "149e0e2e",
   "metadata": {},
   "outputs": [
    {
     "data": {
      "text/plain": [
       "9"
      ]
     },
     "execution_count": 2,
     "metadata": {},
     "output_type": "execute_result"
    }
   ],
   "source": [
    "eval('4+5')"
   ]
  },
  {
   "cell_type": "code",
   "execution_count": 5,
   "id": "6e665fe2",
   "metadata": {},
   "outputs": [],
   "source": [
    "from dataclasses import dataclass"
   ]
  },
  {
   "cell_type": "code",
   "execution_count": 16,
   "id": "341fa7e1",
   "metadata": {},
   "outputs": [],
   "source": [
    "@dataclass\n",
    "class Demo():\n",
    "    age: int"
   ]
  },
  {
   "cell_type": "code",
   "execution_count": 17,
   "id": "c7450ece",
   "metadata": {},
   "outputs": [],
   "source": [
    "un = Demo(20)"
   ]
  },
  {
   "cell_type": "code",
   "execution_count": 18,
   "id": "86324807",
   "metadata": {},
   "outputs": [
    {
     "data": {
      "text/plain": [
       "'Demo(age=20)'"
      ]
     },
     "execution_count": 18,
     "metadata": {},
     "output_type": "execute_result"
    }
   ],
   "source": [
    "repr(un)"
   ]
  },
  {
   "cell_type": "code",
   "execution_count": 19,
   "id": "39a6aeff",
   "metadata": {},
   "outputs": [
    {
     "name": "stdout",
     "output_type": "stream",
     "text": [
      "Demo(age=20)\n"
     ]
    }
   ],
   "source": [
    "print(un)"
   ]
  },
  {
   "cell_type": "code",
   "execution_count": 20,
   "id": "8bbe2c72",
   "metadata": {},
   "outputs": [],
   "source": [
    "deux= eval(repr(un))"
   ]
  },
  {
   "cell_type": "code",
   "execution_count": 21,
   "id": "2e6ecafd",
   "metadata": {},
   "outputs": [
    {
     "name": "stdout",
     "output_type": "stream",
     "text": [
      "Demo(age=20)\n"
     ]
    }
   ],
   "source": [
    "print(deux)"
   ]
  },
  {
   "cell_type": "code",
   "execution_count": 22,
   "id": "e6b9ee3d",
   "metadata": {},
   "outputs": [
    {
     "data": {
      "text/plain": [
       "__main__.Demo"
      ]
     },
     "execution_count": 22,
     "metadata": {},
     "output_type": "execute_result"
    }
   ],
   "source": [
    "type(deux)"
   ]
  },
  {
   "cell_type": "code",
   "execution_count": null,
   "id": "2e09a8af",
   "metadata": {},
   "outputs": [],
   "source": []
  }
 ],
 "metadata": {
  "kernelspec": {
   "display_name": "Python 3 (ipykernel)",
   "language": "python",
   "name": "python3"
  },
  "language_info": {
   "codemirror_mode": {
    "name": "ipython",
    "version": 3
   },
   "file_extension": ".py",
   "mimetype": "text/x-python",
   "name": "python",
   "nbconvert_exporter": "python",
   "pygments_lexer": "ipython3",
   "version": "3.9.12"
  }
 },
 "nbformat": 4,
 "nbformat_minor": 5
}
