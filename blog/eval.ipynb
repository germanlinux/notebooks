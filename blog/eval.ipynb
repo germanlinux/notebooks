{
 "cells": [
  {
   "cell_type": "code",
   "execution_count": 2,
   "id": "2077cb06",
   "metadata": {},
   "outputs": [
    {
     "data": {
      "text/plain": [
       "9"
      ]
     },
     "execution_count": 2,
     "metadata": {},
     "output_type": "execute_result"
    }
   ],
   "source": [
    "eval('4+5')"
   ]
  },
  {
   "cell_type": "code",
   "execution_count": 5,
   "id": "807055ac",
   "metadata": {},
   "outputs": [],
   "source": [
    "from dataclasses import dataclass"
   ]
  },
  {
   "cell_type": "code",
   "execution_count": 16,
   "id": "1916c386",
   "metadata": {},
   "outputs": [],
   "source": [
    "@dataclass\n",
    "class Demo():\n",
    "    age: int"
   ]
  },
  {
   "cell_type": "code",
   "execution_count": 17,
   "id": "415f5176",
   "metadata": {},
   "outputs": [],
   "source": [
    "un = Demo(20)"
   ]
  },
  {
   "cell_type": "code",
   "execution_count": 18,
   "id": "63932e8e",
   "metadata": {},
   "outputs": [
    {
     "data": {
      "text/plain": [
       "'Demo(age=20)'"
      ]
     },
     "execution_count": 18,
     "metadata": {},
     "output_type": "execute_result"
    }
   ],
   "source": [
    "repr(un)"
   ]
  },
  {
   "cell_type": "code",
   "execution_count": 19,
   "id": "4f0a3c6f",
   "metadata": {},
   "outputs": [
    {
     "name": "stdout",
     "output_type": "stream",
     "text": [
      "Demo(age=20)\n"
     ]
    }
   ],
   "source": [
    "print(un)"
   ]
  },
  {
   "cell_type": "code",
   "execution_count": 20,
   "id": "e8b28f5a",
   "metadata": {},
   "outputs": [],
   "source": [
    "deux= eval(repr(un))"
   ]
  },
  {
   "cell_type": "code",
   "execution_count": 21,
   "id": "019fad9f",
   "metadata": {},
   "outputs": [
    {
     "name": "stdout",
     "output_type": "stream",
     "text": [
      "Demo(age=20)\n"
     ]
    }
   ],
   "source": [
    "print(deux)"
   ]
  },
  {
   "cell_type": "code",
   "execution_count": 22,
   "id": "89647fb7",
   "metadata": {},
   "outputs": [
    {
     "data": {
      "text/plain": [
       "__main__.Demo"
      ]
     },
     "execution_count": 22,
     "metadata": {},
     "output_type": "execute_result"
    }
   ],
   "source": [
    "type(deux)"
   ]
  },
  {
   "cell_type": "code",
   "execution_count": 28,
   "id": "bb759710",
   "metadata": {},
   "outputs": [
    {
     "name": "stdout",
     "output_type": "stream",
     "text": [
      "\n",
      "Configuration IP de Windows\n",
      "\n",
      "   Nom de l'h“te . . . . . . . . . . : LAPTOP-8232BL63\n",
      "   Suffixe DNS principal . . . . . . : \n",
      "   Type de noeud. . . . . . . . . .  : Hybride\n",
      "   Routage IP activ‚ . . . . . . . . : Non\n",
      "   Proxy WINS activ‚ . . . . . . . . : Non\n",
      "\n",
      "Carte Ethernet Ethernet :\n",
      "\n",
      "   Suffixe DNS propre … la connexion. . . : \n",
      "   Description. . . . . . . . . . . . . . : VirtualBox Host-Only Ethernet Adapter\n",
      "   Adresse physique . . . . . . . . . . . : 0A-00-27-00-00-07\n",
      "   DHCP activ‚. . . . . . . . . . . . . . : Non\n",
      "   Configuration automatique activ‚e. . . : Oui\n",
      "   Adresse IPv6 de liaison locale. . . . .: fe80::97aa:d22b:4b2a:c732%7(pr‚f‚r‚) \n",
      "   Adresse IPv4. . . . . . . . . . . . . .: 192.168.56.1(pr‚f‚r‚) \n",
      "   Masque de sous-r‚seau. . . .ÿ. . . . . : 255.255.255.0\n",
      "   Passerelle par d‚faut. . . .ÿ. . . . . : \n",
      "   IAID DHCPv6 . . . . . . . . . . . : 738852903\n",
      "   DUID de client DHCPv6. . . . . . . . : 00-01-00-01-27-05-47-D0-04-ED-33-6B-FA-DA\n",
      "   NetBIOS sur Tcpip. . . . . . . . . . . : Activ‚\n",
      "\n",
      "Carte r‚seau sans fil Connexion au r‚seau local* 3ÿ:\n",
      "\n",
      "   Statut du m‚dia. . . . . . . . . . . . : M‚dia d‚connect‚\n",
      "   Suffixe DNS propre … la connexion. . . : \n",
      "   Description. . . . . . . . . . . . . . : Microsoft Wi-Fi Direct Virtual Adapter #3\n",
      "   Adresse physique . . . . . . . . . . . : 04-ED-33-6B-FA-DB\n",
      "   DHCP activ‚. . . . . . . . . . . . . . : Oui\n",
      "   Configuration automatique activ‚e. . . : Oui\n",
      "\n",
      "Carte r‚seau sans fil Connexion au r‚seau local* 12ÿ:\n",
      "\n",
      "   Statut du m‚dia. . . . . . . . . . . . : M‚dia d‚connect‚\n",
      "   Suffixe DNS propre … la connexion. . . : \n",
      "   Description. . . . . . . . . . . . . . : Microsoft Wi-Fi Direct Virtual Adapter #4\n",
      "   Adresse physique . . . . . . . . . . . : 06-ED-33-6B-FA-DA\n",
      "   DHCP activ‚. . . . . . . . . . . . . . : Non\n",
      "   Configuration automatique activ‚e. . . : Oui\n",
      "\n",
      "Carte r‚seau sans fil Wi-Fiÿ:\n",
      "\n",
      "   Suffixe DNS propre … la connexion. . . : \n",
      "   Description. . . . . . . . . . . . . . : Intel(R) Wireless-AC 9560 160MHz\n",
      "   Adresse physique . . . . . . . . . . . : 04-ED-33-6B-FA-DA\n",
      "   DHCP activ‚. . . . . . . . . . . . . . : Oui\n",
      "   Configuration automatique activ‚e. . . : Oui\n",
      "   Adresse IPv6 de liaison locale. . . . .: fe80::1dbc:a89f:9448:64c8%12(pr‚f‚r‚) \n",
      "   Adresse IPv4. . . . . . . . . . . . . .: 192.168.127.99(pr‚f‚r‚) \n",
      "   Masque de sous-r‚seau. . . .ÿ. . . . . : 255.255.255.0\n",
      "   Bail obtenu. . . . . . . . .ÿ. . . . . : mardi 11 avril 2023 16:47:52\n",
      "   Bail expirant. . . . . . . . .ÿ. . . . : mardi 11 avril 2023 18:18:11\n",
      "   Passerelle par d‚faut. . . .ÿ. . . . . : 192.168.127.243\n",
      "   Serveur DHCP . . . . . . . . . . . . . : 192.168.127.243\n",
      "   IAID DHCPv6 . . . . . . . . . . . : 117763379\n",
      "   DUID de client DHCPv6. . . . . . . . : 00-01-00-01-27-05-47-D0-04-ED-33-6B-FA-DA\n",
      "   Serveurs DNS. . .  . . . . . . . . . . : 192.168.127.243\n",
      "   NetBIOS sur Tcpip. . . . . . . . . . . : Activ‚\n",
      "\n",
      "Carte Ethernet Connexion r‚seau Bluetooth :\n",
      "\n",
      "   Statut du m‚dia. . . . . . . . . . . . : M‚dia d‚connect‚\n",
      "   Suffixe DNS propre … la connexion. . . : \n",
      "   Description. . . . . . . . . . . . . . : Bluetooth Device (Personal Area Network)\n",
      "   Adresse physique . . . . . . . . . . . : 04-ED-33-6B-FA-DE\n",
      "   DHCP activ‚. . . . . . . . . . . . . . : Oui\n",
      "   Configuration automatique activ‚e. . . : Oui\n"
     ]
    }
   ],
   "source": [
    "!ipconfig/all\n",
    "\n"
   ]
  },
  {
   "cell_type": "code",
   "execution_count": 29,
   "id": "03eeeb8a",
   "metadata": {},
   "outputs": [],
   "source": [
    "import pandas as pd"
   ]
  },
  {
   "cell_type": "code",
   "execution_count": 49,
   "id": "e4717e06",
   "metadata": {},
   "outputs": [],
   "source": [
    "a = pd.DataFrame([[1, 'a'],[2, 'b'], [3, 'c']], columns = ['cle', 'valeur'], index = [1, 2, 3])"
   ]
  },
  {
   "cell_type": "code",
   "execution_count": 50,
   "id": "5c16ee3c",
   "metadata": {},
   "outputs": [
    {
     "name": "stdout",
     "output_type": "stream",
     "text": [
      "   cle valeur\n",
      "1    1      a\n",
      "2    2      b\n",
      "3    3      c\n"
     ]
    }
   ],
   "source": [
    "print(a)"
   ]
  },
  {
   "cell_type": "code",
   "execution_count": 55,
   "id": "6f609542",
   "metadata": {},
   "outputs": [],
   "source": [
    "b = a.iloc[1]"
   ]
  },
  {
   "cell_type": "code",
   "execution_count": 56,
   "id": "4cbe1042",
   "metadata": {},
   "outputs": [
    {
     "data": {
      "text/plain": [
       "cle       2\n",
       "valeur    b\n",
       "Name: 2, dtype: object"
      ]
     },
     "execution_count": 56,
     "metadata": {},
     "output_type": "execute_result"
    }
   ],
   "source": [
    "b"
   ]
  },
  {
   "cell_type": "code",
   "execution_count": 80,
   "id": "a21bf705",
   "metadata": {},
   "outputs": [
    {
     "data": {
      "text/plain": [
       "'a'"
      ]
     },
     "execution_count": 80,
     "metadata": {},
     "output_type": "execute_result"
    }
   ],
   "source": [
    "a.loc[1].valeur"
   ]
  },
  {
   "cell_type": "code",
   "execution_count": 86,
   "id": "c3feee3e",
   "metadata": {},
   "outputs": [
    {
     "data": {
      "text/html": [
       "<div>\n",
       "<style scoped>\n",
       "    .dataframe tbody tr th:only-of-type {\n",
       "        vertical-align: middle;\n",
       "    }\n",
       "\n",
       "    .dataframe tbody tr th {\n",
       "        vertical-align: top;\n",
       "    }\n",
       "\n",
       "    .dataframe thead th {\n",
       "        text-align: right;\n",
       "    }\n",
       "</style>\n",
       "<table border=\"1\" class=\"dataframe\">\n",
       "  <thead>\n",
       "    <tr style=\"text-align: right;\">\n",
       "      <th></th>\n",
       "      <th>cle</th>\n",
       "      <th>valeur</th>\n",
       "    </tr>\n",
       "  </thead>\n",
       "  <tbody>\n",
       "    <tr>\n",
       "      <th>2</th>\n",
       "      <td>2</td>\n",
       "      <td>b</td>\n",
       "    </tr>\n",
       "  </tbody>\n",
       "</table>\n",
       "</div>"
      ],
      "text/plain": [
       "   cle valeur\n",
       "2    2      b"
      ]
     },
     "execution_count": 86,
     "metadata": {},
     "output_type": "execute_result"
    }
   ],
   "source": [
    "a.iloc[1:2]"
   ]
  },
  {
   "cell_type": "code",
   "execution_count": 64,
   "id": "6d5f55db",
   "metadata": {},
   "outputs": [
    {
     "data": {
      "text/html": [
       "<div>\n",
       "<style scoped>\n",
       "    .dataframe tbody tr th:only-of-type {\n",
       "        vertical-align: middle;\n",
       "    }\n",
       "\n",
       "    .dataframe tbody tr th {\n",
       "        vertical-align: top;\n",
       "    }\n",
       "\n",
       "    .dataframe thead th {\n",
       "        text-align: right;\n",
       "    }\n",
       "</style>\n",
       "<table border=\"1\" class=\"dataframe\">\n",
       "  <thead>\n",
       "    <tr style=\"text-align: right;\">\n",
       "      <th></th>\n",
       "      <th>cle</th>\n",
       "      <th>valeur</th>\n",
       "    </tr>\n",
       "  </thead>\n",
       "  <tbody>\n",
       "    <tr>\n",
       "      <th>1</th>\n",
       "      <td>NaN</td>\n",
       "      <td>NaN</td>\n",
       "    </tr>\n",
       "    <tr>\n",
       "      <th>2</th>\n",
       "      <td>NaN</td>\n",
       "      <td>NaN</td>\n",
       "    </tr>\n",
       "    <tr>\n",
       "      <th>3</th>\n",
       "      <td>3.0</td>\n",
       "      <td>NaN</td>\n",
       "    </tr>\n",
       "  </tbody>\n",
       "</table>\n",
       "</div>"
      ],
      "text/plain": [
       "   cle valeur\n",
       "1  NaN    NaN\n",
       "2  NaN    NaN\n",
       "3  3.0    NaN"
      ]
     },
     "execution_count": 64,
     "metadata": {},
     "output_type": "execute_result"
    }
   ],
   "source": [
    "b"
   ]
  },
  {
   "cell_type": "code",
   "execution_count": null,
   "id": "25d1da86",
   "metadata": {},
   "outputs": [],
   "source": []
  },
  {
   "cell_type": "code",
   "execution_count": 65,
   "id": "8f198007",
   "metadata": {},
   "outputs": [],
   "source": [
    "c = [[1, 2, 3], [4, 5, 6]]"
   ]
  },
  {
   "cell_type": "code",
   "execution_count": 67,
   "id": "6e6872c1",
   "metadata": {},
   "outputs": [
    {
     "data": {
      "text/plain": [
       "2"
      ]
     },
     "execution_count": 67,
     "metadata": {},
     "output_type": "execute_result"
    }
   ],
   "source": [
    "c[0][1]"
   ]
  },
  {
   "cell_type": "code",
   "execution_count": null,
   "id": "fb128c95",
   "metadata": {},
   "outputs": [],
   "source": []
  }
 ],
 "metadata": {
  "kernelspec": {
   "display_name": "Python 3 (ipykernel)",
   "language": "python",
   "name": "python3"
  },
  "language_info": {
   "codemirror_mode": {
    "name": "ipython",
    "version": 3
   },
   "file_extension": ".py",
   "mimetype": "text/x-python",
   "name": "python",
   "nbconvert_exporter": "python",
   "pygments_lexer": "ipython3",
   "version": "3.9.12"
  }
 },
 "nbformat": 4,
 "nbformat_minor": 5
}
