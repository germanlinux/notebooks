{
 "cells": [
  {
   "cell_type": "code",
   "execution_count": 14,
   "id": "b3ea5163",
   "metadata": {},
   "outputs": [],
   "source": [
    "mydict = {1: 'un', 2: 'deux' , 3:'trois' , 4:'quatre' , 5:'cinq'  }"
   ]
  },
  {
   "cell_type": "code",
   "execution_count": 13,
   "id": "66ae164a",
   "metadata": {},
   "outputs": [
    {
     "name": "stdout",
     "output_type": "stream",
     "text": [
      "1 un\n",
      "2 deux\n"
     ]
    },
    {
     "ename": "RuntimeError",
     "evalue": "dictionary changed size during iteration",
     "output_type": "error",
     "traceback": [
      "\u001b[1;31m---------------------------------------------------------------------------\u001b[0m",
      "\u001b[1;31mRuntimeError\u001b[0m                              Traceback (most recent call last)",
      "Input \u001b[1;32mIn [13]\u001b[0m, in \u001b[0;36m<cell line: 1>\u001b[1;34m()\u001b[0m\n\u001b[1;32m----> 1\u001b[0m \u001b[38;5;28;01mfor\u001b[39;00m cle \u001b[38;5;129;01min\u001b[39;00m mydict:\n\u001b[0;32m      2\u001b[0m     \u001b[38;5;28mprint\u001b[39m(cle, mydict[cle])\n\u001b[0;32m      3\u001b[0m     \u001b[38;5;28;01mif\u001b[39;00m cle \u001b[38;5;241m==\u001b[39m \u001b[38;5;241m2\u001b[39m :\n",
      "\u001b[1;31mRuntimeError\u001b[0m: dictionary changed size during iteration"
     ]
    }
   ],
   "source": [
    "for cle in mydict:\n",
    "    print(cle, mydict[cle])\n",
    "    if cle == 2 :\n",
    "        del(mydict[2])\n",
    "    \n",
    "print(mydict)    "
   ]
  },
  {
   "cell_type": "code",
   "execution_count": 16,
   "id": "181809cf",
   "metadata": {},
   "outputs": [
    {
     "name": "stdout",
     "output_type": "stream",
     "text": [
      "1 un\n",
      "2 deux\n"
     ]
    },
    {
     "ename": "RuntimeError",
     "evalue": "dictionary changed size during iteration",
     "output_type": "error",
     "traceback": [
      "\u001b[1;31m---------------------------------------------------------------------------\u001b[0m",
      "\u001b[1;31mRuntimeError\u001b[0m                              Traceback (most recent call last)",
      "Input \u001b[1;32mIn [16]\u001b[0m, in \u001b[0;36m<cell line: 1>\u001b[1;34m()\u001b[0m\n\u001b[1;32m----> 1\u001b[0m \u001b[38;5;28;01mfor\u001b[39;00m cle \u001b[38;5;129;01min\u001b[39;00m mydict\u001b[38;5;241m.\u001b[39mkeys():\n\u001b[0;32m      2\u001b[0m     \u001b[38;5;28mprint\u001b[39m(cle, mydict[cle])\n\u001b[0;32m      3\u001b[0m     \u001b[38;5;28;01mif\u001b[39;00m cle \u001b[38;5;241m==\u001b[39m \u001b[38;5;241m2\u001b[39m :\n",
      "\u001b[1;31mRuntimeError\u001b[0m: dictionary changed size during iteration"
     ]
    }
   ],
   "source": [
    "for cle in mydict.keys():\n",
    "    print(cle, mydict[cle])\n",
    "    if cle == 2 :\n",
    "        del(mydict[2])\n",
    "    \n",
    "print(mydict)    "
   ]
  },
  {
   "cell_type": "code",
   "execution_count": 17,
   "id": "96d5da7d",
   "metadata": {},
   "outputs": [
    {
     "name": "stdout",
     "output_type": "stream",
     "text": [
      "e\n",
      "2\n",
      "a\n",
      "8\n",
      "9\n",
      "['e', 7, 'a', 8, 9]\n"
     ]
    }
   ],
   "source": [
    "liste= ['e', 2, 7, 'a', 8, 9]\n",
    "for item in liste:\n",
    "    print(item)\n",
    "    if item == 2:\n",
    "        liste.remove(2)\n",
    "print(liste)        "
   ]
  },
  {
   "cell_type": "code",
   "execution_count": null,
   "id": "2ac74899",
   "metadata": {},
   "outputs": [],
   "source": []
  }
 ],
 "metadata": {
  "kernelspec": {
   "display_name": "Python 3 (ipykernel)",
   "language": "python",
   "name": "python3"
  },
  "language_info": {
   "codemirror_mode": {
    "name": "ipython",
    "version": 3
   },
   "file_extension": ".py",
   "mimetype": "text/x-python",
   "name": "python",
   "nbconvert_exporter": "python",
   "pygments_lexer": "ipython3",
   "version": "3.9.12"
  }
 },
 "nbformat": 4,
 "nbformat_minor": 5
}
