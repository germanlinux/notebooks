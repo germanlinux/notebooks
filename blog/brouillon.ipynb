{
 "cells": [
  {
   "cell_type": "code",
   "execution_count": 1,
   "id": "a661ad5f",
   "metadata": {},
   "outputs": [],
   "source": [
    "import instaviz"
   ]
  },
  {
   "cell_type": "code",
   "execution_count": 2,
   "id": "2d0e18f9",
   "metadata": {},
   "outputs": [],
   "source": [
    "def fonction(a,b):\n",
    "    c = (a+b)* 2\n",
    "    return c"
   ]
  },
  {
   "cell_type": "code",
   "execution_count": null,
   "id": "5ba0fcba",
   "metadata": {},
   "outputs": [
    {
     "name": "stderr",
     "output_type": "stream",
     "text": [
      "Bottle v0.12.25 server starting up (using WSGIRefServer())...\n",
      "Listening on http://localhost:8080/\n",
      "Hit Ctrl-C to quit.\n",
      "\n",
      "127.0.0.1 - - [31/Mar/2023 21:32:58] \"GET / HTTP/1.1\" 200 22869\n",
      "127.0.0.1 - - [31/Mar/2023 21:32:59] \"GET /static/bootstrap.min.css HTTP/1.1\" 200 155758\n",
      "127.0.0.1 - - [31/Mar/2023 21:32:59] \"GET /static/vis-network.min.css HTTP/1.1\" 200 14426\n",
      "127.0.0.1 - - [31/Mar/2023 21:32:59] \"GET /static/vis.js HTTP/1.1\" 200 1854177\n",
      "127.0.0.1 - - [31/Mar/2023 21:32:59] \"GET /static/json2html.css HTTP/1.1\" 200 752\n",
      "127.0.0.1 - - [31/Mar/2023 21:32:59] \"GET /static/jquery.min.js HTTP/1.1\" 200 97163\n",
      "127.0.0.1 - - [31/Mar/2023 21:32:59] \"GET /static/jquery.json2html.js HTTP/1.1\" 200 4626\n",
      "127.0.0.1 - - [31/Mar/2023 21:33:00] \"GET /static/json2html.js HTTP/1.1\" 200 13600\n",
      "127.0.0.1 - - [31/Mar/2023 21:33:00] \"GET /static/node.js HTTP/1.1\" 200 2528\n",
      "127.0.0.1 - - [31/Mar/2023 21:33:00] \"GET /favicon.ico HTTP/1.1\" 404 742\n",
      "127.0.0.1 - - [31/Mar/2023 21:33:42] \"GET /img/d.png HTTP/1.1\" 404 738\n"
     ]
    }
   ],
   "source": [
    "instaviz.show(fonction)"
   ]
  },
  {
   "cell_type": "code",
   "execution_count": null,
   "id": "5b192ca6",
   "metadata": {},
   "outputs": [],
   "source": []
  }
 ],
 "metadata": {
  "kernelspec": {
   "display_name": "Python 3 (ipykernel)",
   "language": "python",
   "name": "python3"
  },
  "language_info": {
   "codemirror_mode": {
    "name": "ipython",
    "version": 3
   },
   "file_extension": ".py",
   "mimetype": "text/x-python",
   "name": "python",
   "nbconvert_exporter": "python",
   "pygments_lexer": "ipython3",
   "version": "3.9.12"
  }
 },
 "nbformat": 4,
 "nbformat_minor": 5
}
