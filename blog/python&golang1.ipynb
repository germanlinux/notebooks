{
 "cells": [
  {
   "cell_type": "code",
   "execution_count": 2,
   "id": "292833ea",
   "metadata": {},
   "outputs": [],
   "source": [
    "import random"
   ]
  },
  {
   "cell_type": "code",
   "execution_count": 3,
   "id": "2854169b",
   "metadata": {},
   "outputs": [],
   "source": [
    "class De:\n",
    "    ''' classe qui émule un dé'''\n",
    "    def __init__(self, nbface):\n",
    "        self.nbface  = nbface \n",
    "        \n",
    "    def getface(self):\n",
    "        return self.nbface\n",
    "    \n",
    "    def lance(self):\n",
    "        return random.randint(1,self.nbface)    "
   ]
  },
  {
   "cell_type": "code",
   "execution_count": 4,
   "id": "26cbab41",
   "metadata": {},
   "outputs": [
    {
     "name": "stdout",
     "output_type": "stream",
     "text": [
      "nb de face: 6\n",
      "face: 6\n"
     ]
    }
   ],
   "source": [
    "d1 = De(6)\n",
    "print(\"nb de face:\",d1.getface())\n",
    "print(\"face:\", d1.lance())"
   ]
  },
  {
   "cell_type": "code",
   "execution_count": 5,
   "id": "1bb3ad55",
   "metadata": {
    "collapsed": true
   },
   "outputs": [
    {
     "name": "stdout",
     "output_type": "stream",
     "text": [
      "2\n",
      "1\n",
      "4\n",
      "5\n",
      "3\n",
      "1\n",
      "3\n",
      "4\n",
      "5\n",
      "3\n",
      "1\n",
      "2\n",
      "2\n",
      "2\n",
      "5\n",
      "2\n",
      "3\n",
      "1\n",
      "6\n",
      "3\n",
      "2\n",
      "1\n",
      "1\n",
      "4\n",
      "4\n",
      "5\n",
      "2\n",
      "6\n",
      "1\n",
      "3\n",
      "1\n",
      "4\n",
      "3\n",
      "4\n",
      "2\n",
      "4\n",
      "1\n",
      "3\n",
      "3\n",
      "2\n",
      "2\n",
      "4\n",
      "2\n",
      "2\n",
      "3\n",
      "5\n",
      "5\n",
      "1\n",
      "5\n",
      "5\n",
      "6\n",
      "6\n",
      "6\n",
      "3\n",
      "4\n",
      "3\n",
      "6\n",
      "5\n",
      "6\n",
      "3\n",
      "5\n",
      "2\n",
      "6\n",
      "1\n",
      "2\n",
      "2\n",
      "4\n",
      "2\n",
      "5\n",
      "3\n",
      "1\n",
      "2\n",
      "2\n",
      "4\n",
      "1\n",
      "3\n",
      "6\n",
      "1\n",
      "3\n",
      "1\n",
      "3\n",
      "5\n",
      "6\n",
      "4\n",
      "6\n",
      "4\n",
      "6\n",
      "3\n",
      "4\n",
      "6\n",
      "5\n",
      "6\n",
      "6\n",
      "1\n",
      "5\n",
      "3\n",
      "2\n",
      "3\n",
      "2\n",
      "2\n"
     ]
    }
   ],
   "source": [
    "for _ in range(100):\n",
    "    print(d1.lance())"
   ]
  },
  {
   "cell_type": "code",
   "execution_count": 6,
   "id": "7626847c",
   "metadata": {},
   "outputs": [],
   "source": [
    "class Depipe(De):\n",
    "    def __init__(self, nbface, faceplus):\n",
    "        self.faceplus = faceplus\n",
    "        super().__init__(nbface)\n",
    "    "
   ]
  },
  {
   "cell_type": "code",
   "execution_count": 7,
   "id": "95cdbe08",
   "metadata": {},
   "outputs": [
    {
     "data": {
      "text/plain": [
       "{'faceplus': 2, 'nbface': 6}"
      ]
     },
     "execution_count": 7,
     "metadata": {},
     "output_type": "execute_result"
    }
   ],
   "source": [
    "d2 = Depipe(6,2)\n",
    "vars(d2)"
   ]
  },
  {
   "cell_type": "code",
   "execution_count": 14,
   "id": "24561784",
   "metadata": {},
   "outputs": [],
   "source": [
    "def ajoute(b,c ):\n",
    "    b += c\n",
    "    return b"
   ]
  },
  {
   "cell_type": "code",
   "execution_count": 15,
   "id": "e8f6d164",
   "metadata": {},
   "outputs": [
    {
     "name": "stdout",
     "output_type": "stream",
     "text": [
      "[1, 2, 3, 4]\n",
      "[1, 2, 3, 4]\n"
     ]
    }
   ],
   "source": [
    "a =[1, 2,3]\n",
    "print(ajoute(a, [4]))\n",
    "print(a)"
   ]
  },
  {
   "cell_type": "code",
   "execution_count": 17,
   "id": "45d8ac19",
   "metadata": {},
   "outputs": [
    {
     "name": "stdout",
     "output_type": "stream",
     "text": [
      "(1, 2, 3, 4)\n",
      "(1, 2, 3)\n"
     ]
    }
   ],
   "source": [
    "a =(1, 2,3)\n",
    "print(ajoute(a,(4,)))\n",
    "print(a)"
   ]
  },
  {
   "cell_type": "code",
   "execution_count": 4,
   "id": "02d5a3da",
   "metadata": {},
   "outputs": [
    {
     "name": "stdout",
     "output_type": "stream",
     "text": [
      "[7, 4, 2, 1]\n"
     ]
    }
   ],
   "source": [
    "a= [4, 2, 7, 1] # elements homogènes \n",
    "b = sorted(a, reverse = True)\n",
    "print(b)"
   ]
  },
  {
   "cell_type": "code",
   "execution_count": 3,
   "id": "f818acc1",
   "metadata": {},
   "outputs": [
    {
     "ename": "TypeError",
     "evalue": "'<' not supported between instances of 'str' and 'int'",
     "output_type": "error",
     "traceback": [
      "\u001b[1;31m---------------------------------------------------------------------------\u001b[0m",
      "\u001b[1;31mTypeError\u001b[0m                                 Traceback (most recent call last)",
      "Input \u001b[1;32mIn [3]\u001b[0m, in \u001b[0;36m<cell line: 2>\u001b[1;34m()\u001b[0m\n\u001b[0;32m      1\u001b[0m a\u001b[38;5;241m=\u001b[39m [\u001b[38;5;241m4\u001b[39m, \u001b[38;5;241m2\u001b[39m, \u001b[38;5;124m'\u001b[39m\u001b[38;5;124ma\u001b[39m\u001b[38;5;124m'\u001b[39m, \u001b[38;5;241m1\u001b[39m] \u001b[38;5;66;03m# elements hétérogènes => erreur\u001b[39;00m\n\u001b[1;32m----> 2\u001b[0m b \u001b[38;5;241m=\u001b[39m \u001b[38;5;28;43msorted\u001b[39;49m\u001b[43m(\u001b[49m\u001b[43ma\u001b[49m\u001b[43m)\u001b[49m\n\u001b[0;32m      3\u001b[0m \u001b[38;5;28mprint\u001b[39m(b)\n",
      "\u001b[1;31mTypeError\u001b[0m: '<' not supported between instances of 'str' and 'int'"
     ]
    }
   ],
   "source": [
    "a= [4, 2, 'a', 1] # elements hétérogènes => erreur\n",
    "b = sorted(a)\n",
    "print(b)"
   ]
  },
  {
   "cell_type": "code",
   "execution_count": 4,
   "id": "32da2fe3",
   "metadata": {},
   "outputs": [
    {
     "name": "stdout",
     "output_type": "stream",
     "text": [
      "[1, 2, 4, 'a']\n"
     ]
    }
   ],
   "source": [
    "a= [4, 2, 'a', 1] # elements hétérogènes => fonction key\n",
    "b = sorted(a,key=str)\n",
    "print(b)"
   ]
  },
  {
   "cell_type": "code",
   "execution_count": 5,
   "id": "45499202",
   "metadata": {},
   "outputs": [
    {
     "data": {
      "text/plain": [
       "int"
      ]
     },
     "execution_count": 5,
     "metadata": {},
     "output_type": "execute_result"
    }
   ],
   "source": [
    "type(1)"
   ]
  },
  {
   "cell_type": "code",
   "execution_count": 11,
   "id": "b92ed4c9",
   "metadata": {},
   "outputs": [
    {
     "name": "stdout",
     "output_type": "stream",
     "text": [
      "['a', 1, 2, 4]\n"
     ]
    }
   ],
   "source": [
    "a= [4, 2, 'a', 1] # elements hétérogènes => fonction key\n",
    "b = sorted(a,key=lambda x:  '|' + str(x)  if  type(x) == int else x)\n",
    "print(b)"
   ]
  },
  {
   "cell_type": "code",
   "execution_count": 44,
   "id": "b78651fa",
   "metadata": {},
   "outputs": [],
   "source": [
    "class MonObjet:\n",
    "\n",
    "    def __lt__(self, autre):\n",
    "        if id(self) < id(autre) :\n",
    "            return True\n",
    "        else:\n",
    "            return False\n",
    "    def __str__(self):\n",
    "        return(f\"id {id(self)}\")"
   ]
  },
  {
   "cell_type": "code",
   "execution_count": 46,
   "id": "454f3208",
   "metadata": {},
   "outputs": [
    {
     "name": "stdout",
     "output_type": "stream",
     "text": [
      "False\n",
      "avant le tri\n",
      "id 2391987783712\n",
      "id 2391987783328\n",
      "apres le tri\n",
      "id 2391987783328\n",
      "id 2391987783712\n"
     ]
    }
   ],
   "source": [
    "a = MonObjet()\n",
    "b = MonObjet()\n",
    "print(id(a) < id(b))\n",
    "\n",
    "c = [a,b]\n",
    "print(\"avant le tri\")\n",
    "for obj in c:\n",
    "    print(obj)    \n",
    "d  = sorted(c)\n",
    "print(\"apres le tri\")\n",
    "for obj in d:\n",
    "    print(obj)\n"
   ]
  },
  {
   "cell_type": "code",
   "execution_count": 5,
   "id": "7c7fd464",
   "metadata": {},
   "outputs": [],
   "source": [
    "a = [(3, 5), (6, 1), (2,6)]"
   ]
  },
  {
   "cell_type": "code",
   "execution_count": 6,
   "id": "9a2b3afe",
   "metadata": {},
   "outputs": [
    {
     "name": "stdout",
     "output_type": "stream",
     "text": [
      "[(2, 6), (3, 5), (6, 1)]\n"
     ]
    }
   ],
   "source": [
    "print(sorted(a))"
   ]
  },
  {
   "cell_type": "code",
   "execution_count": 7,
   "id": "38c946cc",
   "metadata": {},
   "outputs": [],
   "source": [
    "import operator"
   ]
  },
  {
   "cell_type": "code",
   "execution_count": 11,
   "id": "f305c719",
   "metadata": {},
   "outputs": [
    {
     "name": "stdout",
     "output_type": "stream",
     "text": [
      "[(6, 1), (3, 5), (2, 6)]\n"
     ]
    }
   ],
   "source": [
    "print(sorted(a, key= operator.itemgetter(1) ))"
   ]
  },
  {
   "cell_type": "code",
   "execution_count": null,
   "id": "b549cd9a",
   "metadata": {},
   "outputs": [],
   "source": []
  }
 ],
 "metadata": {
  "kernelspec": {
   "display_name": "Python 3 (ipykernel)",
   "language": "python",
   "name": "python3"
  },
  "language_info": {
   "codemirror_mode": {
    "name": "ipython",
    "version": 3
   },
   "file_extension": ".py",
   "mimetype": "text/x-python",
   "name": "python",
   "nbconvert_exporter": "python",
   "pygments_lexer": "ipython3",
   "version": "3.9.12"
  }
 },
 "nbformat": 4,
 "nbformat_minor": 5
}
