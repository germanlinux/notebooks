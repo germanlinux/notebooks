{
 "cells": [
  {
   "cell_type": "code",
   "execution_count": 2,
   "id": "292833ea",
   "metadata": {},
   "outputs": [],
   "source": [
    "import random"
   ]
  },
  {
   "cell_type": "code",
   "execution_count": 3,
   "id": "2854169b",
   "metadata": {},
   "outputs": [],
   "source": [
    "class De:\n",
    "    ''' classe qui émule un dé'''\n",
    "    def __init__(self, nbface):\n",
    "        self.nbface  = nbface \n",
    "        \n",
    "    def getface(self):\n",
    "        return self.nbface\n",
    "    \n",
    "    def lance(self):\n",
    "        return random.randint(1,self.nbface)    "
   ]
  },
  {
   "cell_type": "code",
   "execution_count": 4,
   "id": "26cbab41",
   "metadata": {},
   "outputs": [
    {
     "name": "stdout",
     "output_type": "stream",
     "text": [
      "nb de face: 6\n",
      "face: 6\n"
     ]
    }
   ],
   "source": [
    "d1 = De(6)\n",
    "print(\"nb de face:\",d1.getface())\n",
    "print(\"face:\", d1.lance())"
   ]
  },
  {
   "cell_type": "code",
   "execution_count": 5,
   "id": "1bb3ad55",
   "metadata": {
    "collapsed": true
   },
   "outputs": [
    {
     "name": "stdout",
     "output_type": "stream",
     "text": [
      "2\n",
      "1\n",
      "4\n",
      "5\n",
      "3\n",
      "1\n",
      "3\n",
      "4\n",
      "5\n",
      "3\n",
      "1\n",
      "2\n",
      "2\n",
      "2\n",
      "5\n",
      "2\n",
      "3\n",
      "1\n",
      "6\n",
      "3\n",
      "2\n",
      "1\n",
      "1\n",
      "4\n",
      "4\n",
      "5\n",
      "2\n",
      "6\n",
      "1\n",
      "3\n",
      "1\n",
      "4\n",
      "3\n",
      "4\n",
      "2\n",
      "4\n",
      "1\n",
      "3\n",
      "3\n",
      "2\n",
      "2\n",
      "4\n",
      "2\n",
      "2\n",
      "3\n",
      "5\n",
      "5\n",
      "1\n",
      "5\n",
      "5\n",
      "6\n",
      "6\n",
      "6\n",
      "3\n",
      "4\n",
      "3\n",
      "6\n",
      "5\n",
      "6\n",
      "3\n",
      "5\n",
      "2\n",
      "6\n",
      "1\n",
      "2\n",
      "2\n",
      "4\n",
      "2\n",
      "5\n",
      "3\n",
      "1\n",
      "2\n",
      "2\n",
      "4\n",
      "1\n",
      "3\n",
      "6\n",
      "1\n",
      "3\n",
      "1\n",
      "3\n",
      "5\n",
      "6\n",
      "4\n",
      "6\n",
      "4\n",
      "6\n",
      "3\n",
      "4\n",
      "6\n",
      "5\n",
      "6\n",
      "6\n",
      "1\n",
      "5\n",
      "3\n",
      "2\n",
      "3\n",
      "2\n",
      "2\n"
     ]
    }
   ],
   "source": [
    "for _ in range(100):\n",
    "    print(d1.lance())"
   ]
  },
  {
   "cell_type": "code",
   "execution_count": 6,
   "id": "7626847c",
   "metadata": {},
   "outputs": [],
   "source": [
    "class Depipe(De):\n",
    "    def __init__(self, nbface, faceplus):\n",
    "        self.faceplus = faceplus\n",
    "        super().__init__(nbface)\n",
    "    "
   ]
  },
  {
   "cell_type": "code",
   "execution_count": 7,
   "id": "95cdbe08",
   "metadata": {},
   "outputs": [
    {
     "data": {
      "text/plain": [
       "{'faceplus': 2, 'nbface': 6}"
      ]
     },
     "execution_count": 7,
     "metadata": {},
     "output_type": "execute_result"
    }
   ],
   "source": [
    "d2 = Depipe(6,2)\n",
    "vars(d2)"
   ]
  },
  {
   "cell_type": "code",
   "execution_count": 10,
   "id": "24561784",
   "metadata": {},
   "outputs": [],
   "source": [
    "def ajoute(b):\n",
    "    b = \n",
    "    return b"
   ]
  },
  {
   "cell_type": "code",
   "execution_count": 12,
   "id": "6b0f2b76",
   "metadata": {},
   "outputs": [
    {
     "name": "stdout",
     "output_type": "stream",
     "text": [
      "[1, 2, 3, 1, 2, 3]\n",
      "[1, 2, 3]\n"
     ]
    }
   ],
   "source": [
    "a =[1, 2,3]\n",
    "print(ajoute(a))\n",
    "print(a)"
   ]
  },
  {
   "cell_type": "code",
   "execution_count": 13,
   "id": "2cd64309",
   "metadata": {},
   "outputs": [
    {
     "name": "stdout",
     "output_type": "stream",
     "text": [
      "(1, 2, 3, 1, 2, 3)\n",
      "(1, 2, 3)\n"
     ]
    }
   ],
   "source": [
    "a =(1, 2,3)\n",
    "print(ajoute(a))\n",
    "print(a)"
   ]
  },
  {
   "cell_type": "code",
   "execution_count": null,
   "id": "0dce3210",
   "metadata": {},
   "outputs": [],
   "source": []
  }
 ],
 "metadata": {
  "kernelspec": {
   "display_name": "Python 3 (ipykernel)",
   "language": "python",
   "name": "python3"
  },
  "language_info": {
   "codemirror_mode": {
    "name": "ipython",
    "version": 3
   },
   "file_extension": ".py",
   "mimetype": "text/x-python",
   "name": "python",
   "nbconvert_exporter": "python",
   "pygments_lexer": "ipython3",
   "version": "3.9.12"
  }
 },
 "nbformat": 4,
 "nbformat_minor": 5
}
