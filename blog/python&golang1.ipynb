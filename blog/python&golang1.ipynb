{
 "cells": [
  {
   "cell_type": "code",
   "execution_count": 10,
   "id": "d78a2d11",
   "metadata": {},
   "outputs": [],
   "source": [
    "import random"
   ]
  },
  {
   "cell_type": "code",
   "execution_count": 11,
   "id": "cfe0cd86",
   "metadata": {},
   "outputs": [],
   "source": [
    "class De:\n",
    "    def __init__(self, nbface):\n",
    "        self.nbface  = nbface \n",
    "        \n",
    "    def getface(self):\n",
    "        return self.nbface\n",
    "    \n",
    "    def lance(self):\n",
    "        return random.randint(1,self.nbface)    "
   ]
  },
  {
   "cell_type": "code",
   "execution_count": 16,
   "id": "1fa06c77",
   "metadata": {},
   "outputs": [
    {
     "name": "stdout",
     "output_type": "stream",
     "text": [
      "nb de face: 6\n",
      "face: 5\n"
     ]
    }
   ],
   "source": [
    "d1 = De(6)\n",
    "print(\"nb de face:\",d1.getface())\n",
    "print(\"face:\", d1.lance())"
   ]
  },
  {
   "cell_type": "code",
   "execution_count": 13,
   "id": "7a6640de",
   "metadata": {
    "collapsed": true
   },
   "outputs": [
    {
     "name": "stdout",
     "output_type": "stream",
     "text": [
      "4\n",
      "4\n",
      "2\n",
      "1\n",
      "5\n",
      "3\n",
      "1\n",
      "6\n",
      "2\n",
      "5\n",
      "3\n",
      "4\n",
      "4\n",
      "6\n",
      "5\n",
      "1\n",
      "2\n",
      "6\n",
      "5\n",
      "2\n",
      "4\n",
      "1\n",
      "1\n",
      "6\n",
      "2\n",
      "6\n",
      "4\n",
      "5\n",
      "6\n",
      "5\n",
      "6\n",
      "5\n",
      "3\n",
      "5\n",
      "5\n",
      "3\n",
      "3\n",
      "4\n",
      "2\n",
      "6\n",
      "5\n",
      "2\n",
      "2\n",
      "2\n",
      "4\n",
      "1\n",
      "4\n",
      "2\n",
      "4\n",
      "1\n",
      "6\n",
      "6\n",
      "3\n",
      "6\n",
      "3\n",
      "5\n",
      "1\n",
      "5\n",
      "1\n",
      "3\n",
      "6\n",
      "2\n",
      "2\n",
      "3\n",
      "6\n",
      "1\n",
      "5\n",
      "2\n",
      "6\n",
      "1\n",
      "6\n",
      "2\n",
      "3\n",
      "4\n",
      "3\n",
      "1\n",
      "6\n",
      "2\n",
      "3\n",
      "4\n",
      "2\n",
      "3\n",
      "3\n",
      "1\n",
      "3\n",
      "5\n",
      "5\n",
      "3\n",
      "5\n",
      "6\n",
      "6\n",
      "1\n",
      "3\n",
      "4\n",
      "2\n",
      "5\n",
      "6\n",
      "3\n",
      "4\n",
      "2\n"
     ]
    }
   ],
   "source": [
    "for _ in range(100):\n",
    "    print(d1.lance())"
   ]
  },
  {
   "cell_type": "code",
   "execution_count": null,
   "id": "891475bc",
   "metadata": {},
   "outputs": [],
   "source": []
  }
 ],
 "metadata": {
  "kernelspec": {
   "display_name": "Python 3 (ipykernel)",
   "language": "python",
   "name": "python3"
  },
  "language_info": {
   "codemirror_mode": {
    "name": "ipython",
    "version": 3
   },
   "file_extension": ".py",
   "mimetype": "text/x-python",
   "name": "python",
   "nbconvert_exporter": "python",
   "pygments_lexer": "ipython3",
   "version": "3.9.12"
  }
 },
 "nbformat": 4,
 "nbformat_minor": 5
}
