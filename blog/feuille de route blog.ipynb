{
 "cells": [
  {
   "cell_type": "markdown",
   "id": "5e213779",
   "metadata": {},
   "source": [
    "## Idées d'article"
   ]
  },
  {
   "cell_type": "markdown",
   "id": "78e1f586",
   "metadata": {},
   "source": [
    "### Python"
   ]
  },
  {
   "cell_type": "markdown",
   "id": "31100381",
   "metadata": {},
   "source": [
    "#### Le garbage collector. PUBLIE le 09/04\n",
    "\n",
    "Le GC de Python utilise deux techniques differentes.\n",
    "* Le comptage de reference\n",
    "* Le niveau de génération\n",
    "\n",
    "Objet de l'article: expliquer le fonctionnement interne  avec le module gc et sys\n",
    "https://rushter.com/blog/python-garbage-collector/\n",
    "https://stackify.com/python-garbage-collection/#:~:text=The%20Python%20garbage%20collector%20has,a%20threshold%20number%20of%20objects."
   ]
  },
  {
   "cell_type": "markdown",
   "id": "1b6c5a44",
   "metadata": {},
   "source": [
    "#### Le packaging et la distribution\n",
    "\n",
    "* Comment avec poetry confectionner les paquets puis les distribuer sur pypi (mode test et production)\n",
    "* Composition des archives et composition du paquet. \n",
    "* Comment tester\n"
   ]
  },
  {
   "cell_type": "markdown",
   "id": "b9161263",
   "metadata": {},
   "source": [
    "#### Pydantic et pydantic vs dataclasse\n",
    "\n",
    "* Utilisation pour decrire les données\n",
    "* Pour valider des données\n",
    "* utilisation à la place du dataclesses"
   ]
  },
  {
   "cell_type": "markdown",
   "id": "1b6343f1",
   "metadata": {},
   "source": [
    "####  Recherche dataframe : loc , iloc\n",
    "En cours de conception"
   ]
  },
  {
   "cell_type": "markdown",
   "id": "5fe2d977",
   "metadata": {},
   "source": [
    "####  fronzenset "
   ]
  },
  {
   "cell_type": "markdown",
   "id": "afdb3b9c",
   "metadata": {},
   "source": [
    "#### eval et __repl__"
   ]
  },
  {
   "cell_type": "markdown",
   "id": "411a0dc6",
   "metadata": {},
   "source": [
    "#### linear regression  vs lasso vs ridge"
   ]
  },
  {
   "cell_type": "markdown",
   "id": "457c7871",
   "metadata": {},
   "source": [
    "visualiser le bytecode https://github.com/tonybaloney/instaviz\n"
   ]
  },
  {
   "cell_type": "markdown",
   "id": "cf2c6eb6",
   "metadata": {},
   "source": [
    "# Recapitulatif des Liens"
   ]
  },
  {
   "cell_type": "markdown",
   "id": "14e2af9b",
   "metadata": {},
   "source": [
    "* Visualiser l'innovation:map de wardley  https://blog.revolve.team/2020/05/19/outil-transformation-cartographie-simon-wardley/\n",
    "* Les presentations de type pechakucha https://fr.wikipedia.org/wiki/Pecha_Kucha  https://www.pechakucha.com/\n",
    "* liens twitter de la période"
   ]
  },
  {
   "cell_type": "markdown",
   "id": "6492657b",
   "metadata": {},
   "source": [
    "* python objetgraph https://mg.pov.lt/objgraph/\n",
    "* architecture https://bytebytego.com/courses/system-design-interview/foreword\n",
    "* pandas https://wesmckinney.com/blog/apache-arrow-pandas-internals/\n",
    "* sharding https://architecturenotes.co/database-sharding-explained/    \n",
    "* python stopit https://pypi.org/project/stopit/\n",
    "* python perfectionnement https://github.com/pro1code1hack/Senior-Dev-Roadmap\n",
    "* windows xp dans le navigateur https://github.com/ducbao414/win32.run  \n",
    "* python dans le navigateur https://github.com/IvanCampos/pyScript\n",
    "* micro front end https://martinfowler.com/articles/micro-frontends.html    \n",
    "* python librairies https://github.com/vinta/awesome-python\n",
    "* python dictionnaires https://github.com/fabiocaccamo/python-benedict   \n",
    "* machine learning by reenforcement http://incompleteideas.net/book/RLbook2020.pdf \n",
    "* datascience preparation des données https://machinelearningmastery.com/calculate-feature-importance-with-python/\n",
    "* manip pands et numpy https://betterprogramming.pub/pandas-illustrated-the-definitive-visual-guide-to-pandas-c31fa921a43  \n",
    "* creation maps python et google https://morioh.com/p/a9bdee14b0d2  \n",
    "* python visualiasation de schema https://github.com/sqlhabit/sql_schema_visualizer\n",
    "* events :https://serverlessland.com/event-driven-architecture/visuals\n",
    "* ssh https://iximiuz.com/en/posts/ssh-tunnels/        \n",
    "        "
   ]
  },
  {
   "cell_type": "markdown",
   "id": "6b81a307",
   "metadata": {},
   "source": [
    "#### suite"
   ]
  },
  {
   "cell_type": "markdown",
   "id": "2e286589",
   "metadata": {},
   "source": [
    "https://github.com/principle105/matrix_rain\n",
    "\n",
    "https://qruiz.net/\n",
    "\n",
    "https://github.com/pyfyre/pyfyre/tree/main/javascript        \n",
    "\n",
    "https://medium.com/techtofreedom/19-sweet-python-syntax-sugar-for-improving-your-coding-experience-37c4118fc6b1\n",
    "\n",
    "https://www.kaggle.com/learn/pandas\n",
    "\n",
    "system design de l'état\n",
    "https://docs.scipy.org/doc/scipy-0.14.0/reference/generated/scipy.signal.lfilter.html#scipy.signal.lfilter\n",
    "\n",
    "https://stackoverflow.com/questions/37598986/reducing-noise-on-data\n",
    "\n",
    "recommendation https://www.kaggle.com/code/ibtesama/getting-started-with-a-movie-recommendation-system#Collaborative-Filtering\n",
    "\n",
    "https://towardsdatascience.com/dealing-with-list-values-in-pandas-dataframes-a177e534f173\n",
    "\n",
    "https://github.com/tb0hdan/domains  dns\n",
    "\n",
    "https://www.nango.dev/     oauth\n",
    "\n",
    "https://philbooth.me/blog/nine-ways-to-shoot-yourself-in-the-foot-with-postgresql  postgresql\n",
    "https://github.com/csgoh/roadmapper  road map\n",
    "\n",
    "https://elementary.io/fr/   nouvel os\n",
    "https://html.com/resources/free-html-templates/  \n"
   ]
  },
  {
   "cell_type": "markdown",
   "id": "87d8eb0c",
   "metadata": {},
   "source": [
    "## collecte 3\n",
    "https://github.com/susam/mintotp\n",
    "\n",
    "l https://github.com/csgoh/roadmapper road map\n",
    "https://www.tnmoc.org/3d-virtual-tour2?fbclid=IwAR0iHX7_H_4ThPNRcv_j1JtSOJogG_DBmUh6rj6UitxQSWhGBPz7lkUiBq0  musee computer\n",
    "https://pynecone.io/  front end python\n",
    "https://gist.github.com/Julynx/dd500d8ae7e335c3c84684ede2293e1f   15 astuces python\n",
    "https://ray-project.github.io/2017/10/15/fast-python-serialization-with-ray-and-arrow.html  alternative à ray\n",
    "https://medium.com/@chingchen0131/a-beginners-guide-to-kubernetes-e0f1c2866d36 \n",
    "https://geekflare.com/python-web-servers/ \n",
    "https://intverse.medium.com/kong-api-gateway-k8s-architecture-5597570da34a  kong\n",
    "\n",
    "https://twitter.com/hasantoxr/status/1657696417337491459\n",
    "https://github.com/denyhosts/denyhosts\n",
    "https://i.redd.it/o1eyuyjlv61b1.jpg big picture\n",
    "https://xavki.blog/k0s-tutoriels-et-formation-gratuite/k0s\n",
    "\n",
    "https://securite.developpez.com/actu/266558/Zanzibar-le-systeme-d-autorisation-global-et-coherent-de-Google-qui-ameliore-l-exactitude-et-la-fiabilite-des-controles-d-acces/  zanzibar de google\n",
    "\n",
    "https://notes.ekzhang.com/papers/passwords\n",
    "\n",
    "https://github.com/gitpod-io/openvscode-server   vscode server\n",
    "\n",
    "https://sli.dev/guide/syntax.html#multiple-entries\n",
    "\n",
    "https://mermaid.js.org/syntax/examples.html\n",
    "\n",
    "https://deepu.tech/memory-management-in-golang/  gestion memoire en go"
   ]
  },
  {
   "cell_type": "markdown",
   "id": "e6233c52",
   "metadata": {},
   "source": [
    "### Collecte 4"
   ]
  },
  {
   "cell_type": "markdown",
   "id": "e702c5bf",
   "metadata": {},
   "source": [
    "https://builtin.com/data-science/l2-regularization\n",
    "\n",
    "https://www.youtube.com/@statquest    video IA\n",
    "\n",
    "https://www.manning.com/books/100-go-mistakes-and-how-to-avoid-them\n",
    "\n",
    "https://rednafi.com/go/totp_client/  topt\n",
    "https://www.sjoerdlangkemper.nl/2023/08/16/session-timeout/ short timeout\n"
   ]
  },
  {
   "cell_type": "code",
   "execution_count": null,
   "id": "492b86c9",
   "metadata": {},
   "outputs": [],
   "source": []
  }
 ],
 "metadata": {
  "kernelspec": {
   "display_name": "Python 3 (ipykernel)",
   "language": "python",
   "name": "python3"
  },
  "language_info": {
   "codemirror_mode": {
    "name": "ipython",
    "version": 3
   },
   "file_extension": ".py",
   "mimetype": "text/x-python",
   "name": "python",
   "nbconvert_exporter": "python",
   "pygments_lexer": "ipython3",
   "version": "3.9.12"
  }
 },
 "nbformat": 4,
 "nbformat_minor": 5
}
