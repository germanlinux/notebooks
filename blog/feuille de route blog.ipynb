{
 "cells": [
  {
   "cell_type": "markdown",
   "id": "5e213779",
   "metadata": {},
   "source": [
    "## Idées d'article"
   ]
  },
  {
   "cell_type": "markdown",
   "id": "78e1f586",
   "metadata": {},
   "source": [
    "### Python"
   ]
  },
  {
   "cell_type": "markdown",
   "id": "31100381",
   "metadata": {},
   "source": [
    "#### Le garbage collector.\n",
    "\n",
    "Le GC de Python utilise deux techniques differentes.\n",
    "* Le comptage de reference\n",
    "* Le niveau de génération\n",
    "\n",
    "Objet de l'article: expliquer le fonctionnement interne  avec le module gc et sys\n",
    "https://rushter.com/blog/python-garbage-collector/"
   ]
  },
  {
   "cell_type": "markdown",
   "id": "1b6c5a44",
   "metadata": {},
   "source": [
    "#### Le packaging et la distribution\n",
    "\n",
    "* Comment avec poetry confectionner les paquets puis les distribuer sur pypi (mode test et production)\n",
    "* Composition des archives et composition du paquet. \n",
    "* Comment tester\n"
   ]
  },
  {
   "cell_type": "code",
   "execution_count": null,
   "id": "08d5b8b0",
   "metadata": {},
   "outputs": [],
   "source": [
    "Pydantic et pydantic vs dataclasse\n",
    "\n",
    "* Utilisation pour decrire les données\n",
    "* Pour valider des données\n",
    "* a la place du d"
   ]
  },
  {
   "cell_type": "markdown",
   "id": "cf2c6eb6",
   "metadata": {},
   "source": [
    "### Recapitulatif des Liens"
   ]
  },
  {
   "cell_type": "markdown",
   "id": "14e2af9b",
   "metadata": {},
   "source": [
    "* Visualiser l'innovation:map de wardley  https://blog.revolve.team/2020/05/19/outil-transformation-cartographie-simon-wardley/\n",
    "* Les presentations de type pechakucha https://fr.wikipedia.org/wiki/Pecha_Kucha  https://www.pechakucha.com/\n",
    "* liens twitter de la période"
   ]
  },
  {
   "cell_type": "markdown",
   "id": "6492657b",
   "metadata": {},
   "source": [
    "* python objetgraph https://mg.pov.lt/objgraph/\n",
    "* architecture https://bytebytego.com/courses/system-design-interview/foreword\n",
    "* pandas https://wesmckinney.com/blog/apache-arrow-pandas-internals/\n",
    "* sharding https://architecturenotes.co/database-sharding-explained/    \n",
    "* python stopit https://pypi.org/project/stopit/\n",
    "* python perfectionnement https://github.com/pro1code1hack/Senior-Dev-Roadmap\n",
    "* windows xp dans le navigateur https://github.com/ducbao414/win32.run  \n",
    "* python dans le navigateur https://github.com/IvanCampos/pyScript\n",
    "* micro front end https://martinfowler.com/articles/micro-frontends.html    \n",
    "* python librairies https://github.com/vinta/awesome-python\n",
    "* python dictionnaires https://github.com/fabiocaccamo/python-benedict   \n",
    "* machine learning by reenforcement http://incompleteideas.net/book/RLbook2020.pdf \n",
    "* datascience preparation des données https://machinelearningmastery.com/calculate-feature-importance-with-python/\n",
    "* manip pands et numpy https://betterprogramming.pub/pandas-illustrated-the-definitive-visual-guide-to-pandas-c31fa921a43  \n",
    "* creation maps python et google https://morioh.com/p/a9bdee14b0d2  \n",
    "* python visualiasation de schema https://github.com/sqlhabit/sql_schema_visualizer\n",
    "* events :https://serverlessland.com/event-driven-architecture/visuals\n",
    "* ssh https://iximiuz.com/en/posts/ssh-tunnels/        \n",
    "        "
   ]
  },
  {
   "cell_type": "markdown",
   "id": "6b81a307",
   "metadata": {},
   "source": [
    "#### suite"
   ]
  },
  {
   "cell_type": "code",
   "execution_count": null,
   "id": "fe6683c4",
   "metadata": {},
   "outputs": [],
   "source": []
  }
 ],
 "metadata": {
  "kernelspec": {
   "display_name": "Python 3 (ipykernel)",
   "language": "python",
   "name": "python3"
  },
  "language_info": {
   "codemirror_mode": {
    "name": "ipython",
    "version": 3
   },
   "file_extension": ".py",
   "mimetype": "text/x-python",
   "name": "python",
   "nbconvert_exporter": "python",
   "pygments_lexer": "ipython3",
   "version": "3.9.12"
  }
 },
 "nbformat": 4,
 "nbformat_minor": 5
}
