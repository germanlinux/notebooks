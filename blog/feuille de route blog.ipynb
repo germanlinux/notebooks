{
 "cells": [
  {
   "cell_type": "markdown",
   "id": "5e213779",
   "metadata": {},
   "source": [
    "## Idées d'article"
   ]
  },
  {
   "cell_type": "markdown",
   "id": "78e1f586",
   "metadata": {},
   "source": [
    "### Python"
   ]
  },
  {
   "cell_type": "markdown",
   "id": "31100381",
   "metadata": {},
   "source": [
    "#### Le garbage collector.\n",
    "\n",
    "Le GC de Python utilise deux techniques differentes.\n",
    "* Le comptage de reference\n",
    "* Le niveau de génération\n",
    "\n",
    "Objet de l'article: expliquer le fonctionnement interne  avec le module gc et sys\n"
   ]
  },
  {
   "cell_type": "markdown",
   "id": "1b6c5a44",
   "metadata": {},
   "source": [
    "#### Le packaging et la distribution\n",
    "\n",
    "* Comment avec poetry confectionner les paquets puis les distribuer sur pypi (mode test et production)\n",
    "* Composition des archives et composition du paquet. \n",
    "* Comment tester\n"
   ]
  },
  {
   "cell_type": "markdown",
   "id": "cf2c6eb6",
   "metadata": {},
   "source": [
    "### Recapitulatif des Liens"
   ]
  },
  {
   "cell_type": "markdown",
   "id": "14e2af9b",
   "metadata": {},
   "source": [
    "* Visualiser l'innovation:map de wardley  https://blog.revolve.team/2020/05/19/outil-transformation-cartographie-simon-wardley/\n",
    "* Les presentations de type pechakucha\n",
    "* liens twitter de la période"
   ]
  },
  {
   "cell_type": "code",
   "execution_count": null,
   "id": "ea09333f",
   "metadata": {},
   "outputs": [],
   "source": []
  }
 ],
 "metadata": {
  "kernelspec": {
   "display_name": "Python 3 (ipykernel)",
   "language": "python",
   "name": "python3"
  },
  "language_info": {
   "codemirror_mode": {
    "name": "ipython",
    "version": 3
   },
   "file_extension": ".py",
   "mimetype": "text/x-python",
   "name": "python",
   "nbconvert_exporter": "python",
   "pygments_lexer": "ipython3",
   "version": "3.9.12"
  }
 },
 "nbformat": 4,
 "nbformat_minor": 5
}
