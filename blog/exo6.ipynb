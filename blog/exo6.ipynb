{
 "cells": [
  {
   "cell_type": "code",
   "execution_count": 7,
   "id": "39e7996e",
   "metadata": {},
   "outputs": [
    {
     "name": "stdout",
     "output_type": "stream",
     "text": [
      "4\n",
      "16\n",
      "100\n",
      "225\n",
      "{1: 1, 2: 4, 3: 9, 4: 16, 5: 25, 6: 36, 7: 49, 8: 64, 9: 81, 10: 100, 11: 121, 12: 144, 13: 169, 14: 196, 15: 225, 16: 256, 17: 289, 18: 324, 19: 361}\n"
     ]
    }
   ],
   "source": [
    "def somme_impair(n):\n",
    "    cp = 0\n",
    "    for  x in range(1,n*2,2):\n",
    "        cp+= x\n",
    "    return cp\n",
    "\n",
    "print(somme_impair(2))  \n",
    "print(somme_impair(4))  \n",
    "print(somme_impair(10))        \n",
    "print(somme_impair(15))  \n",
    "cache = {}\n",
    "for x in range(1,20):\n",
    "    cache[x] = somme_impair(x)\n",
    "print(cache)    \n",
    "\n",
    "def avec_cache(n):\n",
    "    if n in cache:\n",
    "        return cache[n]\n",
    "    else:\n",
    "        cache[n] = somme_impair(n)\n",
    "        return cache[n]"
   ]
  },
  {
   "cell_type": "code",
   "execution_count": 20,
   "id": "f059240e",
   "metadata": {},
   "outputs": [],
   "source": [
    "cache={}"
   ]
  },
  {
   "cell_type": "code",
   "execution_count": 21,
   "id": "f2a8453b",
   "metadata": {},
   "outputs": [
    {
     "name": "stdout",
     "output_type": "stream",
     "text": [
      "350 ns ± 15.6 ns per loop (mean ± std. dev. of 7 runs, 1,000,000 loops each)\n"
     ]
    }
   ],
   "source": [
    "%%timeit\n",
    "avec_cache(2000)"
   ]
  },
  {
   "cell_type": "code",
   "execution_count": 22,
   "id": "c7860269",
   "metadata": {},
   "outputs": [
    {
     "name": "stdout",
     "output_type": "stream",
     "text": [
      "383 ns ± 11.1 ns per loop (mean ± std. dev. of 7 runs, 1,000,000 loops each)\n"
     ]
    }
   ],
   "source": [
    "%%timeit\n",
    "avec_cache(2000)"
   ]
  },
  {
   "cell_type": "code",
   "execution_count": 15,
   "id": "2913322a",
   "metadata": {},
   "outputs": [],
   "source": [
    "del cache[200000]"
   ]
  },
  {
   "cell_type": "code",
   "execution_count": null,
   "id": "fcb9f2c7",
   "metadata": {},
   "outputs": [],
   "source": []
  }
 ],
 "metadata": {
  "kernelspec": {
   "display_name": "Python 3 (ipykernel)",
   "language": "python",
   "name": "python3"
  },
  "language_info": {
   "codemirror_mode": {
    "name": "ipython",
    "version": 3
   },
   "file_extension": ".py",
   "mimetype": "text/x-python",
   "name": "python",
   "nbconvert_exporter": "python",
   "pygments_lexer": "ipython3",
   "version": "3.9.12"
  }
 },
 "nbformat": 4,
 "nbformat_minor": 5
}
