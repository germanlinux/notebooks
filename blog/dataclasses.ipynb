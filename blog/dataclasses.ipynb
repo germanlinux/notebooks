{
 "cells": [
  {
   "cell_type": "markdown",
   "id": "bf6f0906",
   "metadata": {},
   "source": [
    "### Les dataclasses"
   ]
  },
  {
   "cell_type": "markdown",
   "id": "9515d929",
   "metadata": {},
   "source": [
    "#### Forme simple"
   ]
  },
  {
   "cell_type": "code",
   "execution_count": 1,
   "id": "3873084b",
   "metadata": {},
   "outputs": [],
   "source": [
    "from dataclasses import dataclass,field"
   ]
  },
  {
   "cell_type": "code",
   "execution_count": 7,
   "id": "0cd4d079",
   "metadata": {},
   "outputs": [],
   "source": [
    "@dataclass\n",
    "class Exemple:\n",
    "    ident: int\n",
    "    nom: str =''\n",
    "        "
   ]
  },
  {
   "cell_type": "code",
   "execution_count": 69,
   "id": "75ebe353",
   "metadata": {},
   "outputs": [],
   "source": [
    "a = Exemple(1, 'eric')"
   ]
  },
  {
   "cell_type": "code",
   "execution_count": 76,
   "id": "6b3aeb7d",
   "metadata": {
    "collapsed": true
   },
   "outputs": [
    {
     "name": "stdout",
     "output_type": "stream",
     "text": [
      "Help on class Exemple in module __main__:\n",
      "\n",
      "class Exemple(builtins.object)\n",
      " |  Exemple(ident: int, nom: str = '') -> None\n",
      " |  \n",
      " |  Exemple(ident: int, nom: str = '')\n",
      " |  \n",
      " |  Methods defined here:\n",
      " |  \n",
      " |  __eq__(self, other)\n",
      " |  \n",
      " |  __init__(self, ident: int, nom: str = '') -> None\n",
      " |  \n",
      " |  __repr__(self)\n",
      " |  \n",
      " |  ----------------------------------------------------------------------\n",
      " |  Data descriptors defined here:\n",
      " |  \n",
      " |  __dict__\n",
      " |      dictionary for instance variables (if defined)\n",
      " |  \n",
      " |  __weakref__\n",
      " |      list of weak references to the object (if defined)\n",
      " |  \n",
      " |  ----------------------------------------------------------------------\n",
      " |  Data and other attributes defined here:\n",
      " |  \n",
      " |  __annotations__ = {'ident': <class 'int'>, 'nom': <class 'str'>}\n",
      " |  \n",
      " |  __dataclass_fields__ = {'ident': Field(name='ident',type=<class 'int'>...\n",
      " |  \n",
      " |  __dataclass_params__ = _DataclassParams(init=True,repr=True,eq=True,or...\n",
      " |  \n",
      " |  __hash__ = None\n",
      " |  \n",
      " |  nom = ''\n",
      "\n"
     ]
    }
   ],
   "source": [
    "help(Exemple)"
   ]
  },
  {
   "cell_type": "code",
   "execution_count": 70,
   "id": "3cbef79d",
   "metadata": {},
   "outputs": [
    {
     "name": "stdout",
     "output_type": "stream",
     "text": [
      "Exemple(ident=1, nom='eric')\n"
     ]
    }
   ],
   "source": [
    "print(a)"
   ]
  },
  {
   "cell_type": "code",
   "execution_count": 5,
   "id": "41d2b38d",
   "metadata": {},
   "outputs": [],
   "source": [
    "class Exemple:\n",
    "    def __init__(self, ident, nom =''):\n",
    "        self.ident = ident\n",
    "        self.nom = nom\n",
    "        "
   ]
  },
  {
   "cell_type": "code",
   "execution_count": 72,
   "id": "9b4b2f86",
   "metadata": {},
   "outputs": [],
   "source": [
    "a = Exemple(1, 'eric')"
   ]
  },
  {
   "cell_type": "code",
   "execution_count": 78,
   "id": "0fff12fe",
   "metadata": {
    "collapsed": true
   },
   "outputs": [
    {
     "name": "stdout",
     "output_type": "stream",
     "text": [
      "Help on class Exemple in module __main__:\n",
      "\n",
      "class Exemple(builtins.object)\n",
      " |  Exemple(ident, nom='')\n",
      " |  \n",
      " |  Methods defined here:\n",
      " |  \n",
      " |  __init__(self, ident, nom='')\n",
      " |      Initialize self.  See help(type(self)) for accurate signature.\n",
      " |  \n",
      " |  ----------------------------------------------------------------------\n",
      " |  Data descriptors defined here:\n",
      " |  \n",
      " |  __dict__\n",
      " |      dictionary for instance variables (if defined)\n",
      " |  \n",
      " |  __weakref__\n",
      " |      list of weak references to the object (if defined)\n",
      "\n"
     ]
    }
   ],
   "source": [
    "help(Exemple)"
   ]
  },
  {
   "cell_type": "code",
   "execution_count": 73,
   "id": "fbba9bdd",
   "metadata": {},
   "outputs": [
    {
     "name": "stdout",
     "output_type": "stream",
     "text": [
      "<__main__.Exemple object at 0x000001C6018E9AC0>\n"
     ]
    }
   ],
   "source": [
    "print(a)"
   ]
  },
  {
   "cell_type": "code",
   "execution_count": 3,
   "id": "e4624963",
   "metadata": {},
   "outputs": [],
   "source": [
    "import dis"
   ]
  },
  {
   "cell_type": "code",
   "execution_count": 4,
   "id": "5d601a40",
   "metadata": {
    "scrolled": true
   },
   "outputs": [
    {
     "name": "stdout",
     "output_type": "stream",
     "text": [
      "  3           0 LOAD_FAST                1 (ident)\n",
      "              2 LOAD_FAST                0 (self)\n",
      "              4 STORE_ATTR               0 (ident)\n",
      "\n",
      "  4           6 LOAD_FAST                2 (nom)\n",
      "              8 LOAD_FAST                0 (self)\n",
      "             10 STORE_ATTR               1 (nom)\n",
      "             12 LOAD_CONST               0 (None)\n",
      "             14 RETURN_VALUE\n",
      "None\n"
     ]
    }
   ],
   "source": [
    "print(dis.dis(Exemple.__init__))"
   ]
  },
  {
   "cell_type": "code",
   "execution_count": 8,
   "id": "0c61bc38",
   "metadata": {},
   "outputs": [],
   "source": [
    "@dataclass\n",
    "class Fils(Exemple):\n",
    "    prenom :str=''"
   ]
  },
  {
   "cell_type": "code",
   "execution_count": 9,
   "id": "e2c60d1e",
   "metadata": {},
   "outputs": [
    {
     "name": "stdout",
     "output_type": "stream",
     "text": [
      "  3           0 LOAD_FAST                1 (ident)\n",
      "              2 LOAD_FAST                0 (self)\n",
      "              4 STORE_ATTR               0 (ident)\n",
      "\n",
      "  4           6 LOAD_FAST                2 (nom)\n",
      "              8 LOAD_FAST                0 (self)\n",
      "             10 STORE_ATTR               1 (nom)\n",
      "\n",
      "  5          12 LOAD_FAST                3 (prenom)\n",
      "             14 LOAD_FAST                0 (self)\n",
      "             16 STORE_ATTR               2 (prenom)\n",
      "             18 LOAD_CONST               0 (None)\n",
      "             20 RETURN_VALUE\n"
     ]
    }
   ],
   "source": [
    "dis.dis(Fils.__init__)"
   ]
  },
  {
   "cell_type": "markdown",
   "id": "2562c69b",
   "metadata": {},
   "source": [
    "### Heritage "
   ]
  },
  {
   "cell_type": "code",
   "execution_count": 6,
   "id": "76906af3",
   "metadata": {},
   "outputs": [],
   "source": [
    "class Fils(Exemple):\n",
    "    \n",
    "    def __init__(self,ident, nom, prenom):\n",
    "        self.prenom = prenom\n",
    "        super().__init(ident, nom)"
   ]
  },
  {
   "cell_type": "markdown",
   "id": "455bf38f",
   "metadata": {},
   "source": [
    "### utilisation d'une variable de classe\n"
   ]
  },
  {
   "cell_type": "code",
   "execution_count": 16,
   "id": "f1a63807",
   "metadata": {},
   "outputs": [],
   "source": [
    "from typing import ClassVar\n"
   ]
  },
  {
   "cell_type": "code",
   "execution_count": 47,
   "id": "d8b5ebf9",
   "metadata": {},
   "outputs": [],
   "source": [
    "@dataclass\n",
    "class Exemple_deux():\n",
    "    ma_liste : ClassVar[list] = [] \n",
    "    nom: str\n",
    "    def __post_init__(self):\n",
    "        Exemple_deux.ma_liste.append('un')"
   ]
  },
  {
   "cell_type": "code",
   "execution_count": 48,
   "id": "644ff363",
   "metadata": {
    "collapsed": true
   },
   "outputs": [
    {
     "name": "stdout",
     "output_type": "stream",
     "text": [
      "Disassembly of __eq__:\n",
      "  3           0 LOAD_FAST                1 (other)\n",
      "              2 LOAD_ATTR                0 (__class__)\n",
      "              4 LOAD_FAST                0 (self)\n",
      "              6 LOAD_ATTR                0 (__class__)\n",
      "              8 IS_OP                    0\n",
      "             10 POP_JUMP_IF_FALSE       28\n",
      "\n",
      "  4          12 LOAD_FAST                0 (self)\n",
      "             14 LOAD_ATTR                1 (nom)\n",
      "             16 BUILD_TUPLE              1\n",
      "             18 LOAD_FAST                1 (other)\n",
      "             20 LOAD_ATTR                1 (nom)\n",
      "             22 BUILD_TUPLE              1\n",
      "             24 COMPARE_OP               2 (==)\n",
      "             26 RETURN_VALUE\n",
      "\n",
      "  5     >>   28 LOAD_GLOBAL              2 (NotImplemented)\n",
      "             30 RETURN_VALUE\n",
      "\n",
      "Disassembly of __init__:\n",
      "  3           0 LOAD_FAST                1 (nom)\n",
      "              2 LOAD_FAST                0 (self)\n",
      "              4 STORE_ATTR               0 (nom)\n",
      "\n",
      "  4           6 LOAD_FAST                0 (self)\n",
      "              8 LOAD_METHOD              1 (__post_init__)\n",
      "             10 CALL_METHOD              0\n",
      "             12 POP_TOP\n",
      "             14 LOAD_CONST               0 (None)\n",
      "             16 RETURN_VALUE\n",
      "\n",
      "Disassembly of __post_init__:\n",
      "  6           0 LOAD_GLOBAL              0 (Exemple_deux)\n",
      "              2 LOAD_ATTR                1 (ma_liste)\n",
      "              4 LOAD_METHOD              2 (append)\n",
      "              6 LOAD_CONST               1 ('un')\n",
      "              8 CALL_METHOD              1\n",
      "             10 POP_TOP\n",
      "             12 LOAD_CONST               0 (None)\n",
      "             14 RETURN_VALUE\n",
      "\n",
      "Disassembly of __repr__:\n",
      "365           0 LOAD_GLOBAL              0 (id)\n",
      "              2 LOAD_FAST                0 (self)\n",
      "              4 CALL_FUNCTION            1\n",
      "              6 LOAD_GLOBAL              1 (_thread)\n",
      "              8 LOAD_METHOD              2 (get_ident)\n",
      "             10 CALL_METHOD              0\n",
      "             12 BUILD_TUPLE              2\n",
      "             14 STORE_FAST               1 (key)\n",
      "\n",
      "366          16 LOAD_FAST                1 (key)\n",
      "             18 LOAD_DEREF               0 (repr_running)\n",
      "             20 CONTAINS_OP              0\n",
      "             22 POP_JUMP_IF_FALSE       28\n",
      "\n",
      "367          24 LOAD_CONST               1 ('...')\n",
      "             26 RETURN_VALUE\n",
      "\n",
      "368     >>   28 LOAD_DEREF               0 (repr_running)\n",
      "             30 LOAD_METHOD              3 (add)\n",
      "             32 LOAD_FAST                1 (key)\n",
      "             34 CALL_METHOD              1\n",
      "             36 POP_TOP\n",
      "\n",
      "369          38 SETUP_FINALLY           22 (to 62)\n",
      "\n",
      "370          40 LOAD_DEREF               1 (user_function)\n",
      "             42 LOAD_FAST                0 (self)\n",
      "             44 CALL_FUNCTION            1\n",
      "             46 STORE_FAST               2 (result)\n",
      "             48 POP_BLOCK\n",
      "\n",
      "372          50 LOAD_DEREF               0 (repr_running)\n",
      "             52 LOAD_METHOD              4 (discard)\n",
      "             54 LOAD_FAST                1 (key)\n",
      "             56 CALL_METHOD              1\n",
      "             58 POP_TOP\n",
      "             60 JUMP_FORWARD            12 (to 74)\n",
      "        >>   62 LOAD_DEREF               0 (repr_running)\n",
      "             64 LOAD_METHOD              4 (discard)\n",
      "             66 LOAD_FAST                1 (key)\n",
      "             68 CALL_METHOD              1\n",
      "             70 POP_TOP\n",
      "             72 RERAISE\n",
      "\n",
      "373     >>   74 LOAD_FAST                2 (result)\n",
      "             76 RETURN_VALUE\n",
      "\n"
     ]
    }
   ],
   "source": [
    "dis.dis(Exemple_deux)"
   ]
  },
  {
   "cell_type": "code",
   "execution_count": 49,
   "id": "f29b49ab",
   "metadata": {},
   "outputs": [],
   "source": [
    "e = Exemple_deux('eric')"
   ]
  },
  {
   "cell_type": "code",
   "execution_count": 50,
   "id": "09773fea",
   "metadata": {},
   "outputs": [
    {
     "name": "stdout",
     "output_type": "stream",
     "text": [
      "Exemple_deux(nom='eric')\n"
     ]
    }
   ],
   "source": [
    "print(e)"
   ]
  },
  {
   "cell_type": "code",
   "execution_count": 51,
   "id": "33fe13c7",
   "metadata": {},
   "outputs": [
    {
     "name": "stdout",
     "output_type": "stream",
     "text": [
      "{'__module__': '__main__', '__annotations__': {'ma_liste': typing.ClassVar[list], 'nom': <class 'str'>}, 'ma_liste': ['un'], '__post_init__': <function Exemple_deux.__post_init__ at 0x000001C601E96940>, '__dict__': <attribute '__dict__' of 'Exemple_deux' objects>, '__weakref__': <attribute '__weakref__' of 'Exemple_deux' objects>, '__doc__': 'Exemple_deux(nom: str)', '__dataclass_params__': _DataclassParams(init=True,repr=True,eq=True,order=False,unsafe_hash=False,frozen=False), '__dataclass_fields__': {'ma_liste': Field(name='ma_liste',type=typing.ClassVar[list],default=['un'],default_factory=<dataclasses._MISSING_TYPE object at 0x000001C67E31F220>,init=True,repr=True,hash=None,compare=True,metadata=mappingproxy({}),_field_type=_FIELD_CLASSVAR), 'nom': Field(name='nom',type=<class 'str'>,default=<dataclasses._MISSING_TYPE object at 0x000001C67E31F220>,default_factory=<dataclasses._MISSING_TYPE object at 0x000001C67E31F220>,init=True,repr=True,hash=None,compare=True,metadata=mappingproxy({}),_field_type=_FIELD)}, '__init__': <function __create_fn__.<locals>.__init__ at 0x000001C601E96A60>, '__repr__': <function __create_fn__.<locals>.__repr__ at 0x000001C601847310>, '__eq__': <function __create_fn__.<locals>.__eq__ at 0x000001C601685790>, '__hash__': None}\n"
     ]
    }
   ],
   "source": [
    "print(vars(Exemple_deux))"
   ]
  },
  {
   "cell_type": "code",
   "execution_count": 52,
   "id": "845977c2",
   "metadata": {
    "scrolled": true
   },
   "outputs": [
    {
     "name": "stdout",
     "output_type": "stream",
     "text": [
      "Disassembly of __eq__:\n",
      "  3           0 LOAD_FAST                1 (other)\n",
      "              2 LOAD_ATTR                0 (__class__)\n",
      "              4 LOAD_FAST                0 (self)\n",
      "              6 LOAD_ATTR                0 (__class__)\n",
      "              8 IS_OP                    0\n",
      "             10 POP_JUMP_IF_FALSE       28\n",
      "\n",
      "  4          12 LOAD_FAST                0 (self)\n",
      "             14 LOAD_ATTR                1 (nom)\n",
      "             16 BUILD_TUPLE              1\n",
      "             18 LOAD_FAST                1 (other)\n",
      "             20 LOAD_ATTR                1 (nom)\n",
      "             22 BUILD_TUPLE              1\n",
      "             24 COMPARE_OP               2 (==)\n",
      "             26 RETURN_VALUE\n",
      "\n",
      "  5     >>   28 LOAD_GLOBAL              2 (NotImplemented)\n",
      "             30 RETURN_VALUE\n",
      "\n",
      "Disassembly of __init__:\n",
      "  3           0 LOAD_FAST                1 (nom)\n",
      "              2 LOAD_FAST                0 (self)\n",
      "              4 STORE_ATTR               0 (nom)\n",
      "\n",
      "  4           6 LOAD_FAST                0 (self)\n",
      "              8 LOAD_METHOD              1 (__post_init__)\n",
      "             10 CALL_METHOD              0\n",
      "             12 POP_TOP\n",
      "             14 LOAD_CONST               0 (None)\n",
      "             16 RETURN_VALUE\n",
      "\n",
      "Disassembly of __post_init__:\n",
      "  6           0 LOAD_GLOBAL              0 (Exemple_deux)\n",
      "              2 LOAD_ATTR                1 (ma_liste)\n",
      "              4 LOAD_METHOD              2 (append)\n",
      "              6 LOAD_CONST               1 ('un')\n",
      "              8 CALL_METHOD              1\n",
      "             10 POP_TOP\n",
      "             12 LOAD_CONST               0 (None)\n",
      "             14 RETURN_VALUE\n",
      "\n",
      "Disassembly of __repr__:\n",
      "365           0 LOAD_GLOBAL              0 (id)\n",
      "              2 LOAD_FAST                0 (self)\n",
      "              4 CALL_FUNCTION            1\n",
      "              6 LOAD_GLOBAL              1 (_thread)\n",
      "              8 LOAD_METHOD              2 (get_ident)\n",
      "             10 CALL_METHOD              0\n",
      "             12 BUILD_TUPLE              2\n",
      "             14 STORE_FAST               1 (key)\n",
      "\n",
      "366          16 LOAD_FAST                1 (key)\n",
      "             18 LOAD_DEREF               0 (repr_running)\n",
      "             20 CONTAINS_OP              0\n",
      "             22 POP_JUMP_IF_FALSE       28\n",
      "\n",
      "367          24 LOAD_CONST               1 ('...')\n",
      "             26 RETURN_VALUE\n",
      "\n",
      "368     >>   28 LOAD_DEREF               0 (repr_running)\n",
      "             30 LOAD_METHOD              3 (add)\n",
      "             32 LOAD_FAST                1 (key)\n",
      "             34 CALL_METHOD              1\n",
      "             36 POP_TOP\n",
      "\n",
      "369          38 SETUP_FINALLY           22 (to 62)\n",
      "\n",
      "370          40 LOAD_DEREF               1 (user_function)\n",
      "             42 LOAD_FAST                0 (self)\n",
      "             44 CALL_FUNCTION            1\n",
      "             46 STORE_FAST               2 (result)\n",
      "             48 POP_BLOCK\n",
      "\n",
      "372          50 LOAD_DEREF               0 (repr_running)\n",
      "             52 LOAD_METHOD              4 (discard)\n",
      "             54 LOAD_FAST                1 (key)\n",
      "             56 CALL_METHOD              1\n",
      "             58 POP_TOP\n",
      "             60 JUMP_FORWARD            12 (to 74)\n",
      "        >>   62 LOAD_DEREF               0 (repr_running)\n",
      "             64 LOAD_METHOD              4 (discard)\n",
      "             66 LOAD_FAST                1 (key)\n",
      "             68 CALL_METHOD              1\n",
      "             70 POP_TOP\n",
      "             72 RERAISE\n",
      "\n",
      "373     >>   74 LOAD_FAST                2 (result)\n",
      "             76 RETURN_VALUE\n",
      "\n"
     ]
    }
   ],
   "source": [
    "dis.dis(Exemple_deux)"
   ]
  },
  {
   "cell_type": "code",
   "execution_count": 61,
   "id": "0f9444dc",
   "metadata": {},
   "outputs": [
    {
     "name": "stdout",
     "output_type": "stream",
     "text": [
      "Help on function field in dataclasses:\n",
      "\n",
      "dataclasses.field = field(*, default=<dataclasses._MISSING_TYPE object at 0x000001C67E31F220>, default_factory=<dataclasses._MISSING_TYPE object at 0x000001C67E31F220>, init=True, repr=True, hash=None, compare=True, metadata=None)\n",
      "    Return an object to identify dataclass fields.\n",
      "    \n",
      "    default is the default value of the field.  default_factory is a\n",
      "    0-argument function called to initialize a field's value.  If init\n",
      "    is True, the field will be a parameter to the class's __init__()\n",
      "    function.  If repr is True, the field will be included in the\n",
      "    object's repr().  If hash is True, the field will be included in\n",
      "    the object's hash().  If compare is True, the field will be used\n",
      "    in comparison functions.  metadata, if specified, must be a\n",
      "    mapping which is stored but not otherwise examined by dataclass.\n",
      "    \n",
      "    It is an error to specify both default and default_factory.\n",
      "\n"
     ]
    }
   ],
   "source": [
    "help('dataclasses.field')"
   ]
  },
  {
   "cell_type": "code",
   "execution_count": 10,
   "id": "b6d3f262",
   "metadata": {},
   "outputs": [],
   "source": [
    "@dataclass\n",
    "class Exemple_trois:\n",
    "    nom: str\n",
    "    prenom: str\n",
    "    mail: str = field(init=False)    "
   ]
  },
  {
   "cell_type": "code",
   "execution_count": 11,
   "id": "7f54d546",
   "metadata": {
    "scrolled": true
   },
   "outputs": [
    {
     "name": "stdout",
     "output_type": "stream",
     "text": [
      "  3           0 LOAD_FAST                1 (nom)\n",
      "              2 LOAD_FAST                0 (self)\n",
      "              4 STORE_ATTR               0 (nom)\n",
      "\n",
      "  4           6 LOAD_FAST                2 (prenom)\n",
      "              8 LOAD_FAST                0 (self)\n",
      "             10 STORE_ATTR               1 (prenom)\n",
      "             12 LOAD_CONST               0 (None)\n",
      "             14 RETURN_VALUE\n"
     ]
    }
   ],
   "source": [
    "dis.dis(Exemple_trois.__init__)"
   ]
  },
  {
   "cell_type": "code",
   "execution_count": 60,
   "id": "4951f258",
   "metadata": {},
   "outputs": [
    {
     "ename": "ValueError",
     "evalue": "mutable default <class 'list'> for field ma_liste is not allowed: use default_factory",
     "output_type": "error",
     "traceback": [
      "\u001b[1;31m---------------------------------------------------------------------------\u001b[0m",
      "\u001b[1;31mValueError\u001b[0m                                Traceback (most recent call last)",
      "Input \u001b[1;32mIn [60]\u001b[0m, in \u001b[0;36m<cell line: 1>\u001b[1;34m()\u001b[0m\n\u001b[0;32m      1\u001b[0m \u001b[38;5;129;43m@dataclass\u001b[39;49m\n\u001b[1;32m----> 2\u001b[0m \u001b[38;5;28;43;01mclass\u001b[39;49;00m\u001b[43m \u001b[49m\u001b[38;5;21;43;01mExemple_trois\u001b[39;49;00m\u001b[43m:\u001b[49m\n\u001b[0;32m      3\u001b[0m \u001b[43m    \u001b[49m\u001b[43mnom\u001b[49m\u001b[43m:\u001b[49m\u001b[43m \u001b[49m\u001b[38;5;28;43mstr\u001b[39;49m\n\u001b[0;32m      4\u001b[0m \u001b[43m    \u001b[49m\u001b[43mprenom\u001b[49m\u001b[43m:\u001b[49m\u001b[43m \u001b[49m\u001b[38;5;28;43mstr\u001b[39;49m\n",
      "File \u001b[1;32m~\\anaconda3\\lib\\dataclasses.py:1021\u001b[0m, in \u001b[0;36mdataclass\u001b[1;34m(cls, init, repr, eq, order, unsafe_hash, frozen)\u001b[0m\n\u001b[0;32m   1018\u001b[0m     \u001b[38;5;28;01mreturn\u001b[39;00m wrap\n\u001b[0;32m   1020\u001b[0m \u001b[38;5;66;03m# We're called as @dataclass without parens.\u001b[39;00m\n\u001b[1;32m-> 1021\u001b[0m \u001b[38;5;28;01mreturn\u001b[39;00m \u001b[43mwrap\u001b[49m\u001b[43m(\u001b[49m\u001b[38;5;28;43mcls\u001b[39;49m\u001b[43m)\u001b[49m\n",
      "File \u001b[1;32m~\\anaconda3\\lib\\dataclasses.py:1013\u001b[0m, in \u001b[0;36mdataclass.<locals>.wrap\u001b[1;34m(cls)\u001b[0m\n\u001b[0;32m   1012\u001b[0m \u001b[38;5;28;01mdef\u001b[39;00m \u001b[38;5;21mwrap\u001b[39m(\u001b[38;5;28mcls\u001b[39m):\n\u001b[1;32m-> 1013\u001b[0m     \u001b[38;5;28;01mreturn\u001b[39;00m \u001b[43m_process_class\u001b[49m\u001b[43m(\u001b[49m\u001b[38;5;28;43mcls\u001b[39;49m\u001b[43m,\u001b[49m\u001b[43m \u001b[49m\u001b[43minit\u001b[49m\u001b[43m,\u001b[49m\u001b[43m \u001b[49m\u001b[38;5;28;43mrepr\u001b[39;49m\u001b[43m,\u001b[49m\u001b[43m \u001b[49m\u001b[43meq\u001b[49m\u001b[43m,\u001b[49m\u001b[43m \u001b[49m\u001b[43morder\u001b[49m\u001b[43m,\u001b[49m\u001b[43m \u001b[49m\u001b[43munsafe_hash\u001b[49m\u001b[43m,\u001b[49m\u001b[43m \u001b[49m\u001b[43mfrozen\u001b[49m\u001b[43m)\u001b[49m\n",
      "File \u001b[1;32m~\\anaconda3\\lib\\dataclasses.py:863\u001b[0m, in \u001b[0;36m_process_class\u001b[1;34m(cls, init, repr, eq, order, unsafe_hash, frozen)\u001b[0m\n\u001b[0;32m    858\u001b[0m cls_annotations \u001b[38;5;241m=\u001b[39m \u001b[38;5;28mcls\u001b[39m\u001b[38;5;241m.\u001b[39m\u001b[38;5;18m__dict__\u001b[39m\u001b[38;5;241m.\u001b[39mget(\u001b[38;5;124m'\u001b[39m\u001b[38;5;124m__annotations__\u001b[39m\u001b[38;5;124m'\u001b[39m, {})\n\u001b[0;32m    860\u001b[0m \u001b[38;5;66;03m# Now find fields in our class.  While doing so, validate some\u001b[39;00m\n\u001b[0;32m    861\u001b[0m \u001b[38;5;66;03m# things, and set the default values (as class attributes) where\u001b[39;00m\n\u001b[0;32m    862\u001b[0m \u001b[38;5;66;03m# we can.\u001b[39;00m\n\u001b[1;32m--> 863\u001b[0m cls_fields \u001b[38;5;241m=\u001b[39m [_get_field(\u001b[38;5;28mcls\u001b[39m, name, \u001b[38;5;28mtype\u001b[39m)\n\u001b[0;32m    864\u001b[0m               \u001b[38;5;28;01mfor\u001b[39;00m name, \u001b[38;5;28mtype\u001b[39m \u001b[38;5;129;01min\u001b[39;00m cls_annotations\u001b[38;5;241m.\u001b[39mitems()]\n\u001b[0;32m    865\u001b[0m \u001b[38;5;28;01mfor\u001b[39;00m f \u001b[38;5;129;01min\u001b[39;00m cls_fields:\n\u001b[0;32m    866\u001b[0m     fields[f\u001b[38;5;241m.\u001b[39mname] \u001b[38;5;241m=\u001b[39m f\n",
      "File \u001b[1;32m~\\anaconda3\\lib\\dataclasses.py:863\u001b[0m, in \u001b[0;36m<listcomp>\u001b[1;34m(.0)\u001b[0m\n\u001b[0;32m    858\u001b[0m cls_annotations \u001b[38;5;241m=\u001b[39m \u001b[38;5;28mcls\u001b[39m\u001b[38;5;241m.\u001b[39m\u001b[38;5;18m__dict__\u001b[39m\u001b[38;5;241m.\u001b[39mget(\u001b[38;5;124m'\u001b[39m\u001b[38;5;124m__annotations__\u001b[39m\u001b[38;5;124m'\u001b[39m, {})\n\u001b[0;32m    860\u001b[0m \u001b[38;5;66;03m# Now find fields in our class.  While doing so, validate some\u001b[39;00m\n\u001b[0;32m    861\u001b[0m \u001b[38;5;66;03m# things, and set the default values (as class attributes) where\u001b[39;00m\n\u001b[0;32m    862\u001b[0m \u001b[38;5;66;03m# we can.\u001b[39;00m\n\u001b[1;32m--> 863\u001b[0m cls_fields \u001b[38;5;241m=\u001b[39m [\u001b[43m_get_field\u001b[49m\u001b[43m(\u001b[49m\u001b[38;5;28;43mcls\u001b[39;49m\u001b[43m,\u001b[49m\u001b[43m \u001b[49m\u001b[43mname\u001b[49m\u001b[43m,\u001b[49m\u001b[43m \u001b[49m\u001b[38;5;28;43mtype\u001b[39;49m\u001b[43m)\u001b[49m\n\u001b[0;32m    864\u001b[0m               \u001b[38;5;28;01mfor\u001b[39;00m name, \u001b[38;5;28mtype\u001b[39m \u001b[38;5;129;01min\u001b[39;00m cls_annotations\u001b[38;5;241m.\u001b[39mitems()]\n\u001b[0;32m    865\u001b[0m \u001b[38;5;28;01mfor\u001b[39;00m f \u001b[38;5;129;01min\u001b[39;00m cls_fields:\n\u001b[0;32m    866\u001b[0m     fields[f\u001b[38;5;241m.\u001b[39mname] \u001b[38;5;241m=\u001b[39m f\n",
      "File \u001b[1;32m~\\anaconda3\\lib\\dataclasses.py:747\u001b[0m, in \u001b[0;36m_get_field\u001b[1;34m(cls, a_name, a_type)\u001b[0m\n\u001b[0;32m    739\u001b[0m     \u001b[38;5;66;03m# Should I check for other field settings? default_factory\u001b[39;00m\n\u001b[0;32m    740\u001b[0m     \u001b[38;5;66;03m# seems the most serious to check for.  Maybe add others.  For\u001b[39;00m\n\u001b[0;32m    741\u001b[0m     \u001b[38;5;66;03m# example, how about init=False (or really,\u001b[39;00m\n\u001b[1;32m   (...)\u001b[0m\n\u001b[0;32m    744\u001b[0m \n\u001b[0;32m    745\u001b[0m \u001b[38;5;66;03m# For real fields, disallow mutable defaults for known types.\u001b[39;00m\n\u001b[0;32m    746\u001b[0m \u001b[38;5;28;01mif\u001b[39;00m f\u001b[38;5;241m.\u001b[39m_field_type \u001b[38;5;129;01mis\u001b[39;00m _FIELD \u001b[38;5;129;01mand\u001b[39;00m \u001b[38;5;28misinstance\u001b[39m(f\u001b[38;5;241m.\u001b[39mdefault, (\u001b[38;5;28mlist\u001b[39m, \u001b[38;5;28mdict\u001b[39m, \u001b[38;5;28mset\u001b[39m)):\n\u001b[1;32m--> 747\u001b[0m     \u001b[38;5;28;01mraise\u001b[39;00m \u001b[38;5;167;01mValueError\u001b[39;00m(\u001b[38;5;124mf\u001b[39m\u001b[38;5;124m'\u001b[39m\u001b[38;5;124mmutable default \u001b[39m\u001b[38;5;132;01m{\u001b[39;00m\u001b[38;5;28mtype\u001b[39m(f\u001b[38;5;241m.\u001b[39mdefault)\u001b[38;5;132;01m}\u001b[39;00m\u001b[38;5;124m for field \u001b[39m\u001b[38;5;124m'\u001b[39m\n\u001b[0;32m    748\u001b[0m                      \u001b[38;5;124mf\u001b[39m\u001b[38;5;124m'\u001b[39m\u001b[38;5;132;01m{\u001b[39;00mf\u001b[38;5;241m.\u001b[39mname\u001b[38;5;132;01m}\u001b[39;00m\u001b[38;5;124m is not allowed: use default_factory\u001b[39m\u001b[38;5;124m'\u001b[39m)\n\u001b[0;32m    750\u001b[0m \u001b[38;5;28;01mreturn\u001b[39;00m f\n",
      "\u001b[1;31mValueError\u001b[0m: mutable default <class 'list'> for field ma_liste is not allowed: use default_factory"
     ]
    }
   ],
   "source": [
    "@dataclass\n",
    "class Exemple_trois:\n",
    "    nom: str\n",
    "    prenom: str\n",
    "    mail: str = field(init=False)\n",
    "    ma_liste: list = []    "
   ]
  },
  {
   "cell_type": "code",
   "execution_count": 14,
   "id": "a1e12ca2",
   "metadata": {},
   "outputs": [],
   "source": [
    "@dataclass\n",
    "class Exemple_trois:\n",
    "    nom: str\n",
    "    prenom: str\n",
    "    mail: str = field(init=False)\n",
    "    ma_liste: list = field(default_factory=list) "
   ]
  },
  {
   "cell_type": "code",
   "execution_count": 13,
   "id": "f7e6ae60",
   "metadata": {},
   "outputs": [
    {
     "name": "stdout",
     "output_type": "stream",
     "text": [
      "  3           0 LOAD_FAST                1 (nom)\n",
      "              2 LOAD_FAST                0 (self)\n",
      "              4 STORE_ATTR               0 (nom)\n",
      "\n",
      "  4           6 LOAD_FAST                2 (prenom)\n",
      "              8 LOAD_FAST                0 (self)\n",
      "             10 STORE_ATTR               1 (prenom)\n",
      "\n",
      "  5          12 LOAD_FAST                3 (ma_liste)\n",
      "             14 LOAD_DEREF               0 (_HAS_DEFAULT_FACTORY)\n",
      "             16 IS_OP                    0\n",
      "             18 POP_JUMP_IF_FALSE       26\n",
      "             20 LOAD_DEREF               1 (_dflt_ma_liste)\n",
      "             22 CALL_FUNCTION            0\n",
      "             24 JUMP_FORWARD             2 (to 28)\n",
      "        >>   26 LOAD_FAST                3 (ma_liste)\n",
      "        >>   28 LOAD_FAST                0 (self)\n",
      "             30 STORE_ATTR               2 (ma_liste)\n",
      "             32 LOAD_CONST               0 (None)\n",
      "             34 RETURN_VALUE\n"
     ]
    }
   ],
   "source": [
    "dis.dis(Exemple_trois.__init__)"
   ]
  },
  {
   "cell_type": "code",
   "execution_count": 65,
   "id": "eed01f24",
   "metadata": {},
   "outputs": [],
   "source": [
    "a = Exemple_trois('eric', 'fger')"
   ]
  },
  {
   "cell_type": "code",
   "execution_count": 66,
   "id": "69d82617",
   "metadata": {},
   "outputs": [
    {
     "data": {
      "text/plain": [
       "{'nom': 'eric', 'prenom': 'fger', 'ma_liste': []}"
      ]
     },
     "execution_count": 66,
     "metadata": {},
     "output_type": "execute_result"
    }
   ],
   "source": [
    "vars(a)"
   ]
  },
  {
   "cell_type": "code",
   "execution_count": 15,
   "id": "0538b29b",
   "metadata": {},
   "outputs": [
    {
     "name": "stdout",
     "output_type": "stream",
     "text": [
      "Help on module dataclasses:\n",
      "\n",
      "NAME\n",
      "    dataclasses\n",
      "\n",
      "MODULE REFERENCE\n",
      "    https://docs.python.org/3.9/library/dataclasses\n",
      "    \n",
      "    The following documentation is automatically generated from the Python\n",
      "    source files.  It may be incomplete, incorrect or include features that\n",
      "    are considered implementation detail and may vary between Python\n",
      "    implementations.  When in doubt, consult the module reference at the\n",
      "    location listed above.\n",
      "\n",
      "CLASSES\n",
      "    builtins.AttributeError(builtins.Exception)\n",
      "        FrozenInstanceError\n",
      "    builtins.object\n",
      "        Field\n",
      "        InitVar\n",
      "    \n",
      "    class Field(builtins.object)\n",
      "     |  Field(default, default_factory, init, repr, hash, compare, metadata)\n",
      "     |  \n",
      "     |  # Instances of Field are only ever created from within this module,\n",
      "     |  # and only from the field() function, although Field instances are\n",
      "     |  # exposed externally as (conceptually) read-only objects.\n",
      "     |  #\n",
      "     |  # name and type are filled in after the fact, not in __init__.\n",
      "     |  # They're not known at the time this class is instantiated, but it's\n",
      "     |  # convenient if they're available later.\n",
      "     |  #\n",
      "     |  # When cls._FIELDS is filled in with a list of Field objects, the name\n",
      "     |  # and type fields will have been populated.\n",
      "     |  \n",
      "     |  Methods defined here:\n",
      "     |  \n",
      "     |  __init__(self, default, default_factory, init, repr, hash, compare, metadata)\n",
      "     |      Initialize self.  See help(type(self)) for accurate signature.\n",
      "     |  \n",
      "     |  __repr__(self)\n",
      "     |      Return repr(self).\n",
      "     |  \n",
      "     |  __set_name__(self, owner, name)\n",
      "     |      # This is used to support the PEP 487 __set_name__ protocol in the\n",
      "     |      # case where we're using a field that contains a descriptor as a\n",
      "     |      # default value.  For details on __set_name__, see\n",
      "     |      # https://www.python.org/dev/peps/pep-0487/#implementation-details.\n",
      "     |      #\n",
      "     |      # Note that in _process_class, this Field object is overwritten\n",
      "     |      # with the default value, so the end result is a descriptor that\n",
      "     |      # had __set_name__ called on it at the right time.\n",
      "     |  \n",
      "     |  ----------------------------------------------------------------------\n",
      "     |  Class methods defined here:\n",
      "     |  \n",
      "     |  __class_getitem__ = GenericAlias(...) from builtins.type\n",
      "     |      Represent a PEP 585 generic type\n",
      "     |      \n",
      "     |      E.g. for t = list[int], t.__origin__ is list and t.__args__ is (int,).\n",
      "     |  \n",
      "     |  ----------------------------------------------------------------------\n",
      "     |  Data descriptors defined here:\n",
      "     |  \n",
      "     |  compare\n",
      "     |  \n",
      "     |  default\n",
      "     |  \n",
      "     |  default_factory\n",
      "     |  \n",
      "     |  hash\n",
      "     |  \n",
      "     |  init\n",
      "     |  \n",
      "     |  metadata\n",
      "     |  \n",
      "     |  name\n",
      "     |  \n",
      "     |  repr\n",
      "     |  \n",
      "     |  type\n",
      "    \n",
      "    class FrozenInstanceError(builtins.AttributeError)\n",
      "     |  # Raised when an attempt is made to modify a frozen class.\n",
      "     |  \n",
      "     |  Method resolution order:\n",
      "     |      FrozenInstanceError\n",
      "     |      builtins.AttributeError\n",
      "     |      builtins.Exception\n",
      "     |      builtins.BaseException\n",
      "     |      builtins.object\n",
      "     |  \n",
      "     |  Data descriptors defined here:\n",
      "     |  \n",
      "     |  __weakref__\n",
      "     |      list of weak references to the object (if defined)\n",
      "     |  \n",
      "     |  ----------------------------------------------------------------------\n",
      "     |  Methods inherited from builtins.AttributeError:\n",
      "     |  \n",
      "     |  __init__(self, /, *args, **kwargs)\n",
      "     |      Initialize self.  See help(type(self)) for accurate signature.\n",
      "     |  \n",
      "     |  ----------------------------------------------------------------------\n",
      "     |  Static methods inherited from builtins.AttributeError:\n",
      "     |  \n",
      "     |  __new__(*args, **kwargs) from builtins.type\n",
      "     |      Create and return a new object.  See help(type) for accurate signature.\n",
      "     |  \n",
      "     |  ----------------------------------------------------------------------\n",
      "     |  Methods inherited from builtins.BaseException:\n",
      "     |  \n",
      "     |  __delattr__(self, name, /)\n",
      "     |      Implement delattr(self, name).\n",
      "     |  \n",
      "     |  __getattribute__(self, name, /)\n",
      "     |      Return getattr(self, name).\n",
      "     |  \n",
      "     |  __reduce__(...)\n",
      "     |      Helper for pickle.\n",
      "     |  \n",
      "     |  __repr__(self, /)\n",
      "     |      Return repr(self).\n",
      "     |  \n",
      "     |  __setattr__(self, name, value, /)\n",
      "     |      Implement setattr(self, name, value).\n",
      "     |  \n",
      "     |  __setstate__(...)\n",
      "     |  \n",
      "     |  __str__(self, /)\n",
      "     |      Return str(self).\n",
      "     |  \n",
      "     |  with_traceback(...)\n",
      "     |      Exception.with_traceback(tb) --\n",
      "     |      set self.__traceback__ to tb and return self.\n",
      "     |  \n",
      "     |  ----------------------------------------------------------------------\n",
      "     |  Data descriptors inherited from builtins.BaseException:\n",
      "     |  \n",
      "     |  __cause__\n",
      "     |      exception cause\n",
      "     |  \n",
      "     |  __context__\n",
      "     |      exception context\n",
      "     |  \n",
      "     |  __dict__\n",
      "     |  \n",
      "     |  __suppress_context__\n",
      "     |  \n",
      "     |  __traceback__\n",
      "     |  \n",
      "     |  args\n",
      "    \n",
      "    class InitVar(builtins.object)\n",
      "     |  InitVar(type)\n",
      "     |  \n",
      "     |  Methods defined here:\n",
      "     |  \n",
      "     |  __init__(self, type)\n",
      "     |      Initialize self.  See help(type(self)) for accurate signature.\n",
      "     |  \n",
      "     |  __repr__(self)\n",
      "     |      Return repr(self).\n",
      "     |  \n",
      "     |  ----------------------------------------------------------------------\n",
      "     |  Class methods defined here:\n",
      "     |  \n",
      "     |  __class_getitem__(type) from builtins.type\n",
      "     |  \n",
      "     |  ----------------------------------------------------------------------\n",
      "     |  Data descriptors defined here:\n",
      "     |  \n",
      "     |  type\n",
      "\n",
      "FUNCTIONS\n",
      "    asdict(obj, *, dict_factory=<class 'dict'>)\n",
      "        Return the fields of a dataclass instance as a new dictionary mapping\n",
      "        field names to field values.\n",
      "        \n",
      "        Example usage:\n",
      "        \n",
      "          @dataclass\n",
      "          class C:\n",
      "              x: int\n",
      "              y: int\n",
      "        \n",
      "          c = C(1, 2)\n",
      "          assert asdict(c) == {'x': 1, 'y': 2}\n",
      "        \n",
      "        If given, 'dict_factory' will be used instead of built-in dict.\n",
      "        The function applies recursively to field values that are\n",
      "        dataclass instances. This will also look into built-in containers:\n",
      "        tuples, lists, and dicts.\n",
      "    \n",
      "    astuple(obj, *, tuple_factory=<class 'tuple'>)\n",
      "        Return the fields of a dataclass instance as a new tuple of field values.\n",
      "        \n",
      "        Example usage::\n",
      "        \n",
      "          @dataclass\n",
      "          class C:\n",
      "              x: int\n",
      "              y: int\n",
      "        \n",
      "        c = C(1, 2)\n",
      "        assert astuple(c) == (1, 2)\n",
      "        \n",
      "        If given, 'tuple_factory' will be used instead of built-in tuple.\n",
      "        The function applies recursively to field values that are\n",
      "        dataclass instances. This will also look into built-in containers:\n",
      "        tuples, lists, and dicts.\n",
      "    \n",
      "    dataclass(cls=None, /, *, init=True, repr=True, eq=True, order=False, unsafe_hash=False, frozen=False)\n",
      "        Returns the same class as was passed in, with dunder methods\n",
      "        added based on the fields defined in the class.\n",
      "        \n",
      "        Examines PEP 526 __annotations__ to determine fields.\n",
      "        \n",
      "        If init is true, an __init__() method is added to the class. If\n",
      "        repr is true, a __repr__() method is added. If order is true, rich\n",
      "        comparison dunder methods are added. If unsafe_hash is true, a\n",
      "        __hash__() method function is added. If frozen is true, fields may\n",
      "        not be assigned to after instance creation.\n",
      "    \n",
      "    field(*, default=<dataclasses._MISSING_TYPE object at 0x0000013EBD00F220>, default_factory=<dataclasses._MISSING_TYPE object at 0x0000013EBD00F220>, init=True, repr=True, hash=None, compare=True, metadata=None)\n",
      "        Return an object to identify dataclass fields.\n",
      "        \n",
      "        default is the default value of the field.  default_factory is a\n",
      "        0-argument function called to initialize a field's value.  If init\n",
      "        is True, the field will be a parameter to the class's __init__()\n",
      "        function.  If repr is True, the field will be included in the\n",
      "        object's repr().  If hash is True, the field will be included in\n",
      "        the object's hash().  If compare is True, the field will be used\n",
      "        in comparison functions.  metadata, if specified, must be a\n",
      "        mapping which is stored but not otherwise examined by dataclass.\n",
      "        \n",
      "        It is an error to specify both default and default_factory.\n",
      "    \n",
      "    fields(class_or_instance)\n",
      "        Return a tuple describing the fields of this dataclass.\n",
      "        \n",
      "        Accepts a dataclass or an instance of one. Tuple elements are of\n",
      "        type Field.\n",
      "    \n",
      "    is_dataclass(obj)\n",
      "        Returns True if obj is a dataclass or an instance of a\n",
      "        dataclass.\n",
      "    \n",
      "    make_dataclass(cls_name, fields, *, bases=(), namespace=None, init=True, repr=True, eq=True, order=False, unsafe_hash=False, frozen=False)\n",
      "        Return a new dynamically created dataclass.\n",
      "        \n",
      "        The dataclass name will be 'cls_name'.  'fields' is an iterable\n",
      "        of either (name), (name, type) or (name, type, Field) objects. If type is\n",
      "        omitted, use the string 'typing.Any'.  Field objects are created by\n",
      "        the equivalent of calling 'field(name, type [, Field-info])'.\n",
      "        \n",
      "          C = make_dataclass('C', ['x', ('y', int), ('z', int, field(init=False))], bases=(Base,))\n",
      "        \n",
      "        is equivalent to:\n",
      "        \n",
      "          @dataclass\n",
      "          class C(Base):\n",
      "              x: 'typing.Any'\n",
      "              y: int\n",
      "              z: int = field(init=False)\n",
      "        \n",
      "        For the bases and namespace parameters, see the builtin type() function.\n",
      "        \n",
      "        The parameters init, repr, eq, order, unsafe_hash, and frozen are passed to\n",
      "        dataclass().\n",
      "    \n",
      "    replace(obj, /, **changes)\n",
      "        Return a new object replacing specified fields with new values.\n",
      "        \n",
      "        This is especially useful for frozen classes.  Example usage:\n",
      "        \n",
      "          @dataclass(frozen=True)\n",
      "          class C:\n",
      "              x: int\n",
      "              y: int\n",
      "        \n",
      "          c = C(1, 2)\n",
      "          c1 = replace(c, x=3)\n",
      "          assert c1.x == 3 and c1.y == 2\n",
      "\n",
      "DATA\n",
      "    MISSING = <dataclasses._MISSING_TYPE object>\n",
      "    __all__ = ['dataclass', 'field', 'Field', 'FrozenInstanceError', 'Init...\n",
      "\n",
      "FILE\n",
      "    c:\\users\\33681\\anaconda3\\lib\\dataclasses.py\n",
      "\n",
      "\n"
     ]
    }
   ],
   "source": [
    "help('dataclasses')"
   ]
  },
  {
   "cell_type": "code",
   "execution_count": null,
   "id": "da0a09e4",
   "metadata": {},
   "outputs": [],
   "source": []
  }
 ],
 "metadata": {
  "kernelspec": {
   "display_name": "Python 3 (ipykernel)",
   "language": "python",
   "name": "python3"
  },
  "language_info": {
   "codemirror_mode": {
    "name": "ipython",
    "version": 3
   },
   "file_extension": ".py",
   "mimetype": "text/x-python",
   "name": "python",
   "nbconvert_exporter": "python",
   "pygments_lexer": "ipython3",
   "version": "3.9.12"
  }
 },
 "nbformat": 4,
 "nbformat_minor": 5
}
