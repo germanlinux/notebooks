{
 "cells": [
  {
   "cell_type": "code",
   "execution_count": 1,
   "id": "1039f6d4",
   "metadata": {},
   "outputs": [],
   "source": [
    "from  sklearn.datasets import make_regression "
   ]
  },
  {
   "cell_type": "code",
   "execution_count": 2,
   "id": "89936ab0",
   "metadata": {},
   "outputs": [],
   "source": [
    "X,y = make_regression(n_samples=100, \n",
    "                      n_features=10, \n",
    "                      n_informative=3, \n",
    "                      noise=0.0, \n",
    "                      random_state=2)"
   ]
  },
  {
   "cell_type": "code",
   "execution_count": null,
   "id": "f04f4c8f",
   "metadata": {},
   "outputs": [],
   "source": []
  }
 ],
 "metadata": {
  "kernelspec": {
   "display_name": "Python 3 (ipykernel)",
   "language": "python",
   "name": "python3"
  },
  "language_info": {
   "codemirror_mode": {
    "name": "ipython",
    "version": 3
   },
   "file_extension": ".py",
   "mimetype": "text/x-python",
   "name": "python",
   "nbconvert_exporter": "python",
   "pygments_lexer": "ipython3",
   "version": "3.9.12"
  }
 },
 "nbformat": 4,
 "nbformat_minor": 5
}
