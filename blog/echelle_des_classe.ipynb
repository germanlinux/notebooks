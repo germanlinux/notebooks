{
 "cells": [
  {
   "cell_type": "markdown",
   "id": "40b1f0c2",
   "metadata": {},
   "source": [
    "### Avec SimpleNamespace"
   ]
  },
  {
   "cell_type": "code",
   "execution_count": 1,
   "id": "5e951066",
   "metadata": {},
   "outputs": [],
   "source": [
    "import types"
   ]
  },
  {
   "cell_type": "code",
   "execution_count": 4,
   "id": "e7f6238a",
   "metadata": {},
   "outputs": [],
   "source": [
    "x = types.SimpleNamespace(prenom = 'luke' , nom = 'skywalker')"
   ]
  },
  {
   "cell_type": "code",
   "execution_count": 5,
   "id": "93b1ff3b",
   "metadata": {},
   "outputs": [
    {
     "name": "stdout",
     "output_type": "stream",
     "text": [
      "namespace(prenom='luke', nom='skywalker')\n"
     ]
    }
   ],
   "source": [
    "print(x)"
   ]
  },
  {
   "cell_type": "code",
   "execution_count": 6,
   "id": "7895e3e8",
   "metadata": {},
   "outputs": [
    {
     "name": "stdout",
     "output_type": "stream",
     "text": [
      "skywalker\n"
     ]
    }
   ],
   "source": [
    "print(x.nom)"
   ]
  },
  {
   "cell_type": "code",
   "execution_count": 10,
   "id": "955625ed",
   "metadata": {},
   "outputs": [],
   "source": [
    "x.surnom ='eg'"
   ]
  },
  {
   "cell_type": "code",
   "execution_count": 11,
   "id": "1da48256",
   "metadata": {},
   "outputs": [
    {
     "data": {
      "text/plain": [
       "{'prenom': 'luke', 'nom': 'skywalker', 'surnom': 'eg'}"
      ]
     },
     "execution_count": 11,
     "metadata": {},
     "output_type": "execute_result"
    }
   ],
   "source": [
    "vars(x)"
   ]
  },
  {
   "cell_type": "markdown",
   "id": "799173bd",
   "metadata": {},
   "source": [
    "### Avec namedtuple"
   ]
  },
  {
   "cell_type": "code",
   "execution_count": 5,
   "id": "b3948035",
   "metadata": {},
   "outputs": [],
   "source": [
    "from collections import namedtuple"
   ]
  },
  {
   "cell_type": "markdown",
   "id": "00386ffe",
   "metadata": {},
   "source": [
    "### Définition d'une pseudo-classe"
   ]
  },
  {
   "cell_type": "code",
   "execution_count": 7,
   "id": "195ca2f1",
   "metadata": {},
   "outputs": [],
   "source": [
    "Rectangle = namedtuple('Rectangle', ['longueur', 'largeur']) "
   ]
  },
  {
   "cell_type": "markdown",
   "id": "a22fd79c",
   "metadata": {},
   "source": [
    "### instantiation et manipulation"
   ]
  },
  {
   "cell_type": "code",
   "execution_count": 8,
   "id": "31dee7b4",
   "metadata": {},
   "outputs": [],
   "source": [
    "r1  = Rectangle(12, 5)"
   ]
  },
  {
   "cell_type": "code",
   "execution_count": 9,
   "id": "e20a0ab3",
   "metadata": {},
   "outputs": [
    {
     "name": "stdout",
     "output_type": "stream",
     "text": [
      "Rectangle(longueur=12, largeur=5)\n"
     ]
    }
   ],
   "source": [
    "print(r1)"
   ]
  },
  {
   "cell_type": "markdown",
   "id": "57a5942e",
   "metadata": {},
   "source": [
    "### Les namedtuples sont très utilent pour manipuler des résultats d'une requete SQL ou des fichiers structurés"
   ]
  },
  {
   "cell_type": "code",
   "execution_count": null,
   "id": "7d344ebb",
   "metadata": {},
   "outputs": [],
   "source": []
  },
  {
   "cell_type": "markdown",
   "id": "8918c5eb",
   "metadata": {},
   "source": [
    "### Manipulation comme un objet ou comme un tuple"
   ]
  },
  {
   "cell_type": "code",
   "execution_count": 17,
   "id": "57a79f04",
   "metadata": {},
   "outputs": [
    {
     "name": "stdout",
     "output_type": "stream",
     "text": [
      "5 5\n"
     ]
    }
   ],
   "source": [
    "print(r1.largeur, r1[1])"
   ]
  },
  {
   "cell_type": "markdown",
   "id": "f747e889",
   "metadata": {},
   "source": [
    "### A partir d'un iterable"
   ]
  },
  {
   "cell_type": "code",
   "execution_count": 13,
   "id": "f19d2d15",
   "metadata": {
    "scrolled": true
   },
   "outputs": [
    {
     "name": "stdout",
     "output_type": "stream",
     "text": [
      "Rectangle(longueur=15, largeur=5)\n"
     ]
    }
   ],
   "source": [
    "rdim  = [15, 5]\n",
    "r2 = Rectangle._make(rdim)\n",
    "print(r2)"
   ]
  },
  {
   "cell_type": "code",
   "execution_count": 15,
   "id": "c99aa7bc",
   "metadata": {},
   "outputs": [
    {
     "data": {
      "text/plain": [
       "15"
      ]
     },
     "execution_count": 15,
     "metadata": {},
     "output_type": "execute_result"
    }
   ],
   "source": [
    "getattr(r2, 'longueur')"
   ]
  },
  {
   "cell_type": "markdown",
   "id": "6b9666f3",
   "metadata": {},
   "source": [
    "### A partir d'un dictionnaire"
   ]
  },
  {
   "cell_type": "code",
   "execution_count": 22,
   "id": "db2f6357",
   "metadata": {},
   "outputs": [
    {
     "name": "stdout",
     "output_type": "stream",
     "text": [
      "Rectangle(longueur=10, largeur=2)\n"
     ]
    }
   ],
   "source": [
    "rdict = {'largeur' :2, 'longueur' : 10 }\n",
    "r3 = Rectangle(**rdict)\n",
    "print(r3)"
   ]
  },
  {
   "cell_type": "markdown",
   "id": "3cd74368",
   "metadata": {},
   "source": [
    "### et réciproquement"
   ]
  },
  {
   "cell_type": "code",
   "execution_count": 23,
   "id": "dde50e0f",
   "metadata": {},
   "outputs": [
    {
     "name": "stdout",
     "output_type": "stream",
     "text": [
      "{'longueur': 10, 'largeur': 2}\n"
     ]
    }
   ],
   "source": [
    "rdict = r3._asdict()\n",
    "print(rdict)"
   ]
  },
  {
   "cell_type": "markdown",
   "id": "48d38f65",
   "metadata": {},
   "source": [
    "### Création à la volée d'un objet à partir d'une ligne json."
   ]
  },
  {
   "cell_type": "markdown",
   "id": "33869bc0",
   "metadata": {},
   "source": [
    "#### soit la structure json : \n"
   ]
  },
  {
   "cell_type": "code",
   "execution_count": 26,
   "id": "bd300a78",
   "metadata": {},
   "outputs": [],
   "source": [
    "import json\n",
    "var = json.loads(\"{\\\"un\\\": 1, \\\"deux\\\": 2, \\\"trois\\\": 3, \\\"dizaine\\\": [10, 20, 30, 40]}\" )"
   ]
  },
  {
   "cell_type": "code",
   "execution_count": 28,
   "id": "bf5dae3c",
   "metadata": {},
   "outputs": [
    {
     "name": "stdout",
     "output_type": "stream",
     "text": [
      "{'un': 1, 'deux': 2, 'trois': 3, 'dizaine': [10, 20, 30, 40]} <class 'dict'>\n"
     ]
    }
   ],
   "source": [
    "print(var, type(var))"
   ]
  },
  {
   "cell_type": "code",
   "execution_count": 30,
   "id": "e7780b2a",
   "metadata": {},
   "outputs": [],
   "source": [
    "import types\n",
    "obj = json.loads(\"{\\\"un\\\": 1, \\\"deux\\\": 2, \\\"trois\\\": 3, \\\"dizaine\\\": [10, 20, 30, 40]}\",object_hook= lambda d: types.SimpleNamespace(**d) )"
   ]
  },
  {
   "cell_type": "code",
   "execution_count": 31,
   "id": "94ef2bff",
   "metadata": {},
   "outputs": [
    {
     "data": {
      "text/plain": [
       "namespace(un=1, deux=2, trois=3, dizaine=[10, 20, 30, 40])"
      ]
     },
     "execution_count": 31,
     "metadata": {},
     "output_type": "execute_result"
    }
   ],
   "source": [
    "obj"
   ]
  },
  {
   "cell_type": "code",
   "execution_count": 32,
   "id": "261f5e19",
   "metadata": {},
   "outputs": [
    {
     "data": {
      "text/plain": [
       "2"
      ]
     },
     "execution_count": 32,
     "metadata": {},
     "output_type": "execute_result"
    }
   ],
   "source": [
    "obj.deux"
   ]
  },
  {
   "cell_type": "code",
   "execution_count": 33,
   "id": "397d3a2a",
   "metadata": {},
   "outputs": [],
   "source": [
    "obj.deux = 3"
   ]
  },
  {
   "cell_type": "code",
   "execution_count": 34,
   "id": "595af1c7",
   "metadata": {},
   "outputs": [
    {
     "data": {
      "text/plain": [
       "{'un': 1, 'deux': 3, 'trois': 3, 'dizaine': [10, 20, 30, 40]}"
      ]
     },
     "execution_count": 34,
     "metadata": {},
     "output_type": "execute_result"
    }
   ],
   "source": [
    "vars(obj)"
   ]
  },
  {
   "cell_type": "code",
   "execution_count": 36,
   "id": "79a20372",
   "metadata": {},
   "outputs": [
    {
     "name": "stdout",
     "output_type": "stream",
     "text": [
      "['__class__', '__delattr__', '__dict__', '__dir__', '__doc__', '__eq__', '__format__', '__ge__', '__getattribute__', '__gt__', '__hash__', '__init__', '__init_subclass__', '__le__', '__lt__', '__ne__', '__new__', '__reduce__', '__reduce_ex__', '__repr__', '__setattr__', '__sizeof__', '__str__', '__subclasshook__', 'deux', 'dizaine', 'trois', 'un']\n"
     ]
    }
   ],
   "source": [
    "print(dir(obj), sep = ',')"
   ]
  },
  {
   "cell_type": "code",
   "execution_count": null,
   "id": "daab5bd4",
   "metadata": {},
   "outputs": [],
   "source": []
  }
 ],
 "metadata": {
  "kernelspec": {
   "display_name": "Python 3 (ipykernel)",
   "language": "python",
   "name": "python3"
  },
  "language_info": {
   "codemirror_mode": {
    "name": "ipython",
    "version": 3
   },
   "file_extension": ".py",
   "mimetype": "text/x-python",
   "name": "python",
   "nbconvert_exporter": "python",
   "pygments_lexer": "ipython3",
   "version": "3.9.12"
  }
 },
 "nbformat": 4,
 "nbformat_minor": 5
}
