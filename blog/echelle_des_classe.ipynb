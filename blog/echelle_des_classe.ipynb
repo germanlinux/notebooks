{
 "cells": [
  {
   "cell_type": "markdown",
   "id": "2fa911f2",
   "metadata": {},
   "source": [
    "### Avec SimpleNamespace"
   ]
  },
  {
   "cell_type": "code",
   "execution_count": 1,
   "id": "5e951066",
   "metadata": {},
   "outputs": [],
   "source": [
    "import types"
   ]
  },
  {
   "cell_type": "code",
   "execution_count": 4,
   "id": "e7f6238a",
   "metadata": {},
   "outputs": [],
   "source": [
    "x = types.SimpleNamespace(prenom = 'luke' , nom = 'skywalker')"
   ]
  },
  {
   "cell_type": "code",
   "execution_count": 5,
   "id": "93b1ff3b",
   "metadata": {},
   "outputs": [
    {
     "name": "stdout",
     "output_type": "stream",
     "text": [
      "namespace(prenom='luke', nom='skywalker')\n"
     ]
    }
   ],
   "source": [
    "print(x)"
   ]
  },
  {
   "cell_type": "code",
   "execution_count": 6,
   "id": "7895e3e8",
   "metadata": {},
   "outputs": [
    {
     "name": "stdout",
     "output_type": "stream",
     "text": [
      "skywalker\n"
     ]
    }
   ],
   "source": [
    "print(x.nom)"
   ]
  },
  {
   "cell_type": "code",
   "execution_count": 10,
   "id": "955625ed",
   "metadata": {},
   "outputs": [],
   "source": [
    "x.surnom ='eg'"
   ]
  },
  {
   "cell_type": "code",
   "execution_count": 11,
   "id": "1da48256",
   "metadata": {},
   "outputs": [
    {
     "data": {
      "text/plain": [
       "{'prenom': 'luke', 'nom': 'skywalker', 'surnom': 'eg'}"
      ]
     },
     "execution_count": 11,
     "metadata": {},
     "output_type": "execute_result"
    }
   ],
   "source": [
    "vars(x)"
   ]
  },
  {
   "cell_type": "markdown",
   "id": "49b19e83",
   "metadata": {},
   "source": [
    "### Avec namedtuple"
   ]
  },
  {
   "cell_type": "code",
   "execution_count": 5,
   "id": "2fca60ec",
   "metadata": {},
   "outputs": [],
   "source": [
    "from collections import namedtuple"
   ]
  },
  {
   "cell_type": "markdown",
   "id": "ef308252",
   "metadata": {},
   "source": [
    "### Définition d'une pseudo-classe"
   ]
  },
  {
   "cell_type": "code",
   "execution_count": 7,
   "id": "a9d60fb2",
   "metadata": {},
   "outputs": [],
   "source": [
    "Rectangle = namedtuple('Rectangle', ['longueur', 'largeur']) "
   ]
  },
  {
   "cell_type": "markdown",
   "id": "74e8cc05",
   "metadata": {},
   "source": [
    "### instantiation et manipulation"
   ]
  },
  {
   "cell_type": "code",
   "execution_count": 8,
   "id": "05d6a618",
   "metadata": {},
   "outputs": [],
   "source": [
    "r1  = Rectangle(12, 5)"
   ]
  },
  {
   "cell_type": "code",
   "execution_count": 9,
   "id": "398a133c",
   "metadata": {},
   "outputs": [
    {
     "name": "stdout",
     "output_type": "stream",
     "text": [
      "Rectangle(longueur=12, largeur=5)\n"
     ]
    }
   ],
   "source": [
    "print(r1)"
   ]
  },
  {
   "cell_type": "markdown",
   "id": "54703592",
   "metadata": {},
   "source": [
    "### Manipulation comme un objet ou comme un tuple"
   ]
  },
  {
   "cell_type": "code",
   "execution_count": 17,
   "id": "9a8687df",
   "metadata": {},
   "outputs": [
    {
     "name": "stdout",
     "output_type": "stream",
     "text": [
      "5 5\n"
     ]
    }
   ],
   "source": [
    "print(r1.largeur, r1[1])"
   ]
  },
  {
   "cell_type": "markdown",
   "id": "fdf6f857",
   "metadata": {},
   "source": [
    "### A partir d'un iterable"
   ]
  },
  {
   "cell_type": "code",
   "execution_count": 13,
   "id": "aa0e4934",
   "metadata": {
    "scrolled": true
   },
   "outputs": [
    {
     "name": "stdout",
     "output_type": "stream",
     "text": [
      "Rectangle(longueur=15, largeur=5)\n"
     ]
    }
   ],
   "source": [
    "rdim  = [15, 5]\n",
    "r2 = Rectangle._make(rdim)\n",
    "print(r2)"
   ]
  },
  {
   "cell_type": "code",
   "execution_count": 15,
   "id": "bedbb35e",
   "metadata": {},
   "outputs": [
    {
     "data": {
      "text/plain": [
       "15"
      ]
     },
     "execution_count": 15,
     "metadata": {},
     "output_type": "execute_result"
    }
   ],
   "source": [
    "getattr(r2, 'longueur')"
   ]
  },
  {
   "cell_type": "markdown",
   "id": "e0f48c4b",
   "metadata": {},
   "source": [
    "### A partir d'un dictionnaire"
   ]
  },
  {
   "cell_type": "code",
   "execution_count": 22,
   "id": "d426cccb",
   "metadata": {},
   "outputs": [
    {
     "name": "stdout",
     "output_type": "stream",
     "text": [
      "Rectangle(longueur=10, largeur=2)\n"
     ]
    }
   ],
   "source": [
    "rdict = {'largeur' :2, 'longueur' : 10 }\n",
    "r3 = Rectangle(**rdict)\n",
    "print(r3)"
   ]
  },
  {
   "cell_type": "markdown",
   "id": "6624539c",
   "metadata": {},
   "source": [
    "### et réciproquement"
   ]
  },
  {
   "cell_type": "code",
   "execution_count": 23,
   "id": "a9f20f25",
   "metadata": {},
   "outputs": [
    {
     "name": "stdout",
     "output_type": "stream",
     "text": [
      "{'longueur': 10, 'largeur': 2}\n"
     ]
    }
   ],
   "source": [
    "rdict = r3._asdict()\n",
    "print(rdict)"
   ]
  },
  {
   "cell_type": "code",
   "execution_count": null,
   "id": "2c6f10d4",
   "metadata": {},
   "outputs": [],
   "source": []
  }
 ],
 "metadata": {
  "kernelspec": {
   "display_name": "Python 3 (ipykernel)",
   "language": "python",
   "name": "python3"
  },
  "language_info": {
   "codemirror_mode": {
    "name": "ipython",
    "version": 3
   },
   "file_extension": ".py",
   "mimetype": "text/x-python",
   "name": "python",
   "nbconvert_exporter": "python",
   "pygments_lexer": "ipython3",
   "version": "3.9.12"
  }
 },
 "nbformat": 4,
 "nbformat_minor": 5
}
