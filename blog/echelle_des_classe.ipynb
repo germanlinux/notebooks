{
 "cells": [
  {
   "cell_type": "markdown",
   "id": "fded73b3",
   "metadata": {},
   "source": [
    "### Avec SimpleNamespace"
   ]
  },
  {
   "cell_type": "code",
   "execution_count": 1,
   "id": "5e951066",
   "metadata": {},
   "outputs": [],
   "source": [
    "import types"
   ]
  },
  {
   "cell_type": "code",
   "execution_count": 4,
   "id": "e7f6238a",
   "metadata": {},
   "outputs": [],
   "source": [
    "x = types.SimpleNamespace(prenom = 'luke' , nom = 'skywalker')"
   ]
  },
  {
   "cell_type": "code",
   "execution_count": 5,
   "id": "93b1ff3b",
   "metadata": {},
   "outputs": [
    {
     "name": "stdout",
     "output_type": "stream",
     "text": [
      "namespace(prenom='luke', nom='skywalker')\n"
     ]
    }
   ],
   "source": [
    "print(x)"
   ]
  },
  {
   "cell_type": "code",
   "execution_count": 6,
   "id": "7895e3e8",
   "metadata": {},
   "outputs": [
    {
     "name": "stdout",
     "output_type": "stream",
     "text": [
      "skywalker\n"
     ]
    }
   ],
   "source": [
    "print(x.nom)"
   ]
  },
  {
   "cell_type": "code",
   "execution_count": 10,
   "id": "955625ed",
   "metadata": {},
   "outputs": [],
   "source": [
    "x.surnom ='eg'"
   ]
  },
  {
   "cell_type": "code",
   "execution_count": 11,
   "id": "1da48256",
   "metadata": {},
   "outputs": [
    {
     "data": {
      "text/plain": [
       "{'prenom': 'luke', 'nom': 'skywalker', 'surnom': 'eg'}"
      ]
     },
     "execution_count": 11,
     "metadata": {},
     "output_type": "execute_result"
    }
   ],
   "source": [
    "vars(x)"
   ]
  },
  {
   "cell_type": "markdown",
   "id": "b765d89b",
   "metadata": {},
   "source": [
    "### Avec namedtuple"
   ]
  },
  {
   "cell_type": "code",
   "execution_count": 5,
   "id": "d83fa949",
   "metadata": {},
   "outputs": [],
   "source": [
    "from collections import namedtuple"
   ]
  },
  {
   "cell_type": "markdown",
   "id": "bdbe8905",
   "metadata": {},
   "source": [
    "### Définition d'une pseudo-classe"
   ]
  },
  {
   "cell_type": "code",
   "execution_count": 7,
   "id": "eb449953",
   "metadata": {},
   "outputs": [],
   "source": [
    "Rectangle = namedtuple('Rectangle', ['longueur', 'largeur']) "
   ]
  },
  {
   "cell_type": "markdown",
   "id": "a36793c0",
   "metadata": {},
   "source": [
    "### instantiation et manipulation"
   ]
  },
  {
   "cell_type": "code",
   "execution_count": 8,
   "id": "226a3372",
   "metadata": {},
   "outputs": [],
   "source": [
    "r1  = Rectangle(12, 5)"
   ]
  },
  {
   "cell_type": "code",
   "execution_count": 9,
   "id": "4d504233",
   "metadata": {},
   "outputs": [
    {
     "name": "stdout",
     "output_type": "stream",
     "text": [
      "Rectangle(longueur=12, largeur=5)\n"
     ]
    }
   ],
   "source": [
    "print(r1)"
   ]
  },
  {
   "cell_type": "markdown",
   "id": "93ce8028",
   "metadata": {},
   "source": [
    "### Les namedtuples sont très utilent pour manipuler des résultats d'une requete SQL ou des fichiers structurés"
   ]
  },
  {
   "cell_type": "code",
   "execution_count": null,
   "id": "0bea2401",
   "metadata": {},
   "outputs": [],
   "source": []
  },
  {
   "cell_type": "markdown",
   "id": "3b95687f",
   "metadata": {},
   "source": [
    "### Manipulation comme un objet ou comme un tuple"
   ]
  },
  {
   "cell_type": "code",
   "execution_count": 17,
   "id": "32a6b30f",
   "metadata": {},
   "outputs": [
    {
     "name": "stdout",
     "output_type": "stream",
     "text": [
      "5 5\n"
     ]
    }
   ],
   "source": [
    "print(r1.largeur, r1[1])"
   ]
  },
  {
   "cell_type": "markdown",
   "id": "52c218f9",
   "metadata": {},
   "source": [
    "### A partir d'un iterable"
   ]
  },
  {
   "cell_type": "code",
   "execution_count": 13,
   "id": "b2af6ff4",
   "metadata": {
    "scrolled": true
   },
   "outputs": [
    {
     "name": "stdout",
     "output_type": "stream",
     "text": [
      "Rectangle(longueur=15, largeur=5)\n"
     ]
    }
   ],
   "source": [
    "rdim  = [15, 5]\n",
    "r2 = Rectangle._make(rdim)\n",
    "print(r2)"
   ]
  },
  {
   "cell_type": "code",
   "execution_count": 15,
   "id": "7af0b02b",
   "metadata": {},
   "outputs": [
    {
     "data": {
      "text/plain": [
       "15"
      ]
     },
     "execution_count": 15,
     "metadata": {},
     "output_type": "execute_result"
    }
   ],
   "source": [
    "getattr(r2, 'longueur')"
   ]
  },
  {
   "cell_type": "markdown",
   "id": "06c5f70c",
   "metadata": {},
   "source": [
    "### A partir d'un dictionnaire"
   ]
  },
  {
   "cell_type": "code",
   "execution_count": 22,
   "id": "a3173301",
   "metadata": {},
   "outputs": [
    {
     "name": "stdout",
     "output_type": "stream",
     "text": [
      "Rectangle(longueur=10, largeur=2)\n"
     ]
    }
   ],
   "source": [
    "rdict = {'largeur' :2, 'longueur' : 10 }\n",
    "r3 = Rectangle(**rdict)\n",
    "print(r3)"
   ]
  },
  {
   "cell_type": "markdown",
   "id": "fa73e847",
   "metadata": {},
   "source": [
    "### et réciproquement"
   ]
  },
  {
   "cell_type": "code",
   "execution_count": 23,
   "id": "1bc9d2c1",
   "metadata": {},
   "outputs": [
    {
     "name": "stdout",
     "output_type": "stream",
     "text": [
      "{'longueur': 10, 'largeur': 2}\n"
     ]
    }
   ],
   "source": [
    "rdict = r3._asdict()\n",
    "print(rdict)"
   ]
  },
  {
   "cell_type": "markdown",
   "id": "acc71e30",
   "metadata": {},
   "source": [
    "### Création à la volée d'un objet à partir d'une ligne json."
   ]
  },
  {
   "cell_type": "markdown",
   "id": "5f26aea2",
   "metadata": {},
   "source": [
    "#### soit la structure json : \n"
   ]
  },
  {
   "cell_type": "code",
   "execution_count": 26,
   "id": "b3dc5dfc",
   "metadata": {},
   "outputs": [],
   "source": [
    "import json\n",
    "var = json.loads(\"{\\\"un\\\": 1, \\\"deux\\\": 2, \\\"trois\\\": 3, \\\"dizaine\\\": [10, 20, 30, 40]}\" )"
   ]
  },
  {
   "cell_type": "code",
   "execution_count": 28,
   "id": "fbae6f69",
   "metadata": {},
   "outputs": [
    {
     "name": "stdout",
     "output_type": "stream",
     "text": [
      "{'un': 1, 'deux': 2, 'trois': 3, 'dizaine': [10, 20, 30, 40]} <class 'dict'>\n"
     ]
    }
   ],
   "source": [
    "print(var, type(var))"
   ]
  },
  {
   "cell_type": "code",
   "execution_count": 79,
   "id": "b8f835fb",
   "metadata": {},
   "outputs": [],
   "source": [
    "import types\n",
    "obj = json.loads(\"{\\\"un\\\": 1, \\\"deux\\\": 2, \\\"trois\\\": 3, \\\"dizaine\\\": [10, 20, 30, 40]}\",\n",
    "                 object_hook= lambda d: types.SimpleNamespace(**d) )"
   ]
  },
  {
   "cell_type": "code",
   "execution_count": 80,
   "id": "7a5ed7dc",
   "metadata": {},
   "outputs": [
    {
     "data": {
      "text/plain": [
       "namespace(un=1, deux=2, trois=3, dizaine=[10, 20, 30, 40])"
      ]
     },
     "execution_count": 80,
     "metadata": {},
     "output_type": "execute_result"
    }
   ],
   "source": [
    "obj"
   ]
  },
  {
   "cell_type": "code",
   "execution_count": 81,
   "id": "be2fc0fe",
   "metadata": {},
   "outputs": [
    {
     "data": {
      "text/plain": [
       "2"
      ]
     },
     "execution_count": 81,
     "metadata": {},
     "output_type": "execute_result"
    }
   ],
   "source": [
    "obj.deux"
   ]
  },
  {
   "cell_type": "code",
   "execution_count": 82,
   "id": "02940f56",
   "metadata": {},
   "outputs": [],
   "source": [
    "obj.deux = 3"
   ]
  },
  {
   "cell_type": "code",
   "execution_count": 34,
   "id": "90733a34",
   "metadata": {},
   "outputs": [
    {
     "data": {
      "text/plain": [
       "{'un': 1, 'deux': 3, 'trois': 3, 'dizaine': [10, 20, 30, 40]}"
      ]
     },
     "execution_count": 34,
     "metadata": {},
     "output_type": "execute_result"
    }
   ],
   "source": [
    "vars(obj)"
   ]
  },
  {
   "cell_type": "code",
   "execution_count": 36,
   "id": "fc67b78b",
   "metadata": {},
   "outputs": [
    {
     "name": "stdout",
     "output_type": "stream",
     "text": [
      "['__class__', '__delattr__', '__dict__', '__dir__', '__doc__', '__eq__', '__format__', '__ge__', '__getattribute__', '__gt__', '__hash__', '__init__', '__init_subclass__', '__le__', '__lt__', '__ne__', '__new__', '__reduce__', '__reduce_ex__', '__repr__', '__setattr__', '__sizeof__', '__str__', '__subclasshook__', 'deux', 'dizaine', 'trois', 'un']\n"
     ]
    }
   ],
   "source": [
    "print(dir(obj), sep = ',')"
   ]
  },
  {
   "cell_type": "code",
   "execution_count": 75,
   "id": "49f877b4",
   "metadata": {},
   "outputs": [],
   "source": [
    "code_postal = slice(0,5)\n",
    "ville = slice(6,None)\n",
    "\n"
   ]
  },
  {
   "cell_type": "code",
   "execution_count": 76,
   "id": "bfc2f0aa",
   "metadata": {},
   "outputs": [],
   "source": [
    "ligne ='94350 Villiers sur marne'"
   ]
  },
  {
   "cell_type": "code",
   "execution_count": 77,
   "id": "9bb61712",
   "metadata": {},
   "outputs": [
    {
     "name": "stdout",
     "output_type": "stream",
     "text": [
      "94350\n",
      "Villiers sur marne\n"
     ]
    }
   ],
   "source": [
    "print(ligne[code_postal])\n",
    "print(ligne[ville])"
   ]
  },
  {
   "cell_type": "code",
   "execution_count": 78,
   "id": "987e5cee",
   "metadata": {},
   "outputs": [],
   "source": [
    "class A: pass"
   ]
  },
  {
   "cell_type": "code",
   "execution_count": null,
   "id": "9bb6b08a",
   "metadata": {},
   "outputs": [],
   "source": []
  }
 ],
 "metadata": {
  "kernelspec": {
   "display_name": "Python 3 (ipykernel)",
   "language": "python",
   "name": "python3"
  },
  "language_info": {
   "codemirror_mode": {
    "name": "ipython",
    "version": 3
   },
   "file_extension": ".py",
   "mimetype": "text/x-python",
   "name": "python",
   "nbconvert_exporter": "python",
   "pygments_lexer": "ipython3",
   "version": "3.9.12"
  }
 },
 "nbformat": 4,
 "nbformat_minor": 5
}
