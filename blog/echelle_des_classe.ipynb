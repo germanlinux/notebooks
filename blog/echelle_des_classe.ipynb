{
 "cells": [
  {
   "cell_type": "markdown",
   "id": "e142f9bd",
   "metadata": {},
   "source": [
    "### Avec SimpleNamespace"
   ]
  },
  {
   "cell_type": "code",
   "execution_count": 1,
   "id": "5e951066",
   "metadata": {},
   "outputs": [],
   "source": [
    "import types"
   ]
  },
  {
   "cell_type": "code",
   "execution_count": 4,
   "id": "e7f6238a",
   "metadata": {},
   "outputs": [],
   "source": [
    "x = types.SimpleNamespace(prenom = 'luke' , nom = 'skywalker')"
   ]
  },
  {
   "cell_type": "code",
   "execution_count": 5,
   "id": "93b1ff3b",
   "metadata": {},
   "outputs": [
    {
     "name": "stdout",
     "output_type": "stream",
     "text": [
      "namespace(prenom='luke', nom='skywalker')\n"
     ]
    }
   ],
   "source": [
    "print(x)"
   ]
  },
  {
   "cell_type": "code",
   "execution_count": 6,
   "id": "7895e3e8",
   "metadata": {},
   "outputs": [
    {
     "name": "stdout",
     "output_type": "stream",
     "text": [
      "skywalker\n"
     ]
    }
   ],
   "source": [
    "print(x.nom)"
   ]
  },
  {
   "cell_type": "code",
   "execution_count": 10,
   "id": "955625ed",
   "metadata": {},
   "outputs": [],
   "source": [
    "x.surnom ='eg'"
   ]
  },
  {
   "cell_type": "code",
   "execution_count": 11,
   "id": "1da48256",
   "metadata": {},
   "outputs": [
    {
     "data": {
      "text/plain": [
       "{'prenom': 'luke', 'nom': 'skywalker', 'surnom': 'eg'}"
      ]
     },
     "execution_count": 11,
     "metadata": {},
     "output_type": "execute_result"
    }
   ],
   "source": [
    "vars(x)"
   ]
  },
  {
   "cell_type": "markdown",
   "id": "02734ad2",
   "metadata": {},
   "source": [
    "### Avec namedtuple"
   ]
  },
  {
   "cell_type": "code",
   "execution_count": 5,
   "id": "cca52187",
   "metadata": {},
   "outputs": [],
   "source": [
    "from collections import namedtuple"
   ]
  },
  {
   "cell_type": "markdown",
   "id": "c991f04b",
   "metadata": {},
   "source": [
    "### Définition d'une pseudo-classe"
   ]
  },
  {
   "cell_type": "code",
   "execution_count": 7,
   "id": "cc3aee1e",
   "metadata": {},
   "outputs": [],
   "source": [
    "Rectangle = namedtuple('Rectangle', ['longueur', 'largeur']) "
   ]
  },
  {
   "cell_type": "markdown",
   "id": "baba1c70",
   "metadata": {},
   "source": [
    "### instantiation et manipulation"
   ]
  },
  {
   "cell_type": "code",
   "execution_count": 8,
   "id": "68d753b8",
   "metadata": {},
   "outputs": [],
   "source": [
    "r1  = Rectangle(12, 5)"
   ]
  },
  {
   "cell_type": "code",
   "execution_count": 9,
   "id": "cfdc03d4",
   "metadata": {},
   "outputs": [
    {
     "name": "stdout",
     "output_type": "stream",
     "text": [
      "Rectangle(longueur=12, largeur=5)\n"
     ]
    }
   ],
   "source": [
    "print(r1)"
   ]
  },
  {
   "cell_type": "markdown",
   "id": "e77cfbf9",
   "metadata": {},
   "source": [
    "### Manipulation comme un objet ou comme un tuple"
   ]
  },
  {
   "cell_type": "code",
   "execution_count": 17,
   "id": "30023dd6",
   "metadata": {},
   "outputs": [
    {
     "name": "stdout",
     "output_type": "stream",
     "text": [
      "5 5\n"
     ]
    }
   ],
   "source": [
    "print(r1.largeur, r1[1])"
   ]
  },
  {
   "cell_type": "markdown",
   "id": "4aa2925b",
   "metadata": {},
   "source": [
    "### A partir d'un iterable"
   ]
  },
  {
   "cell_type": "code",
   "execution_count": 13,
   "id": "bdc2cb17",
   "metadata": {
    "scrolled": true
   },
   "outputs": [
    {
     "name": "stdout",
     "output_type": "stream",
     "text": [
      "Rectangle(longueur=15, largeur=5)\n"
     ]
    }
   ],
   "source": [
    "rdim  = [15, 5]\n",
    "r2 = Rectangle._make(rdim)\n",
    "print(r2)"
   ]
  },
  {
   "cell_type": "code",
   "execution_count": 15,
   "id": "d63e4387",
   "metadata": {},
   "outputs": [
    {
     "data": {
      "text/plain": [
       "15"
      ]
     },
     "execution_count": 15,
     "metadata": {},
     "output_type": "execute_result"
    }
   ],
   "source": [
    "getattr(r2, 'longueur')"
   ]
  },
  {
   "cell_type": "markdown",
   "id": "5e8b5ee4",
   "metadata": {},
   "source": [
    "### A partir d'un dictionnaire"
   ]
  },
  {
   "cell_type": "code",
   "execution_count": 22,
   "id": "2fb93272",
   "metadata": {},
   "outputs": [
    {
     "name": "stdout",
     "output_type": "stream",
     "text": [
      "Rectangle(longueur=10, largeur=2)\n"
     ]
    }
   ],
   "source": [
    "rdict = {'largeur' :2, 'longueur' : 10 }\n",
    "r3 = Rectangle(**rdict)\n",
    "print(r3)"
   ]
  },
  {
   "cell_type": "markdown",
   "id": "07a50315",
   "metadata": {},
   "source": [
    "### et réciproquement"
   ]
  },
  {
   "cell_type": "code",
   "execution_count": 23,
   "id": "7b29e345",
   "metadata": {},
   "outputs": [
    {
     "name": "stdout",
     "output_type": "stream",
     "text": [
      "{'longueur': 10, 'largeur': 2}\n"
     ]
    }
   ],
   "source": [
    "rdict = r3._asdict()\n",
    "print(rdict)"
   ]
  },
  {
   "cell_type": "markdown",
   "id": "f02776b5",
   "metadata": {},
   "source": [
    "### Création à la volée d'un objet à partir d'une ligne json."
   ]
  },
  {
   "cell_type": "markdown",
   "id": "ab8bc178",
   "metadata": {},
   "source": [
    "#### soit la structure json : \n"
   ]
  },
  {
   "cell_type": "code",
   "execution_count": 26,
   "id": "07941fe6",
   "metadata": {},
   "outputs": [],
   "source": [
    "import json\n",
    "var = json.loads(\"{\\\"un\\\": 1, \\\"deux\\\": 2, \\\"trois\\\": 3, \\\"dizaine\\\": [10, 20, 30, 40]}\" )"
   ]
  },
  {
   "cell_type": "code",
   "execution_count": 28,
   "id": "ff57bf28",
   "metadata": {},
   "outputs": [
    {
     "name": "stdout",
     "output_type": "stream",
     "text": [
      "{'un': 1, 'deux': 2, 'trois': 3, 'dizaine': [10, 20, 30, 40]} <class 'dict'>\n"
     ]
    }
   ],
   "source": [
    "print(var, type(var))"
   ]
  },
  {
   "cell_type": "code",
   "execution_count": 30,
   "id": "10ce55e9",
   "metadata": {},
   "outputs": [],
   "source": [
    "import types\n",
    "obj = json.loads(\"{\\\"un\\\": 1, \\\"deux\\\": 2, \\\"trois\\\": 3, \\\"dizaine\\\": [10, 20, 30, 40]}\",object_hook= lambda d: types.SimpleNamespace(**d) )"
   ]
  },
  {
   "cell_type": "code",
   "execution_count": 31,
   "id": "1b9aa418",
   "metadata": {},
   "outputs": [
    {
     "data": {
      "text/plain": [
       "namespace(un=1, deux=2, trois=3, dizaine=[10, 20, 30, 40])"
      ]
     },
     "execution_count": 31,
     "metadata": {},
     "output_type": "execute_result"
    }
   ],
   "source": [
    "obj"
   ]
  },
  {
   "cell_type": "code",
   "execution_count": 32,
   "id": "61b8c7eb",
   "metadata": {},
   "outputs": [
    {
     "data": {
      "text/plain": [
       "2"
      ]
     },
     "execution_count": 32,
     "metadata": {},
     "output_type": "execute_result"
    }
   ],
   "source": [
    "obj.deux"
   ]
  },
  {
   "cell_type": "code",
   "execution_count": 33,
   "id": "b06c2c84",
   "metadata": {},
   "outputs": [],
   "source": [
    "obj.deux = 3"
   ]
  },
  {
   "cell_type": "code",
   "execution_count": 34,
   "id": "5ae32ec6",
   "metadata": {},
   "outputs": [
    {
     "data": {
      "text/plain": [
       "{'un': 1, 'deux': 3, 'trois': 3, 'dizaine': [10, 20, 30, 40]}"
      ]
     },
     "execution_count": 34,
     "metadata": {},
     "output_type": "execute_result"
    }
   ],
   "source": [
    "vars(obj)"
   ]
  },
  {
   "cell_type": "code",
   "execution_count": 36,
   "id": "c21d18ff",
   "metadata": {},
   "outputs": [
    {
     "name": "stdout",
     "output_type": "stream",
     "text": [
      "['__class__', '__delattr__', '__dict__', '__dir__', '__doc__', '__eq__', '__format__', '__ge__', '__getattribute__', '__gt__', '__hash__', '__init__', '__init_subclass__', '__le__', '__lt__', '__ne__', '__new__', '__reduce__', '__reduce_ex__', '__repr__', '__setattr__', '__sizeof__', '__str__', '__subclasshook__', 'deux', 'dizaine', 'trois', 'un']\n"
     ]
    }
   ],
   "source": [
    "print(dir(obj), sep = ',')"
   ]
  },
  {
   "cell_type": "code",
   "execution_count": null,
   "id": "793a3bac",
   "metadata": {},
   "outputs": [],
   "source": []
  }
 ],
 "metadata": {
  "kernelspec": {
   "display_name": "Python 3 (ipykernel)",
   "language": "python",
   "name": "python3"
  },
  "language_info": {
   "codemirror_mode": {
    "name": "ipython",
    "version": 3
   },
   "file_extension": ".py",
   "mimetype": "text/x-python",
   "name": "python",
   "nbconvert_exporter": "python",
   "pygments_lexer": "ipython3",
   "version": "3.9.12"
  }
 },
 "nbformat": 4,
 "nbformat_minor": 5
}
