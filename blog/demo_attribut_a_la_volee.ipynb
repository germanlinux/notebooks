{
 "cells": [
  {
   "cell_type": "code",
   "execution_count": 33,
   "id": "b05f5f15",
   "metadata": {},
   "outputs": [],
   "source": [
    "class Demo:\n",
    "    variable_class = 3\n",
    "    \n",
    "    def __init__(self):\n",
    "        self.__attr_protege = 'FEU ROUGE'\n",
    "    \n",
    "    def affiche(self):\n",
    "        return(self.__attr_protege )"
   ]
  },
  {
   "cell_type": "code",
   "execution_count": 34,
   "id": "bf77eeec",
   "metadata": {},
   "outputs": [],
   "source": [
    " obj = Demo()"
   ]
  },
  {
   "cell_type": "code",
   "execution_count": 35,
   "id": "3f30e418",
   "metadata": {},
   "outputs": [
    {
     "name": "stdout",
     "output_type": "stream",
     "text": [
      "3\n"
     ]
    }
   ],
   "source": [
    "print(obj.variable_class) # On accède à la variable de classe."
   ]
  },
  {
   "cell_type": "code",
   "execution_count": 36,
   "id": "a0c35a22",
   "metadata": {},
   "outputs": [
    {
     "data": {
      "text/plain": [
       "{'_Demo__attr_protege': 'FEU ROUGE'}"
      ]
     },
     "execution_count": 36,
     "metadata": {},
     "output_type": "execute_result"
    }
   ],
   "source": [
    "vars(obj)"
   ]
  },
  {
   "cell_type": "code",
   "execution_count": 37,
   "id": "cab071ee",
   "metadata": {},
   "outputs": [],
   "source": [
    "obj.variable_class = 5 # On va creer un nouvel attrbut sans le savoir"
   ]
  },
  {
   "cell_type": "code",
   "execution_count": 38,
   "id": "96a7997b",
   "metadata": {},
   "outputs": [
    {
     "data": {
      "text/plain": [
       "{'_Demo__attr_protege': 'FEU ROUGE', 'variable_class': 5}"
      ]
     },
     "execution_count": 38,
     "metadata": {},
     "output_type": "execute_result"
    }
   ],
   "source": [
    "vars(obj)"
   ]
  },
  {
   "cell_type": "code",
   "execution_count": 39,
   "id": "279448fc",
   "metadata": {},
   "outputs": [
    {
     "name": "stdout",
     "output_type": "stream",
     "text": [
      "3\n"
     ]
    }
   ],
   "source": [
    "print(Demo.variable_class)"
   ]
  },
  {
   "cell_type": "code",
   "execution_count": 40,
   "id": "fe818207",
   "metadata": {},
   "outputs": [
    {
     "name": "stdout",
     "output_type": "stream",
     "text": [
      "5\n"
     ]
    }
   ],
   "source": [
    "print(obj.variable_class) # On n'accède plus à la variable de classe"
   ]
  },
  {
   "cell_type": "code",
   "execution_count": 41,
   "id": "c16bbcaa",
   "metadata": {},
   "outputs": [
    {
     "ename": "AttributeError",
     "evalue": "'Demo' object has no attribute '__attr_protege'",
     "output_type": "error",
     "traceback": [
      "\u001b[1;31m---------------------------------------------------------------------------\u001b[0m",
      "\u001b[1;31mAttributeError\u001b[0m                            Traceback (most recent call last)",
      "Input \u001b[1;32mIn [41]\u001b[0m, in \u001b[0;36m<cell line: 1>\u001b[1;34m()\u001b[0m\n\u001b[1;32m----> 1\u001b[0m \u001b[38;5;28mprint\u001b[39m(\u001b[43mobj\u001b[49m\u001b[38;5;241;43m.\u001b[39;49m\u001b[43m__attr_protege\u001b[49m)\n",
      "\u001b[1;31mAttributeError\u001b[0m: 'Demo' object has no attribute '__attr_protege'"
     ]
    }
   ],
   "source": [
    "print(obj.__attr_protege) # Erreur attendue "
   ]
  },
  {
   "cell_type": "code",
   "execution_count": 42,
   "id": "a8a6f0b2",
   "metadata": {},
   "outputs": [],
   "source": [
    "obj.__attr_protege = 'FEU VERT' # On va créer un nouvel attribut qui ne sera pas du tout protégé"
   ]
  },
  {
   "cell_type": "code",
   "execution_count": 43,
   "id": "b98275a5",
   "metadata": {},
   "outputs": [
    {
     "name": "stdout",
     "output_type": "stream",
     "text": [
      "FEU ROUGE\n"
     ]
    }
   ],
   "source": [
    "print(obj.affiche())"
   ]
  },
  {
   "cell_type": "code",
   "execution_count": 44,
   "id": "69f1d268",
   "metadata": {},
   "outputs": [
    {
     "name": "stdout",
     "output_type": "stream",
     "text": [
      "FEU VERT\n"
     ]
    }
   ],
   "source": [
    "print(obj.__attr_protege)"
   ]
  },
  {
   "cell_type": "code",
   "execution_count": 45,
   "id": "810f5457",
   "metadata": {},
   "outputs": [
    {
     "data": {
      "text/plain": [
       "{'_Demo__attr_protege': 'FEU ROUGE',\n",
       " 'variable_class': 5,\n",
       " '__attr_protege': 'FEU VERT'}"
      ]
     },
     "execution_count": 45,
     "metadata": {},
     "output_type": "execute_result"
    }
   ],
   "source": [
    "vars(obj)"
   ]
  }
 ],
 "metadata": {
  "kernelspec": {
   "display_name": "Python 3 (ipykernel)",
   "language": "python",
   "name": "python3"
  },
  "language_info": {
   "codemirror_mode": {
    "name": "ipython",
    "version": 3
   },
   "file_extension": ".py",
   "mimetype": "text/x-python",
   "name": "python",
   "nbconvert_exporter": "python",
   "pygments_lexer": "ipython3",
   "version": "3.9.12"
  }
 },
 "nbformat": 4,
 "nbformat_minor": 5
}
